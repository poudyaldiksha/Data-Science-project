{
  "nbformat": 4,
  "nbformat_minor": 0,
  "metadata": {
    "colab": {
      "provenance": [],
      "include_colab_link": true
    },
    "kernelspec": {
      "name": "python3",
      "display_name": "Python 3"
    },
    "language_info": {
      "name": "python"
    }
  },
  "cells": [
    {
      "cell_type": "markdown",
      "metadata": {
        "id": "view-in-github",
        "colab_type": "text"
      },
      "source": [
        "<a href=\"https://colab.research.google.com/github/poudyaldiksha/Data-Science-project/blob/main/Lesson_48_b2.ipynb\" target=\"_parent\"><img src=\"https://colab.research.google.com/assets/colab-badge.svg\" alt=\"Open In Colab\"/></a>"
      ]
    },
    {
      "cell_type": "markdown",
      "metadata": {
        "id": "nreGKcypHo1M"
      },
      "source": [
        "# Lesson 49: Logistic Regression - Decision Boundary"
      ]
    },
    {
      "cell_type": "markdown",
      "metadata": {
        "id": "ze9uSJt-I-0E"
      },
      "source": [
        "\n",
        "\n",
        "In the last class, you learnt to build a logistic regression model purely using the sigmoid function and predicted the outcomes i.e. the patients having and not having heart disease by choosing different threshold values.\n",
        "\n",
        "In this class, you will create a linear function using the features in the dataset and pass it as an input to the sigmoid function. However, we will take a small detour from the heart disease prediction dataset and choose the ideal data to understand the rationale behind building a linear function."
      ]
    },
    {
      "cell_type": "markdown",
      "metadata": {
        "id": "bSyqQS5T8Y1D"
      },
      "source": [
        "---"
      ]
    },
    {
      "cell_type": "markdown",
      "metadata": {
        "id": "0vmj2glW8aKa"
      },
      "source": [
        "#### Activity 1: Create Dummy Dataset\n",
        "\n",
        "Let's create a dummy dataset having two columns representing two independent variables, another column representing the target and a total of 1000 records (or rows).\n",
        "\n",
        "You will shortly get to know the reason behind the creation of a dummy data-frame.\n",
        "\n",
        "To create a dummy data-frame, firstly, create two arrays using the `make_blobs()` function of the `sklearn.datasets` module. The syntax for the `make_blobs()` function is as follows:\n",
        "\n",
        "**Syntax:** `make_blobs(n_samples, centers, n_features, random_state, cluster_std)`\n",
        "\n",
        "where\n",
        "\n",
        "- `n_samples` determines the number of records to be generated in a dataset\n",
        "\n",
        "- `centers` determines the number of classes to be generated (or labels) for the target column\n",
        "\n",
        "- `n_features` determines the number of features (or independent variables) to be generated in the dataset\n",
        "\n",
        "- `random_state` determines the random number generation for dataset creation. An integer value of the `random_state` parameter will produce the same results across different function calls. Popular integer random seeds are 0 and 42.\n",
        "\n",
        "- `cluster_std` determines the standard deviation of the clusters.\n",
        "\n",
        "The function will return two arrays. You can store these two arrays in two variables, say `features_array` and `target_array`, where the former contains features (or independent variables) and the latter contains the target or (dependent variable)."
      ]
    },
    {
      "cell_type": "code",
      "metadata": {
        "id": "NIBpSYJB8hsx"
      },
      "source": [
        "# Create two arrays using the 'make_blobs()' function and store them in the 'features_array' and 'target_array' variables.\n",
        "from sklearn.datasets import make_blobs\n",
        "features_array,target_array = make_blobs(n_samples= 1000, centers = 2, n_features= 2, random_state= 42, cluster_std = 1.25)\n",
        "\n"
      ],
      "execution_count": null,
      "outputs": []
    },
    {
      "cell_type": "markdown",
      "metadata": {
        "id": "6iJ3A_FGB5zk"
      },
      "source": [
        "**Note:** The `make_blobs()` function can take in more parameters that can be passed to create more customised data. You may refer to the following document:\n",
        "\n",
        "https://scikit-learn.org/stable/modules/generated/sklearn.datasets.make_blobs.html\n",
        "\n",
        "You can find out the object-type of the arrays created by the `make_blob()` function and the number of rows and columns in them."
      ]
    },
    {
      "cell_type": "code",
      "metadata": {
        "id": "U6M4iKHo8kQ1",
        "colab": {
          "base_uri": "https://localhost:8080/"
        },
        "outputId": "a16053a1-8049-4224-d945-d8f407c9bea2"
      },
      "source": [
        "#  Find out the object-type of the arrays created by the 'make_blob()' function and the number of rows and columns in them.\n",
        "print(type(features_array))\n",
        "print(type(target_array))\n",
        "print(features_array.shape)\n",
        "target_array.shape"
      ],
      "execution_count": null,
      "outputs": [
        {
          "output_type": "stream",
          "name": "stdout",
          "text": [
            "<class 'numpy.ndarray'>\n",
            "<class 'numpy.ndarray'>\n",
            "(1000, 2)\n"
          ]
        },
        {
          "output_type": "execute_result",
          "data": {
            "text/plain": [
              "(1000,)"
            ]
          },
          "metadata": {},
          "execution_count": 3
        }
      ]
    },
    {
      "cell_type": "markdown",
      "metadata": {
        "id": "OmNp-fZQC-qX"
      },
      "source": [
        "Now that you have created two arrays, as the next step to create a dummy data-frame, create a Python dictionary from the two arrays and then a Pandas DataFrame from the dictionary using the `from_dict()` function of the `pandas` module.\n",
        "\n",
        "**Syntax:** `pd.DataFrame.from_dict(some_dictionary)`"
      ]
    },
    {
      "cell_type": "code",
      "source": [
        "features_array"
      ],
      "metadata": {
        "colab": {
          "base_uri": "https://localhost:8080/"
        },
        "id": "cT1WgC9cq7gu",
        "outputId": "996436d6-8a2c-48e2-ed15-2c1b53934746"
      },
      "execution_count": null,
      "outputs": [
        {
          "output_type": "execute_result",
          "data": {
            "text/plain": [
              "array([[-1.46458248,  7.60215256],\n",
              "       [ 6.73700485,  1.28118438],\n",
              "       [ 3.26953498,  0.17310608],\n",
              "       ...,\n",
              "       [ 2.92500241, -0.04378206],\n",
              "       [ 6.04744165,  1.90892753],\n",
              "       [ 0.22805604,  8.00391327]])"
            ]
          },
          "metadata": {},
          "execution_count": 7
        }
      ]
    },
    {
      "cell_type": "code",
      "source": [
        "features_array.shape[0]"
      ],
      "metadata": {
        "colab": {
          "base_uri": "https://localhost:8080/"
        },
        "id": "lnePq695rM7M",
        "outputId": "bb6c99c1-2840-41df-879a-fbea25ec8adf"
      },
      "execution_count": null,
      "outputs": [
        {
          "output_type": "execute_result",
          "data": {
            "text/plain": [
              "1000"
            ]
          },
          "metadata": {},
          "execution_count": 8
        }
      ]
    },
    {
      "cell_type": "code",
      "source": [
        "target_array"
      ],
      "metadata": {
        "colab": {
          "base_uri": "https://localhost:8080/"
        },
        "id": "uX3iib2MreEF",
        "outputId": "33191d0c-ddb8-4e58-af4f-cf2d0d4b1f54"
      },
      "execution_count": null,
      "outputs": [
        {
          "output_type": "execute_result",
          "data": {
            "text/plain": [
              "array([0, 1, 1, 1, 1, 1, 1, 0, 1, 0, 1, 1, 1, 0, 1, 0, 1, 1, 0, 0, 0, 1,\n",
              "       1, 0, 1, 1, 0, 1, 0, 0, 1, 0, 1, 0, 1, 0, 1, 0, 1, 1, 0, 1, 0, 1,\n",
              "       1, 0, 0, 0, 1, 0, 0, 0, 0, 0, 0, 1, 1, 0, 1, 1, 1, 0, 0, 1, 1, 0,\n",
              "       0, 1, 0, 0, 1, 0, 0, 0, 1, 1, 0, 0, 1, 0, 1, 0, 1, 1, 0, 0, 1, 1,\n",
              "       0, 1, 1, 0, 0, 0, 0, 0, 1, 1, 0, 0, 1, 1, 0, 1, 0, 0, 1, 1, 0, 0,\n",
              "       0, 1, 1, 0, 0, 0, 0, 1, 1, 0, 0, 0, 1, 0, 0, 0, 1, 1, 1, 1, 1, 0,\n",
              "       1, 0, 0, 1, 1, 0, 0, 0, 1, 0, 0, 1, 1, 0, 0, 0, 1, 1, 0, 0, 0, 0,\n",
              "       1, 1, 0, 0, 0, 0, 0, 0, 0, 1, 0, 0, 1, 1, 0, 0, 0, 1, 1, 0, 1, 0,\n",
              "       1, 0, 1, 1, 1, 0, 1, 1, 0, 0, 0, 1, 0, 1, 0, 1, 0, 0, 0, 1, 0, 0,\n",
              "       1, 1, 1, 1, 1, 1, 1, 0, 1, 1, 0, 1, 0, 1, 0, 1, 0, 0, 0, 0, 0, 0,\n",
              "       0, 1, 0, 0, 1, 0, 0, 1, 1, 1, 1, 1, 0, 1, 1, 1, 1, 1, 0, 1, 0, 0,\n",
              "       0, 1, 0, 0, 0, 1, 0, 0, 1, 0, 1, 0, 0, 0, 0, 0, 1, 1, 0, 1, 0, 1,\n",
              "       0, 0, 1, 1, 0, 1, 0, 0, 1, 1, 1, 1, 1, 0, 0, 0, 1, 0, 0, 1, 0, 1,\n",
              "       1, 1, 0, 1, 0, 1, 0, 1, 0, 1, 1, 0, 0, 0, 1, 1, 1, 1, 1, 1, 0, 0,\n",
              "       1, 0, 0, 0, 1, 1, 1, 1, 1, 1, 0, 1, 0, 0, 0, 1, 1, 1, 0, 1, 1, 1,\n",
              "       0, 1, 1, 1, 0, 0, 0, 0, 0, 0, 0, 0, 0, 0, 1, 0, 0, 1, 0, 0, 1, 0,\n",
              "       1, 1, 0, 1, 0, 1, 1, 1, 1, 0, 0, 0, 1, 0, 0, 1, 0, 0, 1, 1, 1, 0,\n",
              "       0, 1, 0, 1, 1, 1, 1, 0, 1, 0, 1, 1, 1, 0, 0, 0, 0, 1, 0, 1, 0, 0,\n",
              "       1, 0, 0, 1, 0, 1, 0, 1, 1, 1, 0, 1, 0, 0, 0, 0, 0, 0, 1, 0, 1, 1,\n",
              "       1, 1, 0, 1, 0, 1, 1, 1, 1, 1, 0, 1, 1, 1, 0, 0, 0, 0, 1, 1, 1, 1,\n",
              "       0, 0, 1, 0, 1, 1, 0, 0, 0, 0, 0, 0, 0, 0, 1, 1, 0, 0, 1, 0, 0, 1,\n",
              "       1, 1, 1, 0, 0, 0, 1, 1, 1, 0, 0, 0, 1, 0, 0, 0, 1, 0, 1, 0, 1, 1,\n",
              "       1, 1, 1, 1, 0, 1, 0, 0, 1, 0, 0, 0, 0, 0, 1, 1, 0, 1, 0, 1, 1, 0,\n",
              "       0, 0, 1, 0, 0, 0, 0, 0, 0, 0, 0, 0, 1, 0, 0, 1, 0, 0, 0, 0, 0, 1,\n",
              "       0, 0, 0, 0, 0, 1, 1, 1, 1, 0, 1, 0, 0, 0, 1, 1, 1, 0, 0, 0, 0, 0,\n",
              "       1, 1, 0, 0, 0, 0, 0, 0, 1, 1, 0, 0, 0, 0, 0, 1, 1, 1, 0, 1, 1, 1,\n",
              "       0, 0, 1, 1, 1, 0, 1, 0, 1, 1, 1, 1, 1, 1, 1, 0, 1, 0, 0, 0, 0, 0,\n",
              "       0, 0, 1, 1, 1, 0, 1, 0, 0, 1, 0, 1, 1, 1, 1, 0, 0, 1, 1, 0, 0, 0,\n",
              "       1, 1, 1, 1, 1, 0, 1, 1, 1, 0, 0, 1, 0, 1, 1, 0, 1, 1, 0, 1, 1, 0,\n",
              "       0, 1, 1, 1, 1, 1, 1, 1, 0, 1, 0, 0, 1, 0, 0, 1, 0, 1, 0, 1, 0, 0,\n",
              "       1, 0, 1, 1, 1, 0, 1, 1, 1, 0, 1, 0, 0, 1, 0, 0, 0, 0, 1, 0, 0, 0,\n",
              "       1, 0, 0, 0, 0, 1, 1, 1, 0, 1, 0, 1, 0, 1, 1, 1, 0, 1, 1, 1, 1, 1,\n",
              "       0, 0, 1, 1, 0, 1, 1, 0, 0, 1, 1, 1, 0, 1, 1, 1, 0, 0, 1, 0, 0, 1,\n",
              "       0, 1, 1, 0, 1, 1, 1, 1, 1, 1, 0, 0, 1, 1, 1, 0, 0, 1, 1, 1, 1, 1,\n",
              "       1, 1, 1, 1, 1, 1, 0, 0, 1, 0, 0, 0, 1, 0, 1, 0, 0, 1, 1, 0, 0, 1,\n",
              "       1, 0, 1, 0, 0, 1, 0, 1, 1, 1, 1, 1, 0, 1, 1, 0, 0, 0, 1, 1, 1, 1,\n",
              "       0, 1, 0, 0, 0, 0, 1, 0, 0, 0, 0, 0, 1, 0, 1, 1, 1, 1, 0, 1, 1, 0,\n",
              "       0, 0, 1, 1, 1, 0, 0, 1, 0, 1, 0, 0, 0, 1, 1, 0, 0, 0, 1, 1, 0, 1,\n",
              "       1, 1, 0, 1, 1, 1, 1, 1, 1, 0, 1, 1, 1, 1, 0, 1, 0, 1, 1, 0, 1, 1,\n",
              "       1, 0, 1, 1, 0, 0, 1, 1, 1, 0, 0, 1, 0, 1, 1, 1, 0, 0, 1, 0, 1, 1,\n",
              "       1, 1, 1, 1, 0, 1, 0, 0, 1, 1, 0, 0, 0, 0, 1, 0, 1, 0, 1, 0, 0, 1,\n",
              "       1, 1, 1, 0, 1, 0, 1, 1, 1, 1, 0, 0, 1, 0, 0, 0, 0, 1, 0, 0, 1, 0,\n",
              "       1, 1, 0, 0, 0, 1, 0, 1, 1, 1, 0, 0, 0, 0, 0, 1, 0, 0, 0, 0, 1, 0,\n",
              "       0, 1, 0, 0, 1, 1, 0, 1, 0, 1, 0, 1, 1, 0, 1, 1, 0, 1, 1, 1, 0, 1,\n",
              "       0, 0, 1, 1, 1, 0, 0, 0, 0, 0, 0, 1, 1, 1, 0, 1, 0, 0, 1, 1, 0, 1,\n",
              "       0, 0, 0, 1, 0, 0, 1, 1, 1, 0])"
            ]
          },
          "metadata": {},
          "execution_count": 9
        }
      ]
    },
    {
      "cell_type": "markdown",
      "source": [],
      "metadata": {
        "id": "juu68CjfrMoZ"
      }
    },
    {
      "cell_type": "code",
      "source": [
        "#Create a Pandas DataFrame containing the items from the 'features_array' and 'target_array' arrays.\n",
        "import pandas as pd\n",
        "\n",
        "dummy_dict = {'col 1': [features_array[i][0] for i in range(features_array.shape[0])],\n",
        "             'col 2': [features_array[i][1] for i in range(1000)],\n",
        "             'target': target_array}\n",
        "\n",
        "dummy_df = pd.DataFrame.from_dict(dummy_dict)\n",
        "dummy_df"
      ],
      "metadata": {
        "colab": {
          "base_uri": "https://localhost:8080/",
          "height": 424
        },
        "id": "AlijFFd9qyL4",
        "outputId": "cc0241b0-6e93-4292-d8ba-a116b7f2a804"
      },
      "execution_count": null,
      "outputs": [
        {
          "output_type": "execute_result",
          "data": {
            "text/plain": [
              "        col 1      col 2  target\n",
              "0   -1.464582   7.602153       0\n",
              "1    6.737005   1.281184       1\n",
              "2    3.269535   0.173106       1\n",
              "3    5.293423   1.256045       1\n",
              "4    4.414279   5.964554       1\n",
              "..        ...        ...     ...\n",
              "995 -1.718220  11.852652       0\n",
              "996  5.546249   2.618393       1\n",
              "997  2.925002  -0.043782       1\n",
              "998  6.047442   1.908928       1\n",
              "999  0.228056   8.003913       0\n",
              "\n",
              "[1000 rows x 3 columns]"
            ],
            "text/html": [
              "\n",
              "  <div id=\"df-f2ad8d59-1abd-4743-8579-2540e16f2fb3\" class=\"colab-df-container\">\n",
              "    <div>\n",
              "<style scoped>\n",
              "    .dataframe tbody tr th:only-of-type {\n",
              "        vertical-align: middle;\n",
              "    }\n",
              "\n",
              "    .dataframe tbody tr th {\n",
              "        vertical-align: top;\n",
              "    }\n",
              "\n",
              "    .dataframe thead th {\n",
              "        text-align: right;\n",
              "    }\n",
              "</style>\n",
              "<table border=\"1\" class=\"dataframe\">\n",
              "  <thead>\n",
              "    <tr style=\"text-align: right;\">\n",
              "      <th></th>\n",
              "      <th>col 1</th>\n",
              "      <th>col 2</th>\n",
              "      <th>target</th>\n",
              "    </tr>\n",
              "  </thead>\n",
              "  <tbody>\n",
              "    <tr>\n",
              "      <th>0</th>\n",
              "      <td>-1.464582</td>\n",
              "      <td>7.602153</td>\n",
              "      <td>0</td>\n",
              "    </tr>\n",
              "    <tr>\n",
              "      <th>1</th>\n",
              "      <td>6.737005</td>\n",
              "      <td>1.281184</td>\n",
              "      <td>1</td>\n",
              "    </tr>\n",
              "    <tr>\n",
              "      <th>2</th>\n",
              "      <td>3.269535</td>\n",
              "      <td>0.173106</td>\n",
              "      <td>1</td>\n",
              "    </tr>\n",
              "    <tr>\n",
              "      <th>3</th>\n",
              "      <td>5.293423</td>\n",
              "      <td>1.256045</td>\n",
              "      <td>1</td>\n",
              "    </tr>\n",
              "    <tr>\n",
              "      <th>4</th>\n",
              "      <td>4.414279</td>\n",
              "      <td>5.964554</td>\n",
              "      <td>1</td>\n",
              "    </tr>\n",
              "    <tr>\n",
              "      <th>...</th>\n",
              "      <td>...</td>\n",
              "      <td>...</td>\n",
              "      <td>...</td>\n",
              "    </tr>\n",
              "    <tr>\n",
              "      <th>995</th>\n",
              "      <td>-1.718220</td>\n",
              "      <td>11.852652</td>\n",
              "      <td>0</td>\n",
              "    </tr>\n",
              "    <tr>\n",
              "      <th>996</th>\n",
              "      <td>5.546249</td>\n",
              "      <td>2.618393</td>\n",
              "      <td>1</td>\n",
              "    </tr>\n",
              "    <tr>\n",
              "      <th>997</th>\n",
              "      <td>2.925002</td>\n",
              "      <td>-0.043782</td>\n",
              "      <td>1</td>\n",
              "    </tr>\n",
              "    <tr>\n",
              "      <th>998</th>\n",
              "      <td>6.047442</td>\n",
              "      <td>1.908928</td>\n",
              "      <td>1</td>\n",
              "    </tr>\n",
              "    <tr>\n",
              "      <th>999</th>\n",
              "      <td>0.228056</td>\n",
              "      <td>8.003913</td>\n",
              "      <td>0</td>\n",
              "    </tr>\n",
              "  </tbody>\n",
              "</table>\n",
              "<p>1000 rows × 3 columns</p>\n",
              "</div>\n",
              "    <div class=\"colab-df-buttons\">\n",
              "\n",
              "  <div class=\"colab-df-container\">\n",
              "    <button class=\"colab-df-convert\" onclick=\"convertToInteractive('df-f2ad8d59-1abd-4743-8579-2540e16f2fb3')\"\n",
              "            title=\"Convert this dataframe to an interactive table.\"\n",
              "            style=\"display:none;\">\n",
              "\n",
              "  <svg xmlns=\"http://www.w3.org/2000/svg\" height=\"24px\" viewBox=\"0 -960 960 960\">\n",
              "    <path d=\"M120-120v-720h720v720H120Zm60-500h600v-160H180v160Zm220 220h160v-160H400v160Zm0 220h160v-160H400v160ZM180-400h160v-160H180v160Zm440 0h160v-160H620v160ZM180-180h160v-160H180v160Zm440 0h160v-160H620v160Z\"/>\n",
              "  </svg>\n",
              "    </button>\n",
              "\n",
              "  <style>\n",
              "    .colab-df-container {\n",
              "      display:flex;\n",
              "      gap: 12px;\n",
              "    }\n",
              "\n",
              "    .colab-df-convert {\n",
              "      background-color: #E8F0FE;\n",
              "      border: none;\n",
              "      border-radius: 50%;\n",
              "      cursor: pointer;\n",
              "      display: none;\n",
              "      fill: #1967D2;\n",
              "      height: 32px;\n",
              "      padding: 0 0 0 0;\n",
              "      width: 32px;\n",
              "    }\n",
              "\n",
              "    .colab-df-convert:hover {\n",
              "      background-color: #E2EBFA;\n",
              "      box-shadow: 0px 1px 2px rgba(60, 64, 67, 0.3), 0px 1px 3px 1px rgba(60, 64, 67, 0.15);\n",
              "      fill: #174EA6;\n",
              "    }\n",
              "\n",
              "    .colab-df-buttons div {\n",
              "      margin-bottom: 4px;\n",
              "    }\n",
              "\n",
              "    [theme=dark] .colab-df-convert {\n",
              "      background-color: #3B4455;\n",
              "      fill: #D2E3FC;\n",
              "    }\n",
              "\n",
              "    [theme=dark] .colab-df-convert:hover {\n",
              "      background-color: #434B5C;\n",
              "      box-shadow: 0px 1px 3px 1px rgba(0, 0, 0, 0.15);\n",
              "      filter: drop-shadow(0px 1px 2px rgba(0, 0, 0, 0.3));\n",
              "      fill: #FFFFFF;\n",
              "    }\n",
              "  </style>\n",
              "\n",
              "    <script>\n",
              "      const buttonEl =\n",
              "        document.querySelector('#df-f2ad8d59-1abd-4743-8579-2540e16f2fb3 button.colab-df-convert');\n",
              "      buttonEl.style.display =\n",
              "        google.colab.kernel.accessAllowed ? 'block' : 'none';\n",
              "\n",
              "      async function convertToInteractive(key) {\n",
              "        const element = document.querySelector('#df-f2ad8d59-1abd-4743-8579-2540e16f2fb3');\n",
              "        const dataTable =\n",
              "          await google.colab.kernel.invokeFunction('convertToInteractive',\n",
              "                                                    [key], {});\n",
              "        if (!dataTable) return;\n",
              "\n",
              "        const docLinkHtml = 'Like what you see? Visit the ' +\n",
              "          '<a target=\"_blank\" href=https://colab.research.google.com/notebooks/data_table.ipynb>data table notebook</a>'\n",
              "          + ' to learn more about interactive tables.';\n",
              "        element.innerHTML = '';\n",
              "        dataTable['output_type'] = 'display_data';\n",
              "        await google.colab.output.renderOutput(dataTable, element);\n",
              "        const docLink = document.createElement('div');\n",
              "        docLink.innerHTML = docLinkHtml;\n",
              "        element.appendChild(docLink);\n",
              "      }\n",
              "    </script>\n",
              "  </div>\n",
              "\n",
              "\n",
              "<div id=\"df-268ca688-ddd0-4bf7-8694-89ebb1d48cec\">\n",
              "  <button class=\"colab-df-quickchart\" onclick=\"quickchart('df-268ca688-ddd0-4bf7-8694-89ebb1d48cec')\"\n",
              "            title=\"Suggest charts\"\n",
              "            style=\"display:none;\">\n",
              "\n",
              "<svg xmlns=\"http://www.w3.org/2000/svg\" height=\"24px\"viewBox=\"0 0 24 24\"\n",
              "     width=\"24px\">\n",
              "    <g>\n",
              "        <path d=\"M19 3H5c-1.1 0-2 .9-2 2v14c0 1.1.9 2 2 2h14c1.1 0 2-.9 2-2V5c0-1.1-.9-2-2-2zM9 17H7v-7h2v7zm4 0h-2V7h2v10zm4 0h-2v-4h2v4z\"/>\n",
              "    </g>\n",
              "</svg>\n",
              "  </button>\n",
              "\n",
              "<style>\n",
              "  .colab-df-quickchart {\n",
              "      --bg-color: #E8F0FE;\n",
              "      --fill-color: #1967D2;\n",
              "      --hover-bg-color: #E2EBFA;\n",
              "      --hover-fill-color: #174EA6;\n",
              "      --disabled-fill-color: #AAA;\n",
              "      --disabled-bg-color: #DDD;\n",
              "  }\n",
              "\n",
              "  [theme=dark] .colab-df-quickchart {\n",
              "      --bg-color: #3B4455;\n",
              "      --fill-color: #D2E3FC;\n",
              "      --hover-bg-color: #434B5C;\n",
              "      --hover-fill-color: #FFFFFF;\n",
              "      --disabled-bg-color: #3B4455;\n",
              "      --disabled-fill-color: #666;\n",
              "  }\n",
              "\n",
              "  .colab-df-quickchart {\n",
              "    background-color: var(--bg-color);\n",
              "    border: none;\n",
              "    border-radius: 50%;\n",
              "    cursor: pointer;\n",
              "    display: none;\n",
              "    fill: var(--fill-color);\n",
              "    height: 32px;\n",
              "    padding: 0;\n",
              "    width: 32px;\n",
              "  }\n",
              "\n",
              "  .colab-df-quickchart:hover {\n",
              "    background-color: var(--hover-bg-color);\n",
              "    box-shadow: 0 1px 2px rgba(60, 64, 67, 0.3), 0 1px 3px 1px rgba(60, 64, 67, 0.15);\n",
              "    fill: var(--button-hover-fill-color);\n",
              "  }\n",
              "\n",
              "  .colab-df-quickchart-complete:disabled,\n",
              "  .colab-df-quickchart-complete:disabled:hover {\n",
              "    background-color: var(--disabled-bg-color);\n",
              "    fill: var(--disabled-fill-color);\n",
              "    box-shadow: none;\n",
              "  }\n",
              "\n",
              "  .colab-df-spinner {\n",
              "    border: 2px solid var(--fill-color);\n",
              "    border-color: transparent;\n",
              "    border-bottom-color: var(--fill-color);\n",
              "    animation:\n",
              "      spin 1s steps(1) infinite;\n",
              "  }\n",
              "\n",
              "  @keyframes spin {\n",
              "    0% {\n",
              "      border-color: transparent;\n",
              "      border-bottom-color: var(--fill-color);\n",
              "      border-left-color: var(--fill-color);\n",
              "    }\n",
              "    20% {\n",
              "      border-color: transparent;\n",
              "      border-left-color: var(--fill-color);\n",
              "      border-top-color: var(--fill-color);\n",
              "    }\n",
              "    30% {\n",
              "      border-color: transparent;\n",
              "      border-left-color: var(--fill-color);\n",
              "      border-top-color: var(--fill-color);\n",
              "      border-right-color: var(--fill-color);\n",
              "    }\n",
              "    40% {\n",
              "      border-color: transparent;\n",
              "      border-right-color: var(--fill-color);\n",
              "      border-top-color: var(--fill-color);\n",
              "    }\n",
              "    60% {\n",
              "      border-color: transparent;\n",
              "      border-right-color: var(--fill-color);\n",
              "    }\n",
              "    80% {\n",
              "      border-color: transparent;\n",
              "      border-right-color: var(--fill-color);\n",
              "      border-bottom-color: var(--fill-color);\n",
              "    }\n",
              "    90% {\n",
              "      border-color: transparent;\n",
              "      border-bottom-color: var(--fill-color);\n",
              "    }\n",
              "  }\n",
              "</style>\n",
              "\n",
              "  <script>\n",
              "    async function quickchart(key) {\n",
              "      const quickchartButtonEl =\n",
              "        document.querySelector('#' + key + ' button');\n",
              "      quickchartButtonEl.disabled = true;  // To prevent multiple clicks.\n",
              "      quickchartButtonEl.classList.add('colab-df-spinner');\n",
              "      try {\n",
              "        const charts = await google.colab.kernel.invokeFunction(\n",
              "            'suggestCharts', [key], {});\n",
              "      } catch (error) {\n",
              "        console.error('Error during call to suggestCharts:', error);\n",
              "      }\n",
              "      quickchartButtonEl.classList.remove('colab-df-spinner');\n",
              "      quickchartButtonEl.classList.add('colab-df-quickchart-complete');\n",
              "    }\n",
              "    (() => {\n",
              "      let quickchartButtonEl =\n",
              "        document.querySelector('#df-268ca688-ddd0-4bf7-8694-89ebb1d48cec button');\n",
              "      quickchartButtonEl.style.display =\n",
              "        google.colab.kernel.accessAllowed ? 'block' : 'none';\n",
              "    })();\n",
              "  </script>\n",
              "</div>\n",
              "\n",
              "  <div id=\"id_85c36ff3-732c-4964-9173-87c737197cff\">\n",
              "    <style>\n",
              "      .colab-df-generate {\n",
              "        background-color: #E8F0FE;\n",
              "        border: none;\n",
              "        border-radius: 50%;\n",
              "        cursor: pointer;\n",
              "        display: none;\n",
              "        fill: #1967D2;\n",
              "        height: 32px;\n",
              "        padding: 0 0 0 0;\n",
              "        width: 32px;\n",
              "      }\n",
              "\n",
              "      .colab-df-generate:hover {\n",
              "        background-color: #E2EBFA;\n",
              "        box-shadow: 0px 1px 2px rgba(60, 64, 67, 0.3), 0px 1px 3px 1px rgba(60, 64, 67, 0.15);\n",
              "        fill: #174EA6;\n",
              "      }\n",
              "\n",
              "      [theme=dark] .colab-df-generate {\n",
              "        background-color: #3B4455;\n",
              "        fill: #D2E3FC;\n",
              "      }\n",
              "\n",
              "      [theme=dark] .colab-df-generate:hover {\n",
              "        background-color: #434B5C;\n",
              "        box-shadow: 0px 1px 3px 1px rgba(0, 0, 0, 0.15);\n",
              "        filter: drop-shadow(0px 1px 2px rgba(0, 0, 0, 0.3));\n",
              "        fill: #FFFFFF;\n",
              "      }\n",
              "    </style>\n",
              "    <button class=\"colab-df-generate\" onclick=\"generateWithVariable('dummy_df')\"\n",
              "            title=\"Generate code using this dataframe.\"\n",
              "            style=\"display:none;\">\n",
              "\n",
              "  <svg xmlns=\"http://www.w3.org/2000/svg\" height=\"24px\"viewBox=\"0 0 24 24\"\n",
              "       width=\"24px\">\n",
              "    <path d=\"M7,19H8.4L18.45,9,17,7.55,7,17.6ZM5,21V16.75L18.45,3.32a2,2,0,0,1,2.83,0l1.4,1.43a1.91,1.91,0,0,1,.58,1.4,1.91,1.91,0,0,1-.58,1.4L9.25,21ZM18.45,9,17,7.55Zm-12,3A5.31,5.31,0,0,0,4.9,8.1,5.31,5.31,0,0,0,1,6.5,5.31,5.31,0,0,0,4.9,4.9,5.31,5.31,0,0,0,6.5,1,5.31,5.31,0,0,0,8.1,4.9,5.31,5.31,0,0,0,12,6.5,5.46,5.46,0,0,0,6.5,12Z\"/>\n",
              "  </svg>\n",
              "    </button>\n",
              "    <script>\n",
              "      (() => {\n",
              "      const buttonEl =\n",
              "        document.querySelector('#id_85c36ff3-732c-4964-9173-87c737197cff button.colab-df-generate');\n",
              "      buttonEl.style.display =\n",
              "        google.colab.kernel.accessAllowed ? 'block' : 'none';\n",
              "\n",
              "      buttonEl.onclick = () => {\n",
              "        google.colab.notebook.generateWithVariable('dummy_df');\n",
              "      }\n",
              "      })();\n",
              "    </script>\n",
              "  </div>\n",
              "\n",
              "    </div>\n",
              "  </div>\n"
            ],
            "application/vnd.google.colaboratory.intrinsic+json": {
              "type": "dataframe",
              "variable_name": "dummy_df",
              "summary": "{\n  \"name\": \"dummy_df\",\n  \"rows\": 1000,\n  \"fields\": [\n    {\n      \"column\": \"col 1\",\n      \"properties\": {\n        \"dtype\": \"number\",\n        \"std\": 3.8041416994319306,\n        \"min\": -6.560781798139091,\n        \"max\": 7.945308019999395,\n        \"num_unique_values\": 1000,\n        \"samples\": [\n          7.233954927009683,\n          -2.0571525917432076,\n          3.6587559448753013\n        ],\n        \"semantic_type\": \"\",\n        \"description\": \"\"\n      }\n    },\n    {\n      \"column\": \"col 2\",\n      \"properties\": {\n        \"dtype\": \"number\",\n        \"std\": 3.7170883964365133,\n        \"min\": -1.7023161093896184,\n        \"max\": 13.830200491516724,\n        \"num_unique_values\": 1000,\n        \"samples\": [\n          1.1116849113287721,\n          8.207886434941916,\n          2.783520226245556\n        ],\n        \"semantic_type\": \"\",\n        \"description\": \"\"\n      }\n    },\n    {\n      \"column\": \"target\",\n      \"properties\": {\n        \"dtype\": \"number\",\n        \"std\": 0,\n        \"min\": 0,\n        \"max\": 1,\n        \"num_unique_values\": 2,\n        \"samples\": [\n          1,\n          0\n        ],\n        \"semantic_type\": \"\",\n        \"description\": \"\"\n      }\n    }\n  ]\n}"
            }
          },
          "metadata": {},
          "execution_count": 10
        }
      ]
    },
    {
      "cell_type": "markdown",
      "metadata": {
        "id": "P-o7flxsERh-"
      },
      "source": [
        "Now we have a `pandas` DataFrame having 1000 records, 3 columns out of which 2 columns represent independent variables and 1 represent target.\n",
        "\n",
        "Let's count the number of 0s and 1s in the `target` column of the `dummy_df` DataFrame.\n"
      ]
    },
    {
      "cell_type": "code",
      "source": [
        "dummy_df[\"col 1\"].describe()"
      ],
      "metadata": {
        "colab": {
          "base_uri": "https://localhost:8080/",
          "height": 335
        },
        "id": "kAnZFv9zrtOZ",
        "outputId": "632e6dc3-2b93-463f-c18b-646bbdeefebc"
      },
      "execution_count": null,
      "outputs": [
        {
          "output_type": "execute_result",
          "data": {
            "text/plain": [
              "count    1000.000000\n",
              "mean        1.103558\n",
              "std         3.804142\n",
              "min        -6.560782\n",
              "25%        -2.486160\n",
              "50%         1.300121\n",
              "75%         4.694447\n",
              "max         7.945308\n",
              "Name: col 1, dtype: float64"
            ],
            "text/html": [
              "<div>\n",
              "<style scoped>\n",
              "    .dataframe tbody tr th:only-of-type {\n",
              "        vertical-align: middle;\n",
              "    }\n",
              "\n",
              "    .dataframe tbody tr th {\n",
              "        vertical-align: top;\n",
              "    }\n",
              "\n",
              "    .dataframe thead th {\n",
              "        text-align: right;\n",
              "    }\n",
              "</style>\n",
              "<table border=\"1\" class=\"dataframe\">\n",
              "  <thead>\n",
              "    <tr style=\"text-align: right;\">\n",
              "      <th></th>\n",
              "      <th>col 1</th>\n",
              "    </tr>\n",
              "  </thead>\n",
              "  <tbody>\n",
              "    <tr>\n",
              "      <th>count</th>\n",
              "      <td>1000.000000</td>\n",
              "    </tr>\n",
              "    <tr>\n",
              "      <th>mean</th>\n",
              "      <td>1.103558</td>\n",
              "    </tr>\n",
              "    <tr>\n",
              "      <th>std</th>\n",
              "      <td>3.804142</td>\n",
              "    </tr>\n",
              "    <tr>\n",
              "      <th>min</th>\n",
              "      <td>-6.560782</td>\n",
              "    </tr>\n",
              "    <tr>\n",
              "      <th>25%</th>\n",
              "      <td>-2.486160</td>\n",
              "    </tr>\n",
              "    <tr>\n",
              "      <th>50%</th>\n",
              "      <td>1.300121</td>\n",
              "    </tr>\n",
              "    <tr>\n",
              "      <th>75%</th>\n",
              "      <td>4.694447</td>\n",
              "    </tr>\n",
              "    <tr>\n",
              "      <th>max</th>\n",
              "      <td>7.945308</td>\n",
              "    </tr>\n",
              "  </tbody>\n",
              "</table>\n",
              "</div><br><label><b>dtype:</b> float64</label>"
            ]
          },
          "metadata": {},
          "execution_count": 11
        }
      ]
    },
    {
      "cell_type": "code",
      "metadata": {
        "id": "GPLsuU56EzRn",
        "colab": {
          "base_uri": "https://localhost:8080/",
          "height": 178
        },
        "outputId": "a1eeca06-8128-4c76-defe-a305eb13df10"
      },
      "source": [
        "# Display the number of occurrences of each label in the 'target' column.\n",
        "dummy_df['target'].value_counts()"
      ],
      "execution_count": null,
      "outputs": [
        {
          "output_type": "execute_result",
          "data": {
            "text/plain": [
              "target\n",
              "0    500\n",
              "1    500\n",
              "Name: count, dtype: int64"
            ],
            "text/html": [
              "<div>\n",
              "<style scoped>\n",
              "    .dataframe tbody tr th:only-of-type {\n",
              "        vertical-align: middle;\n",
              "    }\n",
              "\n",
              "    .dataframe tbody tr th {\n",
              "        vertical-align: top;\n",
              "    }\n",
              "\n",
              "    .dataframe thead th {\n",
              "        text-align: right;\n",
              "    }\n",
              "</style>\n",
              "<table border=\"1\" class=\"dataframe\">\n",
              "  <thead>\n",
              "    <tr style=\"text-align: right;\">\n",
              "      <th></th>\n",
              "      <th>count</th>\n",
              "    </tr>\n",
              "    <tr>\n",
              "      <th>target</th>\n",
              "      <th></th>\n",
              "    </tr>\n",
              "  </thead>\n",
              "  <tbody>\n",
              "    <tr>\n",
              "      <th>0</th>\n",
              "      <td>500</td>\n",
              "    </tr>\n",
              "    <tr>\n",
              "      <th>1</th>\n",
              "      <td>500</td>\n",
              "    </tr>\n",
              "  </tbody>\n",
              "</table>\n",
              "</div><br><label><b>dtype:</b> int64</label>"
            ]
          },
          "metadata": {},
          "execution_count": 12
        }
      ]
    },
    {
      "cell_type": "markdown",
      "metadata": {
        "id": "ub8VFodBX-3G"
      },
      "source": [
        "As you can see, both the labels (0s and 1s) are equal in number in the `target` column.\n"
      ]
    },
    {
      "cell_type": "markdown",
      "metadata": {
        "id": "16VQyfuGX-X4"
      },
      "source": [
        "---"
      ]
    },
    {
      "cell_type": "markdown",
      "metadata": {
        "id": "_U-OZvfIE7W_"
      },
      "source": [
        "#### Activity 2: Cluster Visualisation\n",
        "\n",
        "*   List item\n",
        "\n",
        "*   List item\n",
        "*   List item\n",
        "\n",
        "\n",
        "*   List item\n",
        "\n",
        "\n",
        "\n",
        "If you create a scatter plot between the columns `col 1` and `col 2` for the labels 0 and 1, then you will see two clusters of dots (or points)."
      ]
    },
    {
      "cell_type": "code",
      "source": [
        "import matplotlib.pyplot as plt\n",
        "\n",
        "plt.figure(figsize = (11, 5), dpi = 96)\n",
        "plt.scatter(dummy_df[\"col 1\"],dummy_df[\"col 2\"], color = 'g')\n",
        "#plt.scatter(dummy_df.loc[dummy_df['target'] == 1, 'col 1'], dummy_df.loc[dummy_df['target'] == 1, 'col 2'], label = 'Label 1', color = 'r')\n",
        "plt.xlabel('col 1', fontsize = 14)\n",
        "plt.ylabel('col 2', fontsize = 14)\n",
        "plt.legend()\n",
        "plt.show()"
      ],
      "metadata": {
        "colab": {
          "base_uri": "https://localhost:8080/",
          "height": 490
        },
        "id": "GsstUeY-tF9L",
        "outputId": "8e41a409-2467-4886-c4f7-cf791faa9d79"
      },
      "execution_count": null,
      "outputs": [
        {
          "output_type": "stream",
          "name": "stderr",
          "text": [
            "WARNING:matplotlib.legend:No artists with labels found to put in legend.  Note that artists whose label start with an underscore are ignored when legend() is called with no argument.\n"
          ]
        },
        {
          "output_type": "display_data",
          "data": {
            "text/plain": [
              "<Figure size 1056x480 with 1 Axes>"
            ],
            "image/png": "[encoded data removed]"
          },
          "metadata": {}
        }
      ]
    },
    {
      "cell_type": "code",
      "metadata": {
        "id": "jzn4GxEBFnMg",
        "colab": {
          "base_uri": "https://localhost:8080/",
          "height": 452
        },
        "outputId": "e81d91be-9695-43bd-ca8e-04d33a0a915d",
        "collapsed": true
      },
      "source": [
        "# Create a scatter plot between 'col 1' and 'col 2' columns separately for both the classes in the same plot.\n",
        "import matplotlib.pyplot as plt\n",
        "\n",
        "plt.figure(figsize = (11, 5), dpi = 96)\n",
        "plt.scatter(dummy_df.loc[dummy_df['target'] == 0, 'col 1'], dummy_df.loc[dummy_df['target'] == 0, 'col 2'], label = 'Label 0', color = 'g')\n",
        "plt.scatter(dummy_df.loc[dummy_df['target'] == 1, 'col 1'], dummy_df.loc[dummy_df['target'] == 1, 'col 2'], label = 'Label 1', color = 'r')\n",
        "plt.xlabel('col 1', fontsize = 14)\n",
        "plt.ylabel('col 2', fontsize = 14)\n",
        "plt.legend()\n",
        "plt.show()\n"
      ],
      "execution_count": null,
      "outputs": [
        {
          "output_type": "display_data",
          "data": {
            "text/plain": [
              "<Figure size 1056x480 with 1 Axes>"
            ],
            "image/png": "[encoded data removed]"
          },
          "metadata": {}
        }
      ]
    },
    {
      "cell_type": "markdown",
      "metadata": {
        "id": "hRnZaJhhIquq"
      },
      "source": [
        "This is the reason behind creating a dummy data-frame. Here, you can clearly see that two different coloured clusters are formed for the two different labels (or classes). You can draw an imaginary straight line to separate the two clusters from each other.\n",
        "\n",
        "For the sake of better understanding, let's assume that the equation of the straight line separating the two clusters is $x = 1$ (*even if the equation is incorrect*)."
      ]
    },
    {
      "cell_type": "code",
      "metadata": {
        "id": "E6iHY9Iui8c_",
        "colab": {
          "base_uri": "https://localhost:8080/",
          "height": 452
        },
        "outputId": "6248592d-76b6-46fb-e459-bb5955e63a30"
      },
      "source": [
        "#  Plot the line x = 1 in the above scatter plot.\n",
        "plt.figure(figsize = (11, 5), dpi = 96)\n",
        "plt.scatter(dummy_df.loc[dummy_df['target'] == 0, 'col 1'], dummy_df.loc[dummy_df['target'] == 0, 'col 2'], label = 'Label 0', color = 'g')\n",
        "plt.scatter(dummy_df.loc[dummy_df['target'] == 1, 'col 1'], dummy_df.loc[dummy_df['target'] == 1, 'col 2'], label = 'Label 1', color = 'r')\n",
        "plt.axvline(x = 1, color = 'black', linewidth = 2, linestyle = '--', label = r'$x = 1$')\n",
        "plt.xlabel('col 1', fontsize = 14)\n",
        "plt.ylabel('col 2', fontsize = 14)\n",
        "plt.legend()\n",
        "plt.show()"
      ],
      "execution_count": null,
      "outputs": [
        {
          "output_type": "display_data",
          "data": {
            "text/plain": [
              "<Figure size 1056x480 with 1 Axes>"
            ],
            "image/png": "[encoded data removed]"
          },
          "metadata": {}
        }
      ]
    },
    {
      "cell_type": "markdown",
      "metadata": {
        "id": "bCCiXrYSix3-"
      },
      "source": [
        "So any point on the left-hand side of the line can be classified as 0 and any point on the right-hand side of the line can be classified as 1. This imaginary straight line separating the two clusters and classifying the points as 0 and 1 is called the **decision boundary**.\n",
        "\n",
        "Keeping the same idea in mind, you can conclude that you need more and more features in a dataset so that different clusters could be formed for different classes and these clusters can be separated by a decision boundary.\n",
        "\n",
        "To keep things simple, for this dummy dataset, we will consider only two features (or independent variables) to have a two-dimensional decision boundary. If we consider more than two features, then we will have to deal with a higher-dimensional decision boundary which is difficult to visualise on a two-dimensional plane.\n",
        "\n",
        "Your next task is to find out the equation of this decision boundary. The required equation will be the input to the sigmoid function to get the probabilities. Then w.r.t. a threshold value, you can classify the outcomes as 0 and 1."
      ]
    },
    {
      "cell_type": "markdown",
      "metadata": {
        "id": "3TQbOSKLukhl"
      },
      "source": [
        "**Equation of a Straight Line in General Form**\n",
        "\n",
        "Before continuing ahead with the decision boundary, let's learn the equation of a straight line in the general form.\n",
        "\n",
        "You already know that the equation of a straight line is given as\n",
        "\n",
        "$$y = mx + c$$\n",
        "\n",
        "where\n",
        "\n",
        "- $m$ is the slope of a line and\n",
        "\n",
        "- $c$ is the intercept made by the line on the $y$-axis\n",
        "\n",
        "The equation of a straight line in the **general form** is given as\n",
        "\n",
        "$$ax + by + c = 0$$\n",
        "\n",
        "where\n",
        "\n",
        "- $a$ is the coefficient of $x$,\n",
        "\n",
        "- $b$ is the coefficient of $y$, and\n",
        "\n",
        "- $c$ is some arbitrary constant\n",
        "\n",
        "If you rewrite the above general equation as follows\n",
        "\n",
        "$$by = -ax - c$$\n",
        "$$\\Rightarrow y = - \\left(\\frac{a}{b}\\right) x - \\frac{c}{b}$$\n",
        "\n",
        "then you get the equation of the straight line back in the **slope-intercept** form where\n",
        "\n",
        "- the slope is $-\\frac{a}{b}$; more precisely $-\\frac{\\text{coefficient of } x}{\\text{coefficient of }y}$ and\n",
        "\n",
        "- the intercept-made by the line on the $y$-axis is $-\\frac{c}{b}$; more precisely $-\\frac{\\text{arbitrary constant}}{\\text{coefficient of }y}$\n",
        "\n",
        "**Note:** The $c$ in $y = mx + c$ is **not** the same as the $c$ in $ax + by + c = 0$\n",
        "\n",
        "With the knowledge of the general form of the equation of a straight line, you can assume that the equation of the decision boundary is\n",
        "\n",
        "$$\\beta_0 + \\beta_1 x_1 + \\beta_2 x_2 = 0$$\n",
        "\n",
        "or\n",
        "\n",
        "$$\\beta_1 x_1 + \\beta_2 x_2 + \\beta_0 = 0$$\n",
        "\n",
        "If you compare it with the equation of a straight line in the general form,\n",
        "\n",
        "$$ax + by + c = 0$$\n",
        "\n",
        "then\n",
        "\n",
        "$$\\beta_1 = a, x_1 = x, \\beta_2 = b, x_2 = y \\space{} \\text{and} \\space{} \\beta_0 = c$$\n",
        "\n",
        "In this case, $x_1$ and $x_2$ represent the `col 1` and `col 2` columns respectively.\n",
        "\n",
        "To find this decision boundary (the straight line given by $\\beta_0 + \\beta_1 x_1 + \\beta_2 x_2 = 0$), you need to build a logistic regression model between $x_1$ and $x_2$. From this model, you will get the coefficients i.e., $\\beta_0, \\beta_1$ and $\\beta_2$.\n",
        "\n",
        "So now, calculate the coefficients."
      ]
    },
    {
      "cell_type": "code",
      "source": [
        "dummy_df.columns[:-1]"
      ],
      "metadata": {
        "colab": {
          "base_uri": "https://localhost:8080/"
        },
        "id": "GX-A_53awu1w",
        "outputId": "04b64b45-f977-465e-8992-218cd84c8280"
      },
      "execution_count": null,
      "outputs": [
        {
          "output_type": "execute_result",
          "data": {
            "text/plain": [
              "Index(['col 1', 'col 2'], dtype='object')"
            ]
          },
          "metadata": {},
          "execution_count": 19
        }
      ]
    },
    {
      "cell_type": "code",
      "source": [
        " #Calculate the coefficients by building a logistic regression model using the 'sklearn' model.\n",
        "from sklearn.linear_model import LogisticRegression\n",
        "\n",
        "X = dummy_df[dummy_df.columns[:-1]] # Features\n",
        "y = dummy_df['target'] # Target\n",
        "\n",
        "\n",
        "logistic_reg1 = LogisticRegression(random_state=0).fit(X, y)\n",
        "\n",
        "logistic_reg1.intercept_"
      ],
      "metadata": {
        "colab": {
          "base_uri": "https://localhost:8080/"
        },
        "id": "AojGymB0xBcW",
        "outputId": "91d641f0-1fea-44d4-9aa4-01e2c9880c20"
      },
      "execution_count": null,
      "outputs": [
        {
          "output_type": "execute_result",
          "data": {
            "text/plain": [
              "array([6.32668684])"
            ]
          },
          "metadata": {},
          "execution_count": 21
        }
      ]
    },
    {
      "cell_type": "code",
      "source": [
        "logistic_reg1.coef_"
      ],
      "metadata": {
        "colab": {
          "base_uri": "https://localhost:8080/"
        },
        "id": "GD5fzaN1xR-U",
        "outputId": "6d04333a-293d-4857-efd5-7bf792975d7e"
      },
      "execution_count": null,
      "outputs": [
        {
          "output_type": "execute_result",
          "data": {
            "text/plain": [
              "array([[ 1.46792761, -1.36068143]])"
            ]
          },
          "metadata": {},
          "execution_count": 22
        }
      ]
    },
    {
      "cell_type": "code",
      "metadata": {
        "id": "etrA_2UW4DCj",
        "colab": {
          "base_uri": "https://localhost:8080/"
        },
        "outputId": "38b565b2-4991-4287-a74b-b21263290cad"
      },
      "source": [
        "# Calculate the coefficients by building a logistic regression model using the 'sklearn' model.\n",
        "from sklearn.linear_model import LogisticRegression\n",
        "\n",
        "X = dummy_df[dummy_df.columns[:-1]] # Features\n",
        "y = dummy_df['target'] # Target\n",
        "\n",
        "def decision_boundary_coeffs(X, y):\n",
        "  logistic_reg = LogisticRegression(random_state=0).fit(X, y)\n",
        "  coef_list = list(logistic_reg.intercept_) + list(logistic_reg.coef_[0])\n",
        "  return coef_list\n",
        "\n",
        "coef_list = decision_boundary_coeffs(X, y)\n",
        "for i in range(len(coef_list)):\n",
        "  print(f\"Beta {i} = {coef_list[i]:.4f}\")"
      ],
      "execution_count": null,
      "outputs": [
        {
          "output_type": "stream",
          "name": "stdout",
          "text": [
            "Beta 0 = 6.3267\n",
            "Beta 1 = 1.4679\n",
            "Beta 2 = -1.3607\n"
          ]
        }
      ]
    },
    {
      "cell_type": "code",
      "source": [
        "coef_list"
      ],
      "metadata": {
        "colab": {
          "base_uri": "https://localhost:8080/"
        },
        "id": "nInwBgIBxgA7",
        "outputId": "23d6ee52-a6e6-40a3-84e4-f81f69c53cb6"
      },
      "execution_count": null,
      "outputs": [
        {
          "output_type": "execute_result",
          "data": {
            "text/plain": [
              "[6.326686838390892, 1.46792761011123, -1.360681430800604]"
            ]
          },
          "metadata": {},
          "execution_count": 24
        }
      ]
    },
    {
      "cell_type": "markdown",
      "metadata": {
        "id": "7NquAyyRp8qn"
      },
      "source": [
        "Now that you have the required coefficients, you can get the equation of the decision boundary (in this case; a straight line).\n",
        "\n",
        "Next, let's plot the decision boundary (or straight line) in the above scatter plot. To plot the line, you can\n",
        "\n",
        "- plot the `col 1` values on the $x$-axis\n",
        "\n",
        "- calculate the `col 2` values from the $\\beta_0, \\beta_1, \\beta_2$ and the `col 1` values using the expression\n",
        "  $$x_2 = - \\left( \\frac{\\beta_1}{\\beta_2} \\right) x_1 - \\frac{\\beta_0}{\\beta_2}$$\n",
        "  or\n",
        "  $$x_2 = - \\left( \\frac{\\beta_1 x_1 + \\beta_0}{\\beta_2} \\right)$$\n",
        "  or\n",
        "  $$x_2 =  \\left( \\frac{- \\beta_0-\\beta_1 x_1}{\\beta_2} \\right)$$"
      ]
    },
    {
      "cell_type": "code",
      "source": [
        "dummy_df['col 1']"
      ],
      "metadata": {
        "colab": {
          "base_uri": "https://localhost:8080/",
          "height": 458
        },
        "id": "iUrH5v5_ya8C",
        "outputId": "61d72a56-d675-4750-e4d5-4acc1bae4b07"
      },
      "execution_count": null,
      "outputs": [
        {
          "output_type": "execute_result",
          "data": {
            "text/plain": [
              "0     -1.464582\n",
              "1      6.737005\n",
              "2      3.269535\n",
              "3      5.293423\n",
              "4      4.414279\n",
              "         ...   \n",
              "995   -1.718220\n",
              "996    5.546249\n",
              "997    2.925002\n",
              "998    6.047442\n",
              "999    0.228056\n",
              "Name: col 1, Length: 1000, dtype: float64"
            ],
            "text/html": [
              "<div>\n",
              "<style scoped>\n",
              "    .dataframe tbody tr th:only-of-type {\n",
              "        vertical-align: middle;\n",
              "    }\n",
              "\n",
              "    .dataframe tbody tr th {\n",
              "        vertical-align: top;\n",
              "    }\n",
              "\n",
              "    .dataframe thead th {\n",
              "        text-align: right;\n",
              "    }\n",
              "</style>\n",
              "<table border=\"1\" class=\"dataframe\">\n",
              "  <thead>\n",
              "    <tr style=\"text-align: right;\">\n",
              "      <th></th>\n",
              "      <th>col 1</th>\n",
              "    </tr>\n",
              "  </thead>\n",
              "  <tbody>\n",
              "    <tr>\n",
              "      <th>0</th>\n",
              "      <td>-1.464582</td>\n",
              "    </tr>\n",
              "    <tr>\n",
              "      <th>1</th>\n",
              "      <td>6.737005</td>\n",
              "    </tr>\n",
              "    <tr>\n",
              "      <th>2</th>\n",
              "      <td>3.269535</td>\n",
              "    </tr>\n",
              "    <tr>\n",
              "      <th>3</th>\n",
              "      <td>5.293423</td>\n",
              "    </tr>\n",
              "    <tr>\n",
              "      <th>4</th>\n",
              "      <td>4.414279</td>\n",
              "    </tr>\n",
              "    <tr>\n",
              "      <th>...</th>\n",
              "      <td>...</td>\n",
              "    </tr>\n",
              "    <tr>\n",
              "      <th>995</th>\n",
              "      <td>-1.718220</td>\n",
              "    </tr>\n",
              "    <tr>\n",
              "      <th>996</th>\n",
              "      <td>5.546249</td>\n",
              "    </tr>\n",
              "    <tr>\n",
              "      <th>997</th>\n",
              "      <td>2.925002</td>\n",
              "    </tr>\n",
              "    <tr>\n",
              "      <th>998</th>\n",
              "      <td>6.047442</td>\n",
              "    </tr>\n",
              "    <tr>\n",
              "      <th>999</th>\n",
              "      <td>0.228056</td>\n",
              "    </tr>\n",
              "  </tbody>\n",
              "</table>\n",
              "<p>1000 rows × 1 columns</p>\n",
              "</div><br><label><b>dtype:</b> float64</label>"
            ]
          },
          "metadata": {},
          "execution_count": 27
        }
      ]
    },
    {
      "cell_type": "code",
      "source": [
        "pred_col2_value = (-coef_list[0]-(coef_list[1]*dummy_df['col 1']))/coef_list[2]"
      ],
      "metadata": {
        "id": "nYzGVYbLzKwy"
      },
      "execution_count": null,
      "outputs": []
    },
    {
      "cell_type": "code",
      "source": [
        "pred_col2_value"
      ],
      "metadata": {
        "colab": {
          "base_uri": "https://localhost:8080/",
          "height": 458
        },
        "id": "QB3m04hOzGDe",
        "outputId": "23605e79-d9f7-4bbd-90db-3f4f1b6574e8"
      },
      "execution_count": null,
      "outputs": [
        {
          "output_type": "execute_result",
          "data": {
            "text/plain": [
              "0       3.069628\n",
              "1      11.917648\n",
              "2       8.176879\n",
              "3      10.360286\n",
              "4       9.411849\n",
              "         ...    \n",
              "995     2.795999\n",
              "996    10.633039\n",
              "997     7.805191\n",
              "998    11.173735\n",
              "999     4.895677\n",
              "Name: col 1, Length: 1000, dtype: float64"
            ],
            "text/html": [
              "<div>\n",
              "<style scoped>\n",
              "    .dataframe tbody tr th:only-of-type {\n",
              "        vertical-align: middle;\n",
              "    }\n",
              "\n",
              "    .dataframe tbody tr th {\n",
              "        vertical-align: top;\n",
              "    }\n",
              "\n",
              "    .dataframe thead th {\n",
              "        text-align: right;\n",
              "    }\n",
              "</style>\n",
              "<table border=\"1\" class=\"dataframe\">\n",
              "  <thead>\n",
              "    <tr style=\"text-align: right;\">\n",
              "      <th></th>\n",
              "      <th>col 1</th>\n",
              "    </tr>\n",
              "  </thead>\n",
              "  <tbody>\n",
              "    <tr>\n",
              "      <th>0</th>\n",
              "      <td>3.069628</td>\n",
              "    </tr>\n",
              "    <tr>\n",
              "      <th>1</th>\n",
              "      <td>11.917648</td>\n",
              "    </tr>\n",
              "    <tr>\n",
              "      <th>2</th>\n",
              "      <td>8.176879</td>\n",
              "    </tr>\n",
              "    <tr>\n",
              "      <th>3</th>\n",
              "      <td>10.360286</td>\n",
              "    </tr>\n",
              "    <tr>\n",
              "      <th>4</th>\n",
              "      <td>9.411849</td>\n",
              "    </tr>\n",
              "    <tr>\n",
              "      <th>...</th>\n",
              "      <td>...</td>\n",
              "    </tr>\n",
              "    <tr>\n",
              "      <th>995</th>\n",
              "      <td>2.795999</td>\n",
              "    </tr>\n",
              "    <tr>\n",
              "      <th>996</th>\n",
              "      <td>10.633039</td>\n",
              "    </tr>\n",
              "    <tr>\n",
              "      <th>997</th>\n",
              "      <td>7.805191</td>\n",
              "    </tr>\n",
              "    <tr>\n",
              "      <th>998</th>\n",
              "      <td>11.173735</td>\n",
              "    </tr>\n",
              "    <tr>\n",
              "      <th>999</th>\n",
              "      <td>4.895677</td>\n",
              "    </tr>\n",
              "  </tbody>\n",
              "</table>\n",
              "<p>1000 rows × 1 columns</p>\n",
              "</div><br><label><b>dtype:</b> float64</label>"
            ]
          },
          "metadata": {},
          "execution_count": 31
        }
      ]
    },
    {
      "cell_type": "code",
      "metadata": {
        "id": "7xD2tqBK8K_i",
        "colab": {
          "base_uri": "https://localhost:8080/",
          "height": 452
        },
        "outputId": "8e684c86-93bd-4cbe-c2bb-72271856b40f"
      },
      "source": [
        "#  Plot the calculated regression line in above scatter plot.\n",
        "pred_col2_value = (-coef_list[0]-(coef_list[1]*dummy_df['col 1']))/coef_list[2]\n",
        "plt.figure(figsize = (11, 5), dpi = 96)\n",
        "plt.scatter(dummy_df.loc[dummy_df['target'] == 0, 'col 1'], dummy_df.loc[dummy_df['target'] == 0, 'col 2'], label = 'Label 0', color = 'g')\n",
        "plt.scatter(dummy_df.loc[dummy_df['target'] == 1, 'col 1'], dummy_df.loc[dummy_df['target'] == 1, 'col 2'], label = 'Label 1', color = 'r')\n",
        "plt.plot(dummy_df['col 1'],pred_col2_value)\n",
        "plt.xlabel('col 1', fontsize = 14)\n",
        "plt.ylabel('col 2', fontsize = 14)\n",
        "plt.legend()\n",
        "plt.show()"
      ],
      "execution_count": null,
      "outputs": [
        {
          "output_type": "display_data",
          "data": {
            "text/plain": [
              "<Figure size 1056x480 with 1 Axes>"
            ],
            "image/png": "[encoded data removed]"
          },
          "metadata": {}
        }
      ]
    },
    {
      "cell_type": "code",
      "source": [
        "coef_list"
      ],
      "metadata": {
        "id": "KrAjZzFYy82x"
      },
      "execution_count": null,
      "outputs": []
    },
    {
      "cell_type": "markdown",
      "metadata": {
        "id": "x4H4f1aMfNz1"
      },
      "source": [
        "As you can see, the decision boundary clearly separates the two clusters for the two classes."
      ]
    },
    {
      "cell_type": "markdown",
      "metadata": {
        "id": "MX8Ug8Wuryxu"
      },
      "source": [
        "---"
      ]
    },
    {
      "cell_type": "markdown",
      "metadata": {
        "id": "Cyj3OiTtQG5u"
      },
      "source": [
        "#### Activity 3: Predictions\n",
        "\n",
        "Now, your next task is to predict the `target` values based on the `col 1` and `col 2` values using the sigmoid function and some threshold value, say 0.5.\n",
        "\n",
        "Let's rewrite the sigmoid function as\n",
        "$$p =  \\frac{1}{1 + e^{-h}}$$\n",
        "\n",
        "where\n",
        "- $p$ is the probability value between 0 and 1\n",
        "- $h$ is some relationship between $x_1, x_2, x_3, \\dots, x_n$\n",
        "- $x_1, x_2, x_3, \\dots, x_n$ are $n \\in N$ feature(s) in a dataset\n",
        "\n",
        "In this case of dummy dataset, $h = \\beta_0 + \\beta_1 x_1 + \\beta_2 x_2$\n",
        "\n",
        "You can also read $h$ as a **hypothesis**. In a broader sense, to predict the labels 0 and 1 through logistic regression for the dummy dataset, you need to pass a hypothesis as an input to the sigmoid function. In this case, the hypothesis is that the `col 1` and `col 2` values have a linear relationship ($h = \\beta_0 + \\beta_1 x_1 + \\beta_2 x_2$) that predicts the labels 0 and 1.\n",
        "\n",
        "$$\\therefore p =\\frac{1}{1 + e^{-(\\beta_0 + \\beta_1 x_1 + \\beta_2 x_2)}}$$\n",
        "\n",
        "where $\\beta_0, \\beta_1, \\beta_2$ are coefficients and $x_1, x_2$ are the independent variables.\n",
        "\n",
        "The above expression can also be written as\n",
        "\n",
        "$$p =\\frac{1}{1 + e^{-BX^T}}$$\n",
        "\n",
        "where\n",
        "\n",
        "- $X$ denotes the feature matrix i.e.\n",
        "\n",
        "  $$X = \\begin{bmatrix} 1 & x_{1,1} & x_{2,1} \\\\ 1 & x_{1,2} & x_{2,2}\\\\ 1 & x_{1,3} & x_{2,3} \\\\ \\vdots & \\vdots & \\vdots \\\\ 1 & x_{1,1000} & x_{2,1000} \\end{bmatrix}$$\n",
        "\n",
        "  Each item in the above matrix can be represented by $x_{i,j}$ where $x_{i,j}$ denotes the $j^{\\text{th}}$ item in the $i^{\\text{th}}$ column. Also the values of $i$ goes from $1$ to $2$ and the values of $j$ goes from $1$ to $1000$.\n",
        "\n",
        "- $B$ denotes the regression coefficients matrix i.e.\n",
        "\n",
        "  $$B = \\begin{bmatrix} \\beta_0 & \\beta_1 & \\beta_2\\end{bmatrix}$$\n",
        "\n",
        "Essentially, $$h = BX^T$$\n",
        "\n",
        "\n",
        "The above product after taking the transpose of the features matrix becomes\n",
        "\n",
        "$$h = \\begin{bmatrix} \\beta_0 & \\beta_1 & \\beta_2\\end{bmatrix} \\begin{bmatrix} 1 & 1 & 1 & \\dots & 1 \\\\ x_{1,1} & x_{1,2} & x_{1,3} & \\dots & x_{1,1000} \\\\ x_{2,1} & x_{2,2} & x_{2,3} & \\dots & x_{2,1000} \\end{bmatrix}$$\n",
        "\n",
        "So let's create the `sigmoid()` function in Python that takes the arrays containing the features and the regression coefficients as inputs and returns the probability values as output. But first, you need to add a column containing 1s to the features array."
      ]
    },
    {
      "cell_type": "code",
      "metadata": {
        "id": "2A5Oi179RG58",
        "colab": {
          "base_uri": "https://localhost:8080/"
        },
        "outputId": "a85ad846-95a7-47e8-8d2f-718f61f1a7aa"
      },
      "source": [
        "#Add a column containing 1s to the features array.\n",
        "import numpy as np\n",
        "\n",
        "new_features_array = np.append(np.ones(shape = (features_array.shape[0], 1)), features_array, axis = 1)\n",
        "new_features_array\n"
      ],
      "execution_count": null,
      "outputs": [
        {
          "output_type": "execute_result",
          "data": {
            "text/plain": [
              "array([[ 1.        , -1.46458248,  7.60215256],\n",
              "       [ 1.        ,  6.73700485,  1.28118438],\n",
              "       [ 1.        ,  3.26953498,  0.17310608],\n",
              "       ...,\n",
              "       [ 1.        ,  2.92500241, -0.04378206],\n",
              "       [ 1.        ,  6.04744165,  1.90892753],\n",
              "       [ 1.        ,  0.22805604,  8.00391327]])"
            ]
          },
          "metadata": {},
          "execution_count": 40
        }
      ]
    },
    {
      "cell_type": "markdown",
      "metadata": {
        "id": "aldZlz0YI90T"
      },
      "source": [
        "In the above code:\n",
        "\n",
        "1. `np.ones(shape = (features_array.shape[0], 1)` generates a NumPy array containing 1s and has 1000 rows and 1 column.\n",
        "\n",
        "2. `np.append()` function adds the `features_array` to the array created in the first step column-wise (denoted by `axis = 1`). The general syntax is\n",
        "   `np.append(parent_matrix, matrix_to_be_added_to_the_parent_matrix)`\n"
      ]
    },
    {
      "cell_type": "code",
      "source": [
        "coef_list"
      ],
      "metadata": {
        "colab": {
          "base_uri": "https://localhost:8080/"
        },
        "id": "ksFmhP463EEl",
        "outputId": "0d02681b-283b-4189-9b6c-85ed6e79ee60"
      },
      "execution_count": null,
      "outputs": [
        {
          "output_type": "execute_result",
          "data": {
            "text/plain": [
              "[6.326686838390892, 1.46792761011123, -1.360681430800604]"
            ]
          },
          "metadata": {},
          "execution_count": 39
        }
      ]
    },
    {
      "cell_type": "code",
      "metadata": {
        "id": "OT4Z_4sGQPxF",
        "colab": {
          "base_uri": "https://localhost:8080/"
        },
        "outputId": "6789da2d-c2cb-4464-bea2-afa99513c653"
      },
      "source": [
        "#  Create the 'sigmoid()' function.\n",
        "def sigmoid(features_matrix, coef_matrix):\n",
        "    sigmoid_output_matrix = 1/(1 + np.exp(-1 * np.matmul(coef_matrix, np.transpose(features_matrix))))\n",
        "    return np.array(sigmoid_output_matrix)\n",
        "\n",
        "sigmoid_outputs = sigmoid(new_features_array, coef_list)\n",
        "sigmoid_outputs[:10] # Displaying the first 10 items."
      ],
      "execution_count": null,
      "outputs": [
        {
          "output_type": "execute_result",
          "data": {
            "text/plain": [
              "array([2.09245618e-03, 9.99999482e-01, 9.99981368e-01, 9.99995832e-01,\n",
              "       9.90902989e-01, 9.99988692e-01, 9.99995614e-01, 2.84447892e-05,\n",
              "       9.99983571e-01, 2.94538720e-06])"
            ]
          },
          "metadata": {},
          "execution_count": 41
        }
      ]
    },
    {
      "cell_type": "code",
      "source": [
        "#Create the 'sigmoid()' function.\n",
        "# without matrix form\n",
        "def sigmoid(h):\n",
        "    sigmoid_output_matrix =1/(1+np.exp(-h))\n",
        "    return np.array(sigmoid_output_matrix)\n",
        "h = coef_list[0] + (coef_list[1]*dummy_df[\"col 1\"])+(coef_list[2]*dummy_df[\"col 2\"])\n",
        "sigmoid_outputs =sigmoid(h)\n",
        "sigmoid_outputs[:10]\n"
      ],
      "metadata": {
        "id": "o9qPWzatiZc6",
        "colab": {
          "base_uri": "https://localhost:8080/"
        },
        "outputId": "40f06cf6-cdd2-4fcd-a3c9-7d7e4b6c5b78"
      },
      "execution_count": null,
      "outputs": [
        {
          "output_type": "execute_result",
          "data": {
            "text/plain": [
              "array([2.09245618e-03, 9.99999482e-01, 9.99981368e-01, 9.99995832e-01,\n",
              "       9.90902989e-01, 9.99988692e-01, 9.99995614e-01, 2.84447892e-05,\n",
              "       9.99983571e-01, 2.94538720e-06])"
            ]
          },
          "metadata": {},
          "execution_count": 42
        }
      ]
    },
    {
      "cell_type": "markdown",
      "metadata": {
        "id": "pfgd4g-7KSLv"
      },
      "source": [
        "**Note:** The matrix multiplication rules are applicable to the NumPy arrays as well.\n",
        "\n",
        "Now, let's create a scatter plot between the $h = \\beta_0 + \\beta_1 x_1 + \\beta_2 x_2$ values and their corresponding sigmoid outputs."
      ]
    },
    {
      "cell_type": "code",
      "metadata": {
        "id": "4qBGQtKEULhd",
        "colab": {
          "base_uri": "https://localhost:8080/",
          "height": 548
        },
        "outputId": "765b61cf-d9f7-4bfc-fef2-8f41812b5630"
      },
      "source": [
        "#Create a scatter plot between the 'h' values and their corresponding sigmoid outputs.\n",
        "plt.figure(figsize = (12, 6), dpi = 96)\n",
        "plt.title(\"Scatter Plot Between \" + r\"$\\beta_0 + \\beta_1 x_1 + \\beta_2 x_2$\" + \" and Corresponding Sigmoid Outputs\")\n",
        "plt.scatter(np.matmul(coef_list, np.transpose(new_features_array)), sigmoid_outputs)\n",
        "plt.xlabel(r'$\\beta_0 + \\beta_1 x_1 + \\beta_2 x_2$', fontsize = 12)\n",
        "plt.ylabel(r'$\\frac{1}{1 + e^{-(\\beta_0 + \\beta_1 x_1 + \\beta_2 x_2)}}$', fontsize = 18)\n",
        "plt.show()\n"
      ],
      "execution_count": null,
      "outputs": [
        {
          "output_type": "display_data",
          "data": {
            "text/plain": [
              "<Figure size 1152x576 with 1 Axes>"
            ],
            "image/png": "[encoded data removed]"
          },
          "metadata": {}
        }
      ]
    },
    {
      "cell_type": "markdown",
      "metadata": {
        "id": "dZkBAV5pNqif"
      },
      "source": [
        "As you can see, the above plot follows the sigmoid curve.\n",
        "\n",
        "Now, let's predict the target values w.r.t. the threshold value of 0.5"
      ]
    },
    {
      "cell_type": "code",
      "metadata": {
        "id": "MJJiMlKv4TVJ",
        "colab": {
          "base_uri": "https://localhost:8080/"
        },
        "outputId": "6c7a6225-1bc9-4da3-e652-5a5a99e8d475"
      },
      "source": [
        "#  Predict the target values w.r.t. the threshold value of 0.5\n",
        "predicted_target = [1 if item >= 0.5 else 0 for item in sigmoid_outputs]\n",
        "predicted_target[:10] # Displaying the first 10 items."
      ],
      "execution_count": null,
      "outputs": [
        {
          "output_type": "execute_result",
          "data": {
            "text/plain": [
              "[0, 1, 1, 1, 1, 1, 1, 0, 1, 0]"
            ]
          },
          "metadata": {},
          "execution_count": 44
        }
      ]
    },
    {
      "cell_type": "markdown",
      "metadata": {
        "id": "PXDnm2HvN6se"
      },
      "source": [
        "Finally, let's calculate the accuracy of the logistic regression model built through a confusion matrix, precision value, recall value and f1-score."
      ]
    },
    {
      "cell_type": "code",
      "metadata": {
        "id": "jZL2nJvX4n4f",
        "colab": {
          "base_uri": "https://localhost:8080/"
        },
        "outputId": "ceddb885-1dd2-48e6-b657-9d5fe44a273b"
      },
      "source": [
        "#  Evaluate the accuracy of the logistic regression model built through a confusion matrix, precision value, recall value and f1-score.\n",
        "from sklearn.metrics import confusion_matrix,classification_report\n",
        "print(confusion_matrix(dummy_df['target'],predicted_target))\n",
        "print(classification_report(dummy_df['target'],predicted_target))"
      ],
      "execution_count": null,
      "outputs": [
        {
          "output_type": "stream",
          "name": "stdout",
          "text": [
            "[[500   0]\n",
            " [  0 500]]\n",
            "              precision    recall  f1-score   support\n",
            "\n",
            "           0       1.00      1.00      1.00       500\n",
            "           1       1.00      1.00      1.00       500\n",
            "\n",
            "    accuracy                           1.00      1000\n",
            "   macro avg       1.00      1.00      1.00      1000\n",
            "weighted avg       1.00      1.00      1.00      1000\n",
            "\n"
          ]
        }
      ]
    },
    {
      "cell_type": "markdown",
      "metadata": {
        "id": "9O5XDqkTOV22"
      },
      "source": [
        "As you can see,\n",
        "- The FP and FN values in the confusion matrix are 0\n",
        "- The precision and recall values are 1\n",
        "- The f1-score is also 1\n",
        "\n",
        "This clearly shows that the decision boundary accurately separates the labels (or classes) with 100% accuracy.\n",
        "\n",
        "Let's stop here. In the next class, we will study more concepts on logistic regression."
      ]
    },
    {
      "cell_type": "markdown",
      "metadata": {
        "id": "_id1mbqCe_Ya"
      },
      "source": [
        "---\n",
        "\n",
        "In the last activity, you learnt to calculate the decision boundary by building a logistic regression model using the `sklearn` module. In this activity, you will begin to learn to estimate the decision boundary purely through maths.\n"
      ]
    },
    {
      "cell_type": "markdown",
      "metadata": {
        "id": "bfuExfEPe_Yb"
      },
      "source": [
        "---"
      ]
    },
    {
      "cell_type": "markdown",
      "metadata": {
        "id": "srAF23wee_Yb"
      },
      "source": [
        "#### Dummy Dataset\n",
        "\n"
      ]
    },
    {
      "cell_type": "code",
      "metadata": {
        "id": "HH_OpITMe_Yb"
      },
      "source": [
        "# Dummy dataset creation using the 'make_blob()' function.\n",
        "import pandas as pd\n",
        "from sklearn.datasets import make_blobs\n",
        "\n",
        "features_array, target_array = make_blobs(n_samples = 1000, centers = 2, n_features = 2, random_state = 42, cluster_std = 1.25)\n",
        "\n",
        "# Object-type of the arrays created by the 'make_blob()' function and the number of rows and columns in them.\n",
        "print(f\"The features array is an {type(features_array)} object.\\nThe target array is an {type(target_array)} object.\\n\")\n",
        "print(f\"The features array has {features_array.shape[0]} rows and {features_array.shape[1]} columns.\")\n",
        "print(f\"The target array has {target_array.shape[0]} rows and {len(target_array.shape)} column.\")\n",
        "\n",
        "# Pandas DataFrame creation.\n",
        "dummy_dict = {'col 1': [features_array[i][0] for i in range(features_array.shape[0])],\n",
        "             'col 2': [features_array[i][1] for i in range(features_array.shape[0])],\n",
        "             'target': target_array}\n",
        "\n",
        "dummy_df = pd.DataFrame.from_dict(dummy_dict)\n",
        "\n",
        "# The number of occurrences of each label in the 'target' column.\n",
        "print(f\"Target counts:\\n{dummy_df['target'].value_counts()}\")"
      ],
      "execution_count": null,
      "outputs": []
    },
    {
      "cell_type": "markdown",
      "metadata": {
        "id": "_43WXDA3e_Yc"
      },
      "source": [
        "---"
      ]
    },
    {
      "cell_type": "markdown",
      "metadata": {
        "id": "gAn0VKT9e_Yc"
      },
      "source": [
        "#### Cluster Visualisation"
      ]
    },
    {
      "cell_type": "code",
      "metadata": {
        "id": "j_goEyz4e_Yd"
      },
      "source": [
        "# Scatter plot between 'col 1' and 'col 2' columns separately for both the classes in the same plot.\n",
        "import matplotlib.pyplot as plt\n",
        "\n",
        "plt.figure(figsize = (11, 5), dpi = 96)\n",
        "plt.scatter(dummy_df.loc[dummy_df['target'] == 0, 'col 1'], dummy_df.loc[dummy_df['target'] == 0, 'col 2'], label = 'Label 0', color = 'g')\n",
        "plt.scatter(dummy_df.loc[dummy_df['target'] == 1, 'col 1'], dummy_df.loc[dummy_df['target'] == 1, 'col 2'], label = 'Label 1', color = 'r')\n",
        "plt.xlabel('col 1', fontsize = 14)\n",
        "plt.ylabel('col 2', fontsize = 14)\n",
        "plt.legend()\n",
        "plt.show()"
      ],
      "execution_count": null,
      "outputs": []
    },
    {
      "cell_type": "markdown",
      "metadata": {
        "id": "TI1rKMQjc6-6"
      },
      "source": [
        "#### Calculating Coefficients Using `sklearn` Module"
      ]
    },
    {
      "cell_type": "code",
      "metadata": {
        "id": "6uBy4nXHe_Ye"
      },
      "source": [
        "# Coefficients Estimation by building a logistic regression model using the 'sklearn' model.\n",
        "from sklearn.linear_model import LogisticRegression\n",
        "\n",
        "X = dummy_df[dummy_df.columns[:-1]] # Features\n",
        "y = dummy_df['target'] # Target\n",
        "\n",
        "def decision_boundary_coeffs(X, y):\n",
        "  logistic_reg = LogisticRegression(random_state=0).fit(X, y)\n",
        "  coef_list = list(logistic_reg.intercept_) + list(logistic_reg.coef_[0])\n",
        "  return coef_list\n",
        "\n",
        "coef_list = decision_boundary_coeffs(X, y)\n",
        "for i in range(len(coef_list)):\n",
        "  print(f\"Beta {i} = {coef_list[i]:.4f}\")\n",
        "\n",
        "# Plotting the decision boundary\n",
        "pred_col2_values = - (coef_list[0] + coef_list[1] * dummy_df['col 1']) / coef_list[2]\n",
        "\n",
        "plt.figure(figsize = (12, 5), dpi = 96)\n",
        "plt.title(\"\\n\\nClusters with Linear Decision Boundary\", fontsize = 14)\n",
        "plt.scatter(dummy_df.loc[dummy_df['target'] == 0, 'col 1'], dummy_df.loc[dummy_df['target'] == 0, 'col 2'], label = 'Label 0', color = 'g')\n",
        "plt.scatter(dummy_df.loc[dummy_df['target'] == 1, 'col 1'], dummy_df.loc[dummy_df['target'] == 1, 'col 2'], label = 'Label 1', color = 'r')\n",
        "plt.plot(dummy_df['col 1'], pred_col2_values, color = 'b', linewidth = 2, label = r\"$\\beta_0 + \\beta_1 x_1 + \\beta_2 x_2 = 0$\")\n",
        "plt.xlabel(r\"$x_1$\", fontsize = 14)\n",
        "plt.ylabel(r\"$x_2$\", fontsize = 14)\n",
        "plt.legend()\n",
        "plt.show()"
      ],
      "execution_count": null,
      "outputs": []
    },
    {
      "cell_type": "markdown",
      "metadata": {
        "id": "ONiiHW8Mc6KM"
      },
      "source": [
        "---"
      ]
    },
    {
      "cell_type": "markdown",
      "metadata": {
        "id": "shlD7ygXe_Ye"
      },
      "source": [
        "#### Predictions\n",
        "\n",
        "The sigmoid function is given as\n",
        "$$p =  \\frac{1}{1 + e^{-h}}$$\n",
        "\n",
        "where\n",
        "- $p$ is the probability value between 0 and 1\n",
        "- $h$ is some relationship between $x_1, x_2, x_3, \\dots, x_n$\n",
        "- $x_1, x_2, x_3, \\dots, x_n$ are $n \\in N$ feature(s) in a dataset\n",
        "\n",
        "In this case of dummy dataset, $h = \\beta_0 + \\beta_1 x_1 + \\beta_2 x_2$\n",
        "\n",
        "$$\\therefore p =\\frac{1}{1 + e^{-(\\beta_0 + \\beta_1 x_1 + \\beta_2 x_2)}}$$\n",
        "\n",
        "where $\\beta_0, \\beta_1, \\beta_2$ are coefficients and $x_1, x_2$ are the independent variables.\n",
        "\n",
        "The above expression can also be written as\n",
        "\n",
        "$$p =\\frac{1}{1 + e^{-BX^T}}$$\n",
        "\n",
        "where\n",
        "\n",
        "- $X$ denotes the feature matrix i.e.\n",
        "\n",
        "  $$X = \\begin{bmatrix} 1 & x_{1,1} & x_{2,1} \\\\ 1 & x_{1,2} & x_{2,2}\\\\ 1 & x_{1,3} & x_{2,3} \\\\ \\vdots & \\vdots & \\vdots \\\\ 1 & x_{1,1000} & x_{2,1000} \\end{bmatrix}$$\n",
        "\n",
        "  Each item in the above matrix can be represented by $x_{i,j}$ where $x_{i,j}$ denotes the $j^{\\text{th}}$ item in the $i^{\\text{th}}$ column. Also the values of $i$ goes from $1$ to $2$ and the values of $j$ goes from $1$ to $1000$.\n",
        "\n",
        "- $B$ denotes the coefficients matrix i.e.\n",
        "\n",
        "  $$B = \\begin{bmatrix} \\beta_0 & \\beta_1 & \\beta_2\\end{bmatrix}$$\n",
        "\n",
        "Essentially, $$h = BX^T$$\n",
        "\n",
        "\n",
        "The above product after taking the transpose of the features matrix becomes\n",
        "\n",
        "$$h = \\begin{bmatrix} \\beta_0 & \\beta_1 & \\beta_2\\end{bmatrix} \\begin{bmatrix} 1 & 1 & 1 & \\dots & 1 \\\\ x_{1,1} & x_{1,2} & x_{1,3} & \\dots & x_{1,1000} \\\\ x_{2,1} & x_{2,2} & x_{2,3} & \\dots & x_{2,1000} \\end{bmatrix}$$\n"
      ]
    },
    {
      "cell_type": "code",
      "metadata": {
        "id": "fmvHSFqVe_Yf"
      },
      "source": [
        "# Adding a column containing 1s to the features array.\n",
        "import numpy as np\n",
        "\n",
        "new_features_array = np.append(np.ones(shape = (features_array.shape[0], 1)), features_array, axis = 1)\n",
        "\n",
        "# Create the 'sigmoid()' function.\n",
        "def sigmoid(features_matrix, coef_matrix):\n",
        "    sigmoid_output_matrix = 1/(1 + np.exp(-1 * np.matmul(coef_matrix, np.transpose(features_matrix))))\n",
        "    return np.array(sigmoid_output_matrix)\n",
        "\n",
        "sigmoid_outputs = sigmoid(new_features_array, coef_list)\n",
        "\n",
        "# Scatter plot between the 'h' values and their corresponding sigmoid outputs.\n",
        "plt.figure(figsize = (12, 6), dpi = 96)\n",
        "plt.title(\"Scatter Plot Between \" + r\"$\\beta_0 + \\beta_1 x_1 + \\beta_2 x_2$\" + \" and Corresponding Sigmoid Outputs\")\n",
        "plt.scatter(np.matmul(coef_list, np.transpose(new_features_array)), sigmoid_outputs)\n",
        "plt.xlabel(r'$\\beta_0 + \\beta_1 x_1 + \\beta_2 x_2$', fontsize = 12)\n",
        "plt.ylabel(r'$\\frac{1}{1 + e^{-(\\beta_0 + \\beta_1 x_1 + \\beta_2 x_2)}}$', fontsize = 18)\n",
        "plt.show()"
      ],
      "execution_count": null,
      "outputs": []
    },
    {
      "cell_type": "code",
      "metadata": {
        "id": "AJVEYqTze_Yf"
      },
      "source": [
        "# Predicting the target values w.r.t. the threshold value of 0.5\n",
        "predicted_target = [1 if item >= 0.5 else 0 for item in sigmoid_outputs]\n",
        "\n",
        "# Evaluate the accuracy of the logistic regression model built through confusion matrix, precision value, recall value and f1-score.\n",
        "from sklearn.metrics import confusion_matrix, classification_report\n",
        "\n",
        "print(confusion_matrix(dummy_df['target'], predicted_target), \"\\n\")\n",
        "print(classification_report(dummy_df['target'], predicted_target))"
      ],
      "execution_count": null,
      "outputs": []
    },
    {
      "cell_type": "markdown",
      "metadata": {
        "id": "K7B8vIQXXRr4"
      },
      "source": [
        "---"
      ]
    },
    {
      "cell_type": "markdown",
      "metadata": {
        "id": "lMWohLWTc2Ji"
      },
      "source": [
        "#### Activity 1: Regularised Cost Function\n",
        "\n",
        "After building a logistic regression model using the `sklearn` module of Python, we obtained the following values of the coefficients:\n",
        "\n",
        "- $\\beta_0 = 6.3267$\n",
        "- $\\beta_1 = 1.4679$\n",
        "- $\\beta_2 = -1.3607$\n",
        "\n",
        "Now we need to obtain the same without using any Python module. For this, you will have to use the following expression (called the **regularised cost function**)\n",
        "\n",
        "$$J(\\beta) = -\\frac{1}{m} \\left[ \\sum_{i = 1}^m \\{ y_i \\log(p_i) + (1 - y_i)\\log(1 - p_i) \\} \\right]+ \\frac{\\lambda}{2m}\\sum_{j = 1}^n \\beta_j ^2$$\n",
        "\n",
        "where\n",
        "\n",
        "- $p_i = \\frac{1}{1 + e^{-h_i}}$\n",
        "\n",
        "- $h_i = \\beta_0 + \\beta_1 x_{i1} + \\beta_2 x_{i2} + \\dots + \\beta_n x_{in}$\n",
        "\n",
        "  In this case, $n = 2$\n",
        "\n",
        "  $\\therefore h_i = \\beta_0 + \\beta_1 x_{i1} + \\beta_2 x_{i2}$\n",
        "\n",
        "- $i$ is the row number in a data-frame\n",
        "\n",
        "- $m$ is the total number of rows in a data-frame\n",
        "\n",
        "- $n$ is the total number of independent variables in a data-frame\n",
        "\n",
        "- $\\lambda$ is the regularisation rate\n",
        "\n",
        "- $y$ is the actual label (or class) i.e. either $y = 0$ or $ y = 1$\n"
      ]
    },
    {
      "cell_type": "markdown",
      "metadata": {
        "id": "Oo8NvhAVmnuO"
      },
      "source": [
        "---"
      ]
    },
    {
      "cell_type": "markdown",
      "metadata": {
        "id": "F4Fh-j2tdC71"
      },
      "source": [
        "#### Activity 2: Steps to Build Regularised Cost Function^\n",
        "\n",
        "Now let's learn how we obtained the above cost regularised cost function and how it provides the values of the coefficients.\n",
        "\n",
        "Here are the steps to be followed to estimate the coefficients.\n",
        "\n",
        "1. Consider a matrix of coefficients\n",
        "   \n",
        "   $$\\beta = \\begin{bmatrix}\\beta_0 & \\beta_1 & \\beta_2 & \\dots & \\beta_n\\end{bmatrix}$$\n",
        "\n",
        "   and another matrix of features\n",
        "   \n",
        "   $$X = \\begin{bmatrix}1 & x_{11} & x_{12} & x_{13} & \\dots & x_{1n} \\\\ 1 & x_{21} & x_{22} & x_{23} & \\dots & x_{2n} \\\\ 1 & x_{31} & x_{32} & x_{33} & \\dots & x_{3n} \\\\ \\vdots & \\vdots & \\vdots & \\vdots & \\ddots & \\vdots \\\\1 & x_{m1} & x_{m2} & x_{m3} & \\dots & x_{mn} \\\\\\end{bmatrix}$$\n",
        "\n",
        "   where $m$ is the number of records and $n$ is the number of features (or independent variables) in a dataset.\n",
        "\n",
        "2. Calculate probabilities for each record using the sigmoid function\n",
        "\n",
        "   $$p_i = \\frac{1}{1 + e^{-h_i}}$$\n",
        "\n",
        "3. Get the likelihood function\n",
        "    \n",
        "   $$L(\\beta) = \\prod_{i = 1}^m p_i^y (1 - p_i)^{(1 - y)}$$\n",
        "\n",
        "4. Get the log likelihood function\n",
        "    \n",
        "   $$J(\\beta) = \\log L(\\beta) = \\sum_{i = 1}^m \\{ y \\log p_i + (1 - y) \\log(1 - p_i) \\}$$\n",
        "\n",
        "5. Get the negative log likelihood function and divide it by the total number of records $m$\n",
        "    \n",
        "   $$J(\\beta) = -\\frac{1}{m} \\sum_{i = 1}^m \\{ y \\log p_i + (1 - y) \\log(1 - p_i) \\}$$\n",
        "\n",
        "6. Penalise the above cost function with a regularisation rate of $\\lambda$\n",
        "\n",
        "   $$J(\\beta) = -\\frac{1}{m} \\sum_{i = 1}^m \\{ y \\log p_i + (1 - y) \\log(1 - p_i) \\} + \\frac{\\lambda}{2m} \\sum_{j = 1}^n \\beta_j^2$$\n",
        "\n",
        "Let's go through the above steps one-by-one.\n"
      ]
    },
    {
      "cell_type": "markdown",
      "metadata": {
        "id": "FocMM7UsnALX"
      },
      "source": [
        "---"
      ]
    },
    {
      "cell_type": "markdown",
      "metadata": {
        "id": "9gyImlvPmchj"
      },
      "source": [
        "#### Activity 3: Likelihood Equation^^\n",
        "\n",
        "Consider a record $x_i$ in the $i^{\\text{th}}$ row in the features matrix.\n",
        "\n",
        "\\begin{equation}\n",
        "\\therefore x_i = \\begin{bmatrix}1 & x_{i1} & x_{i2} & x_{i3} & \\dots & x_{in}\\end{bmatrix}\n",
        "\\end{equation}\n",
        "\n",
        "The hypothesis $h_i$ for the $i^{\\text{th}}$ record in the features matrix is\n",
        "\n",
        "\\begin{aligned}\n",
        "h_i &= \\begin{bmatrix}\n",
        "\\beta_0 & \\beta_1 & \\beta_2 & \\beta_3 & \\dots & \\beta_n\n",
        "\\end{bmatrix}\n",
        "\\begin{bmatrix}\n",
        "1 \\\\ x_{i1} \\\\ x_{i2} \\\\ x_{i3} \\\\ \\dots \\\\ x_{in}\n",
        "\\end{bmatrix} \\\\\n",
        "&= \\beta_0 + \\beta_1 x_{i1} + \\beta_2 x_{i2} + \\beta_3 x_{i3} + \\dots + \\beta_n x_{in}\n",
        "\\end{aligned}\n",
        "\n",
        "So the corresponding probability $p_i$ for the $i^{\\text{th}}$ record in the features matrix is\n",
        "\n",
        "\\begin{aligned}\n",
        "p_i &= \\frac{1}{1 + e^{-h_i}} \\\\\n",
        " &= \\frac{1}{1 + e^{-(\\beta_0 + \\beta_1 x_{i1} + \\beta_2 x_{i2} + \\beta_3 x_{i3} + \\dots + \\beta_n x_{in})}}\n",
        "\\end{aligned}\n",
        "\n",
        "The function $p$ is dependent on both $\\beta$ and $x$. Since $p$ is a probability, its value will range from 0 to 1.\n",
        "\n",
        "Let $y = 1$ be the label for this $i^{\\text{th}}$ record and $\\hat{y}$ be the probability calculated through the sigmoid function. Mathematically, you can say\n",
        "\n",
        "\\begin{equation}\n",
        "P(y = 1 \\space{}| \\space{} x; \\beta) = p\n",
        "\\tag{3.1}\n",
        "\\end{equation}\n",
        "\n",
        "The above expression is read as **the probability of any record having the label 1, for a given set of features ($x$) and coefficients ($\\beta$), is $p$**.\n",
        "The vertical bar i.e. $|$ is read as **given**.\n",
        "\n",
        "Consequently, the probability of a record having label **NOT 1** (or having label 0) will be $1 - p$ because the sum of probabilities is 1.\n",
        "\n",
        "So for the record $y = 0$, the equation $(3.1)$ becomes\n",
        "\n",
        "\\begin{equation}\n",
        "P(y = 0 \\space{}| \\space{} x; \\beta) = 1 - p\n",
        "\\tag{3.2}\n",
        "\\end{equation}\n",
        "\n",
        "Now, we want an equation that can combine the equations $(3.1)$ and $(3.2)$ into one single equation. The required equation is given by\n",
        "\n",
        "\\begin{equation}\n",
        "P(y \\space{} | \\space{} x; \\beta) = p^y (1 - p)^{(1 - y)}\n",
        "\\tag{3.3}\n",
        "\\end{equation}\n",
        "\n",
        "The above equation is called a **likelihood function** for one record.\n",
        "\n",
        "If you substitute, $y = 1$ in the equation $(3.3)$, you get\n",
        "\n",
        "\\begin{aligned}\n",
        "P(y = 1 \\space{} | \\space{} x) &= p(1 - p)^{1 - 1} \\\\\n",
        "\\Rightarrow P(y = 1 \\space{} | \\space{} x) &= p\n",
        "\\end{aligned}\n",
        "\n",
        "And if you substitute, $y = 0$ in the equation $(3.3)$, you get\n",
        "\n",
        "\\begin{aligned}\n",
        "P(y = 0 \\space{} | \\space{} x) &= p^0 (1 - p)^{1 - 0} \\\\\n",
        "\\Rightarrow P(y = 0 \\space{} | \\space{} x) &= 1 - p\n",
        "\\end{aligned}\n",
        "\n",
        "Now our next task is to get the log likelihood function for $m$ number of records. But before that let's learn a mathematical concept called **logarithms**."
      ]
    },
    {
      "cell_type": "markdown",
      "metadata": {
        "id": "meG7Hbs91S6S"
      },
      "source": [
        "---"
      ]
    },
    {
      "cell_type": "markdown",
      "metadata": {
        "id": "kUi975m31aYy"
      },
      "source": [
        "#### Activity 4: Logarithms^^^\n",
        "\n",
        "A logarithm (or log) tells you the exponent of a number or how many times a number should be multiplied with itself to get another number.\n",
        "\n",
        "Eg., for how many times would you multiply $2$ with itself to obtain $32$?\n",
        "\n",
        "The answer is $5$ because\n",
        "\n",
        "\\begin{equation}\n",
        "2 \\times 2 \\times 2 \\times 2 \\times 2 = 32 \\\\\n",
        "\\tag{4.1}\n",
        "\\end{equation}\n",
        "\n",
        "or\n",
        "\n",
        "\\begin{equation}\n",
        "2^5 = 32\n",
        "\\tag{4.2}\n",
        "\\end{equation}\n",
        "\n",
        "So, mathematically, you would say that the logarithm of $32$ w.r.t. the base $2$ is $5$. It is written is\n",
        "\n",
        "\\begin{equation}\n",
        "\\log_2 32 = 5\n",
        "\\tag{4.3}\n",
        "\\end{equation}\n",
        "\n",
        "So, the equations $(4.2)$ and $(4.3)$ are the same i.e.\n",
        "\n",
        "\\begin{equation}\n",
        "2^5 = 32 \\Leftrightarrow \\log_2 32 = 5\n",
        "\\end{equation}\n",
        "\n",
        "Another eg. What should be the exponent of the base $7$ to get the number $343$. In other words, what should be the logarithm (or log) of $343$ on base $7$? Mathematically,\n",
        "\n",
        "$$\\log_7 343 = ?$$\n",
        "\n",
        "The answer is $7$ i.e. $\\log_7 343 = 3$ because $7^3 = 343$\n",
        "\n",
        "In general, the log of a number $a$ on the base $b$ is given as\n",
        "\n",
        "\\begin{equation}\n",
        "\\log_b a = c\n",
        "\\end{equation}\n",
        "\n",
        "i.e. when $b$ is multiplied $c$ times with itself (i.e. $b \\times b \\times b \\dots c \\space{} \\text{times}$), the number obtained is $a$ i.e. $b^c = a$\n",
        "\n",
        "\\begin{equation}\n",
        "\\therefore b^c = a \\Leftrightarrow \\log_b a = c\n",
        "\\end{equation}\n",
        "\n",
        "**Note:** The log is not defined for the negative numbers. Hence\n",
        "\n",
        "- $a$ should be a positive real number i.e. $a > 0$\n",
        "\n",
        "- $b$ should be a real number either between $0$ and $1$ or greater than $1$ i.e. $0 < b < 1$ or $b > 1$\n",
        "\n",
        "- Since the output of a log is an exponent of a number on a base, it squeezes the very large numbers into the smaller numbers.\n",
        "\n",
        "You may try to compute the log of a very large number, say 3,489,403,752 on a base of, say 13. For this, you can use the `log()` function of the `math` module in Python. Its syntax is\n",
        "\n",
        "**Syntax:** `math.log(number, base)`\n",
        "\n",
        "The first input to the `math.log()` function is the number for which the log is to be calculated and the second input is the base on which the log of the `number` needs to be calculated.\n",
        "\n"
      ]
    },
    {
      "cell_type": "code",
      "metadata": {
        "colab": {
          "base_uri": "https://localhost:8080/"
        },
        "id": "33HkBix4JWY4",
        "outputId": "17481d40-a154-4424-87a8-783e64f9bf03"
      },
      "source": [
        "# Try to compute the log of a very large number, say 3489403752 on a base of say 13.\n",
        "import math\n",
        "a = math.log(3489403752, 13)\n",
        "print(\"Log of 3,489,403,752 on the base 13 is\", a)"
      ],
      "execution_count": null,
      "outputs": [
        {
          "output_type": "stream",
          "text": [
            "Log of 3,489,403,752 on the base 13 is 8.566639590737218\n"
          ],
          "name": "stdout"
        }
      ]
    },
    {
      "cell_type": "markdown",
      "metadata": {
        "id": "sVJeB92mLVSf"
      },
      "source": [
        "As you can see, the log has squeezed the very large number 3,489,403,752 to 8.567 (approx) which is a very small number compared to 3,489,403,752."
      ]
    },
    {
      "cell_type": "code",
      "metadata": {
        "colab": {
          "base_uri": "https://localhost:8080/"
        },
        "id": "cs30YCmOL36J",
        "outputId": "4547ca79-0ee3-4dd6-d31a-df74020390e2"
      },
      "source": [
        "#  Raise the base of 13 to the power of log of 3489403752 on base 13.\n",
        "13 ** a"
      ],
      "execution_count": null,
      "outputs": [
        {
          "output_type": "execute_result",
          "data": {
            "text/plain": [
              "3489403752.0"
            ]
          },
          "metadata": {
            "tags": []
          },
          "execution_count": 7
        }
      ]
    },
    {
      "cell_type": "markdown",
      "metadata": {
        "id": "-qtZOQybNInO"
      },
      "source": [
        "**Log Property 1:** Here we have discovered one of the properties of log which is\n",
        "\n",
        "$$b^{\\log_b a} = a$$\n",
        "\n",
        "It says, \"**When a base is raised to the log of some number on that base, the result is the number**\".\n",
        "\n",
        "In this case, the base is $13$ and the number is $3489403752$. If you raise the base $13$ to the power of $\\log_{13} 3489403752$, you will get the $3489403752$ as the result i.e.\n",
        "\n",
        "$$13^{\\log_{13} 3489403752} = 3489403752$$\n",
        "\n",
        "There are many more properties of logarithms that you will get to learn as the course progresses.\n",
        "\n",
        "**Most Commonly Used Base:** In general, you can compute the log of a number on any base $b$ provided $0 < b < 1$ or $b > 1$ but the most commonly used bases are $b = e$ (where $e = 2.71$) and $b = 10$.\n",
        "\n",
        "In fact, if the base is not specified in log, then $e$ is considered as the default base i.e. $\\log a$ is the same as $\\log_e a$\n",
        "\n",
        "The log with base $e$ is also written as $\\text{ln}$ which is a short-form for \"log-natural\". Therefore, $\\log \\text{a}$ is the same as $\\log_e a$ is the same as $\\text{ln a}$."
      ]
    },
    {
      "cell_type": "code",
      "metadata": {
        "colab": {
          "base_uri": "https://localhost:8080/"
        },
        "id": "lihED_MnOsgM",
        "outputId": "491cb8ea-b3fe-4370-f55b-2085d6029abe"
      },
      "source": [
        "#  Try to compute the log-natural and log to the base 10 of a very large number, say 3489403752.\n",
        "# You can use the 'numpy' module to calculate the log values on base 10 and e.\n",
        "import numpy as np\n",
        "log_natural = np.log(3489403752)\n",
        "log_base_10 = np.log10(3489403752)\n",
        "\n",
        "print(f\"Log natural = {log_natural}\\nLog on the base 10 = {log_base_10}\")"
      ],
      "execution_count": null,
      "outputs": [
        {
          "output_type": "stream",
          "text": [
            "Log natural = 21.97299671386599\n",
            "Log on the base 10 = 9.542751223710285\n"
          ],
          "name": "stdout"
        }
      ]
    },
    {
      "cell_type": "markdown",
      "metadata": {
        "id": "aM21rHc2edKK"
      },
      "source": [
        "**Graphs of Logarithms**\n",
        "\n",
        "Let's look at the nature of graphs of logarithms and what you can interpret from these graphs.\n",
        "\n",
        "Let's create an array containing a few real numbers between 0.001 and 1000 (including both) and plot these numbers with their corresponding log values on the base 10.\n"
      ]
    },
    {
      "cell_type": "code",
      "source": [
        "# create an array containing a few real numbers between 0.001 and 1000 (including both).\n",
        "# Plot these numbers with their corresponding log values on the base 10.\n",
        "import numpy as np\n",
        "import matplotlib.pyplot as plt\n",
        "\n",
        "array = np.arange(0.001, 1000, 1) # Creating an array of 1000 real numbers between 0.001 and 1000.\n",
        "print(\"First 10 numbers stored in the array:\\n\", array[:10], \"\\n\")\n",
        "\n",
        "plt.figure(figsize = (14, 6), dpi = 96)\n",
        "plt.title(\"Graph of \" + r\"$\\log_b x$\" + \" when the base is greater than 1.\", fontsize = 15)\n",
        "plt.plot(array, np.log10(array))\n",
        "plt.xlabel(r'x', fontsize = 14)\n",
        "plt.ylabel(r'$\\log_{10} x$', fontsize = 14)\n",
        "plt.grid(which = 'major', axis = 'both', linestyle = '--')\n",
        "plt.show()"
      ],
      "metadata": {
        "id": "NUG4hyTTlaQr"
      },
      "execution_count": null,
      "outputs": []
    },
    {
      "cell_type": "code",
      "metadata": {
        "colab": {
          "base_uri": "https://localhost:8080/",
          "height": 610
        },
        "id": "31xAYeGCn6T9",
        "outputId": "3a83fc27-6ef7-4e7a-8f1b-1a8fd727fcd9"
      },
      "source": [
        "# create an array containing a few real numbers between 0.001 and 1000 (including both).\n",
        "# Plot these numbers with their corresponding log values on the base 10.\n",
        "array = np.linspace(0.001, 1000, 1000) # Creating an array of 1000 real numbers between 0.001 and 1000.\n",
        "print(\"First 10 numbers stored in the array:\\n\", array[:10], \"\\n\")\n",
        "\n",
        "plt.figure(figsize = (14, 6), dpi = 96)\n",
        "plt.title(\"Graph of \" + r\"$\\log_b x$\" + \" when the base is greater than 1.\", fontsize = 15)\n",
        "plt.plot(array, np.log10(array))\n",
        "plt.xlabel(r'x', fontsize = 14)\n",
        "plt.ylabel(r'$\\log_{10} x$', fontsize = 14)\n",
        "plt.grid(which = 'major', axis = 'both', linestyle = '--')\n",
        "plt.show()"
      ],
      "execution_count": null,
      "outputs": [
        {
          "output_type": "stream",
          "text": [
            "First 10 numbers stored in the array:\n",
            " [1.000e-03 1.002e+00 2.003e+00 3.004e+00 4.005e+00 5.006e+00 6.007e+00\n",
            " 7.008e+00 8.009e+00 9.010e+00] \n",
            "\n"
          ],
          "name": "stdout"
        },
        {
          "output_type": "display_data",
          "data": {
            "image/png": "[encoded data removed]",
            "text/plain": [
              "<Figure size 1344x576 with 1 Axes>"
            ]
          },
          "metadata": {
            "tags": [],
            "needs_background": "light"
          }
        }
      ]
    },
    {
      "cell_type": "markdown",
      "metadata": {
        "id": "BRM43dWp2QFu"
      },
      "source": [
        "From the above graph, you can see that **when the base $b$ is greater than 1, the graph of a log function continuously increases as the values on the $x$-axis increase.**\n",
        "\n",
        "Also whenever $x$ is between 0 and 1 i.e. $0 < x < 1$, the corresponding log values are negative.\n",
        "\n",
        "The graph of a log function rises very sharply for the initial values of $x$. As the $x$ values start increasing from a particular point, the curve starts flattening.\n",
        "\n",
        "Now, let's create a graph of a log function when the base is less than 1."
      ]
    },
    {
      "cell_type": "code",
      "metadata": {
        "colab": {
          "base_uri": "https://localhost:8080/",
          "height": 542
        },
        "id": "47cKodxhtLn0",
        "outputId": "d5a3788b-6fb9-4d55-821e-f8401ce9c946"
      },
      "source": [
        "#  Repeat the above exercise when the base is less than 1, say b = 0.1\n",
        "import math\n",
        "\n",
        "log_base_1_over_10 = [math.log(i, 0.4) for i in array]\n",
        "\n",
        "plt.figure(figsize = (14, 6), dpi = 96)\n",
        "plt.title(\"Graph of \" + r\"$\\log_b x$\" + \" when the base is less than 1.\", fontsize = 15)\n",
        "plt.plot(array, log_base_1_over_10)\n",
        "plt.xlabel(r'x', fontsize = 14)\n",
        "plt.ylabel(r'$\\log_{0.1} x$', fontsize = 14)\n",
        "plt.grid(which = 'major', axis = 'both', linestyle = '--')\n",
        "plt.show()"
      ],
      "execution_count": null,
      "outputs": [
        {
          "output_type": "display_data",
          "data": {
            "text/plain": [
              "<Figure size 1344x576 with 1 Axes>"
            ],
            "image/png": "[encoded data removed]"
          },
          "metadata": {
            "needs_background": "light"
          }
        }
      ]
    },
    {
      "cell_type": "markdown",
      "metadata": {
        "id": "dA_Jimg526vd"
      },
      "source": [
        "From the above graph, you can see that **when the base $b$ is less than 1, the graph of a log function continuously decreases as the values on the $x$-axis increase.**\n",
        "\n",
        "Here, the graph of a log function drops very sharply for the initial values of $x$. As the $x$ values start increasing from a particular point, the curve starts flattening.\n",
        "\n",
        "Now you have learnt enough of logarithms to understand the log likelihood function.\n"
      ]
    },
    {
      "cell_type": "markdown",
      "metadata": {
        "id": "yOhwaSM6fNOE"
      },
      "source": [
        "---\n",
        "In the previous activity, you learnt to build a likelihood and log likelihood function as part of the building the cost function process for logistic regression to calculate the coefficients. In this activity, you build the regularised cost function and also will learn the concepts of derivatives that are heavily used in machine learning and deep learning.\n"
      ]
    },
    {
      "cell_type": "markdown",
      "metadata": {
        "id": "6KgvtxSYfNOE"
      },
      "source": [
        "---"
      ]
    },
    {
      "cell_type": "markdown",
      "metadata": {
        "id": "IEWPHM33zjEG"
      },
      "source": [
        "#### Activity 1: Derivatives (or Differentiation)^\n",
        "\n",
        "$$J(\\beta) = -\\frac{1}{m} \\sum_{i = 1}^m \\{ y \\log p_i + (1 - y) \\log(1 - p_i) \\} + \\frac{\\lambda}{2m} \\sum_{j = 1}^n \\beta_j^2$$\n",
        "\n",
        "The regularised cost function, for the different values of $\\beta$ produces different values. But we are looking for those $\\beta$ values for which the value of the cost function is minimum. For this, you need to differentiate the regularised cost function wrt the betas i.e. $\\frac{\\partial J}{\\partial \\beta_0}, \\frac{\\partial J}{\\partial \\beta_1}, \\frac{\\partial J}{\\partial \\beta_2}, \\dots , \\frac{\\partial J}{\\partial \\beta_n}$. For this, you need to learn the concept of derivatives (or differentiation).\n",
        "\n",
        "\n",
        "**A derivative (or differentiation) is defined as the rate of change in one quantity wrt the change in another quantity.** Let's understand this concept with the help of an example.\n",
        "\n",
        "Consider a car travelling on a hill that has a curved path as shown in the image below.\n",
        "\n",
        "<center><img src ='https://student-datasets-bucket.s3.ap-south-1.amazonaws.com/images/derivatives-01.jpg' width = 800></center>\n",
        "\n",
        "Suppose, you want to find out:\n",
        "\n",
        "1. the rate of change in the vertical distance travelled by the car wrt to the change in the horizontal distance.\n",
        "\n",
        "2. the point (on the horizontal axis) at which the hill has its lowest height.\n",
        "\n",
        "To answer both the above questions, you need derivatives.\n",
        "\n",
        "**Q: How is it related to the regularised cost function?**\n",
        "\n",
        "**A:** Using derivatives, we want to find the values of betas (called optimised betas) at which the cost function has its lowest value. These optimised beta values are used to calculate the decision boundary and thereby to build a logistic regression model.\n",
        "\n",
        "**Q: How derivatives are used to find out the points at which the value of a cost function (regularised or non-regularised) is zero?**\n",
        "\n",
        "**A:** Let's continue with the above example and try to find out the points on the horizontal axis at which the height of the hill is the minimum (or lowest).\n",
        "\n",
        "You can represent the curvature of the hill on the $x$-$y$ axes as shown below.\n",
        "\n",
        "<center><img src ='https://student-datasets-bucket.s3.ap-south-1.amazonaws.com/images/derivatives-02.jpg' width = 700></center>\n",
        "\n",
        "\n",
        "You can draw different tangents (**a tangent at a point is a straight line that touches a curve**) at different points on this curve as well as shown in the images below.\n",
        "\n",
        "<center><img src ='https://student-datasets-bucket.s3.ap-south-1.amazonaws.com/images/derivatives-03.jpg' width = 700></center>\n",
        "\n",
        "The slope of the tangent shown in the above image is positive because the tangent makes an acute angle with the $x$-axis. In the next image, the slope of the second tangent is 0 because it is parallel to the $x$-axis.\n",
        "\n",
        "<center><img src ='https://student-datasets-bucket.s3.ap-south-1.amazonaws.com/images/derivatives-04.jpg' width = 700></center>\n",
        "\n",
        "In the next image, the slope of the third tangent is negative because it makes an obtuse angle with the $x$-axis.\n",
        "\n",
        "<center><img src ='https://student-datasets-bucket.s3.ap-south-1.amazonaws.com/images/derivatives-05.jpg' width = 700></center>\n",
        "\n",
        "The next image shows three more tangents that are parallel to the $x$-axis.\n",
        "\n",
        "<center><img src ='https://student-datasets-bucket.s3.ap-south-1.amazonaws.com/images/derivatives-06.jpg' width = 700></center>\n",
        "\n",
        "All the tangents having the slope equals to zero are shown in the purple colour.\n",
        "\n",
        "**Q: What is so special about the tangents having the slope equal to 0?**\n",
        "\n",
        "**A: A point on a curve at which the slope of a tangent is zero, is the point where the curve has either its maximum value (peak) or minimum value (valley).** For e.g., at the point $x_2$, the curve has its peak (or maximum value) and at $x_5$, it has its valley (or minimum value).\n",
        "\n",
        "<center><img src ='https://student-datasets-bucket.s3.ap-south-1.amazonaws.com/images/derivatives-07.jpg' width = 800></center>\n",
        "\n",
        "Using derivatives (or differentiation), you can get the mathematical expression of tangents to any curve and then equate them with zero to find out the points at which the slope of these tangents are equal to zero.\n"
      ]
    },
    {
      "cell_type": "markdown",
      "metadata": {
        "id": "TcLyDR_H7Yww"
      },
      "source": [
        "---"
      ]
    },
    {
      "cell_type": "markdown",
      "metadata": {
        "id": "IeGenrAy7ZeD"
      },
      "source": [
        "#### Activity 2: Rate of Change & Slope of A Tangent^^\n",
        "\n",
        "**Q: How to compute derivatives?**\n",
        "\n",
        "As discussed earlier, a derivative (or differentiation) is defined as the rate of change in one quantity wrt the change in another quantity.\n",
        "\n",
        "To calculate the rate of change, first, we need a relationship between the two quantities. In this case, we need a relationship between the height of the hill and its length. So here, we are provided with the equation of the curved path (or curvature/trajectory) of the hill shown in the above example. It is given as\n",
        "\n",
        "$$y = \\frac{x^5}{5} - \\frac{26}{3}x^3 + 25x$$\n",
        "\n",
        "where\n",
        "\n",
        "- $y$ is the height of the hill from the ground\n",
        "\n",
        "- $x$ is the horizontal length of the hill.\n",
        "\n",
        "Let's plot the curvature of the hill using the `matplotlib.pyplot` module."
      ]
    },
    {
      "cell_type": "code",
      "metadata": {
        "colab": {
          "base_uri": "https://localhost:8080/",
          "height": 348
        },
        "id": "eoLYgHpf-gA_",
        "outputId": "97abcb4e-df4f-4722-a9f0-c973e200878e"
      },
      "source": [
        "#  Plot the curvature of the hill using the 'matplotlib.pyplot' module for the length of the hill bounded between x = -6 and x = 6 only.\n",
        "import numpy as np\n",
        "import matplotlib.pyplot as plt\n",
        "\n",
        "def curvature(x):\n",
        "  return x ** 5 / 5 - 26 * x ** 3 / 3 + 25 * x\n",
        "\n",
        "x_values = np.linspace(-6, 6, 100000) # Here, we have taken 100 thousand points between x = -6 and x = 6.\n",
        "y_values = curvature(x_values)\n",
        "\n",
        "plt.figure(figsize = (12, 4), dpi = 96)\n",
        "plt.plot(x_values, y_values)\n",
        "plt.show()"
      ],
      "execution_count": null,
      "outputs": [
        {
          "output_type": "display_data",
          "data": {
            "text/plain": [
              "<Figure size 1152x384 with 1 Axes>"
            ],
            "image/png": "[encoded data removed]"
          },
          "metadata": {
            "needs_background": "light"
          }
        }
      ]
    },
    {
      "cell_type": "code",
      "source": [
        "y_values[:10]"
      ],
      "metadata": {
        "id": "RBkU2MGly0iG",
        "outputId": "7e774455-671f-4a92-e799-f82d4a08299b",
        "colab": {
          "base_uri": "https://localhost:8080/"
        }
      },
      "execution_count": null,
      "outputs": [
        {
          "output_type": "execute_result",
          "data": {
            "text/plain": [
              "array([166.8       , 166.84619649, 166.89238503, 166.93856562,\n",
              "       166.98473826, 167.03090296, 167.07705971, 167.12320852,\n",
              "       167.16934939, 167.2154823 ])"
            ]
          },
          "metadata": {},
          "execution_count": 2
        }
      ]
    },
    {
      "cell_type": "markdown",
      "metadata": {
        "id": "KxNELCHsB3KP"
      },
      "source": [
        "Next, you need to find the rate to change of height of the hill $y$ wrt the change in the length of the hill $x$ to calculate the derivative i.e.\n",
        "\n",
        "$$\\frac{y_2 - y_1}{x_2 - x_1}$$\n",
        "\n",
        "We can also represent the above ratio as\n",
        "\n",
        "$$\\frac{\\delta y}{\\delta x}$$\n",
        "\n",
        "where\n",
        "\n",
        "- $\\delta y$ (to be read as **delta $y$**) denotes a small change in the values of $y$\n",
        "\n",
        "- $\\delta x$ (to be read as **delta $x$**) denotes a small change in the values of $x$\n",
        "\n"
      ]
    },
    {
      "cell_type": "markdown",
      "metadata": {
        "id": "yWAuUSFVBsd6"
      },
      "source": [
        "---"
      ]
    },
    {
      "cell_type": "markdown",
      "metadata": {
        "id": "GlvyYDMYBnnY"
      },
      "source": [
        "#### Activity 3: Derivative as Rate of Change\n",
        "\n",
        "**Q: How to calculate the rate of change in $y$ wrt the change in $x$?**\n",
        "\n",
        "**A:** We already know that $y$ is dependent on $x$. In other words, $y$ is a function of $x$. Mathematically, it can be represented as\n",
        "\n",
        "$$y = f(x)$$\n",
        "\n",
        "So, for $x = 1$, the equation of trajectory of the hill gives,\n",
        "\n",
        "\\begin{align}\n",
        "y &= f(1) \\\\\n",
        "&= \\frac{1}{5} - \\frac{26}{3} + 25 \\\\\n",
        "&= 16.533\n",
        "\\end{align}\n",
        "\n",
        "Similarly, for $x = 2$, the equation of trajectory of the hill gives,\n",
        "\n",
        "\\begin{align}\n",
        "y &= f(2) \\\\\n",
        "&= \\frac{2^5}{5} - \\frac{26}{3}\\times 2^4 + 25 \\times 2 \\\\\n",
        "&= -12.933\n",
        "\\end{align}\n",
        "\n",
        "With this idea in mind, now let's consider the right-most part of the hill as shown in the image below.\n",
        "\n",
        "<center><img src = 'https://student-datasets-bucket.s3.ap-south-1.amazonaws.com/images/derivatives-09.jpg' width = 700></center>\n",
        "\n",
        "Also, let a line intersect this part of the curve at the points A and B as shown in the above image. This line will become a tangent to the curve at the point of minimum value, i.e. $x_5$, when both the points A and B approach each other as shown in the images below.\n",
        "\n",
        "<center><img src = 'https://student-datasets-bucket.s3.ap-south-1.amazonaws.com/images/derivatives-10.jpg' width = 700></center>\n",
        "\n",
        "<center><img src = 'https://student-datasets-bucket.s3.ap-south-1.amazonaws.com/images/derivatives-11.jpg' width = 700></center>\n",
        "\n",
        "<center><img src = 'https://student-datasets-bucket.s3.ap-south-1.amazonaws.com/images/derivatives-12.jpg' width = 700></center>\n",
        "\n",
        "<center><img src = 'https://student-datasets-bucket.s3.ap-south-1.amazonaws.com/images/derivatives-13.jpg' width = 700></center>\n",
        "\n",
        "This will happen if the vertical and the horizontal distances between the points A and B approach 0.\n",
        "\n",
        "<center><img src = 'https://student-datasets-bucket.s3.ap-south-1.amazonaws.com/images/derivatives-14.jpg' width = 700></center>\n",
        "\n",
        "i.e., $\\delta y \\rightarrow 0$ and $\\delta x \\rightarrow 0$\n",
        "\n",
        "where\n",
        "\n",
        "- $\\delta y$ is a small change in the values of $y$ or graphically, the vertical distance between the points A and B=\n",
        "\n",
        "- $\\delta x$ (to be read as **delta $x$**) is a small change in the values of $x$ or graphically, the horizontal distance between the points A and B\n",
        "\n",
        "Let $x$ and $x + h$ be any two arbitrary points on the $x$-axis. So the corresponding points on the $y$-axis will be $y = f(x)$ and $y = f(x + h)$ (on substituting $x$ and $x + h$ in the equation of trajectory of the hill) as shown in the image below.\n",
        "\n",
        "<center><img src = 'https://student-datasets-bucket.s3.ap-south-1.amazonaws.com/images/derivatives-15.jpg' width = 700></center>\n",
        "\n",
        "\\begin{align}\n",
        "\\therefore \\delta x &= x + h - x \\\\\n",
        "&= h\n",
        "\\end{align}\n",
        "\n",
        "and\n",
        "\n",
        "\\begin{align}\n",
        "\\delta y &= f(x + h) - f(x)\n",
        "\\end{align}\n",
        "\n",
        "So, the rate of small change in $y$ wrt the small change in $x$ is given as\n",
        "\n",
        "\\begin{equation}\n",
        "\\frac{\\delta y}{\\delta x} = \\frac{f(x + h) - f(x)}{h}\n",
        "\\tag{3.1}\n",
        "\\end{equation}\n",
        "\n",
        "And when the small change in the $x$ approaches, 0 i.e. $h \\rightarrow 0$, then the equation (3.1) becomes\n",
        "\n",
        "\\begin{equation}\n",
        "\\frac{dy}{dx} = \\lim_{h \\rightarrow 0} \\frac{f(x + h) - f(x)}{h}\n",
        "\\tag{3.2}\n",
        "\\end{equation}\n",
        "\n",
        "The term $\\lim_{h \\rightarrow 0}$ denotes that $h$ is approaching to 0 or limiting to 0.\n",
        "\n",
        "Now, on substituting the two expressions\n",
        "\n",
        "$$f(x + h) = \\frac{(x + h)^5}{5} - \\frac{26}{3}(x + h)^3 + 25(x + h)$$\n",
        "\n",
        "and\n",
        "\n",
        "$$f(x) = \\frac{x^5}{5} - \\frac{26}{3}x^3 + 25x$$\n",
        "\n",
        "in equation (3.2), we get\n",
        "\n",
        "\\begin{equation}\n",
        "\\frac{dy}{dx} = \\lim_{h \\rightarrow 0} \\frac{\\left( \\frac{1}{5}(x + h)^5 - \\frac{26}{3}(x + h)^3 + 25(x + h) \\right) - \\left( \\frac{x^5}{5} - \\frac{26}{3}x^3 + 25x \\right)}{h}\n",
        "\\tag{3.3}\n",
        "\\end{equation}\n",
        "\n",
        "In equation (3.3), let\n",
        "\n",
        "\\begin{equation}\n",
        "\\text{term 1} = \\frac{1}{5}(x + h)^5 - \\frac{26}{3}(x + h)^3 + 25(x + h)\n",
        "\\end{equation}\n",
        "\n",
        "and\n",
        "\n",
        "\\begin{equation}\n",
        "\\text{term 2} = \\frac{x^5}{5} - \\frac{26}{3}x^3 + 25x\n",
        "\\end{equation}\n",
        "\n",
        "So equation (3.3) becomes,\n",
        "\n",
        "\\begin{equation}\n",
        "\\frac{dy}{dx} = \\lim_{h \\rightarrow 0} \\frac{\\text{term 1} - \\text{term 2}}{h}\n",
        "\\tag{3.4}\n",
        "\\end{equation}"
      ]
    },
    {
      "cell_type": "markdown",
      "metadata": {
        "id": "la0QdaZAoBkC"
      },
      "source": [
        "---"
      ]
    },
    {
      "cell_type": "markdown",
      "metadata": {
        "id": "HDPFEIz_kEnH"
      },
      "source": [
        "#### Activity 4: Solving Derivative^^^\n",
        "\n",
        "Now, let's first expand $\\text{term 1}$ separately using the binomial expansion i.e.\n",
        "\n",
        "\\begin{align}\n",
        "(a + b)^n &= \\sum_{r = 0}^n {}^nC_r a^{n - r} b^r \\\\\n",
        "&= {}^nC_0 a^n b^0 + {}^nC_1 a^{n - 1} b + {}^nC_2 a^{n - 2} b^2 + \\dots + {}^nC_{n - 1} a^1 b^{n - 1} + {}^nC_n a^0 b^n    \n",
        "\\end{align}\n",
        "\n",
        "and\n",
        "\n",
        "\\begin{equation}\n",
        "{}^nC_r = \\frac{n!}{(n - r)! r!}\n",
        "\\end{equation}\n",
        "\n",
        "So upon expansion, $\\text{term 1}$ becomes\n",
        "\n",
        "\\begin{align}\n",
        "\\text{term 1} &= \\frac{1}{5}(x + h)^5 - \\frac{26}{3}(x + h)^3 - 25(x + h) \\\\\n",
        "&= \\frac{1}{5} \\left( {}^5C_0 x^5 + {}^5C_1 x^4 h + {}^5C_2 x^3 h^2 + {}^5C_3 x^2 h^3 + {}^5C_4 x h^4 + {}^5C_5 h^5 \\right) - \\frac{26}{3} \\left( x^3 + 3x^2h + 3xh^2 + h^3 \\right) + 25(x + h) \\\\\n",
        "&= \\frac{1}{5} \\left( x^5 + 5 x^4 h + 10 x^3 h^2 + 10 x^2 h^3 + 5 x h^4 + h^5 \\right) - \\frac{26}{3} \\left( x^3 + 3x^2h + 3xh^2 + h^3 \\right) + 25(x + h)\n",
        "\\end{align}\n",
        "\n",
        "On substituting the terms (1) and (2) in equation (3.4), we get\n",
        "\n",
        "\\begin{equation}\n",
        "\\frac{dy}{dx} = \\lim_{h \\rightarrow 0} \\frac{\\left( \\frac{1}{5}(x^5 + 5 x^4 h + 10 x^3 h^2 + 10 x^2 h^3 + 5 x h^4 + h^5) - \\frac{26}{3}(x^3 + 3x^2h + 3xh^2 + h^3) + 25(x + h) \\right) - \\left( \\frac{x^5}{5} - \\frac{26}{3}x^3 + 25x \\right)}{h}\n",
        "\\tag{4.1}\n",
        "\\end{equation}\n",
        "\n",
        "In the above equation, let's neglect all the higher powers of $h$ i.e., $h^2, h^3, h^4$ and $h^5$ because we assume that $h$ approaches to 0 or it is very very small, say $h = \\frac{1}{10^5}$. So $h^2 = \\frac{1}{10^{10}}$\n",
        "\n",
        "Hence, on neglecting all the terms having higher powers of $h$ in equation (4.1), we get\n",
        "\n",
        "\\begin{align}\n",
        "\\frac{dy}{dx} &= \\lim_{h \\rightarrow 0} \\frac{\\left( \\frac{1}{5}(x^5 + 5 x^4 h) - \\frac{26}{3}(x^3 + 3x^2h) + 25(x + h) \\right) - \\left( \\frac{x^5}{5} - \\frac{26}{3}x^3 + 25x \\right)}{h} \\\\\n",
        "&= \\lim_{h \\rightarrow 0} \\frac{ \\frac{x^5}{5} + x^4 h - \\frac{26}{3}x^3 - 26 x^2h + 25x + 25h  - \\frac{x^5}{5} + \\frac{26}{3}x^3 - 25x}{h} \\\\\n",
        "&= \\lim_{h \\rightarrow 0} \\frac{ x^4 h  - 26 x^2h + 25h}{h} \\\\\n",
        "&= \\lim_{h \\rightarrow 0} \\frac{h (x^4  - 26 x^2 + 25)}{h} \\\\\n",
        "&= \\lim_{h \\rightarrow 0} \\space{} (x^4  - 26 x^2 + 25) \\\\\n",
        "\\Rightarrow \\frac{dy}{dx} &= x^4  - 26 x^2 + 25\n",
        "\\end{align}\n",
        "\n",
        "Finally, we obtained the derivative of $y = \\frac{x^5}{5} - \\frac{26}{3}x^3 + 25x$ wrt $x$. In other words, it is the rate of a very small change in $y$ wrt the very small change in $x$.\n",
        "\n",
        "It is also the slope of the tangent to the curve as shown in the image below.\n",
        "\n",
        "<center><img src = 'https://student-datasets-bucket.s3.ap-south-1.amazonaws.com/images/derivatives-16.jpg' width = 700></center>\n",
        "\n",
        "Because in $\\Delta ABC$\n",
        "\n",
        "\\begin{align}\n",
        "\\tan \\theta &= \\frac{AC}{CB} \\\\\n",
        "&= \\frac{f(x + h) - f(x)}{h}\n",
        "\\end{align}\n",
        "\n",
        "For a very small change, i.e., $h \\rightarrow 0$\n",
        "\n",
        "\\begin{align}\n",
        "\\tan \\theta &= \\lim_{h \\rightarrow 0} \\frac{f(x + h) - f(x)}{h} \\\\\n",
        "\\Rightarrow \\tan \\theta &= \\frac{dy}{dx}\n",
        "\\end{align}\n",
        "\n",
        "Now, if the slope of this tangent is 0, then\n",
        "\n",
        "\\begin{align}\n",
        "\\frac{dy}{dx} &= 0\\\\\n",
        "\\Rightarrow x^4  - 26 x^2 + 25 &= 0 \\\\\n",
        "\\Rightarrow (x^2 - 1)(x^2 - 25) &= 0 \\\\\n",
        "\\Rightarrow (x - 1)(x + 1)(x - 5)(x + 5) &= 0\n",
        "\\end{align}\n",
        "\n",
        "Hence, $x = -5, -1, 1$ and $x = 5$ are the points where the slopes of the tangents to the curvature of the hill are 0.\n",
        "\n",
        "<center><img src = 'https://student-datasets-bucket.s3.ap-south-1.amazonaws.com/images/derivatives-17.jpg' width = 700></center>\n",
        "\n",
        "And at $x = -5$, the value of $y$ will be maximum (peak of the hill) and at $x = 5$, the value of $y$ will be minimum (lowest height of the hill)."
      ]
    },
    {
      "cell_type": "code",
      "metadata": {
        "colab": {
          "base_uri": "https://localhost:8080/"
        },
        "id": "-Khyh8mpxPl5",
        "outputId": "8b893d00-43b1-4d76-8dc7-24a8722ce8d9"
      },
      "source": [
        "# Calculate the maximum and minimum heights of the hill.\n",
        "print(f\"Peak of the hill = {(1/5) * (-5) ** 5 + (-26/3) * (-5) ** 3 + 25 * (-5):.3f} units\")\n",
        "print(f\"Lowest height of the hill = {(1/5) * 5 ** 5 + (-26/3) * 5 ** 3 + 25 * 5:.3f} units\")"
      ],
      "execution_count": null,
      "outputs": [
        {
          "output_type": "stream",
          "text": [
            "Peak of the hill = 333.333 units\n",
            "Lowest height of the hill = -333.333 units\n"
          ],
          "name": "stdout"
        }
      ]
    },
    {
      "cell_type": "markdown",
      "metadata": {
        "id": "xGelRJXGyA26"
      },
      "source": [
        "**Note:** In physical terms, when the height of a landscape is negative, it means that part of the landscape is submerged under an ocean or a sea as shown in the image below.\n",
        "\n",
        "<center><img src = 'https://student-datasets-bucket.s3.ap-south-1.amazonaws.com/images/Carter-Hypso-500.jpg'>\n",
        "\n",
        "**Image credits:** *http://my.ilstu.edu/~jrcarter/LDEO/Geo201maps.htm*\n",
        "\n",
        "</center>\n",
        "\n",
        "Now that you have learnt the concept of derivatives, you are in a position to differentiate the regularised cost function wrt betas to calculate the optimum values of betas to build a logistic regression model. In other words, you are ready to calculate the rate of change in the cost function wrt change in betas. You will learn this in the next class.\n",
        "\n",
        "For the time being, let's stop here."
      ]
    },
    {
      "cell_type": "markdown",
      "metadata": {
        "id": "z-HTRfHDCmWK"
      },
      "source": [
        "---"
      ]
    },
    {
      "cell_type": "markdown",
      "metadata": {
        "id": "WEayiYx7ChbD"
      },
      "source": [
        "#### Activity 5: Log Likelihood Function\n",
        "\n",
        "So far, you have got the likelihood function for only one record i.e.\n",
        "\n",
        "\\begin{equation}\n",
        "P(y \\space{} | \\space{} x; \\beta) = p^y (1 - p)^{(1 - y)}\n",
        "\\end{equation}\n",
        "\n",
        "To get the likelihood function for all the records, you need to multiply the probabilities of success and failure for all the records i.e.\n",
        "\n",
        "\\begin{equation}\n",
        "P(y \\space{} | \\space{} x; \\beta) = p_{1} ^{y_{1}} (1 - p_1)^{(1 - y_{1})} \\times p_{2} ^{y_{2}} (1 - p_2)^{(1 - y_{2})} \\times p_{3} ^{y_{3}} (1 - p_3)^{(1 - y_{3})} \\dots p_{m} ^{y_{m}} (1 - p_m)^{(1 - y_{m})}\n",
        "\\end{equation}\n",
        "\n",
        "The above expression can also be represented as\n",
        "\n",
        "\\begin{equation}\n",
        "P(y \\space{} | \\space{} x; \\beta) = \\prod_{i = 1} ^{m} p_{i}^{y_{i}} (1 - p_i)^{(1 - y_i)}\n",
        "\\end{equation}\n",
        "\n",
        "Now we are ready to look at the log-likelihood function. But first, let's go through a couple of properties of log.\n",
        "\n",
        "**Logarithm Property 2:** It says that for number $a^k$ whose log is to be taken on the base $b$ can also be written as the $k$ times the log of the number $a$ on the base $b$ i.e.\n",
        "\n",
        "\\begin{equation}\n",
        "\\log_b a^k = k \\log_b a\n",
        "\\end{equation}\n",
        "\n",
        "\n",
        "**Logarithm Property 3:** It says that the log of the product of two or more numbers on a base is equivalent to the sum of the log of two or more numbers on that base.\n",
        "\n",
        "For eg. the number $30$ can be expressed as the product of three numbers i.e. $2 \\times 3 \\times 5$. So the log of $30$ on the base $2$ i.e. $\\log_2 30$ can also be written as $\\log_2 2 + \\log_2 3 + \\log_2 5$ as shown below\n",
        "\n",
        "\\begin{align}\n",
        "30 &= 2 \\times 3 \\times 5 \\\\\n",
        "\\therefore \\log_2 30 &= \\log_2 (2 \\times 3 \\times 5) \\\\\n",
        "&= \\log_2 2 + \\log_2 3 + \\log_2 5 \\\\\n",
        "&= 1 + \\log_2 3 + \\log_2 5\n",
        "\\end{align}\n",
        "\n",
        "$\\log_2 2 = 1$ because $2^1 = 2$. In fact, this is another property of log (**logarithm property 4**) which says that log of any number on taking the same number as the base is equal to $1$. Mathematically,  $\\log_b b = 1$\n",
        "\n",
        "In general, for $n$ numbers $m_1, m_2, m_3, \\dots m_n > 0$, the third property of log says\n",
        "\n",
        "\\begin{align}\n",
        "\\log_b (m_1 m_2 m_3 \\dots m_n) = \\log_b m_1 + \\log_b m_2 + \\log_b m_3 + \\dots + \\log_b m_n\n",
        "\\end{align}\n",
        "\n",
        "where $b$ is some base and $0 < b < 1$ or $b > 1$.\n",
        "\n",
        "So using the second property of log, the likelihood function for one record is\n",
        "\n",
        "\\begin{equation}\n",
        "l = \\log(p^y (1 - p)^{(1 - y)})\n",
        "\\end{equation}\n",
        "\n",
        "On applying the third property of the log, you get\n",
        "\n",
        "\\begin{equation}\n",
        "l = \\log p^y  + \\log(1 - p)^{(1 - y)}\n",
        "\\end{equation}\n",
        "\n",
        "On applying the second property of the log, you get\n",
        "\n",
        "\\begin{equation}\n",
        "l = y \\log p  + (1 - y) \\log(1 - p)\n",
        "\\end{equation}\n",
        "\n",
        "**Note:** Since the base of the log is not mentioned, it is to be considered as $e$.\n",
        "\n",
        "For $m > 1$ records, you need to add the likelihood function for all the $m$ number of records as\n",
        "\n",
        "\\begin{align}\n",
        "J &= y_1 \\log p_1  + (1 - y_1) \\log(1 - p_1) + y_2 \\log p_2  + (1 - y_2) \\log(1 - p_2) + \\dots + y_m \\log p_m  + (1 - y_m) \\log(1 - p_m) \\\\\n",
        "&= \\sum_{i = 1} ^{m} (y_i \\log p_i  + (1 - y_i) \\log(1 - p_i))\n",
        "\\end{align}\n",
        "\n",
        "This is the required log likelihood function which resembles a lot like the cost function.\n",
        "\n",
        "Alternatively, you could also take the log of the likelihood function (for all the records) directly to get the log likelihood function\n",
        "\n",
        "\n",
        "\\begin{align}\n",
        "J &= \\log \\left( \\prod_{i = 1} ^{m} p_{i}^{y_{i}} (1 - p_i)^{(1 - y^{y_{i}})} \\right) \\\\\n",
        "&= \\log \\left( p_{1} ^{y_{1}} (1 - p_1)^{(1 - y_{1})} \\times p_{2} ^{y_{2}} (1 - p_2)^{(1 - y_{2})} \\dots p_{m} ^{y_{m}} (1 - p_m)^{(1 - y_{m})} \\right) \\\\\n",
        "&= \\log \\left( p_{1} ^{y_{1}} (1 - p_1)^{(1 - y_{1})} \\right) + \\log \\left(p_{2} ^{y_{2}} (1 - p_2)^{(1 - y_{2})} \\right) + \\dots  + \\log \\left( p_{m} ^{y_{m}} (1 - p_m)^{(1 - y_{m})} \\right) \\\\\n",
        "&= (y_1 \\log p_1  + (1 - y_1) \\log(1 - p_1) ) + (y_2 \\log p_2  + (1 - y_2) \\log(1 - p_2)) + \\dots + (y_m \\log p_m  + (1 - y_m) \\log(1 - p_m)) \\\\\n",
        "&= \\sum_{i = 1} ^{m} (y_i \\log p_i  + (1 - y_i) \\log(1 - p_i))\n",
        "\\end{align}\n",
        "\n",
        "The log likelihood function is negative in nature because the values of $p$ and $1 - p$ go from $0$ and $1$ and we have already seen that the log values between $0$ and $1$ is negative.\n",
        "\n",
        "\\begin{align}\n",
        "\\therefore \\log p < 0 \\space{} \\text{and} \\space{} \\log(1 - p) < 0 \\\\\n",
        "y \\log p < 0 \\space{} \\text{and} \\space{} (1 - y) \\log(1 - p) < 0 \\\\\n",
        "\\Rightarrow y \\log p + (1 - y) \\log(1 - p) < 0 \\\\\n",
        "\\Rightarrow - (y \\log p + (1 - y) \\log(1 - p)) > 0 \\\\\n",
        "\\end{align}\n",
        "\n",
        "Hence, to make the log likelihood function a positive function, we multiply both the sides by $-1$\n",
        "\n",
        "In other words, $- (y \\log p + (1 - y) \\space{} \\log(1 - p))$ is an error between the actual targets and the predicted targets and $- \\sum_{i = 1} ^{m} (y_i \\log p_i  + (1 - y_i) \\log(1 - p_i))$ is the sum of all the errors. If you divide the above equation by $m$, you get the mean of errors which we shall call the **cost function**\n",
        "\n",
        "$$J = - \\frac{1}{m} \\sum_{i = 1} ^{m} (y_i \\log p_i  + (1 - y_i) \\log(1 - p_i))$$\n",
        "\n",
        "Since $p_i$ is dependent on $\\beta$ as\n",
        "\n",
        "$$p_i = \\frac{1}{1 + e^{-(\\beta_0 + \\beta_1 x_1 + \\beta_2 x_2 + \\dots + \\beta_n x_n)}}$$\n",
        "\n",
        "the cost function $J$ is also dependent on $\\beta$, so you can write it as $J(\\beta)$ which denotes that $J$ is dependent on $\\beta$\n",
        "\n",
        "$$\\therefore J(\\beta) = - \\frac{1}{m} \\sum_{i = 1} ^{m} (y_i \\log p_i  + (1 - y_i) \\log(1 - p_i))$$\n"
      ]
    },
    {
      "cell_type": "markdown",
      "metadata": {
        "id": "HoVdYR6KQ8-Z"
      },
      "source": [
        "Let's stop here in the next class, you learn to create the regularised cost function."
      ]
    }
  ]
}