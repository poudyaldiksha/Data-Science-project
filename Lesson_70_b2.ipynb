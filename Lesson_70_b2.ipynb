{
  "nbformat": 4,
  "nbformat_minor": 0,
  "metadata": {
    "colab": {
      "provenance": [],
      "include_colab_link": true
    },
    "kernelspec": {
      "name": "python3",
      "display_name": "Python 3"
    },
    "language_info": {
      "name": "python"
    }
  },
  "cells": [
    {
      "cell_type": "markdown",
      "metadata": {
        "id": "view-in-github",
        "colab_type": "text"
      },
      "source": [
        "<a href=\"https://colab.research.google.com/github/poudyaldiksha/Data-Science-project/blob/main/Lesson_70_b2.ipynb\" target=\"_parent\"><img src=\"https://colab.research.google.com/assets/colab-badge.svg\" alt=\"Open In Colab\"/></a>"
      ]
    },
    {
      "cell_type": "markdown",
      "metadata": {
        "id": "98EVEazf_LLM"
      },
      "source": [
        "# Lesson 70: kNN Classification-2"
      ]
    },
    {
      "cell_type": "markdown",
      "metadata": {
        "id": "6ZUjQYr0_gu0"
      },
      "source": [
        "\n",
        "\n",
        "\n",
        "In today's class, we will start exploring a simple algorithm called **k-Nearest Neighbours (kNN)**  that is well equipped and has the capability to outperform many complex algorithms.\n",
        "\n",
        "\n",
        "\n",
        "\n"
      ]
    },
    {
      "cell_type": "markdown",
      "metadata": {
        "id": "IHVLPGyJ_Zns"
      },
      "source": [
        "---"
      ]
    },
    {
      "cell_type": "markdown",
      "metadata": {
        "id": "kxbhtj--_axi"
      },
      "source": [
        "#### Problem Statement\n",
        "\n",
        "Safe drinking water is essential for every forms of life on earth. for public health. The United Nation (UN) and other countries declared access to safe drinking water as a fundamental human right. This is important as a health and development issue at a national, regional, and local level.\n",
        "\n",
        "You are provided with a dataset consisting of water quality metrics for 3276 different water bodies. Your job is to  create a model to determine if the sample tested from the water body is fit for human consumption or not.\n",
        "\n",
        "Following are the attributes of this dataset:\n",
        "\n",
        "\n",
        "1. `ph`: The pH value indicates the acidic or alkaline condition of water status. The pH of pure water is 7. WHO has recommended maximum permissible limit of pH from 6.5 to 8.5.\n",
        "\n",
        "2. `Hardness`: Hardness is mainly caused by calcium and magnesium salts. These salts are dissolved from geologic deposits through which water travels.\n",
        "\n",
        "3. `Solids`: Also known as TDS (total dissolved solids). Water has the ability to dissolve a wide range of inorganic and some organic minerals or salts such as potassium, calcium, sodium, bicarbonates, etc. These minerals produced un-wanted taste and diluted colour in appearance of water.  The water with high TDS value indicates that water is highly mineralized. Desirable limit for TDS is 500 mg/l and maximum limit is 1000 mg/l prescribed for drinking purposes.\n",
        "\n",
        "4. `Chloramines`: Chlorine and chloramine are the major disinfectants used in public water systems. Chloramines are most commonly formed when ammonia is added to chlorine to treat drinking water. Chlorine levels up to 4 milligrams per litre ($mg/L$ or 4 parts per million (ppm)) are considered safe in drinking water.\n",
        "\n",
        "5. `Sulfate`: Sulfates are naturally occurring substances that are found in minerals, soil, and rocks.  Sulfate concentration in seawater is about 2,700 milligrams per litre ($mg/L$). It ranges from 3 to 30 $mg/L$ in most freshwater supplies.\n",
        "\n",
        "\n",
        "6. `Conductivity`: Pure water is not a good conductor of electric current rather’s a good insulator.  Electrical conductivity (EC) measures the ionic process of a solution that enables it to transmit current. According to WHO standards, EC value should not exceed 400 micro siemens per centimetre ($\\mu S/cm$).\n",
        "\n",
        "7. `Organic_carbon`: Total Organic Carbon (TOC) is a measure of the total amount of carbon in organic compounds in pure water.\n",
        "\n",
        "8. `Trihalomethanes`: Trihalomethanes (THMs) are chemicals that may be found in water treated with chlorine. THM levels up to 80 ppm is considered safe in drinking water.\n",
        "\n",
        "9. `Turbidity`: The turbidity of water depends on the quantity of solid matter present in the suspended state. The mean turbidity value obtained for Wondo Genet Campus (0.98 NTU) is lower than the WHO recommended value of 5.00 NTU.\n",
        "\n",
        "10. `Potability`: Indicates if water is safe for human consumption where `1` means Potable and `0` means Not potable.\n",
        "\n",
        "\n",
        "**Dataset Credits:** https://www.kaggle.com/adityakadiwal/water-potability\n",
        "\n",
        "\n",
        "\n",
        "\n",
        "\n"
      ]
    },
    {
      "cell_type": "code",
      "execution_count": null,
      "metadata": {
        "colab": {
          "base_uri": "https://localhost:8080/",
          "height": 206
        },
        "id": "uJQrhAirce86",
        "outputId": "1f96853a-3d9e-4985-d83f-9e4729d6eaa8"
      },
      "outputs": [
        {
          "output_type": "execute_result",
          "data": {
            "text/plain": [
              "         ph    Hardness        Solids  Chloramines     Sulfate  Conductivity  \\\n",
              "0       NaN  204.890455  20791.318981     7.300212  368.516441    564.308654   \n",
              "1  3.716080  129.422921  18630.057858     6.635246         NaN    592.885359   \n",
              "2  8.099124  224.236259  19909.541732     9.275884         NaN    418.606213   \n",
              "3  8.316766  214.373394  22018.417441     8.059332  356.886136    363.266516   \n",
              "4  9.092223  181.101509  17978.986339     6.546600  310.135738    398.410813   \n",
              "\n",
              "   Organic_carbon  Trihalomethanes  Turbidity  Potability  \n",
              "0       10.379783        86.990970   2.963135           0  \n",
              "1       15.180013        56.329076   4.500656           0  \n",
              "2       16.868637        66.420093   3.055934           0  \n",
              "3       18.436524       100.341674   4.628771           0  \n",
              "4       11.558279        31.997993   4.075075           0  "
            ],
            "text/html": [
              "\n",
              "  <div id=\"df-7658cdb5-f24c-44b9-b3c1-fa2a20e4b316\" class=\"colab-df-container\">\n",
              "    <div>\n",
              "<style scoped>\n",
              "    .dataframe tbody tr th:only-of-type {\n",
              "        vertical-align: middle;\n",
              "    }\n",
              "\n",
              "    .dataframe tbody tr th {\n",
              "        vertical-align: top;\n",
              "    }\n",
              "\n",
              "    .dataframe thead th {\n",
              "        text-align: right;\n",
              "    }\n",
              "</style>\n",
              "<table border=\"1\" class=\"dataframe\">\n",
              "  <thead>\n",
              "    <tr style=\"text-align: right;\">\n",
              "      <th></th>\n",
              "      <th>ph</th>\n",
              "      <th>Hardness</th>\n",
              "      <th>Solids</th>\n",
              "      <th>Chloramines</th>\n",
              "      <th>Sulfate</th>\n",
              "      <th>Conductivity</th>\n",
              "      <th>Organic_carbon</th>\n",
              "      <th>Trihalomethanes</th>\n",
              "      <th>Turbidity</th>\n",
              "      <th>Potability</th>\n",
              "    </tr>\n",
              "  </thead>\n",
              "  <tbody>\n",
              "    <tr>\n",
              "      <th>0</th>\n",
              "      <td>NaN</td>\n",
              "      <td>204.890455</td>\n",
              "      <td>20791.318981</td>\n",
              "      <td>7.300212</td>\n",
              "      <td>368.516441</td>\n",
              "      <td>564.308654</td>\n",
              "      <td>10.379783</td>\n",
              "      <td>86.990970</td>\n",
              "      <td>2.963135</td>\n",
              "      <td>0</td>\n",
              "    </tr>\n",
              "    <tr>\n",
              "      <th>1</th>\n",
              "      <td>3.716080</td>\n",
              "      <td>129.422921</td>\n",
              "      <td>18630.057858</td>\n",
              "      <td>6.635246</td>\n",
              "      <td>NaN</td>\n",
              "      <td>592.885359</td>\n",
              "      <td>15.180013</td>\n",
              "      <td>56.329076</td>\n",
              "      <td>4.500656</td>\n",
              "      <td>0</td>\n",
              "    </tr>\n",
              "    <tr>\n",
              "      <th>2</th>\n",
              "      <td>8.099124</td>\n",
              "      <td>224.236259</td>\n",
              "      <td>19909.541732</td>\n",
              "      <td>9.275884</td>\n",
              "      <td>NaN</td>\n",
              "      <td>418.606213</td>\n",
              "      <td>16.868637</td>\n",
              "      <td>66.420093</td>\n",
              "      <td>3.055934</td>\n",
              "      <td>0</td>\n",
              "    </tr>\n",
              "    <tr>\n",
              "      <th>3</th>\n",
              "      <td>8.316766</td>\n",
              "      <td>214.373394</td>\n",
              "      <td>22018.417441</td>\n",
              "      <td>8.059332</td>\n",
              "      <td>356.886136</td>\n",
              "      <td>363.266516</td>\n",
              "      <td>18.436524</td>\n",
              "      <td>100.341674</td>\n",
              "      <td>4.628771</td>\n",
              "      <td>0</td>\n",
              "    </tr>\n",
              "    <tr>\n",
              "      <th>4</th>\n",
              "      <td>9.092223</td>\n",
              "      <td>181.101509</td>\n",
              "      <td>17978.986339</td>\n",
              "      <td>6.546600</td>\n",
              "      <td>310.135738</td>\n",
              "      <td>398.410813</td>\n",
              "      <td>11.558279</td>\n",
              "      <td>31.997993</td>\n",
              "      <td>4.075075</td>\n",
              "      <td>0</td>\n",
              "    </tr>\n",
              "  </tbody>\n",
              "</table>\n",
              "</div>\n",
              "    <div class=\"colab-df-buttons\">\n",
              "\n",
              "  <div class=\"colab-df-container\">\n",
              "    <button class=\"colab-df-convert\" onclick=\"convertToInteractive('df-7658cdb5-f24c-44b9-b3c1-fa2a20e4b316')\"\n",
              "            title=\"Convert this dataframe to an interactive table.\"\n",
              "            style=\"display:none;\">\n",
              "\n",
              "  <svg xmlns=\"http://www.w3.org/2000/svg\" height=\"24px\" viewBox=\"0 -960 960 960\">\n",
              "    <path d=\"M120-120v-720h720v720H120Zm60-500h600v-160H180v160Zm220 220h160v-160H400v160Zm0 220h160v-160H400v160ZM180-400h160v-160H180v160Zm440 0h160v-160H620v160ZM180-180h160v-160H180v160Zm440 0h160v-160H620v160Z\"/>\n",
              "  </svg>\n",
              "    </button>\n",
              "\n",
              "  <style>\n",
              "    .colab-df-container {\n",
              "      display:flex;\n",
              "      gap: 12px;\n",
              "    }\n",
              "\n",
              "    .colab-df-convert {\n",
              "      background-color: #E8F0FE;\n",
              "      border: none;\n",
              "      border-radius: 50%;\n",
              "      cursor: pointer;\n",
              "      display: none;\n",
              "      fill: #1967D2;\n",
              "      height: 32px;\n",
              "      padding: 0 0 0 0;\n",
              "      width: 32px;\n",
              "    }\n",
              "\n",
              "    .colab-df-convert:hover {\n",
              "      background-color: #E2EBFA;\n",
              "      box-shadow: 0px 1px 2px rgba(60, 64, 67, 0.3), 0px 1px 3px 1px rgba(60, 64, 67, 0.15);\n",
              "      fill: #174EA6;\n",
              "    }\n",
              "\n",
              "    .colab-df-buttons div {\n",
              "      margin-bottom: 4px;\n",
              "    }\n",
              "\n",
              "    [theme=dark] .colab-df-convert {\n",
              "      background-color: #3B4455;\n",
              "      fill: #D2E3FC;\n",
              "    }\n",
              "\n",
              "    [theme=dark] .colab-df-convert:hover {\n",
              "      background-color: #434B5C;\n",
              "      box-shadow: 0px 1px 3px 1px rgba(0, 0, 0, 0.15);\n",
              "      filter: drop-shadow(0px 1px 2px rgba(0, 0, 0, 0.3));\n",
              "      fill: #FFFFFF;\n",
              "    }\n",
              "  </style>\n",
              "\n",
              "    <script>\n",
              "      const buttonEl =\n",
              "        document.querySelector('#df-7658cdb5-f24c-44b9-b3c1-fa2a20e4b316 button.colab-df-convert');\n",
              "      buttonEl.style.display =\n",
              "        google.colab.kernel.accessAllowed ? 'block' : 'none';\n",
              "\n",
              "      async function convertToInteractive(key) {\n",
              "        const element = document.querySelector('#df-7658cdb5-f24c-44b9-b3c1-fa2a20e4b316');\n",
              "        const dataTable =\n",
              "          await google.colab.kernel.invokeFunction('convertToInteractive',\n",
              "                                                    [key], {});\n",
              "        if (!dataTable) return;\n",
              "\n",
              "        const docLinkHtml = 'Like what you see? Visit the ' +\n",
              "          '<a target=\"_blank\" href=https://colab.research.google.com/notebooks/data_table.ipynb>data table notebook</a>'\n",
              "          + ' to learn more about interactive tables.';\n",
              "        element.innerHTML = '';\n",
              "        dataTable['output_type'] = 'display_data';\n",
              "        await google.colab.output.renderOutput(dataTable, element);\n",
              "        const docLink = document.createElement('div');\n",
              "        docLink.innerHTML = docLinkHtml;\n",
              "        element.appendChild(docLink);\n",
              "      }\n",
              "    </script>\n",
              "  </div>\n",
              "\n",
              "\n",
              "<div id=\"df-57f973be-c1a7-4df8-a28b-845788dda122\">\n",
              "  <button class=\"colab-df-quickchart\" onclick=\"quickchart('df-57f973be-c1a7-4df8-a28b-845788dda122')\"\n",
              "            title=\"Suggest charts\"\n",
              "            style=\"display:none;\">\n",
              "\n",
              "<svg xmlns=\"http://www.w3.org/2000/svg\" height=\"24px\"viewBox=\"0 0 24 24\"\n",
              "     width=\"24px\">\n",
              "    <g>\n",
              "        <path d=\"M19 3H5c-1.1 0-2 .9-2 2v14c0 1.1.9 2 2 2h14c1.1 0 2-.9 2-2V5c0-1.1-.9-2-2-2zM9 17H7v-7h2v7zm4 0h-2V7h2v10zm4 0h-2v-4h2v4z\"/>\n",
              "    </g>\n",
              "</svg>\n",
              "  </button>\n",
              "\n",
              "<style>\n",
              "  .colab-df-quickchart {\n",
              "      --bg-color: #E8F0FE;\n",
              "      --fill-color: #1967D2;\n",
              "      --hover-bg-color: #E2EBFA;\n",
              "      --hover-fill-color: #174EA6;\n",
              "      --disabled-fill-color: #AAA;\n",
              "      --disabled-bg-color: #DDD;\n",
              "  }\n",
              "\n",
              "  [theme=dark] .colab-df-quickchart {\n",
              "      --bg-color: #3B4455;\n",
              "      --fill-color: #D2E3FC;\n",
              "      --hover-bg-color: #434B5C;\n",
              "      --hover-fill-color: #FFFFFF;\n",
              "      --disabled-bg-color: #3B4455;\n",
              "      --disabled-fill-color: #666;\n",
              "  }\n",
              "\n",
              "  .colab-df-quickchart {\n",
              "    background-color: var(--bg-color);\n",
              "    border: none;\n",
              "    border-radius: 50%;\n",
              "    cursor: pointer;\n",
              "    display: none;\n",
              "    fill: var(--fill-color);\n",
              "    height: 32px;\n",
              "    padding: 0;\n",
              "    width: 32px;\n",
              "  }\n",
              "\n",
              "  .colab-df-quickchart:hover {\n",
              "    background-color: var(--hover-bg-color);\n",
              "    box-shadow: 0 1px 2px rgba(60, 64, 67, 0.3), 0 1px 3px 1px rgba(60, 64, 67, 0.15);\n",
              "    fill: var(--button-hover-fill-color);\n",
              "  }\n",
              "\n",
              "  .colab-df-quickchart-complete:disabled,\n",
              "  .colab-df-quickchart-complete:disabled:hover {\n",
              "    background-color: var(--disabled-bg-color);\n",
              "    fill: var(--disabled-fill-color);\n",
              "    box-shadow: none;\n",
              "  }\n",
              "\n",
              "  .colab-df-spinner {\n",
              "    border: 2px solid var(--fill-color);\n",
              "    border-color: transparent;\n",
              "    border-bottom-color: var(--fill-color);\n",
              "    animation:\n",
              "      spin 1s steps(1) infinite;\n",
              "  }\n",
              "\n",
              "  @keyframes spin {\n",
              "    0% {\n",
              "      border-color: transparent;\n",
              "      border-bottom-color: var(--fill-color);\n",
              "      border-left-color: var(--fill-color);\n",
              "    }\n",
              "    20% {\n",
              "      border-color: transparent;\n",
              "      border-left-color: var(--fill-color);\n",
              "      border-top-color: var(--fill-color);\n",
              "    }\n",
              "    30% {\n",
              "      border-color: transparent;\n",
              "      border-left-color: var(--fill-color);\n",
              "      border-top-color: var(--fill-color);\n",
              "      border-right-color: var(--fill-color);\n",
              "    }\n",
              "    40% {\n",
              "      border-color: transparent;\n",
              "      border-right-color: var(--fill-color);\n",
              "      border-top-color: var(--fill-color);\n",
              "    }\n",
              "    60% {\n",
              "      border-color: transparent;\n",
              "      border-right-color: var(--fill-color);\n",
              "    }\n",
              "    80% {\n",
              "      border-color: transparent;\n",
              "      border-right-color: var(--fill-color);\n",
              "      border-bottom-color: var(--fill-color);\n",
              "    }\n",
              "    90% {\n",
              "      border-color: transparent;\n",
              "      border-bottom-color: var(--fill-color);\n",
              "    }\n",
              "  }\n",
              "</style>\n",
              "\n",
              "  <script>\n",
              "    async function quickchart(key) {\n",
              "      const quickchartButtonEl =\n",
              "        document.querySelector('#' + key + ' button');\n",
              "      quickchartButtonEl.disabled = true;  // To prevent multiple clicks.\n",
              "      quickchartButtonEl.classList.add('colab-df-spinner');\n",
              "      try {\n",
              "        const charts = await google.colab.kernel.invokeFunction(\n",
              "            'suggestCharts', [key], {});\n",
              "      } catch (error) {\n",
              "        console.error('Error during call to suggestCharts:', error);\n",
              "      }\n",
              "      quickchartButtonEl.classList.remove('colab-df-spinner');\n",
              "      quickchartButtonEl.classList.add('colab-df-quickchart-complete');\n",
              "    }\n",
              "    (() => {\n",
              "      let quickchartButtonEl =\n",
              "        document.querySelector('#df-57f973be-c1a7-4df8-a28b-845788dda122 button');\n",
              "      quickchartButtonEl.style.display =\n",
              "        google.colab.kernel.accessAllowed ? 'block' : 'none';\n",
              "    })();\n",
              "  </script>\n",
              "</div>\n",
              "\n",
              "    </div>\n",
              "  </div>\n"
            ],
            "application/vnd.google.colaboratory.intrinsic+json": {
              "type": "dataframe",
              "variable_name": "water_df",
              "summary": "{\n  \"name\": \"water_df\",\n  \"rows\": 3276,\n  \"fields\": [\n    {\n      \"column\": \"ph\",\n      \"properties\": {\n        \"dtype\": \"number\",\n        \"std\": 1.5943195187088117,\n        \"min\": 0.0,\n        \"max\": 13.999999999999998,\n        \"num_unique_values\": 2785,\n        \"samples\": [\n          6.569053876389385,\n          9.271355446767778,\n          8.92790592593881\n        ],\n        \"semantic_type\": \"\",\n        \"description\": \"\"\n      }\n    },\n    {\n      \"column\": \"Hardness\",\n      \"properties\": {\n        \"dtype\": \"number\",\n        \"std\": 32.879761476294185,\n        \"min\": 47.432,\n        \"max\": 323.124,\n        \"num_unique_values\": 3276,\n        \"samples\": [\n          183.5211070261417,\n          188.9135411469536,\n          224.05887682392927\n        ],\n        \"semantic_type\": \"\",\n        \"description\": \"\"\n      }\n    },\n    {\n      \"column\": \"Solids\",\n      \"properties\": {\n        \"dtype\": \"number\",\n        \"std\": 8768.570827785932,\n        \"min\": 320.942611274359,\n        \"max\": 61227.19600771213,\n        \"num_unique_values\": 3276,\n        \"samples\": [\n          20461.252710219946,\n          32873.820021715685,\n          23264.10996772913\n        ],\n        \"semantic_type\": \"\",\n        \"description\": \"\"\n      }\n    },\n    {\n      \"column\": \"Chloramines\",\n      \"properties\": {\n        \"dtype\": \"number\",\n        \"std\": 1.58308488903971,\n        \"min\": 0.3520000000000003,\n        \"max\": 13.127000000000002,\n        \"num_unique_values\": 3276,\n        \"samples\": [\n          7.333212177578906,\n          6.791509363412849,\n          5.92236704115349\n        ],\n        \"semantic_type\": \"\",\n        \"description\": \"\"\n      }\n    },\n    {\n      \"column\": \"Sulfate\",\n      \"properties\": {\n        \"dtype\": \"number\",\n        \"std\": 41.416840461672685,\n        \"min\": 129.00000000000003,\n        \"max\": 481.0306423059972,\n        \"num_unique_values\": 2495,\n        \"samples\": [\n          324.64407957923544,\n          370.121384654358,\n          329.12773842254506\n        ],\n        \"semantic_type\": \"\",\n        \"description\": \"\"\n      }\n    },\n    {\n      \"column\": \"Conductivity\",\n      \"properties\": {\n        \"dtype\": \"number\",\n        \"std\": 80.82406405111182,\n        \"min\": 181.483753985146,\n        \"max\": 753.3426195583046,\n        \"num_unique_values\": 3276,\n        \"samples\": [\n          356.3690224100897,\n          336.56150104700754,\n          387.971335796834\n        ],\n        \"semantic_type\": \"\",\n        \"description\": \"\"\n      }\n    },\n    {\n      \"column\": \"Organic_carbon\",\n      \"properties\": {\n        \"dtype\": \"number\",\n        \"std\": 3.308161999126868,\n        \"min\": 2.1999999999999886,\n        \"max\": 28.30000000000001,\n        \"num_unique_values\": 3276,\n        \"samples\": [\n          20.179028868493845,\n          14.706810313722087,\n          13.40673745495127\n        ],\n        \"semantic_type\": \"\",\n        \"description\": \"\"\n      }\n    },\n    {\n      \"column\": \"Trihalomethanes\",\n      \"properties\": {\n        \"dtype\": \"number\",\n        \"std\": 16.17500842221865,\n        \"min\": 0.7379999999999995,\n        \"max\": 124.0,\n        \"num_unique_values\": 3114,\n        \"samples\": [\n          66.163439242252,\n          42.844510851301166,\n          47.06639219544294\n        ],\n        \"semantic_type\": \"\",\n        \"description\": \"\"\n      }\n    },\n    {\n      \"column\": \"Turbidity\",\n      \"properties\": {\n        \"dtype\": \"number\",\n        \"std\": 0.7803824084854116,\n        \"min\": 1.45,\n        \"max\": 6.739,\n        \"num_unique_values\": 3276,\n        \"samples\": [\n          4.886633785371213,\n          4.562197671215202,\n          2.487968647002356\n        ],\n        \"semantic_type\": \"\",\n        \"description\": \"\"\n      }\n    },\n    {\n      \"column\": \"Potability\",\n      \"properties\": {\n        \"dtype\": \"number\",\n        \"std\": 0,\n        \"min\": 0,\n        \"max\": 1,\n        \"num_unique_values\": 2,\n        \"samples\": [\n          1,\n          0\n        ],\n        \"semantic_type\": \"\",\n        \"description\": \"\"\n      }\n    }\n  ]\n}"
            }
          },
          "metadata": {},
          "execution_count": 2
        }
      ],
      "source": [
        "# Import the Python modules and the data.\n",
        "import numpy as np\n",
        "import pandas as pd\n",
        "import matplotlib.pyplot as plt\n",
        "import seaborn as sns\n",
        "\n",
        "import warnings\n",
        "warnings.filterwarnings(\"ignore\")\n",
        "\n",
        "water_df = pd.read_csv(\"/content/water potability.csv\")\n",
        "water_df.head()"
      ]
    },
    {
      "cell_type": "markdown",
      "metadata": {
        "id": "I-6FtDZtiIoB"
      },
      "source": [
        "We can see that this is a binary classification problem statement where the target label `Potability` can have only two possible values: `0` and `1`. Hence, we will build a model that can predict quality of a water sample using a classification algorithm called kNN.\n",
        "\n",
        "\n",
        "Let's first understand kNN classification in detail using a simple example. Thereafter, we will solve the above problem statement.\n"
      ]
    },
    {
      "cell_type": "markdown",
      "metadata": {
        "id": "EAjJnrbklm62"
      },
      "source": [
        "---"
      ]
    },
    {
      "cell_type": "markdown",
      "metadata": {
        "id": "b2ip4t9Oln_s"
      },
      "source": [
        "#### Activity 1: Understanding kNN\n",
        "\n",
        "\n",
        " The k-Nearest Neighbours (kNN) is a simple algorithm that is used for both classification and regression problems in Machine Learning. Let us first understand how kNN classification works  using a simple example.\n",
        "\n",
        "Imagine that we were presented with two features of balls i.e `size` and `weight` and a target label `category` (`0` = tennis ball and `1` = soccer ball):\n",
        "\n",
        "\n",
        "|size|weight|category|\n",
        "|-|-|-|\n",
        "|10|150|0|\n",
        "|11|190|0|\n",
        "|15|190|0|\n",
        "|12|160|0|\n",
        "|18|200|1|\n",
        "|20|220|1|\n",
        "|21|230|1|\n",
        "|22|245|1|\n",
        "\n",
        "Let us create a two-dimensional numpy array storing the size and weights of balls and a separate numpy array that contains the category values.\n"
      ]
    },
    {
      "cell_type": "code",
      "execution_count": null,
      "metadata": {
        "id": "51xkjRPrBGLe"
      },
      "outputs": [],
      "source": [
        "# Create a 2D numpy array of balls size and weights.\n",
        "# Create an array consisting of category values.\n",
        "\n",
        "balls_arr = np.array([[10, 11, 15, 12, 18, 20, 21, 22],\n",
        "                      [150, 190, 190, 160, 200, 220, 230, 245]])\n",
        "category_arr = np.array([0, 0, 0, 0, 1, 1, 1, 1])"
      ]
    },
    {
      "cell_type": "markdown",
      "metadata": {
        "id": "HLsMc8kfGaSe"
      },
      "source": [
        "\n",
        "Create a scatter plot with size on the $x$-axis and weight on the $y$-axis and colour code the data points based on the categories of balls.  "
      ]
    },
    {
      "cell_type": "code",
      "execution_count": null,
      "metadata": {
        "colab": {
          "base_uri": "https://localhost:8080/",
          "height": 487
        },
        "id": "qVjpyi1HGSf8",
        "outputId": "0c1b3f22-5e4e-4dbd-c52c-d578d39213f7"
      },
      "outputs": [
        {
          "output_type": "display_data",
          "data": {
            "text/plain": [
              "<Figure size 1000x500 with 1 Axes>"
            ],
            "image/png": "[encoded data removed]"
          },
          "metadata": {}
        }
      ],
      "source": [
        "# Create a scatter plot for size vs weight.\n",
        "plt.figure(figsize = (10, 5))\n",
        "color_arr = np.array(['r', 'b'])\n",
        "\n",
        "plt.scatter(balls_arr[0], balls_arr[1], s = 100,  c = color_arr[category_arr])\n",
        "plt.xlabel('Size')\n",
        "plt.ylabel('Weight')\n",
        "plt.title('Size vs Weight')\n",
        "plt.show()"
      ]
    },
    {
      "cell_type": "markdown",
      "metadata": {
        "id": "sYtvLjTYIG0k"
      },
      "source": [
        "Suppose there is a new ball (marked as **X**) whose size is `16` and weight is `200` as seen in the figure below:\n",
        "\n",
        "<center>\n",
        "<img src = \"https://s3-whjr-v2-prod-bucket.whjr.online/572dd9e9-c093-4b5f-b6a2-7586493aace1.png\"/>\n",
        "\n",
        "`Fig 1.1: Predicting label of new data point`\n",
        "</center>\n",
        "\n",
        "Our task is to classify this new ball into either  class <font color = red><b>$0$ </b></font> or   class <font color = blue><b>$1$ </b></font>.\n",
        "\n",
        "Suppose the value of $k$ is 3. The kNN algorithm starts by calculating the distance of point **X** from all the points. It will then find the 3 nearest points having least distance to point **X**. This is shown in the figure below. The three nearest points have been encircled.\n",
        "\n",
        "<center>\n",
        "<img src = \"https://s3-whjr-v2-prod-bucket.whjr.online/2bf6a3c6-9ff2-4d9b-b89a-c9235b852c6a.png\"/>\n",
        "\n",
        "`Fig 1.2: When k = 3`\n",
        "</center>\n",
        "\n",
        "The final step of the kNN algorithm is to assign new point **X** to the class to which majority of the three nearest points belong. From the figure above, we can see that two of the three nearest points belong to class <font color = blue><b>$1$ </b></font> while one belongs to the class <font color = red><b>$0$ </b></font>. Therefore the new data point will be classified as <font color = blue><b>$1$ </b></font> i.e the new ball is a soccer ball.\n",
        "\n",
        "Hence in kNN, $k$ is the number of nearest neighbours. $k$ is generally an odd number if the number of classes is 2.\n",
        "\n",
        "The simplest case of kNN algorithm is when $k$ = 1.  In this case, we find the only 1 closest point to point **X** and then the label of the nearest point is assigned to **X**. Thus, for balls example, if $k$ = 1 then the predicted class would be  <font color = red><b>$0$ </b></font> as seen in the figure below:\n",
        "\n",
        "<center>\n",
        "<img src= \"https://s3-whjr-v2-prod-bucket.whjr.online/111927ea-e7bb-4098-8f18-4d77ec60832a.png\"/>\n",
        "\n",
        "`Fig 1.3: When k = 1`\n",
        "</center>\n",
        "\n",
        "Hence, the number of neighbours $k$ is the core deciding factor in kNN. Thus, kNN classification has the following basic steps:\n",
        "<center>\n",
        "<img src=\"https://s3-whjr-v2-prod-bucket.whjr.online/whjr-v2-prod-bucket/63318078-30b6-4ed6-a88c-7d0cc1baea6d.png\"/></center>\n",
        "\n",
        "To find the distance between points, we use various distance measures in which Euclidean distance function is the most widely used one. Let us learn other distance functions that can be used in kNN."
      ]
    },
    {
      "cell_type": "markdown",
      "metadata": {
        "id": "0LmWtUK0DknV"
      },
      "source": [
        "---"
      ]
    },
    {
      "cell_type": "markdown",
      "metadata": {
        "id": "4R6OBdTWDmDc"
      },
      "source": [
        "#### Distance Functions\n",
        "\n",
        "To measure the distance between points $A$ and $B$ in a feature space, the Euclidean distance function is the most widely used one.\n",
        "\n",
        "However, depending on the context of the problem several distance metrics can be used.\n",
        "\n",
        "Let $A$ and $B$  are represented by feature vectors\n",
        "$A = (x_1, x_2, …, x_n)$ and $B = (y_1, y_2, …, y_n)$,  where $n$ is the dimensionality of the feature space.\n",
        "\n",
        "**1. Manhattan Distance:**\n",
        "\n",
        "Manhattan distance is calculated as the sum of the absolute differences between the two vectors.\n",
        "\n",
        "\\begin{equation}\n",
        "d(A, B) = \\sum _{i=1}^n |x_i - y_i|\n",
        "\\end{equation}\n",
        "\n",
        "Thus, the Manhattan distance between two points $(x_1, y_1)$ and $(x_2, y_2)$ is given by  $|x_1 – x_2| + |y_1 – y_2|$.\n",
        "\n",
        "For example, consider two data points $A =(1, 2)$ and $B =(3, 4)$,\n",
        "\n",
        "The Manhattan distance between these two points is calculated as:\n",
        "\n",
        "\\begin{equation}\n",
        "d(A, B) = |3 -1|+|4-2| = 4\n",
        "\\end{equation}\n",
        "\n",
        "**2. Euclidean  Distance:**\n",
        "\n",
        "The Euclidean distance between two points is the length of a line segment between the two points.\n",
        "\n",
        "<center>\n",
        "<img src = https://s3-whjr-v2-prod-bucket.whjr.online/f57e2015-ba39-4646-933f-3cbaa2dac4df.png height=500></center>\n",
        "\n",
        "The **Euclidean Distance** between  points  $A (x_1 , y_1)$, and $B (x_2 , y_2)$ can be calculated from the Cartesian coordinates of the points using the Pythagorean theorem:\n",
        "\n",
        "\\begin{align}\n",
        "  d(A, B) = \\sqrt{(x_2 - x_1)^2 + (y_2 - y_1)^2 }\n",
        "\\end{align}\n",
        "\n",
        "For example, the Euclidean distance between $(1,2)$ and $(3, 4)$ is:\n",
        "  \n",
        "  $\\sqrt{(3-1)^2 + (4-2)^2}=\\sqrt{4 + 4} =\\sqrt{8} = 2.828 $\n",
        "\n",
        "**3. Minkowski Distance:**\n",
        "\n",
        "It is a generalisation of the Euclidean distance and the Manhattan distance.\n",
        "\n",
        "$$ d(A, B) = \\sqrt[p]{{(x_1-y_1)}^p\\ +\\ {(x_2-y_2)}^p\\ +\\ ...\\ +\\ {(x_n-y_n)}^p}\n",
        "$$\n",
        "\n",
        "The value of $p$ in Minkowski Distance is set based on experimentation. The usual value of $p$ is either `2`, `3` or `4` for most problems. The exact value depends on the applications.\n",
        "- When $p = 1$, Minkowski distance is same as Manhattan distance.\n",
        "- When $p = 2$, Minkowski distance is same as Euclidean distance.\n",
        "\n",
        "**4. Hamming Distance:**\n",
        "\n",
        " It is used for categorical variables. If the value of variable $x$ and the value of variable $y$ are the same, the distance $d_H$ will be equal to 0. Otherwise $d_H$ will be equal to 1.\n",
        "\n",
        "\\begin{align}\n",
        "  d_H(x, y)= \\sum_{i = 1}^k |x_i - y_i|\n",
        "\\end{align}\n",
        " - If $x = y$, then $d_H = 0$\n",
        " - If $x \\neq y$, then $d_H = 1$\n",
        "\n",
        "\n",
        "For example:\n",
        "\n",
        "|Fruit|Sphere|Sweet|Sour|Crunchy|\n",
        "|-|-|-|-|-|\n",
        "|Apple|Yes|Yes|No|Yes|\n",
        "|Banana|No|Yes|No|No|\n",
        "\n",
        "Since each object is represented by 4 variables, we can say that each object has 4 dimensions. Thus, coordinate of Apple is (1, 1, 0, 1) and coordinate of Banana is (0, 1, 0, 0).\n",
        "\n",
        "|Fruit|Sphere|Sweet|Sour|Crunchy|\n",
        "|-|-|-|-|-|\n",
        "|Apple|1|1|0|1|\n",
        "|Banana|0|1|0|0|\n",
        "|Is different|Yes|No|No|Yes|\n",
        "\n",
        "Since there are 2 digits different here, we can say that the hamming distance between Apple and Banana is 2.\n",
        "\n",
        "\n",
        "Now that we have understood the basic idea behind kNN classification, let us proceed with the water quality prediction problem statement.\n",
        "\n"
      ]
    },
    {
      "cell_type": "markdown",
      "metadata": {
        "id": "bpoAJdfElkOT"
      },
      "source": [
        "---"
      ]
    },
    {
      "cell_type": "markdown",
      "metadata": {
        "id": "bYdHVXeSlloO"
      },
      "source": [
        "#### Activity 2:  Data Preprocessing\n",
        "\n",
        "Let's find out the total number of rows and columns, data types of columns and missing values (if exist) in the `water_df` DataFrame.\n"
      ]
    },
    {
      "cell_type": "code",
      "execution_count": null,
      "metadata": {
        "colab": {
          "base_uri": "https://localhost:8080/"
        },
        "id": "eklSHu1mmdNx",
        "outputId": "aa83efb0-eaad-4ac9-8a23-e088292dd7b6"
      },
      "outputs": [
        {
          "output_type": "stream",
          "name": "stdout",
          "text": [
            "<class 'pandas.core.frame.DataFrame'>\n",
            "RangeIndex: 3276 entries, 0 to 3275\n",
            "Data columns (total 10 columns):\n",
            " #   Column           Non-Null Count  Dtype  \n",
            "---  ------           --------------  -----  \n",
            " 0   ph               2785 non-null   float64\n",
            " 1   Hardness         3276 non-null   float64\n",
            " 2   Solids           3276 non-null   float64\n",
            " 3   Chloramines      3276 non-null   float64\n",
            " 4   Sulfate          2495 non-null   float64\n",
            " 5   Conductivity     3276 non-null   float64\n",
            " 6   Organic_carbon   3276 non-null   float64\n",
            " 7   Trihalomethanes  3114 non-null   float64\n",
            " 8   Turbidity        3276 non-null   float64\n",
            " 9   Potability       3276 non-null   int64  \n",
            "dtypes: float64(9), int64(1)\n",
            "memory usage: 256.1 KB\n"
          ]
        }
      ],
      "source": [
        "#  Get the total number of rows and columns, data types of columns and missing values (if exist) in the dataset.\n",
        "water_df.info()"
      ]
    },
    {
      "cell_type": "markdown",
      "metadata": {
        "id": "uZOi2YiXmxtR"
      },
      "source": [
        "There are 3276 rows and 10 columns in the dataset. Also, all the columns are numeric, hence feature encoding is not needed.\n",
        "\n",
        "Let us determine the columns having missing values using `isnull().sum()` function."
      ]
    },
    {
      "cell_type": "code",
      "execution_count": null,
      "metadata": {
        "colab": {
          "base_uri": "https://localhost:8080/",
          "height": 398
        },
        "id": "3QfboNo_prXd",
        "outputId": "61ebee42-e024-4dc3-9305-9afdf5ae4cb5"
      },
      "outputs": [
        {
          "output_type": "execute_result",
          "data": {
            "text/plain": [
              "ph                 491\n",
              "Hardness             0\n",
              "Solids               0\n",
              "Chloramines          0\n",
              "Sulfate            781\n",
              "Conductivity         0\n",
              "Organic_carbon       0\n",
              "Trihalomethanes    162\n",
              "Turbidity            0\n",
              "Potability           0\n",
              "dtype: int64"
            ],
            "text/html": [
              "<div>\n",
              "<style scoped>\n",
              "    .dataframe tbody tr th:only-of-type {\n",
              "        vertical-align: middle;\n",
              "    }\n",
              "\n",
              "    .dataframe tbody tr th {\n",
              "        vertical-align: top;\n",
              "    }\n",
              "\n",
              "    .dataframe thead th {\n",
              "        text-align: right;\n",
              "    }\n",
              "</style>\n",
              "<table border=\"1\" class=\"dataframe\">\n",
              "  <thead>\n",
              "    <tr style=\"text-align: right;\">\n",
              "      <th></th>\n",
              "      <th>0</th>\n",
              "    </tr>\n",
              "  </thead>\n",
              "  <tbody>\n",
              "    <tr>\n",
              "      <th>ph</th>\n",
              "      <td>491</td>\n",
              "    </tr>\n",
              "    <tr>\n",
              "      <th>Hardness</th>\n",
              "      <td>0</td>\n",
              "    </tr>\n",
              "    <tr>\n",
              "      <th>Solids</th>\n",
              "      <td>0</td>\n",
              "    </tr>\n",
              "    <tr>\n",
              "      <th>Chloramines</th>\n",
              "      <td>0</td>\n",
              "    </tr>\n",
              "    <tr>\n",
              "      <th>Sulfate</th>\n",
              "      <td>781</td>\n",
              "    </tr>\n",
              "    <tr>\n",
              "      <th>Conductivity</th>\n",
              "      <td>0</td>\n",
              "    </tr>\n",
              "    <tr>\n",
              "      <th>Organic_carbon</th>\n",
              "      <td>0</td>\n",
              "    </tr>\n",
              "    <tr>\n",
              "      <th>Trihalomethanes</th>\n",
              "      <td>162</td>\n",
              "    </tr>\n",
              "    <tr>\n",
              "      <th>Turbidity</th>\n",
              "      <td>0</td>\n",
              "    </tr>\n",
              "    <tr>\n",
              "      <th>Potability</th>\n",
              "      <td>0</td>\n",
              "    </tr>\n",
              "  </tbody>\n",
              "</table>\n",
              "</div><br><label><b>dtype:</b> int64</label>"
            ]
          },
          "metadata": {},
          "execution_count": 6
        }
      ],
      "source": [
        "#  Check missing values using the 'isnull().sum()' function.\n",
        "water_df.isnull().sum()"
      ]
    },
    {
      "cell_type": "markdown",
      "metadata": {
        "id": "2QXnQ-25qiKJ"
      },
      "source": [
        "Also, determine the percentage of missing values in each column of the DataFrame."
      ]
    },
    {
      "cell_type": "code",
      "execution_count": null,
      "metadata": {
        "colab": {
          "base_uri": "https://localhost:8080/",
          "height": 398
        },
        "id": "JSiX20sqq2nH",
        "outputId": "df1b0628-5340-464d-b7ac-49c43882354c"
      },
      "outputs": [
        {
          "output_type": "execute_result",
          "data": {
            "text/plain": [
              "ph                 14.987790\n",
              "Hardness            0.000000\n",
              "Solids              0.000000\n",
              "Chloramines         0.000000\n",
              "Sulfate            23.840049\n",
              "Conductivity        0.000000\n",
              "Organic_carbon      0.000000\n",
              "Trihalomethanes     4.945055\n",
              "Turbidity           0.000000\n",
              "Potability          0.000000\n",
              "dtype: float64"
            ],
            "text/html": [
              "<div>\n",
              "<style scoped>\n",
              "    .dataframe tbody tr th:only-of-type {\n",
              "        vertical-align: middle;\n",
              "    }\n",
              "\n",
              "    .dataframe tbody tr th {\n",
              "        vertical-align: top;\n",
              "    }\n",
              "\n",
              "    .dataframe thead th {\n",
              "        text-align: right;\n",
              "    }\n",
              "</style>\n",
              "<table border=\"1\" class=\"dataframe\">\n",
              "  <thead>\n",
              "    <tr style=\"text-align: right;\">\n",
              "      <th></th>\n",
              "      <th>0</th>\n",
              "    </tr>\n",
              "  </thead>\n",
              "  <tbody>\n",
              "    <tr>\n",
              "      <th>ph</th>\n",
              "      <td>14.987790</td>\n",
              "    </tr>\n",
              "    <tr>\n",
              "      <th>Hardness</th>\n",
              "      <td>0.000000</td>\n",
              "    </tr>\n",
              "    <tr>\n",
              "      <th>Solids</th>\n",
              "      <td>0.000000</td>\n",
              "    </tr>\n",
              "    <tr>\n",
              "      <th>Chloramines</th>\n",
              "      <td>0.000000</td>\n",
              "    </tr>\n",
              "    <tr>\n",
              "      <th>Sulfate</th>\n",
              "      <td>23.840049</td>\n",
              "    </tr>\n",
              "    <tr>\n",
              "      <th>Conductivity</th>\n",
              "      <td>0.000000</td>\n",
              "    </tr>\n",
              "    <tr>\n",
              "      <th>Organic_carbon</th>\n",
              "      <td>0.000000</td>\n",
              "    </tr>\n",
              "    <tr>\n",
              "      <th>Trihalomethanes</th>\n",
              "      <td>4.945055</td>\n",
              "    </tr>\n",
              "    <tr>\n",
              "      <th>Turbidity</th>\n",
              "      <td>0.000000</td>\n",
              "    </tr>\n",
              "    <tr>\n",
              "      <th>Potability</th>\n",
              "      <td>0.000000</td>\n",
              "    </tr>\n",
              "  </tbody>\n",
              "</table>\n",
              "</div><br><label><b>dtype:</b> float64</label>"
            ]
          },
          "metadata": {},
          "execution_count": 7
        }
      ],
      "source": [
        "# Check the percentage of missing values\n",
        "water_df.isnull().sum() * 100 / water_df.shape[0]"
      ]
    },
    {
      "cell_type": "markdown",
      "metadata": {
        "id": "pI6_F1JFunAw"
      },
      "source": [
        "`Sulfate` has highest percentage of missing values in the dataset, followed by `ph` and `Trihalomethans`.\n",
        "\n",
        "Now, let's replace the null values of the columns with their median values as mean gets pulled in the direction of outliers. Again check whether there are still any null values in the dataset."
      ]
    },
    {
      "cell_type": "code",
      "execution_count": null,
      "metadata": {
        "id": "ROLO7flLwIXZ"
      },
      "outputs": [],
      "source": [
        "#Handle missing value with median of features\n",
        "water_df[\"ph\"].fillna(value = water_df[\"ph\"].median(), inplace = True)\n",
        "water_df[\"Sulfate\"].fillna(value = water_df[\"Sulfate\"].median(), inplace = True)\n",
        "water_df[\"Trihalomethanes\"].fillna(value = water_df[\"Trihalomethanes\"].median(), inplace = True)"
      ]
    },
    {
      "cell_type": "markdown",
      "metadata": {
        "id": "k8Z52ag27kBj"
      },
      "source": [
        "After treating the missing values, check the percentage of missing values of the dataset."
      ]
    },
    {
      "cell_type": "code",
      "execution_count": null,
      "metadata": {
        "colab": {
          "base_uri": "https://localhost:8080/",
          "height": 398
        },
        "id": "NPQ9rJvrxIax",
        "outputId": "aee860e5-aef5-4cc8-bff1-7d3e83be29f0"
      },
      "outputs": [
        {
          "output_type": "execute_result",
          "data": {
            "text/plain": [
              "ph                 0.0\n",
              "Hardness           0.0\n",
              "Solids             0.0\n",
              "Chloramines        0.0\n",
              "Sulfate            0.0\n",
              "Conductivity       0.0\n",
              "Organic_carbon     0.0\n",
              "Trihalomethanes    0.0\n",
              "Turbidity          0.0\n",
              "Potability         0.0\n",
              "dtype: float64"
            ],
            "text/html": [
              "<div>\n",
              "<style scoped>\n",
              "    .dataframe tbody tr th:only-of-type {\n",
              "        vertical-align: middle;\n",
              "    }\n",
              "\n",
              "    .dataframe tbody tr th {\n",
              "        vertical-align: top;\n",
              "    }\n",
              "\n",
              "    .dataframe thead th {\n",
              "        text-align: right;\n",
              "    }\n",
              "</style>\n",
              "<table border=\"1\" class=\"dataframe\">\n",
              "  <thead>\n",
              "    <tr style=\"text-align: right;\">\n",
              "      <th></th>\n",
              "      <th>0</th>\n",
              "    </tr>\n",
              "  </thead>\n",
              "  <tbody>\n",
              "    <tr>\n",
              "      <th>ph</th>\n",
              "      <td>0.0</td>\n",
              "    </tr>\n",
              "    <tr>\n",
              "      <th>Hardness</th>\n",
              "      <td>0.0</td>\n",
              "    </tr>\n",
              "    <tr>\n",
              "      <th>Solids</th>\n",
              "      <td>0.0</td>\n",
              "    </tr>\n",
              "    <tr>\n",
              "      <th>Chloramines</th>\n",
              "      <td>0.0</td>\n",
              "    </tr>\n",
              "    <tr>\n",
              "      <th>Sulfate</th>\n",
              "      <td>0.0</td>\n",
              "    </tr>\n",
              "    <tr>\n",
              "      <th>Conductivity</th>\n",
              "      <td>0.0</td>\n",
              "    </tr>\n",
              "    <tr>\n",
              "      <th>Organic_carbon</th>\n",
              "      <td>0.0</td>\n",
              "    </tr>\n",
              "    <tr>\n",
              "      <th>Trihalomethanes</th>\n",
              "      <td>0.0</td>\n",
              "    </tr>\n",
              "    <tr>\n",
              "      <th>Turbidity</th>\n",
              "      <td>0.0</td>\n",
              "    </tr>\n",
              "    <tr>\n",
              "      <th>Potability</th>\n",
              "      <td>0.0</td>\n",
              "    </tr>\n",
              "  </tbody>\n",
              "</table>\n",
              "</div><br><label><b>dtype:</b> float64</label>"
            ]
          },
          "metadata": {},
          "execution_count": 9
        }
      ],
      "source": [
        "#  Check the percentage of missing values\n",
        "water_df.isnull().sum() * 100 / water_df.shape[0]"
      ]
    },
    {
      "cell_type": "markdown",
      "metadata": {
        "id": "0c9EVsO1xP8C"
      },
      "source": [
        "Now that our DataFrame does not contain any missing values, let us perform exploratory data analysis and analyse the patterns in the dataset."
      ]
    },
    {
      "cell_type": "markdown",
      "metadata": {
        "id": "2E7XyAF4xe5D"
      },
      "source": [
        "---"
      ]
    },
    {
      "cell_type": "markdown",
      "metadata": {
        "id": "apfWC4vLxgIj"
      },
      "source": [
        "#### Activity 3: EDA and Data Preparation\n",
        "\n",
        "For our dataset, the column `Potability` is the target variable and other columns except `Potability` are the feature variables.\n",
        "Let us create a countplot to display the count of  each target class."
      ]
    },
    {
      "cell_type": "code",
      "source": [
        "sns.countplot(data=water_df, x='Potability')\n",
        "\n",
        "# Adding labels and title for better understanding\n",
        "plt.xlabel('Potability')\n",
        "plt.ylabel('Count')\n",
        "plt.title('Count of Potability Classes')\n",
        "plt.show()"
      ],
      "metadata": {
        "colab": {
          "base_uri": "https://localhost:8080/",
          "height": 472
        },
        "id": "OIW3trbuPk6f",
        "outputId": "79fa49a1-33dd-4eb8-8489-7109f1875e50"
      },
      "execution_count": null,
      "outputs": [
        {
          "output_type": "display_data",
          "data": {
            "text/plain": [
              "<Figure size 640x480 with 1 Axes>"
            ],
            "image/png": "[encoded data removed]"
          },
          "metadata": {}
        }
      ]
    },
    {
      "cell_type": "markdown",
      "metadata": {
        "id": "cxdOvboa_lia"
      },
      "source": [
        "Let us now check the feature distribution and outliers.\n",
        "\n",
        "Use `boxplot()` function of `seaborn` module and pass the target variable `Potability` as  $x$-axis values and the other features as  $y$-axis values to create boxplots for all the features. Use subplots to display these boxplots.\n"
      ]
    },
    {
      "cell_type": "code",
      "execution_count": null,
      "metadata": {
        "colab": {
          "base_uri": "https://localhost:8080/",
          "height": 613
        },
        "id": "2eDeG5jOJZMC",
        "outputId": "4e0835ad-2eb2-40a4-9a99-ae779ccf2a22"
      },
      "outputs": [
        {
          "output_type": "display_data",
          "data": {
            "text/plain": [
              "<Figure size 1920x960 with 9 Axes>"
            ],
            "image/png": "[encoded data removed]"
          },
          "metadata": {}
        }
      ],
      "source": [
        "#  Create boxplots for 'water_df' columns using subplot.\n",
        "fig, axis = plt.subplots(nrows = 3, ncols = 3, figsize = (20, 10), dpi = 96, sharex = False)\n",
        "count = 0\n",
        "\n",
        "for i in range(0, 3):\n",
        "  for j in range (0, 3):\n",
        "    column = water_df.iloc[:, count]    # Fetching the current column and all rows of that column.\n",
        "    sns.boxplot(x = 'Potability', y = column, data = water_df, ax = axis[i, j])\n",
        "    count = count + 1\n",
        "\n",
        "plt.show()"
      ]
    },
    {
      "cell_type": "markdown",
      "metadata": {
        "id": "L8Was1MHBWwV"
      },
      "source": [
        "\n",
        "Here we see there are no significant outliers for any of the features.\n",
        "\n",
        "Let us plot the histograms for all the features to understand the distribution of values of these features. Use subplots to display these histograms."
      ]
    },
    {
      "cell_type": "code",
      "execution_count": null,
      "metadata": {
        "colab": {
          "base_uri": "https://localhost:8080/",
          "height": 903
        },
        "id": "5b7nyMj_IsYh",
        "outputId": "e60d3f8d-f864-4b48-923a-eb2bd00f5cd6"
      },
      "outputs": [
        {
          "output_type": "display_data",
          "data": {
            "text/plain": [
              "<Figure size 1300x1000 with 9 Axes>"
            ],
            "image/png": "[encoded data removed]"
          },
          "metadata": {}
        }
      ],
      "source": [
        "#  Create histogram for numeric columns using subplot.\n",
        "fig, axis = plt.subplots(nrows = 3, ncols = 3, figsize = (13, 10), dpi = 100)\n",
        "# As there are 9 columns, we created subplot having 3 rows and 3 columns.\n",
        "count = 0\n",
        "\n",
        "for i in range(0, 3):\n",
        "  for j in range (0, 3):\n",
        "    column = water_df.iloc[:, count]      # Fetching the current column and all rows of that column.\n",
        "\n",
        "    sns.distplot(column, hist = True, ax = axis[i, j])\n",
        "    count = count + 1\n",
        "    fig.tight_layout()\n",
        "\n",
        "plt.show()"
      ]
    },
    {
      "cell_type": "markdown",
      "metadata": {
        "id": "aG3GGV2ZI265"
      },
      "source": [
        "It's good to notice that our features are quite normally distributed. Next, we will try to understand the correlation between variables. For this, compute the correlation matrix among all the variables and plot a heat map."
      ]
    },
    {
      "cell_type": "code",
      "execution_count": null,
      "metadata": {
        "colab": {
          "base_uri": "https://localhost:8080/",
          "height": 531
        },
        "id": "9GBFJyzRKia9",
        "outputId": "5acdb7fc-38ff-4d6a-915a-d1832c080d6a"
      },
      "outputs": [
        {
          "output_type": "display_data",
          "data": {
            "text/plain": [
              "<Figure size 840x504 with 2 Axes>"
            ],
            "image/png": "[encoded data removed]"
          },
          "metadata": {}
        }
      ],
      "source": [
        "# Check the correlation of features\n",
        "corr_df = water_df.corr()\n",
        "plt.figure(figsize = (10, 6), dpi = 84)\n",
        "sns.heatmap(corr_df, annot = True)\n",
        "plt.show()"
      ]
    },
    {
      "cell_type": "markdown",
      "metadata": {
        "id": "DlANRAWHK6pF"
      },
      "source": [
        "From the above correlation heatmap, we can observe that none of the features exhibits a strong correlation with the target variable.\n",
        "\n",
        "Let us now create two separate DataFrames, one containing the feature variables and other containing the target variable."
      ]
    },
    {
      "cell_type": "code",
      "execution_count": null,
      "metadata": {
        "colab": {
          "base_uri": "https://localhost:8080/",
          "height": 206
        },
        "id": "efOp10WONzIZ",
        "outputId": "af7192f8-ef66-428a-bb62-ed412d40a15e"
      },
      "outputs": [
        {
          "output_type": "execute_result",
          "data": {
            "text/plain": [
              "         ph    Hardness        Solids  Chloramines     Sulfate  Conductivity  \\\n",
              "0  7.036752  204.890455  20791.318981     7.300212  368.516441    564.308654   \n",
              "1  3.716080  129.422921  18630.057858     6.635246  333.073546    592.885359   \n",
              "2  8.099124  224.236259  19909.541732     9.275884  333.073546    418.606213   \n",
              "3  8.316766  214.373394  22018.417441     8.059332  356.886136    363.266516   \n",
              "4  9.092223  181.101509  17978.986339     6.546600  310.135738    398.410813   \n",
              "\n",
              "   Organic_carbon  Trihalomethanes  Turbidity  \n",
              "0       10.379783        86.990970   2.963135  \n",
              "1       15.180013        56.329076   4.500656  \n",
              "2       16.868637        66.420093   3.055934  \n",
              "3       18.436524       100.341674   4.628771  \n",
              "4       11.558279        31.997993   4.075075  "
            ],
            "text/html": [
              "\n",
              "  <div id=\"df-4485e88d-8758-49c0-971d-6373ff5c312d\" class=\"colab-df-container\">\n",
              "    <div>\n",
              "<style scoped>\n",
              "    .dataframe tbody tr th:only-of-type {\n",
              "        vertical-align: middle;\n",
              "    }\n",
              "\n",
              "    .dataframe tbody tr th {\n",
              "        vertical-align: top;\n",
              "    }\n",
              "\n",
              "    .dataframe thead th {\n",
              "        text-align: right;\n",
              "    }\n",
              "</style>\n",
              "<table border=\"1\" class=\"dataframe\">\n",
              "  <thead>\n",
              "    <tr style=\"text-align: right;\">\n",
              "      <th></th>\n",
              "      <th>ph</th>\n",
              "      <th>Hardness</th>\n",
              "      <th>Solids</th>\n",
              "      <th>Chloramines</th>\n",
              "      <th>Sulfate</th>\n",
              "      <th>Conductivity</th>\n",
              "      <th>Organic_carbon</th>\n",
              "      <th>Trihalomethanes</th>\n",
              "      <th>Turbidity</th>\n",
              "    </tr>\n",
              "  </thead>\n",
              "  <tbody>\n",
              "    <tr>\n",
              "      <th>0</th>\n",
              "      <td>7.036752</td>\n",
              "      <td>204.890455</td>\n",
              "      <td>20791.318981</td>\n",
              "      <td>7.300212</td>\n",
              "      <td>368.516441</td>\n",
              "      <td>564.308654</td>\n",
              "      <td>10.379783</td>\n",
              "      <td>86.990970</td>\n",
              "      <td>2.963135</td>\n",
              "    </tr>\n",
              "    <tr>\n",
              "      <th>1</th>\n",
              "      <td>3.716080</td>\n",
              "      <td>129.422921</td>\n",
              "      <td>18630.057858</td>\n",
              "      <td>6.635246</td>\n",
              "      <td>333.073546</td>\n",
              "      <td>592.885359</td>\n",
              "      <td>15.180013</td>\n",
              "      <td>56.329076</td>\n",
              "      <td>4.500656</td>\n",
              "    </tr>\n",
              "    <tr>\n",
              "      <th>2</th>\n",
              "      <td>8.099124</td>\n",
              "      <td>224.236259</td>\n",
              "      <td>19909.541732</td>\n",
              "      <td>9.275884</td>\n",
              "      <td>333.073546</td>\n",
              "      <td>418.606213</td>\n",
              "      <td>16.868637</td>\n",
              "      <td>66.420093</td>\n",
              "      <td>3.055934</td>\n",
              "    </tr>\n",
              "    <tr>\n",
              "      <th>3</th>\n",
              "      <td>8.316766</td>\n",
              "      <td>214.373394</td>\n",
              "      <td>22018.417441</td>\n",
              "      <td>8.059332</td>\n",
              "      <td>356.886136</td>\n",
              "      <td>363.266516</td>\n",
              "      <td>18.436524</td>\n",
              "      <td>100.341674</td>\n",
              "      <td>4.628771</td>\n",
              "    </tr>\n",
              "    <tr>\n",
              "      <th>4</th>\n",
              "      <td>9.092223</td>\n",
              "      <td>181.101509</td>\n",
              "      <td>17978.986339</td>\n",
              "      <td>6.546600</td>\n",
              "      <td>310.135738</td>\n",
              "      <td>398.410813</td>\n",
              "      <td>11.558279</td>\n",
              "      <td>31.997993</td>\n",
              "      <td>4.075075</td>\n",
              "    </tr>\n",
              "  </tbody>\n",
              "</table>\n",
              "</div>\n",
              "    <div class=\"colab-df-buttons\">\n",
              "\n",
              "  <div class=\"colab-df-container\">\n",
              "    <button class=\"colab-df-convert\" onclick=\"convertToInteractive('df-4485e88d-8758-49c0-971d-6373ff5c312d')\"\n",
              "            title=\"Convert this dataframe to an interactive table.\"\n",
              "            style=\"display:none;\">\n",
              "\n",
              "  <svg xmlns=\"http://www.w3.org/2000/svg\" height=\"24px\" viewBox=\"0 -960 960 960\">\n",
              "    <path d=\"M120-120v-720h720v720H120Zm60-500h600v-160H180v160Zm220 220h160v-160H400v160Zm0 220h160v-160H400v160ZM180-400h160v-160H180v160Zm440 0h160v-160H620v160ZM180-180h160v-160H180v160Zm440 0h160v-160H620v160Z\"/>\n",
              "  </svg>\n",
              "    </button>\n",
              "\n",
              "  <style>\n",
              "    .colab-df-container {\n",
              "      display:flex;\n",
              "      gap: 12px;\n",
              "    }\n",
              "\n",
              "    .colab-df-convert {\n",
              "      background-color: #E8F0FE;\n",
              "      border: none;\n",
              "      border-radius: 50%;\n",
              "      cursor: pointer;\n",
              "      display: none;\n",
              "      fill: #1967D2;\n",
              "      height: 32px;\n",
              "      padding: 0 0 0 0;\n",
              "      width: 32px;\n",
              "    }\n",
              "\n",
              "    .colab-df-convert:hover {\n",
              "      background-color: #E2EBFA;\n",
              "      box-shadow: 0px 1px 2px rgba(60, 64, 67, 0.3), 0px 1px 3px 1px rgba(60, 64, 67, 0.15);\n",
              "      fill: #174EA6;\n",
              "    }\n",
              "\n",
              "    .colab-df-buttons div {\n",
              "      margin-bottom: 4px;\n",
              "    }\n",
              "\n",
              "    [theme=dark] .colab-df-convert {\n",
              "      background-color: #3B4455;\n",
              "      fill: #D2E3FC;\n",
              "    }\n",
              "\n",
              "    [theme=dark] .colab-df-convert:hover {\n",
              "      background-color: #434B5C;\n",
              "      box-shadow: 0px 1px 3px 1px rgba(0, 0, 0, 0.15);\n",
              "      filter: drop-shadow(0px 1px 2px rgba(0, 0, 0, 0.3));\n",
              "      fill: #FFFFFF;\n",
              "    }\n",
              "  </style>\n",
              "\n",
              "    <script>\n",
              "      const buttonEl =\n",
              "        document.querySelector('#df-4485e88d-8758-49c0-971d-6373ff5c312d button.colab-df-convert');\n",
              "      buttonEl.style.display =\n",
              "        google.colab.kernel.accessAllowed ? 'block' : 'none';\n",
              "\n",
              "      async function convertToInteractive(key) {\n",
              "        const element = document.querySelector('#df-4485e88d-8758-49c0-971d-6373ff5c312d');\n",
              "        const dataTable =\n",
              "          await google.colab.kernel.invokeFunction('convertToInteractive',\n",
              "                                                    [key], {});\n",
              "        if (!dataTable) return;\n",
              "\n",
              "        const docLinkHtml = 'Like what you see? Visit the ' +\n",
              "          '<a target=\"_blank\" href=https://colab.research.google.com/notebooks/data_table.ipynb>data table notebook</a>'\n",
              "          + ' to learn more about interactive tables.';\n",
              "        element.innerHTML = '';\n",
              "        dataTable['output_type'] = 'display_data';\n",
              "        await google.colab.output.renderOutput(dataTable, element);\n",
              "        const docLink = document.createElement('div');\n",
              "        docLink.innerHTML = docLinkHtml;\n",
              "        element.appendChild(docLink);\n",
              "      }\n",
              "    </script>\n",
              "  </div>\n",
              "\n",
              "\n",
              "<div id=\"df-47319d0f-946f-4d6d-bf9d-31cc21223d19\">\n",
              "  <button class=\"colab-df-quickchart\" onclick=\"quickchart('df-47319d0f-946f-4d6d-bf9d-31cc21223d19')\"\n",
              "            title=\"Suggest charts\"\n",
              "            style=\"display:none;\">\n",
              "\n",
              "<svg xmlns=\"http://www.w3.org/2000/svg\" height=\"24px\"viewBox=\"0 0 24 24\"\n",
              "     width=\"24px\">\n",
              "    <g>\n",
              "        <path d=\"M19 3H5c-1.1 0-2 .9-2 2v14c0 1.1.9 2 2 2h14c1.1 0 2-.9 2-2V5c0-1.1-.9-2-2-2zM9 17H7v-7h2v7zm4 0h-2V7h2v10zm4 0h-2v-4h2v4z\"/>\n",
              "    </g>\n",
              "</svg>\n",
              "  </button>\n",
              "\n",
              "<style>\n",
              "  .colab-df-quickchart {\n",
              "      --bg-color: #E8F0FE;\n",
              "      --fill-color: #1967D2;\n",
              "      --hover-bg-color: #E2EBFA;\n",
              "      --hover-fill-color: #174EA6;\n",
              "      --disabled-fill-color: #AAA;\n",
              "      --disabled-bg-color: #DDD;\n",
              "  }\n",
              "\n",
              "  [theme=dark] .colab-df-quickchart {\n",
              "      --bg-color: #3B4455;\n",
              "      --fill-color: #D2E3FC;\n",
              "      --hover-bg-color: #434B5C;\n",
              "      --hover-fill-color: #FFFFFF;\n",
              "      --disabled-bg-color: #3B4455;\n",
              "      --disabled-fill-color: #666;\n",
              "  }\n",
              "\n",
              "  .colab-df-quickchart {\n",
              "    background-color: var(--bg-color);\n",
              "    border: none;\n",
              "    border-radius: 50%;\n",
              "    cursor: pointer;\n",
              "    display: none;\n",
              "    fill: var(--fill-color);\n",
              "    height: 32px;\n",
              "    padding: 0;\n",
              "    width: 32px;\n",
              "  }\n",
              "\n",
              "  .colab-df-quickchart:hover {\n",
              "    background-color: var(--hover-bg-color);\n",
              "    box-shadow: 0 1px 2px rgba(60, 64, 67, 0.3), 0 1px 3px 1px rgba(60, 64, 67, 0.15);\n",
              "    fill: var(--button-hover-fill-color);\n",
              "  }\n",
              "\n",
              "  .colab-df-quickchart-complete:disabled,\n",
              "  .colab-df-quickchart-complete:disabled:hover {\n",
              "    background-color: var(--disabled-bg-color);\n",
              "    fill: var(--disabled-fill-color);\n",
              "    box-shadow: none;\n",
              "  }\n",
              "\n",
              "  .colab-df-spinner {\n",
              "    border: 2px solid var(--fill-color);\n",
              "    border-color: transparent;\n",
              "    border-bottom-color: var(--fill-color);\n",
              "    animation:\n",
              "      spin 1s steps(1) infinite;\n",
              "  }\n",
              "\n",
              "  @keyframes spin {\n",
              "    0% {\n",
              "      border-color: transparent;\n",
              "      border-bottom-color: var(--fill-color);\n",
              "      border-left-color: var(--fill-color);\n",
              "    }\n",
              "    20% {\n",
              "      border-color: transparent;\n",
              "      border-left-color: var(--fill-color);\n",
              "      border-top-color: var(--fill-color);\n",
              "    }\n",
              "    30% {\n",
              "      border-color: transparent;\n",
              "      border-left-color: var(--fill-color);\n",
              "      border-top-color: var(--fill-color);\n",
              "      border-right-color: var(--fill-color);\n",
              "    }\n",
              "    40% {\n",
              "      border-color: transparent;\n",
              "      border-right-color: var(--fill-color);\n",
              "      border-top-color: var(--fill-color);\n",
              "    }\n",
              "    60% {\n",
              "      border-color: transparent;\n",
              "      border-right-color: var(--fill-color);\n",
              "    }\n",
              "    80% {\n",
              "      border-color: transparent;\n",
              "      border-right-color: var(--fill-color);\n",
              "      border-bottom-color: var(--fill-color);\n",
              "    }\n",
              "    90% {\n",
              "      border-color: transparent;\n",
              "      border-bottom-color: var(--fill-color);\n",
              "    }\n",
              "  }\n",
              "</style>\n",
              "\n",
              "  <script>\n",
              "    async function quickchart(key) {\n",
              "      const quickchartButtonEl =\n",
              "        document.querySelector('#' + key + ' button');\n",
              "      quickchartButtonEl.disabled = true;  // To prevent multiple clicks.\n",
              "      quickchartButtonEl.classList.add('colab-df-spinner');\n",
              "      try {\n",
              "        const charts = await google.colab.kernel.invokeFunction(\n",
              "            'suggestCharts', [key], {});\n",
              "      } catch (error) {\n",
              "        console.error('Error during call to suggestCharts:', error);\n",
              "      }\n",
              "      quickchartButtonEl.classList.remove('colab-df-spinner');\n",
              "      quickchartButtonEl.classList.add('colab-df-quickchart-complete');\n",
              "    }\n",
              "    (() => {\n",
              "      let quickchartButtonEl =\n",
              "        document.querySelector('#df-47319d0f-946f-4d6d-bf9d-31cc21223d19 button');\n",
              "      quickchartButtonEl.style.display =\n",
              "        google.colab.kernel.accessAllowed ? 'block' : 'none';\n",
              "    })();\n",
              "  </script>\n",
              "</div>\n",
              "\n",
              "    </div>\n",
              "  </div>\n"
            ],
            "application/vnd.google.colaboratory.intrinsic+json": {
              "type": "dataframe",
              "variable_name": "features_df",
              "summary": "{\n  \"name\": \"features_df\",\n  \"rows\": 3276,\n  \"fields\": [\n    {\n      \"column\": \"ph\",\n      \"properties\": {\n        \"dtype\": \"number\",\n        \"std\": 1.4700400603035841,\n        \"min\": 0.0,\n        \"max\": 13.999999999999998,\n        \"num_unique_values\": 2785,\n        \"samples\": [\n          6.569053876389385,\n          9.271355446767778,\n          7.367371852627868\n        ],\n        \"semantic_type\": \"\",\n        \"description\": \"\"\n      }\n    },\n    {\n      \"column\": \"Hardness\",\n      \"properties\": {\n        \"dtype\": \"number\",\n        \"std\": 32.879761476294185,\n        \"min\": 47.432,\n        \"max\": 323.124,\n        \"num_unique_values\": 3276,\n        \"samples\": [\n          183.5211070261417,\n          188.9135411469536,\n          224.05887682392927\n        ],\n        \"semantic_type\": \"\",\n        \"description\": \"\"\n      }\n    },\n    {\n      \"column\": \"Solids\",\n      \"properties\": {\n        \"dtype\": \"number\",\n        \"std\": 8768.570827785932,\n        \"min\": 320.942611274359,\n        \"max\": 61227.19600771213,\n        \"num_unique_values\": 3276,\n        \"samples\": [\n          20461.252710219946,\n          32873.820021715685,\n          23264.10996772913\n        ],\n        \"semantic_type\": \"\",\n        \"description\": \"\"\n      }\n    },\n    {\n      \"column\": \"Chloramines\",\n      \"properties\": {\n        \"dtype\": \"number\",\n        \"std\": 1.58308488903971,\n        \"min\": 0.3520000000000003,\n        \"max\": 13.127000000000002,\n        \"num_unique_values\": 3276,\n        \"samples\": [\n          7.333212177578906,\n          6.791509363412849,\n          5.92236704115349\n        ],\n        \"semantic_type\": \"\",\n        \"description\": \"\"\n      }\n    },\n    {\n      \"column\": \"Sulfate\",\n      \"properties\": {\n        \"dtype\": \"number\",\n        \"std\": 36.14385116043702,\n        \"min\": 129.00000000000003,\n        \"max\": 481.0306423059972,\n        \"num_unique_values\": 2495,\n        \"samples\": [\n          321.81403250426115,\n          355.9714951598641,\n          295.83415090035123\n        ],\n        \"semantic_type\": \"\",\n        \"description\": \"\"\n      }\n    },\n    {\n      \"column\": \"Conductivity\",\n      \"properties\": {\n        \"dtype\": \"number\",\n        \"std\": 80.82406405111182,\n        \"min\": 181.483753985146,\n        \"max\": 753.3426195583046,\n        \"num_unique_values\": 3276,\n        \"samples\": [\n          356.3690224100897,\n          336.56150104700754,\n          387.971335796834\n        ],\n        \"semantic_type\": \"\",\n        \"description\": \"\"\n      }\n    },\n    {\n      \"column\": \"Organic_carbon\",\n      \"properties\": {\n        \"dtype\": \"number\",\n        \"std\": 3.308161999126868,\n        \"min\": 2.1999999999999886,\n        \"max\": 28.30000000000001,\n        \"num_unique_values\": 3276,\n        \"samples\": [\n          20.179028868493845,\n          14.706810313722087,\n          13.40673745495127\n        ],\n        \"semantic_type\": \"\",\n        \"description\": \"\"\n      }\n    },\n    {\n      \"column\": \"Trihalomethanes\",\n      \"properties\": {\n        \"dtype\": \"number\",\n        \"std\": 15.769957546275505,\n        \"min\": 0.7379999999999995,\n        \"max\": 124.0,\n        \"num_unique_values\": 3115,\n        \"samples\": [\n          75.33302516708788,\n          73.16477754804393,\n          64.84690478735237\n        ],\n        \"semantic_type\": \"\",\n        \"description\": \"\"\n      }\n    },\n    {\n      \"column\": \"Turbidity\",\n      \"properties\": {\n        \"dtype\": \"number\",\n        \"std\": 0.7803824084854116,\n        \"min\": 1.45,\n        \"max\": 6.739,\n        \"num_unique_values\": 3276,\n        \"samples\": [\n          4.886633785371213,\n          4.562197671215202,\n          2.487968647002356\n        ],\n        \"semantic_type\": \"\",\n        \"description\": \"\"\n      }\n    }\n  ]\n}"
            }
          },
          "metadata": {},
          "execution_count": 14
        }
      ],
      "source": [
        "#  Split the data into dependent and independent features\n",
        "features_df = water_df.drop(['Potability'], axis = 1)\n",
        "target_df = water_df['Potability']\n",
        "features_df.head()"
      ]
    },
    {
      "cell_type": "markdown",
      "metadata": {
        "id": "UMNWQfPMNyno"
      },
      "source": [
        "Before making any actual predictions, it is always a good practice to scale the features so that all of them can be uniformly evaluated. Use `StandardScaler` to scale the feature values."
      ]
    },
    {
      "cell_type": "code",
      "execution_count": null,
      "metadata": {
        "colab": {
          "base_uri": "https://localhost:8080/",
          "height": 206
        },
        "id": "PqKj1bSLO44j",
        "outputId": "054ca392-8504-4d89-fd23-a636aa88105c"
      },
      "outputs": [
        {
          "output_type": "execute_result",
          "data": {
            "text/plain": [
              "         ph  Hardness    Solids  Chloramines   Sulfate  Conductivity  \\\n",
              "0 -0.025474  0.259195 -0.139471     0.112415  0.965957      1.708954   \n",
              "1 -2.284717 -2.036414 -0.385987    -0.307694 -0.014799      2.062575   \n",
              "2  0.697319  0.847665 -0.240047     1.360594 -0.014799     -0.094032   \n",
              "3  0.845393  0.547651  0.000493     0.592008  0.644130     -0.778830   \n",
              "4  1.372982 -0.464429 -0.460249    -0.363698 -0.649522     -0.343939   \n",
              "\n",
              "   Organic_carbon  Trihalomethanes  Turbidity  \n",
              "0       -1.180651         1.305434  -1.286298  \n",
              "1        0.270597        -0.639186   0.684218  \n",
              "2        0.781117         0.000800  -1.167365  \n",
              "3        1.255134         2.152154   0.848412  \n",
              "4       -0.824357        -2.182297   0.138786  "
            ],
            "text/html": [
              "\n",
              "  <div id=\"df-958da320-bf82-429a-b691-c6fb2d71b7b5\" class=\"colab-df-container\">\n",
              "    <div>\n",
              "<style scoped>\n",
              "    .dataframe tbody tr th:only-of-type {\n",
              "        vertical-align: middle;\n",
              "    }\n",
              "\n",
              "    .dataframe tbody tr th {\n",
              "        vertical-align: top;\n",
              "    }\n",
              "\n",
              "    .dataframe thead th {\n",
              "        text-align: right;\n",
              "    }\n",
              "</style>\n",
              "<table border=\"1\" class=\"dataframe\">\n",
              "  <thead>\n",
              "    <tr style=\"text-align: right;\">\n",
              "      <th></th>\n",
              "      <th>ph</th>\n",
              "      <th>Hardness</th>\n",
              "      <th>Solids</th>\n",
              "      <th>Chloramines</th>\n",
              "      <th>Sulfate</th>\n",
              "      <th>Conductivity</th>\n",
              "      <th>Organic_carbon</th>\n",
              "      <th>Trihalomethanes</th>\n",
              "      <th>Turbidity</th>\n",
              "    </tr>\n",
              "  </thead>\n",
              "  <tbody>\n",
              "    <tr>\n",
              "      <th>0</th>\n",
              "      <td>-0.025474</td>\n",
              "      <td>0.259195</td>\n",
              "      <td>-0.139471</td>\n",
              "      <td>0.112415</td>\n",
              "      <td>0.965957</td>\n",
              "      <td>1.708954</td>\n",
              "      <td>-1.180651</td>\n",
              "      <td>1.305434</td>\n",
              "      <td>-1.286298</td>\n",
              "    </tr>\n",
              "    <tr>\n",
              "      <th>1</th>\n",
              "      <td>-2.284717</td>\n",
              "      <td>-2.036414</td>\n",
              "      <td>-0.385987</td>\n",
              "      <td>-0.307694</td>\n",
              "      <td>-0.014799</td>\n",
              "      <td>2.062575</td>\n",
              "      <td>0.270597</td>\n",
              "      <td>-0.639186</td>\n",
              "      <td>0.684218</td>\n",
              "    </tr>\n",
              "    <tr>\n",
              "      <th>2</th>\n",
              "      <td>0.697319</td>\n",
              "      <td>0.847665</td>\n",
              "      <td>-0.240047</td>\n",
              "      <td>1.360594</td>\n",
              "      <td>-0.014799</td>\n",
              "      <td>-0.094032</td>\n",
              "      <td>0.781117</td>\n",
              "      <td>0.000800</td>\n",
              "      <td>-1.167365</td>\n",
              "    </tr>\n",
              "    <tr>\n",
              "      <th>3</th>\n",
              "      <td>0.845393</td>\n",
              "      <td>0.547651</td>\n",
              "      <td>0.000493</td>\n",
              "      <td>0.592008</td>\n",
              "      <td>0.644130</td>\n",
              "      <td>-0.778830</td>\n",
              "      <td>1.255134</td>\n",
              "      <td>2.152154</td>\n",
              "      <td>0.848412</td>\n",
              "    </tr>\n",
              "    <tr>\n",
              "      <th>4</th>\n",
              "      <td>1.372982</td>\n",
              "      <td>-0.464429</td>\n",
              "      <td>-0.460249</td>\n",
              "      <td>-0.363698</td>\n",
              "      <td>-0.649522</td>\n",
              "      <td>-0.343939</td>\n",
              "      <td>-0.824357</td>\n",
              "      <td>-2.182297</td>\n",
              "      <td>0.138786</td>\n",
              "    </tr>\n",
              "  </tbody>\n",
              "</table>\n",
              "</div>\n",
              "    <div class=\"colab-df-buttons\">\n",
              "\n",
              "  <div class=\"colab-df-container\">\n",
              "    <button class=\"colab-df-convert\" onclick=\"convertToInteractive('df-958da320-bf82-429a-b691-c6fb2d71b7b5')\"\n",
              "            title=\"Convert this dataframe to an interactive table.\"\n",
              "            style=\"display:none;\">\n",
              "\n",
              "  <svg xmlns=\"http://www.w3.org/2000/svg\" height=\"24px\" viewBox=\"0 -960 960 960\">\n",
              "    <path d=\"M120-120v-720h720v720H120Zm60-500h600v-160H180v160Zm220 220h160v-160H400v160Zm0 220h160v-160H400v160ZM180-400h160v-160H180v160Zm440 0h160v-160H620v160ZM180-180h160v-160H180v160Zm440 0h160v-160H620v160Z\"/>\n",
              "  </svg>\n",
              "    </button>\n",
              "\n",
              "  <style>\n",
              "    .colab-df-container {\n",
              "      display:flex;\n",
              "      gap: 12px;\n",
              "    }\n",
              "\n",
              "    .colab-df-convert {\n",
              "      background-color: #E8F0FE;\n",
              "      border: none;\n",
              "      border-radius: 50%;\n",
              "      cursor: pointer;\n",
              "      display: none;\n",
              "      fill: #1967D2;\n",
              "      height: 32px;\n",
              "      padding: 0 0 0 0;\n",
              "      width: 32px;\n",
              "    }\n",
              "\n",
              "    .colab-df-convert:hover {\n",
              "      background-color: #E2EBFA;\n",
              "      box-shadow: 0px 1px 2px rgba(60, 64, 67, 0.3), 0px 1px 3px 1px rgba(60, 64, 67, 0.15);\n",
              "      fill: #174EA6;\n",
              "    }\n",
              "\n",
              "    .colab-df-buttons div {\n",
              "      margin-bottom: 4px;\n",
              "    }\n",
              "\n",
              "    [theme=dark] .colab-df-convert {\n",
              "      background-color: #3B4455;\n",
              "      fill: #D2E3FC;\n",
              "    }\n",
              "\n",
              "    [theme=dark] .colab-df-convert:hover {\n",
              "      background-color: #434B5C;\n",
              "      box-shadow: 0px 1px 3px 1px rgba(0, 0, 0, 0.15);\n",
              "      filter: drop-shadow(0px 1px 2px rgba(0, 0, 0, 0.3));\n",
              "      fill: #FFFFFF;\n",
              "    }\n",
              "  </style>\n",
              "\n",
              "    <script>\n",
              "      const buttonEl =\n",
              "        document.querySelector('#df-958da320-bf82-429a-b691-c6fb2d71b7b5 button.colab-df-convert');\n",
              "      buttonEl.style.display =\n",
              "        google.colab.kernel.accessAllowed ? 'block' : 'none';\n",
              "\n",
              "      async function convertToInteractive(key) {\n",
              "        const element = document.querySelector('#df-958da320-bf82-429a-b691-c6fb2d71b7b5');\n",
              "        const dataTable =\n",
              "          await google.colab.kernel.invokeFunction('convertToInteractive',\n",
              "                                                    [key], {});\n",
              "        if (!dataTable) return;\n",
              "\n",
              "        const docLinkHtml = 'Like what you see? Visit the ' +\n",
              "          '<a target=\"_blank\" href=https://colab.research.google.com/notebooks/data_table.ipynb>data table notebook</a>'\n",
              "          + ' to learn more about interactive tables.';\n",
              "        element.innerHTML = '';\n",
              "        dataTable['output_type'] = 'display_data';\n",
              "        await google.colab.output.renderOutput(dataTable, element);\n",
              "        const docLink = document.createElement('div');\n",
              "        docLink.innerHTML = docLinkHtml;\n",
              "        element.appendChild(docLink);\n",
              "      }\n",
              "    </script>\n",
              "  </div>\n",
              "\n",
              "\n",
              "<div id=\"df-b448de39-02f3-4f7c-83ad-4e8b41e777db\">\n",
              "  <button class=\"colab-df-quickchart\" onclick=\"quickchart('df-b448de39-02f3-4f7c-83ad-4e8b41e777db')\"\n",
              "            title=\"Suggest charts\"\n",
              "            style=\"display:none;\">\n",
              "\n",
              "<svg xmlns=\"http://www.w3.org/2000/svg\" height=\"24px\"viewBox=\"0 0 24 24\"\n",
              "     width=\"24px\">\n",
              "    <g>\n",
              "        <path d=\"M19 3H5c-1.1 0-2 .9-2 2v14c0 1.1.9 2 2 2h14c1.1 0 2-.9 2-2V5c0-1.1-.9-2-2-2zM9 17H7v-7h2v7zm4 0h-2V7h2v10zm4 0h-2v-4h2v4z\"/>\n",
              "    </g>\n",
              "</svg>\n",
              "  </button>\n",
              "\n",
              "<style>\n",
              "  .colab-df-quickchart {\n",
              "      --bg-color: #E8F0FE;\n",
              "      --fill-color: #1967D2;\n",
              "      --hover-bg-color: #E2EBFA;\n",
              "      --hover-fill-color: #174EA6;\n",
              "      --disabled-fill-color: #AAA;\n",
              "      --disabled-bg-color: #DDD;\n",
              "  }\n",
              "\n",
              "  [theme=dark] .colab-df-quickchart {\n",
              "      --bg-color: #3B4455;\n",
              "      --fill-color: #D2E3FC;\n",
              "      --hover-bg-color: #434B5C;\n",
              "      --hover-fill-color: #FFFFFF;\n",
              "      --disabled-bg-color: #3B4455;\n",
              "      --disabled-fill-color: #666;\n",
              "  }\n",
              "\n",
              "  .colab-df-quickchart {\n",
              "    background-color: var(--bg-color);\n",
              "    border: none;\n",
              "    border-radius: 50%;\n",
              "    cursor: pointer;\n",
              "    display: none;\n",
              "    fill: var(--fill-color);\n",
              "    height: 32px;\n",
              "    padding: 0;\n",
              "    width: 32px;\n",
              "  }\n",
              "\n",
              "  .colab-df-quickchart:hover {\n",
              "    background-color: var(--hover-bg-color);\n",
              "    box-shadow: 0 1px 2px rgba(60, 64, 67, 0.3), 0 1px 3px 1px rgba(60, 64, 67, 0.15);\n",
              "    fill: var(--button-hover-fill-color);\n",
              "  }\n",
              "\n",
              "  .colab-df-quickchart-complete:disabled,\n",
              "  .colab-df-quickchart-complete:disabled:hover {\n",
              "    background-color: var(--disabled-bg-color);\n",
              "    fill: var(--disabled-fill-color);\n",
              "    box-shadow: none;\n",
              "  }\n",
              "\n",
              "  .colab-df-spinner {\n",
              "    border: 2px solid var(--fill-color);\n",
              "    border-color: transparent;\n",
              "    border-bottom-color: var(--fill-color);\n",
              "    animation:\n",
              "      spin 1s steps(1) infinite;\n",
              "  }\n",
              "\n",
              "  @keyframes spin {\n",
              "    0% {\n",
              "      border-color: transparent;\n",
              "      border-bottom-color: var(--fill-color);\n",
              "      border-left-color: var(--fill-color);\n",
              "    }\n",
              "    20% {\n",
              "      border-color: transparent;\n",
              "      border-left-color: var(--fill-color);\n",
              "      border-top-color: var(--fill-color);\n",
              "    }\n",
              "    30% {\n",
              "      border-color: transparent;\n",
              "      border-left-color: var(--fill-color);\n",
              "      border-top-color: var(--fill-color);\n",
              "      border-right-color: var(--fill-color);\n",
              "    }\n",
              "    40% {\n",
              "      border-color: transparent;\n",
              "      border-right-color: var(--fill-color);\n",
              "      border-top-color: var(--fill-color);\n",
              "    }\n",
              "    60% {\n",
              "      border-color: transparent;\n",
              "      border-right-color: var(--fill-color);\n",
              "    }\n",
              "    80% {\n",
              "      border-color: transparent;\n",
              "      border-right-color: var(--fill-color);\n",
              "      border-bottom-color: var(--fill-color);\n",
              "    }\n",
              "    90% {\n",
              "      border-color: transparent;\n",
              "      border-bottom-color: var(--fill-color);\n",
              "    }\n",
              "  }\n",
              "</style>\n",
              "\n",
              "  <script>\n",
              "    async function quickchart(key) {\n",
              "      const quickchartButtonEl =\n",
              "        document.querySelector('#' + key + ' button');\n",
              "      quickchartButtonEl.disabled = true;  // To prevent multiple clicks.\n",
              "      quickchartButtonEl.classList.add('colab-df-spinner');\n",
              "      try {\n",
              "        const charts = await google.colab.kernel.invokeFunction(\n",
              "            'suggestCharts', [key], {});\n",
              "      } catch (error) {\n",
              "        console.error('Error during call to suggestCharts:', error);\n",
              "      }\n",
              "      quickchartButtonEl.classList.remove('colab-df-spinner');\n",
              "      quickchartButtonEl.classList.add('colab-df-quickchart-complete');\n",
              "    }\n",
              "    (() => {\n",
              "      let quickchartButtonEl =\n",
              "        document.querySelector('#df-b448de39-02f3-4f7c-83ad-4e8b41e777db button');\n",
              "      quickchartButtonEl.style.display =\n",
              "        google.colab.kernel.accessAllowed ? 'block' : 'none';\n",
              "    })();\n",
              "  </script>\n",
              "</div>\n",
              "\n",
              "    </div>\n",
              "  </div>\n"
            ],
            "application/vnd.google.colaboratory.intrinsic+json": {
              "type": "dataframe",
              "variable_name": "X_scaled",
              "summary": "{\n  \"name\": \"X_scaled\",\n  \"rows\": 3276,\n  \"fields\": [\n    {\n      \"column\": \"ph\",\n      \"properties\": {\n        \"dtype\": \"number\",\n        \"std\": 1.0001526601031714,\n        \"min\": -4.8129800404517935,\n        \"max\": 4.712023814581076,\n        \"num_unique_values\": 2785,\n        \"samples\": [\n          -0.3436755049855422,\n          1.4948554146798556,\n          0.19946605224399983\n        ],\n        \"semantic_type\": \"\",\n        \"description\": \"\"\n      }\n    },\n    {\n      \"column\": \"Hardness\",\n      \"properties\": {\n        \"dtype\": \"number\",\n        \"std\": 1.0001526601031716,\n        \"min\": -4.530453572122409,\n        \"max\": 3.8556804747429854,\n        \"num_unique_values\": 3276,\n        \"samples\": [\n          -0.3908285781456694,\n          -0.22679888059906148,\n          0.8422691232211387\n        ],\n        \"semantic_type\": \"\",\n        \"description\": \"\"\n      }\n    },\n    {\n      \"column\": \"Solids\",\n      \"properties\": {\n        \"dtype\": \"number\",\n        \"std\": 1.0001526601031727,\n        \"min\": -2.474344111420633,\n        \"max\": 4.472688939659403,\n        \"num_unique_values\": 3276,\n        \"samples\": [\n          -0.17711858671680586,\n          1.238672248428538,\n          0.14257833961743974\n        ],\n        \"semantic_type\": \"\",\n        \"description\": \"\"\n      }\n    },\n    {\n      \"column\": \"Chloramines\",\n      \"properties\": {\n        \"dtype\": \"number\",\n        \"std\": 1.000152660103171,\n        \"min\": -4.2772882183765955,\n        \"max\": 3.793630985816204,\n        \"num_unique_values\": 3276,\n        \"samples\": [\n          0.13326359630569096,\n          -0.20897042685032574,\n          -0.7580723806585281\n        ],\n        \"semantic_type\": \"\",\n        \"description\": \"\"\n      }\n    },\n    {\n      \"column\": \"Sulfate\",\n      \"properties\": {\n        \"dtype\": \"number\",\n        \"std\": 1.0001526601031612,\n        \"min\": -5.661809502681539,\n        \"max\": 4.079387742109101,\n        \"num_unique_values\": 2495,\n        \"samples\": [\n          -0.32636623023240185,\n          0.6188201857290083,\n          -1.045267145908977\n        ],\n        \"semantic_type\": \"\",\n        \"description\": \"\"\n      }\n    },\n    {\n      \"column\": \"Conductivity\",\n      \"properties\": {\n        \"dtype\": \"number\",\n        \"std\": 1.000152660103171,\n        \"min\": -3.0282901355985716,\n        \"max\": 4.048143997246905,\n        \"num_unique_values\": 3276,\n        \"samples\": [\n          -0.8641825955786434,\n          -1.1092896118356974,\n          -0.4731216142949189\n        ],\n        \"semantic_type\": \"\",\n        \"description\": \"\"\n      }\n    },\n    {\n      \"column\": \"Organic_carbon\",\n      \"properties\": {\n        \"dtype\": \"number\",\n        \"std\": 1.0001526601031718,\n        \"min\": -3.6536345994157027,\n        \"max\": 4.237147180794109,\n        \"num_unique_values\": 3276,\n        \"samples\": [\n          1.7819436925910948,\n          0.12753440257887225,\n          -0.26551506971745137\n        ],\n        \"semantic_type\": \"\",\n        \"description\": \"\"\n      }\n    },\n    {\n      \"column\": \"Trihalomethanes\",\n      \"properties\": {\n        \"dtype\": \"number\",\n        \"std\": 1.0001526601031723,\n        \"min\": -4.164849727054118,\n        \"max\": 3.6525978994141877,\n        \"num_unique_values\": 3115,\n        \"samples\": [\n          0.5660706088060394,\n          0.42855732650418893,\n          -0.09897374284673499\n        ],\n        \"semantic_type\": \"\",\n        \"description\": \"\"\n      }\n    },\n    {\n      \"column\": \"Turbidity\",\n      \"properties\": {\n        \"dtype\": \"number\",\n        \"std\": 1.000152660103172,\n        \"min\": -3.2255601295687755,\n        \"max\": 3.5529209865705274,\n        \"num_unique_values\": 3276,\n        \"samples\": [\n          1.1788938725535727,\n          0.7630904932379862,\n          -1.8952801384834785\n        ],\n        \"semantic_type\": \"\",\n        \"description\": \"\"\n      }\n    }\n  ]\n}"
            }
          },
          "metadata": {},
          "execution_count": 15
        }
      ],
      "source": [
        "# Normalise the column values.\n",
        "# Import 'StandardScaler' from sklearn.preprocessing\n",
        "from sklearn.preprocessing import StandardScaler\n",
        "\n",
        "# Make an object of StandardScaler\n",
        "standard_scaler = StandardScaler()\n",
        "\n",
        "# Fit and Transform the DataFrame\n",
        "scaled_features = standard_scaler.fit_transform(features_df)\n",
        "\n",
        "# Make a new DataFrame with the normalized values\n",
        "X_scaled = pd.DataFrame(scaled_features)\n",
        "X_scaled.columns = features_df.columns\n",
        "X_scaled.head()"
      ]
    },
    {
      "cell_type": "markdown",
      "metadata": {
        "id": "WUIsGsoTPXoM"
      },
      "source": [
        "Hence, our dataset is now ready for model building and prediction.\n",
        "\n",
        "Let us split the scaled dataset into train and test sets using `train_test_split()` function. Also, set `stratify = target_df` inside the `train_test_split()` function to obtain a balanced train/test dataset consisting of samples from each target label.\n"
      ]
    },
    {
      "cell_type": "code",
      "execution_count": null,
      "metadata": {
        "colab": {
          "base_uri": "https://localhost:8080/"
        },
        "id": "Pe58AZSKFvMy",
        "outputId": "537bbac7-2f75-494f-9b2e-861b6bc5befd"
      },
      "outputs": [
        {
          "output_type": "stream",
          "name": "stdout",
          "text": [
            "Shape of X_train: (2293, 9)\n",
            "Shape of X_test: (983, 9)\n",
            "Shape of y_train: (2293,)\n",
            "Shape of y_test: (983,)\n"
          ]
        }
      ],
      "source": [
        "#  Perform train-test split\n",
        "from sklearn.model_selection import train_test_split\n",
        "\n",
        "X_train, X_test, y_train, y_test = train_test_split(X_scaled, target_df, test_size = 0.3,\n",
        "                                                    random_state = 42, stratify = target_df)\n",
        "\n",
        "# Print the shape of train and test sets.\n",
        "print(\"Shape of X_train:\", X_train.shape)\n",
        "print(\"Shape of X_test:\", X_test.shape)\n",
        "print(\"Shape of y_train:\", y_train.shape)\n",
        "print(\"Shape of y_test:\", y_test.shape)"
      ]
    },
    {
      "cell_type": "markdown",
      "metadata": {
        "id": "-BolttfkFxmh"
      },
      "source": [
        "\n",
        "In the next activity, we will perform kNN classification using `sklearn` module and evaluate the performance of the model."
      ]
    },
    {
      "cell_type": "markdown",
      "metadata": {
        "id": "kRuBTtSxXalQ"
      },
      "source": [
        "#### Activity 1: Building kNN Classifier Model\n"
      ]
    },
    {
      "cell_type": "markdown",
      "metadata": {
        "id": "l5XKim9mY9dz"
      },
      "source": [
        "**Generating Model for $k=3$:**\n",
        "\n",
        "Let's build kNN classifier model for $k=3$ using the steps given below:\n",
        "1. Import the `KNeighborsClassifier` class from the `sklearn.neighbors` module.\n",
        "2. Create an object of this class using the following syntax:\n",
        "\n",
        "  `KNeighborsClassifier(n_neighbors, metric)`\n",
        "  \n",
        "  Where,\n",
        "  - `n_neighbors` is basically the value for the $k$. There is no ideal value for $k$ and it is selected after testing and evaluation, however to start out, we would select `3`  as the value of $k$.\n",
        "\n",
        "  - `metric` is the distance metric. By default, it is `euclidean`. You may also use `manhattan` distance.\n",
        "  \n",
        "\n",
        "3. Call the `fit()` function using the classifier object and pass the train set as inputs to this function.\n",
        "\n",
        "4. Call the `score()` function  using the classifier object  and pass the train set as inputs to determine the train set accuracy of the model.\n",
        "\n",
        "5. Also, determine the accuracy score of the test set using the `score()` function."
      ]
    },
    {
      "cell_type": "code",
      "metadata": {
        "colab": {
          "base_uri": "https://localhost:8080/"
        },
        "id": "eeo7GeCVbWnh",
        "outputId": "15f3c4f8-c454-4c11-e614-feea65a8f4e8"
      },
      "source": [
        "#  Train kNN classifier model for 'k = 3'\n",
        "from sklearn.neighbors import KNeighborsClassifier\n",
        "knn3 = KNeighborsClassifier(n_neighbors = 3)\n",
        "knn3.fit(X_train, y_train)\n",
        "\n",
        "# Call the 'score()' function to check the accuracy score of the train set and test set.\n",
        "print(\"Train set accuracy:\", knn3.score(X_train, y_train))\n",
        "print(\"Test set accuracy:\", knn3.score(X_test, y_test))"
      ],
      "execution_count": null,
      "outputs": [
        {
          "output_type": "stream",
          "name": "stdout",
          "text": [
            "Train set accuracy: 0.8146532926297427\n",
            "Test set accuracy: 0.612410986775178\n"
          ]
        }
      ]
    },
    {
      "cell_type": "markdown",
      "metadata": {
        "id": "oWCSwnCySZzT"
      },
      "source": [
        "We can observe that the accuracy score for train set is very good. However, the test set accuracy is not that good. Let us try to improve the accuracy by creating a model for a different number of neighbours.\n",
        "\n",
        "**Re-generating Model for $k = 7$:**\n",
        "\n",
        "Let's build kNN classifier model for $k=7$."
      ]
    },
    {
      "cell_type": "code",
      "metadata": {
        "colab": {
          "base_uri": "https://localhost:8080/"
        },
        "id": "eG_xWwMnYdGK",
        "outputId": "dffb712e-3df3-48f8-a60f-1c734ec8c1b6"
      },
      "source": [
        "# Train kNN classifier model for 'k = 7'\n",
        "knn7 = KNeighborsClassifier(n_neighbors = 7)\n",
        "knn7.fit(X_train, y_train)\n",
        "\n",
        "# Call the 'score()' function to check the accuracy score of the train set and test set.\n",
        "print(\"Train set accuracy:\", knn7.score(X_train, y_train))\n",
        "print(\"Test set accuracy:\", knn7.score(X_test, y_test))"
      ],
      "execution_count": null,
      "outputs": [
        {
          "output_type": "stream",
          "name": "stdout",
          "text": [
            "Train set accuracy: 0.7313563017880506\n",
            "Test set accuracy: 0.6185147507629705\n"
          ]
        }
      ]
    },
    {
      "cell_type": "markdown",
      "metadata": {
        "id": "Qy_K94m6lPwu"
      },
      "source": [
        "We can observe that the accuracy score for train set for $k = 7$ is less as compared to that of $k = 3$. However, there is slight improvement in the test set accuracy. Here, we have increased the number of neighbours in the model and test accuracy got increased. But, this is not necessary for each case that an increase in the number of neighbours increases the accuracy.\n",
        "\n",
        "Thus, the question arises that *how to choose the optimal number of neighbours*? Let us find out.\n"
      ]
    },
    {
      "cell_type": "markdown",
      "metadata": {
        "id": "JFLEwE6-oumY"
      },
      "source": [
        "---"
      ]
    },
    {
      "cell_type": "markdown",
      "metadata": {
        "id": "uYHSt9ACHB_n"
      },
      "source": [
        "#### Activity 2: Finding an Optimal $k$ Value\n",
        "\n",
        "We need to find a value of $k$ which can give a  good train and test set accuracy. For this, we can determine the accuracy scores for neighbours from `1` to `20` and plot these scores using the steps given below:\n",
        "\n",
        "1. Create two lists `accuracy_train` and `accuracy_test` to store the accuracy scores of train set and test set for various $k$ values.\n",
        "\n",
        "2. Initiate a `for` loop that ranges from `1` to `20` with current iterator stored in variable `k`. Inside this `for` loop:\n",
        "  - Create an object of `KNeighborsClassifier` class with `n_neighbors = k` as input.\n",
        "  - Call the `fit()` function using the object of  `KNeighborsClassifier` class and pass train set as inputs to this function.\n",
        "  - Determine the train set and test set accuracy scores for current `k` value and append these scores to the `accuracy_train` and `accuracy_test` lists respectively.\n",
        "\n",
        "3. Visualise the  values of `accuracy_train` and `accuracy_test` lists using line plots.\n",
        "\n",
        "\n"
      ]
    },
    {
      "cell_type": "code",
      "metadata": {
        "colab": {
          "base_uri": "https://localhost:8080/",
          "height": 487
        },
        "id": "m8JRBGpRS-48",
        "outputId": "78208186-40c1-44dc-e684-471125fa287f"
      },
      "source": [
        "# Plot accuracy scores of train and test sets for 1 to 20 neighbours.\n",
        "\n",
        "# Create two lists store the accuracy scores of train and test set\n",
        "accuracy_train = []\n",
        "accuracy_test= []\n",
        "\n",
        "# Create a 'for' loop to get the accuracy scores of train and test set\n",
        "for k in range(1, 21):\n",
        "\n",
        "    # Perform KNeighborsClassifier with n_neighbors = k\n",
        "    knn = KNeighborsClassifier(n_neighbors = k)\n",
        "\n",
        "    # Fit the train data in the model\n",
        "    knn.fit(X_train, y_train)\n",
        "\n",
        "    # Append the score into different lists\n",
        "    accuracy_train.append(knn.score(X_train, y_train))\n",
        "    accuracy_test.append(knn.score(X_test, y_test))\n",
        "\n",
        "# Plot the accuracy scores of train and test sets\n",
        "plt.figure(figsize = (6, 5))\n",
        "plt.grid()\n",
        "plt.xticks(range(1, 21, 1))\n",
        "plt.plot(range(1, 21), accuracy_train, color= 'blue', label = \"Train set accuracy\")\n",
        "plt.plot(range(1, 21), accuracy_test, color= 'red', label = \"Test set accuracy\")\n",
        "plt.title('Accuracy Score vs. K Value')\n",
        "plt.legend()\n",
        "plt.xlabel('K')\n",
        "plt.ylabel('Accuracy')\n",
        "plt.show()"
      ],
      "execution_count": null,
      "outputs": [
        {
          "output_type": "display_data",
          "data": {
            "text/plain": [
              "<Figure size 600x500 with 1 Axes>"
            ],
            "image/png": "[encoded data removed]"
          },
          "metadata": {}
        }
      ]
    },
    {
      "cell_type": "markdown",
      "metadata": {
        "id": "xCEe_50qYldC"
      },
      "source": [
        "You may observe that with an increase in the number of neighbours, train set accuracy decreases whereas test set accuracy increases. As test set accuracy is a better estimate than train set accuracy for unseen data, we can say that $15$ is an optimal value for $k$.\n",
        "\n",
        "Let us now deploy the kNN classifier model for $k = 15$ and evaluate the performance of this model."
      ]
    },
    {
      "cell_type": "code",
      "metadata": {
        "colab": {
          "base_uri": "https://localhost:8080/"
        },
        "id": "F9_J8U6-UOXk",
        "outputId": "41814756-23f2-4eba-8417-ddb9a2f44999"
      },
      "source": [
        "# Train kNN classifier model for 'k = 15'\n",
        "knn15 = KNeighborsClassifier(n_neighbors = 15)\n",
        "knn15.fit(X_train, y_train)\n",
        "\n",
        "# Call the 'score()' function to check the accuracy score of the train set and test set.\n",
        "print(\"Train set accuracy:\", knn15.score(X_train, y_train))\n",
        "print(\"Test set accuracy:\", knn15.score(X_test, y_test))"
      ],
      "execution_count": null,
      "outputs": [
        {
          "output_type": "stream",
          "name": "stdout",
          "text": [
            "Train set accuracy: 0.6964675098124727\n",
            "Test set accuracy: 0.6510681586978637\n"
          ]
        }
      ]
    },
    {
      "cell_type": "markdown",
      "metadata": {
        "id": "Ka5NfZkZvFIA"
      },
      "source": [
        "Hence, we obtained decent accuracy scores for both train and test sets with $k = 15$. Let us also inspect the precision, recall and f1 scores for both the target labels."
      ]
    },
    {
      "cell_type": "code",
      "metadata": {
        "colab": {
          "base_uri": "https://localhost:8080/"
        },
        "id": "wwF3kG1-L12Y",
        "outputId": "0b31be5d-8902-4887-e388-6c2b3818aff8"
      },
      "source": [
        "# Display the precision, recall and f1-score values.\n",
        "from sklearn.metrics import classification_report\n",
        "print(classification_report(y_test, knn15.predict(X_test)))"
      ],
      "execution_count": null,
      "outputs": [
        {
          "output_type": "stream",
          "name": "stdout",
          "text": [
            "              precision    recall  f1-score   support\n",
            "\n",
            "           0       0.66      0.89      0.76       600\n",
            "           1       0.62      0.28      0.38       383\n",
            "\n",
            "    accuracy                           0.65       983\n",
            "   macro avg       0.64      0.58      0.57       983\n",
            "weighted avg       0.64      0.65      0.61       983\n",
            "\n"
          ]
        }
      ]
    },
    {
      "cell_type": "markdown",
      "metadata": {
        "id": "MPXmO6i4uUix"
      },
      "source": [
        "You may observe that recall for class `0` is high but it is very poor for class `1`. Thus, f1 score is very poor for target label `1`. This means that the algorithm predicts class `0` very well but fails to capture class `1`. One of the reasons behind this may be an **imbalanced dataset**. Let us investigate this.\n",
        "\n",
        "\n"
      ]
    },
    {
      "cell_type": "markdown",
      "metadata": {
        "id": "WriY7XD6yjKY"
      },
      "source": [
        "---"
      ]
    },
    {
      "cell_type": "markdown",
      "metadata": {
        "id": "buOXobLJykOv"
      },
      "source": [
        "#### Activity 3: Resampling\n",
        "\n",
        "Let us first recall the concept of imbalanced dataset that we had studied in one of the previous classes (**Lesson: Hunting Exoplanets In Space - Oversampling & XGBoost Classifier**)\n",
        "\n",
        "**What is meant by Class Imbalance?**\n",
        "- Generally, in some classification problems, the data is highly imbalanced.\n",
        "- In highly imbalanced data, the number of data points for one class is very high compared to another class.\n",
        "- The class having the most number of data points is called the **majority class** whereas the class having the least number of data points is called the **minority class**.\n",
        "\n",
        "Let us first calculate the percentage of values in  class `0` and class `1` labels in the training dataset using `value_counts()` function.\n",
        "\n",
        "**Note:** Pass `normalize = True` as input to the `value_counts()` function to obtain relative frequencies of each target label."
      ]
    },
    {
      "cell_type": "code",
      "metadata": {
        "colab": {
          "base_uri": "https://localhost:8080/",
          "height": 178
        },
        "id": "uUBYGAMY0ObI",
        "outputId": "63795f16-314e-432b-ca55-8858e3bf8910"
      },
      "source": [
        "#  Determine the percentage of samples belonging to class '0' and class '1' in 'y_train'.\n",
        "y_train.value_counts(normalize = True) * 100"
      ],
      "execution_count": null,
      "outputs": [
        {
          "output_type": "execute_result",
          "data": {
            "text/plain": [
              "Potability\n",
              "0    60.968164\n",
              "1    39.031836\n",
              "Name: proportion, dtype: float64"
            ],
            "text/html": [
              "<div>\n",
              "<style scoped>\n",
              "    .dataframe tbody tr th:only-of-type {\n",
              "        vertical-align: middle;\n",
              "    }\n",
              "\n",
              "    .dataframe tbody tr th {\n",
              "        vertical-align: top;\n",
              "    }\n",
              "\n",
              "    .dataframe thead th {\n",
              "        text-align: right;\n",
              "    }\n",
              "</style>\n",
              "<table border=\"1\" class=\"dataframe\">\n",
              "  <thead>\n",
              "    <tr style=\"text-align: right;\">\n",
              "      <th></th>\n",
              "      <th>proportion</th>\n",
              "    </tr>\n",
              "    <tr>\n",
              "      <th>Potability</th>\n",
              "      <th></th>\n",
              "    </tr>\n",
              "  </thead>\n",
              "  <tbody>\n",
              "    <tr>\n",
              "      <th>0</th>\n",
              "      <td>60.968164</td>\n",
              "    </tr>\n",
              "    <tr>\n",
              "      <th>1</th>\n",
              "      <td>39.031836</td>\n",
              "    </tr>\n",
              "  </tbody>\n",
              "</table>\n",
              "</div><br><label><b>dtype:</b> float64</label>"
            ]
          },
          "metadata": {},
          "execution_count": 24
        }
      ]
    },
    {
      "cell_type": "markdown",
      "metadata": {
        "id": "hFXT1dpR3B-f"
      },
      "source": [
        "Thus, we can say that approximately $60\\%$ of the train set samples are classified as class `0`, while nearly $40\\%$ values are classified as class `1`. This is a case of an imbalanced dataset, where class `0` is the majority class and class `1` is the minority class.\n",
        "\n",
        "In such cases, the prediction model will always be biased in favour of the majority class in making predictions as it will not have enough data to learn the patterns present in the minority class. Also, the accuracy scores obtained can be misleading.\n",
        "\n",
        "**Resampling** is a common practice to address the imbalanced dataset issue. Although\n",
        "there are many techniques within resampling, here we’ll be learning the three most\n",
        "popular techniques:\n",
        "1. Random Undersampling\n",
        "2. Random Oversampling\n",
        "3. Synthetic Minority Oversampling Technique (SMOTE)\n",
        "\n"
      ]
    },
    {
      "cell_type": "markdown",
      "metadata": {
        "id": "D9bOvx-WBjXL"
      },
      "source": [
        "---"
      ]
    },
    {
      "cell_type": "markdown",
      "metadata": {
        "id": "YP_kMcobBkar"
      },
      "source": [
        "#### Activity 4: Random Undersampling\n",
        "\n",
        "In **undersampling**, samples from the majority class are deleted. Thus, **random undersampling** randomly selects and removes the samples from the majority class to match minority class count.\n",
        "\n",
        "\n",
        "Random undersampling can be easily implemented using **`RandomUnderSampler`** class of `imblearn.under_sampling` module in Python.\n",
        "\n",
        "Let us first count the number of occurrences of target labels `0` and `1` in train set using `value_counts()` function."
      ]
    },
    {
      "cell_type": "code",
      "metadata": {
        "colab": {
          "base_uri": "https://localhost:8080/",
          "height": 178
        },
        "id": "9pXwkGBHKEPC",
        "outputId": "ec8df49f-c492-4636-cae4-013a8015087b"
      },
      "source": [
        "# Count the number of class 0 and 1 samples in train set before undersampling.\n",
        "y_train.value_counts()"
      ],
      "execution_count": null,
      "outputs": [
        {
          "output_type": "execute_result",
          "data": {
            "text/plain": [
              "Potability\n",
              "0    1398\n",
              "1     895\n",
              "Name: count, dtype: int64"
            ],
            "text/html": [
              "<div>\n",
              "<style scoped>\n",
              "    .dataframe tbody tr th:only-of-type {\n",
              "        vertical-align: middle;\n",
              "    }\n",
              "\n",
              "    .dataframe tbody tr th {\n",
              "        vertical-align: top;\n",
              "    }\n",
              "\n",
              "    .dataframe thead th {\n",
              "        text-align: right;\n",
              "    }\n",
              "</style>\n",
              "<table border=\"1\" class=\"dataframe\">\n",
              "  <thead>\n",
              "    <tr style=\"text-align: right;\">\n",
              "      <th></th>\n",
              "      <th>count</th>\n",
              "    </tr>\n",
              "    <tr>\n",
              "      <th>Potability</th>\n",
              "      <th></th>\n",
              "    </tr>\n",
              "  </thead>\n",
              "  <tbody>\n",
              "    <tr>\n",
              "      <th>0</th>\n",
              "      <td>1398</td>\n",
              "    </tr>\n",
              "    <tr>\n",
              "      <th>1</th>\n",
              "      <td>895</td>\n",
              "    </tr>\n",
              "  </tbody>\n",
              "</table>\n",
              "</div><br><label><b>dtype:</b> int64</label>"
            ]
          },
          "metadata": {},
          "execution_count": 25
        }
      ]
    },
    {
      "cell_type": "markdown",
      "metadata": {
        "id": "WCKTjZOPK8iB"
      },
      "source": [
        "Hence, `1398` samples are belonging to class `0` and `895` samples belonging to class `1`.\n",
        "\n",
        "To perform random undersampling on train set, follow the steps given below:\n",
        "1. From the `imblearn.under_sampling` module,  import the `RandomUnderSampler` class.\n",
        "\n",
        "2. Create an object of `RandomUnderSampler` class by passing `random_state = 42` as input.\n",
        "\n",
        "3. Call the `fit_resample()` function using the object of `RandomUnderSampler` class and pass the train set `X_train` and `y_train` as inputs to this function."
      ]
    },
    {
      "cell_type": "code",
      "metadata": {
        "id": "HVu46_payVq_"
      },
      "source": [
        "#Perform random undersampling on train set\n",
        "from imblearn.under_sampling import RandomUnderSampler\n",
        "\n",
        "rus = RandomUnderSampler(random_state = 42)\n",
        "X_rus_train, y_rus_train = rus.fit_resample(X_train, y_train) # fit predictor and target variable"
      ],
      "execution_count": null,
      "outputs": []
    },
    {
      "cell_type": "markdown",
      "metadata": {
        "id": "x43LD2LZLe7q"
      },
      "source": [
        "Let's check the type and shapes of the undersampled datasets."
      ]
    },
    {
      "cell_type": "code",
      "metadata": {
        "colab": {
          "base_uri": "https://localhost:8080/"
        },
        "id": "XVC9d8q4Nquw",
        "outputId": "25d1e699-c381-4c2a-efce-acec809006d4"
      },
      "source": [
        "#  Check the type and shapes of the 'X_rus_train' and 'y_rus_train' datasets.\n",
        "print(type(X_rus_train), X_rus_train.shape)\n",
        "print(type(y_rus_train), y_rus_train.shape)"
      ],
      "execution_count": null,
      "outputs": [
        {
          "output_type": "stream",
          "name": "stdout",
          "text": [
            "<class 'pandas.core.frame.DataFrame'> (1790, 9)\n",
            "<class 'pandas.core.series.Series'> (1790,)\n"
          ]
        }
      ]
    },
    {
      "cell_type": "markdown",
      "metadata": {
        "id": "DnCBcdk_N4E5"
      },
      "source": [
        "We now have `1790` data points for the training dataset containing `895` class `0` values and `895` class `1` values.\n",
        "\n",
        "Let's verify it by using the `value_counts()` function."
      ]
    },
    {
      "cell_type": "code",
      "metadata": {
        "colab": {
          "base_uri": "https://localhost:8080/",
          "height": 178
        },
        "id": "311b2OCQN3kw",
        "outputId": "faf7eda5-34c6-40fe-918f-9e30dd8316d7"
      },
      "source": [
        "#  Find the number of occurrences of class '0' and class '1' values in 'y_rus_train'\n",
        "y_rus_train.value_counts()"
      ],
      "execution_count": null,
      "outputs": [
        {
          "output_type": "execute_result",
          "data": {
            "text/plain": [
              "Potability\n",
              "0    895\n",
              "1    895\n",
              "Name: count, dtype: int64"
            ],
            "text/html": [
              "<div>\n",
              "<style scoped>\n",
              "    .dataframe tbody tr th:only-of-type {\n",
              "        vertical-align: middle;\n",
              "    }\n",
              "\n",
              "    .dataframe tbody tr th {\n",
              "        vertical-align: top;\n",
              "    }\n",
              "\n",
              "    .dataframe thead th {\n",
              "        text-align: right;\n",
              "    }\n",
              "</style>\n",
              "<table border=\"1\" class=\"dataframe\">\n",
              "  <thead>\n",
              "    <tr style=\"text-align: right;\">\n",
              "      <th></th>\n",
              "      <th>count</th>\n",
              "    </tr>\n",
              "    <tr>\n",
              "      <th>Potability</th>\n",
              "      <th></th>\n",
              "    </tr>\n",
              "  </thead>\n",
              "  <tbody>\n",
              "    <tr>\n",
              "      <th>0</th>\n",
              "      <td>895</td>\n",
              "    </tr>\n",
              "    <tr>\n",
              "      <th>1</th>\n",
              "      <td>895</td>\n",
              "    </tr>\n",
              "  </tbody>\n",
              "</table>\n",
              "</div><br><label><b>dtype:</b> int64</label>"
            ]
          },
          "metadata": {},
          "execution_count": 28
        }
      ]
    },
    {
      "cell_type": "markdown",
      "metadata": {
        "id": "x43rmTLhOxWQ"
      },
      "source": [
        "As you can see, both the classes, i.e., `0` and `1` appear the same number of times in the train set and the majority class samples are reduced to match the count of minority class.\n",
        "\n",
        "Now, let's train the kNN classifier model again for $k = 15$ using undersampled train set and evaluate the accuracy of the model for both target labels."
      ]
    },
    {
      "cell_type": "code",
      "metadata": {
        "colab": {
          "base_uri": "https://localhost:8080/"
        },
        "id": "UQ4q9BnOyslu",
        "outputId": "f03d3a08-1db8-419e-c3c6-67610d7ad431"
      },
      "source": [
        "# Train kNN classifier model again for 'k = 15' with undersampled train set.\n",
        "from sklearn.neighbors import KNeighborsClassifier\n",
        "knn_rus= KNeighborsClassifier(n_neighbors = 15)\n",
        "knn_rus.fit(X_rus_train, y_rus_train)\n",
        "\n",
        "# Call the 'score()' function to check the accuracy score of the train and test set.\n",
        "print(\"Train set accuracy:\", knn_rus.score(X_rus_train, y_rus_train))\n",
        "print(\"Test set accuracy:\", knn_rus.score(X_test, y_test))"
      ],
      "execution_count": null,
      "outputs": [
        {
          "output_type": "stream",
          "name": "stdout",
          "text": [
            "Train set accuracy: 0.6849162011173184\n",
            "Test set accuracy: 0.624618514750763\n"
          ]
        }
      ]
    },
    {
      "cell_type": "markdown",
      "metadata": {
        "id": "TudaHsGIQJ-X"
      },
      "source": [
        "You may observe that the accuracy scores for train and test sets have declined after undersampling. But, let us first inspect the f1 scores for both the target labels before arriving at any conclusion."
      ]
    },
    {
      "cell_type": "code",
      "metadata": {
        "colab": {
          "base_uri": "https://localhost:8080/"
        },
        "id": "qOBx-AFryy9G",
        "outputId": "26711fe8-22f3-425d-fd61-15a43a3ee120"
      },
      "source": [
        "#  Display the precision, recall and f1-score values.\n",
        "print(classification_report(y_test, knn_rus.predict(X_test)))"
      ],
      "execution_count": null,
      "outputs": [
        {
          "output_type": "stream",
          "name": "stdout",
          "text": [
            "              precision    recall  f1-score   support\n",
            "\n",
            "           0       0.69      0.70      0.70       600\n",
            "           1       0.52      0.50      0.51       383\n",
            "\n",
            "    accuracy                           0.62       983\n",
            "   macro avg       0.60      0.60      0.60       983\n",
            "weighted avg       0.62      0.62      0.62       983\n",
            "\n"
          ]
        }
      ]
    },
    {
      "cell_type": "markdown",
      "metadata": {
        "id": "aXGKAZhPQ9Zh"
      },
      "source": [
        "We can see that the f1 score has improved from `0.38` to `0.51` for target label `1`. This is a more realistic accuracy score as compared to the one obtained with unbalanced dataset, as it is not biased towards a particular class label.\n",
        "\n",
        "Let us perform oversampling for train dataset and evaluate whether there is any improvement in the accuracy scores."
      ]
    },
    {
      "cell_type": "markdown",
      "metadata": {
        "id": "tUnYIXQxeJzc"
      },
      "source": [
        "---"
      ]
    },
    {
      "cell_type": "markdown",
      "metadata": {
        "id": "7mJQK-Bk15sm"
      },
      "source": [
        "#### Activity 5: Random Oversampling\n",
        "\n",
        "\n",
        "In **oversampling**, samples are added to the minority class. **Random oversampling** increases minority class by randomly picking samples within minority class till counts of both classes match.\n",
        "\n",
        "\n",
        "\n",
        "\n",
        "\n",
        "Random oversampling can be easily implemented using **`RandomOverSampler`** class of `imblearn.over_sampling` module in Python.\n",
        "\n",
        "To perform random oversampling on train set, follow the steps given below:\n",
        "1. From the `imblearn.over_sampling` module,  import the `RandomOverSampler` class.\n",
        "\n",
        "2. Create an object of `RandomOverSampler` class by passing `random_state = 42` as input.\n",
        "\n",
        "3. Call the `fit_resample()` function using the object of `RandomOverSampler` class and pass the train set `X_train` and `y_train` as inputs to this function.\n"
      ]
    },
    {
      "cell_type": "code",
      "metadata": {
        "id": "WatVWlI82GWN"
      },
      "source": [
        "#  Perform random undersampling on train set\n",
        "from imblearn.over_sampling import RandomOverSampler\n",
        "\n",
        "ros = RandomOverSampler(random_state = 42)\n",
        "X_ros_train, y_ros_train = ros.fit_resample(X_train, y_train) # fit predictor and target variable"
      ],
      "execution_count": null,
      "outputs": []
    },
    {
      "cell_type": "markdown",
      "metadata": {
        "id": "AZRUw9TYTlKb"
      },
      "source": [
        "Let's check the type and shapes of these oversampled datasets."
      ]
    },
    {
      "cell_type": "code",
      "metadata": {
        "colab": {
          "base_uri": "https://localhost:8080/"
        },
        "id": "ffc9ZUwuaNLE",
        "outputId": "3579a0e5-e954-4a13-a72c-e842f9695d9e"
      },
      "source": [
        "#  Check the type and shapes of the 'X_ros_train' and 'y_ros_train' datasets.\n",
        "print(type(X_ros_train), X_ros_train.shape)\n",
        "print(type(y_ros_train), y_ros_train.shape)"
      ],
      "execution_count": null,
      "outputs": [
        {
          "output_type": "stream",
          "name": "stdout",
          "text": [
            "<class 'pandas.core.frame.DataFrame'> (2796, 9)\n",
            "<class 'pandas.core.series.Series'> (2796,)\n"
          ]
        }
      ]
    },
    {
      "cell_type": "markdown",
      "metadata": {
        "id": "Ly9GGyWbT0Sf"
      },
      "source": [
        "We now have `2796` data points for the training dataset containing `1398` class `0` values and `1398` class `1` values.\n",
        "\n",
        "Let's verify it by using the `value_counts()` function."
      ]
    },
    {
      "cell_type": "code",
      "metadata": {
        "colab": {
          "base_uri": "https://localhost:8080/",
          "height": 178
        },
        "id": "mVUPbA0E2kT8",
        "outputId": "fba04fba-b5af-45ac-a844-fec03ea5700f"
      },
      "source": [
        "#  Find the number of occurrences of class '0' and class '1' values in the 'y_ros_train' NumPy array.\n",
        "y_ros_train.value_counts()"
      ],
      "execution_count": null,
      "outputs": [
        {
          "output_type": "execute_result",
          "data": {
            "text/plain": [
              "Potability\n",
              "1    1398\n",
              "0    1398\n",
              "Name: count, dtype: int64"
            ],
            "text/html": [
              "<div>\n",
              "<style scoped>\n",
              "    .dataframe tbody tr th:only-of-type {\n",
              "        vertical-align: middle;\n",
              "    }\n",
              "\n",
              "    .dataframe tbody tr th {\n",
              "        vertical-align: top;\n",
              "    }\n",
              "\n",
              "    .dataframe thead th {\n",
              "        text-align: right;\n",
              "    }\n",
              "</style>\n",
              "<table border=\"1\" class=\"dataframe\">\n",
              "  <thead>\n",
              "    <tr style=\"text-align: right;\">\n",
              "      <th></th>\n",
              "      <th>count</th>\n",
              "    </tr>\n",
              "    <tr>\n",
              "      <th>Potability</th>\n",
              "      <th></th>\n",
              "    </tr>\n",
              "  </thead>\n",
              "  <tbody>\n",
              "    <tr>\n",
              "      <th>1</th>\n",
              "      <td>1398</td>\n",
              "    </tr>\n",
              "    <tr>\n",
              "      <th>0</th>\n",
              "      <td>1398</td>\n",
              "    </tr>\n",
              "  </tbody>\n",
              "</table>\n",
              "</div><br><label><b>dtype:</b> int64</label>"
            ]
          },
          "metadata": {},
          "execution_count": 33
        }
      ]
    },
    {
      "cell_type": "markdown",
      "metadata": {
        "id": "E64tQJs_UZlo"
      },
      "source": [
        "As you can see, both the classes, i.e., `0` and `1` appear the same number of times in the train set and the count of minority class is now equal to the majority class.\n",
        "\n",
        "Now, let's train the kNN classifier model again for $k = 15$ using oversampled train set and evaluate the accuracy of the model for both target labels."
      ]
    },
    {
      "cell_type": "code",
      "metadata": {
        "colab": {
          "base_uri": "https://localhost:8080/"
        },
        "id": "OqcISgnY26hV",
        "outputId": "ae0ffba2-13de-403e-fc19-f4ed768e1642"
      },
      "source": [
        "# Train kNN classifier model for 'k = 15'\n",
        "from sklearn.neighbors import KNeighborsClassifier\n",
        "knn_ros = KNeighborsClassifier(n_neighbors = 15)\n",
        "knn_ros.fit(X_ros_train, y_ros_train)\n",
        "\n",
        "# Call the 'score()' function to check the accuracy score of the train and test set.\n",
        "print(\"Train set accuracy:\", knn_ros.score(X_ros_train, y_ros_train))\n",
        "print(\"Test set accuracy:\", knn_ros.score(X_test, y_test))"
      ],
      "execution_count": null,
      "outputs": [
        {
          "output_type": "stream",
          "name": "stdout",
          "text": [
            "Train set accuracy: 0.7174535050071531\n",
            "Test set accuracy: 0.5839267548321465\n"
          ]
        }
      ]
    },
    {
      "cell_type": "markdown",
      "metadata": {
        "id": "hIIUWLixUi3t"
      },
      "source": [
        "You may observe that the accuracy score for test set is not that good after oversampling.\n",
        "\n",
        "Also, inspect the precision, recall and f1 scores for both the target labels."
      ]
    },
    {
      "cell_type": "code",
      "metadata": {
        "colab": {
          "base_uri": "https://localhost:8080/"
        },
        "id": "r5-Lq4nr3Tdc",
        "outputId": "451c2ace-88f0-4cfb-f3ab-34b7e014e161"
      },
      "source": [
        "#  Display the precision, recall and f1-score values.\n",
        "print(classification_report(y_test, knn_ros.predict(X_test)))"
      ],
      "execution_count": null,
      "outputs": [
        {
          "output_type": "stream",
          "name": "stdout",
          "text": [
            "              precision    recall  f1-score   support\n",
            "\n",
            "           0       0.66      0.66      0.66       600\n",
            "           1       0.47      0.47      0.47       383\n",
            "\n",
            "    accuracy                           0.58       983\n",
            "   macro avg       0.56      0.56      0.56       983\n",
            "weighted avg       0.58      0.58      0.58       983\n",
            "\n"
          ]
        }
      ]
    },
    {
      "cell_type": "markdown",
      "metadata": {
        "id": "Q-aMV4rnVM2F"
      },
      "source": [
        "We can see that the f1 score has improved from `0.38` (unbalanced) to `0.47` for target label `1`. However, it is less than the f1 score of undersampled train set (`0.51`).\n",
        "\n",
        "Let us use another oversampling technique for train dataset and evaluate whether there is any improvement in accuracy scores."
      ]
    },
    {
      "cell_type": "markdown",
      "metadata": {
        "id": "0KQx5SowbFE2"
      },
      "source": [
        "---"
      ]
    },
    {
      "cell_type": "markdown",
      "metadata": {
        "id": "xaYINTUNa12u"
      },
      "source": [
        "#### Activity 6: Resampling Using SMOTE\n",
        "\n",
        "In one of the previous classes (**Lesson: Hunting Exoplanets In Space - Oversampling & XGBoost Classifier**), we employed an oversampling technique called SMOTE. Let us recall this technique.\n",
        "\n",
        "**Recalling SMOTE:**\n",
        "- The term SMOTE stands for **Synthetic Minority Oversampling Technique**.\n",
        "- This technique synthesizes the artificial data points for the minority class data to balance a highly imbalanced dataset.\n",
        "\n",
        "SMOTE works by utilising kNN algorithm to create synthetic data. Here we are not covering detailed working of SMOTE but let us try to understand how SMOTE works in general:\n",
        "\n",
        "1. A random data point or an instance from the minority class is first chosen.\n",
        "2. Then the nearest neighbours for that instance are found (usually 5 neighbours).\n",
        "3. One of the neighbours of that instance is randomly chosen and an artificial data point is generated between that neighbour and the instance.\n",
        "4. This process keeps on repeating to create the required number of synthetic data points for the minority class.\n",
        "\n",
        "\n",
        "To apply the `SMOTE` method, follow the steps given below:\n",
        "1. From the `imblearn.over_sampling` module,  import the `SMOTE` class.\n",
        "\n",
        "2. Create an object of `SMOTE` class by passing `random_state = 42` as input.\n",
        "\n",
        "3. Call the `fit_resample()` function using the object of `SMOTE` class and pass the train set `X_train` and `y_train` as inputs to this function.\n"
      ]
    },
    {
      "cell_type": "code",
      "metadata": {
        "id": "QIGJCMmR3mE8"
      },
      "source": [
        "# Apply the 'SMOTE()' function to balance the training data.\n",
        "\n",
        "# Import the 'SMOTE' class from the 'imblearn.over_sampling' module.\n",
        "from imblearn.over_sampling import SMOTE\n",
        "\n",
        "# Initialise the 'SMOTE()' constructor.\n",
        "smote = SMOTE(random_state = 42)\n",
        "\n",
        "# Call the 'fit_resample()' function with 'X_train' and 'y_train' as inputs.\n",
        "X_sm_train, y_sm_train = smote.fit_resample(X_train, y_train)"
      ],
      "execution_count": null,
      "outputs": []
    },
    {
      "cell_type": "markdown",
      "metadata": {
        "id": "EGLDMMjSgoLW"
      },
      "source": [
        "Now, count the number of data points belonging to class `0` and class `1` using the `value_counts()` function and verify whether the count of both target labels are equal or not."
      ]
    },
    {
      "cell_type": "code",
      "metadata": {
        "colab": {
          "base_uri": "https://localhost:8080/",
          "height": 178
        },
        "id": "tj2A6kv33ue7",
        "outputId": "8c0cb8b4-2f80-47cb-a643-00fd0207fdc6"
      },
      "source": [
        "# Find the number of occurrences of class '0' and class '1' values in 'y_sm_train'\n",
        "y_sm_train.value_counts()"
      ],
      "execution_count": null,
      "outputs": [
        {
          "output_type": "execute_result",
          "data": {
            "text/plain": [
              "Potability\n",
              "1    1398\n",
              "0    1398\n",
              "Name: count, dtype: int64"
            ],
            "text/html": [
              "<div>\n",
              "<style scoped>\n",
              "    .dataframe tbody tr th:only-of-type {\n",
              "        vertical-align: middle;\n",
              "    }\n",
              "\n",
              "    .dataframe tbody tr th {\n",
              "        vertical-align: top;\n",
              "    }\n",
              "\n",
              "    .dataframe thead th {\n",
              "        text-align: right;\n",
              "    }\n",
              "</style>\n",
              "<table border=\"1\" class=\"dataframe\">\n",
              "  <thead>\n",
              "    <tr style=\"text-align: right;\">\n",
              "      <th></th>\n",
              "      <th>count</th>\n",
              "    </tr>\n",
              "    <tr>\n",
              "      <th>Potability</th>\n",
              "      <th></th>\n",
              "    </tr>\n",
              "  </thead>\n",
              "  <tbody>\n",
              "    <tr>\n",
              "      <th>1</th>\n",
              "      <td>1398</td>\n",
              "    </tr>\n",
              "    <tr>\n",
              "      <th>0</th>\n",
              "      <td>1398</td>\n",
              "    </tr>\n",
              "  </tbody>\n",
              "</table>\n",
              "</div><br><label><b>dtype:</b> int64</label>"
            ]
          },
          "metadata": {},
          "execution_count": 37
        }
      ]
    },
    {
      "cell_type": "markdown",
      "metadata": {
        "id": "0opTIz6vhBV1"
      },
      "source": [
        "Now that we have equal number of samples in both the classes, let's train the kNN classifier model again for $k = 15$ using oversampled train set and evaluate the accuracy of the model for both target labels.\n",
        "\n"
      ]
    },
    {
      "cell_type": "code",
      "metadata": {
        "colab": {
          "base_uri": "https://localhost:8080/"
        },
        "id": "Lme4gsp83y_9",
        "outputId": "ac1b7f43-b9be-4317-b966-0380d2e57fdf"
      },
      "source": [
        "#  Train kNN classifier model for 'k = 15'\n",
        "# Build the model.\n",
        "knn_sm = KNeighborsClassifier(n_neighbors = 15)\n",
        "\n",
        "# Call the 'fit()' function.\n",
        "knn_sm.fit(X_sm_train, y_sm_train)\n",
        "\n",
        "# Call the 'score()' function to check the accuracy score of the train and test set.\n",
        "print(\"Train set accuracy:\", knn_sm.score(X_ros_train, y_ros_train))\n",
        "print(\"Test set accuracy:\", knn_sm.score(X_test, y_test))"
      ],
      "execution_count": null,
      "outputs": [
        {
          "output_type": "stream",
          "name": "stdout",
          "text": [
            "Train set accuracy: 0.6938483547925608\n",
            "Test set accuracy: 0.5859613428280773\n"
          ]
        }
      ]
    },
    {
      "cell_type": "markdown",
      "metadata": {
        "id": "0wX-Y5nJhh-8"
      },
      "source": [
        "You may observe that the accuracy score for test set is not that good after oversampling dataset using SMOTE.\n",
        "\n",
        "Let us inspect the precision, recall and f1 scores for both the target labels."
      ]
    },
    {
      "cell_type": "code",
      "metadata": {
        "colab": {
          "base_uri": "https://localhost:8080/"
        },
        "id": "fz8atTQH4oBT",
        "outputId": "bc03891a-fe12-4d8a-8d44-e613ab0d0c17"
      },
      "source": [
        "#  Display the precision, recall and f1-score values.\n",
        "print(classification_report(y_test, knn_sm.predict(X_test)))"
      ],
      "execution_count": null,
      "outputs": [
        {
          "output_type": "stream",
          "name": "stdout",
          "text": [
            "              precision    recall  f1-score   support\n",
            "\n",
            "           0       0.68      0.61      0.64       600\n",
            "           1       0.47      0.54      0.50       383\n",
            "\n",
            "    accuracy                           0.59       983\n",
            "   macro avg       0.57      0.58      0.57       983\n",
            "weighted avg       0.60      0.59      0.59       983\n",
            "\n"
          ]
        }
      ]
    },
    {
      "cell_type": "markdown",
      "metadata": {
        "id": "hmzH7puYh9RN"
      },
      "source": [
        "We can see that the f1 score has improved from `0.38` (unbalanced dataset) to `0.50` for target label `1`. However, it is less than that of undersampled train set and more than that of randomly oversampled train set.\n",
        "\n",
        "**Which resampling technique is the best❓**\n",
        "\n",
        "There is no one answer to this question! We can build classification models on the resampled datasets and compare the accuracy scores.\n",
        "\n",
        "By looking at various evaluation metrics obtained for each of the resampled datasets, we can say that **random undersampling** is performing better for both target labels for $k = 15$ nearest neighbour model.\n",
        "\n",
        "**Note:** You may obtain different accuracy scores for other $k$ values and thus, you can choose a resampling technique which provides the best result.\n",
        "\n"
      ]
    },
    {
      "cell_type": "markdown",
      "metadata": {
        "id": "ixEfEMPnVmVd"
      },
      "source": [
        "---"
      ]
    },
    {
      "cell_type": "markdown",
      "metadata": {
        "id": "nQpYihXbF4_q"
      },
      "source": [
        "---"
      ]
    }
  ]
}