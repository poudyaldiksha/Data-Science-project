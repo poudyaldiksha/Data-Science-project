{
  "nbformat": 4,
  "nbformat_minor": 0,
  "metadata": {
    "colab": {
      "provenance": [],
      "include_colab_link": true
    },
    "kernelspec": {
      "name": "python3",
      "display_name": "Python 3"
    },
    "language_info": {
      "name": "python"
    }
  },
  "cells": [
    {
      "cell_type": "markdown",
      "metadata": {
        "id": "view-in-github",
        "colab_type": "text"
      },
      "source": [
        "<a href=\"https://colab.research.google.com/github/poudyaldiksha/Data-Science-project/blob/main/Lesson_73_b2.ipynb\" target=\"_parent\"><img src=\"https://colab.research.google.com/assets/colab-badge.svg\" alt=\"Open In Colab\"/></a>"
      ]
    },
    {
      "cell_type": "markdown",
      "metadata": {
        "id": "rOAIiGfXYltE"
      },
      "source": [
        "# Lesson 73: Naive Bayes Classifier"
      ]
    },
    {
      "cell_type": "markdown",
      "metadata": {
        "id": "pFwYED5rmX0S"
      },
      "source": [
        "\n",
        "\n",
        "In this class we will revisit the UCI's **heart disease dataset** and predict the chances of a person getting heart disease.  Before we start, let's first recall the attributes or columns of the dataset.\n",
        "\n",
        "**Data Description**\n",
        "\n",
        "The Heart Disease UCI dataset contains data collected on 14 different attributes by examining 303 patients. The dataset focuses only on differentiating patients having heart disease; labelled as value 1 and those not having heart disease; labelled as value 0. The 14 attributes (or columns) are as follows:\n",
        "\n",
        "|Name|Description|\n",
        "|-|-|\n",
        "|age|age in years|\n",
        "|sex|sex (1 = male; 0 = female)|\n",
        "|cp|chest pain type <br> -- Value 1: typical angina <br> -- Value 2: atypical angina <br> -- Value 3: non-anginal pain <br> -- Value 4: asymptomatic |\n",
        "|trestbps|resting blood pressure (in mm Hg on admission to the hospital) |\n",
        "|chol|serum cholesterol in mg/dl|\n",
        "|fbs| (fasting blood sugar > 120 mg/dl) (1 = true; 0 = false) |\n",
        "|restecg| resting electrocardiographic results <br> -- Value 0: normal <br> -- Value 1: having ST-T wave abnormality (T wave inversions and/or ST elevation or depression of > 0.05 mV) <br> -- Value 2: showing probable or definite left ventricular hypertrophy by Estes' criteria |\n",
        "|thalach|maximum heart rate achieved|\n",
        "|exang|exercise induced angina (1 = yes; 0 = no) |\n",
        "|oldpeak|ST depression induced by exercise relative to rest|\n",
        "|slope|the slope of the peak exercise ST segment <br> -- Value 1: upsloping <br> -- Value 2: flat <br> -- Value 3: downsloping |\n",
        "|ca|number of major vessels (0-3) colored by flourosopy |\n",
        "|thal| 3 = normal; 6 = fixed defect; 7 = reversable defect|\n",
        "|target|1 = presence of heart disease; 0 = absence of heart disease|\n",
        "\n",
        "**Source:** https://archive.ics.uci.edu/ml/datasets/Heart+Disease\n",
        "\n",
        "**Acknowledgements:**\n",
        "\n",
        "Creators:\n",
        "\n",
        "1. Hungarian Institute of Cardiology. Budapest: Andras Janosi, M.D.\n",
        "2. University Hospital, Zurich, Switzerland: William Steinbrunn, M.D.\n",
        "3. University Hospital, Basel, Switzerland: Matthias Pfisterer, M.D.\n",
        "4. V.A. Medical Center, Long Beach and Cleveland Clinic Foundation: Robert Detrano, M.D., Ph.D.\n",
        "\n",
        "Donor:\n",
        "David W. Aha (aha '@' ics.uci.edu) (714) 856-8779\n",
        "\n",
        "**Citations:** Dua, D., & Graff, C.. (2017). UCI Machine Learning Repository.\n"
      ]
    },
    {
      "cell_type": "markdown",
      "metadata": {
        "id": "xB7ar-Naoen9"
      },
      "source": [
        "---"
      ]
    },
    {
      "cell_type": "markdown",
      "metadata": {
        "id": "GJKiRHT7oc0k"
      },
      "source": [
        "#### Activity 1: Loading Data\n",
        "\n",
        "Import the basic libraries and load the heart disease dataset.\n",
        "\n"
      ]
    },
    {
      "cell_type": "code",
      "metadata": {
        "colab": {
          "base_uri": "https://localhost:8080/",
          "height": 206
        },
        "id": "eN1CA9IWYpTf",
        "outputId": "c9b20dc2-c10c-4c20-cd25-03af01a7d2dd"
      },
      "source": [
        "#  Import the required modules and load the heart disease dataset. Also, display the first five rows.\n",
        "import numpy as np\n",
        "import pandas as pd\n",
        "import matplotlib.pyplot as plt\n",
        "import seaborn as sns\n",
        "\n",
        "# read the csv file and create the DataFrame\n",
        "csv_file = '/content/heart (1).csv'\n",
        "df = pd.read_csv(csv_file)\n",
        "df.head()"
      ],
      "execution_count": null,
      "outputs": [
        {
          "output_type": "execute_result",
          "data": {
            "text/plain": [
              "   age  sex  cp  trestbps  chol  fbs  restecg  thalach  exang  oldpeak  slope  \\\n",
              "0   63    1   3       145   233    1        0      150      0      2.3      0   \n",
              "1   37    1   2       130   250    0        1      187      0      3.5      0   \n",
              "2   41    0   1       130   204    0        0      172      0      1.4      2   \n",
              "3   56    1   1       120   236    0        1      178      0      0.8      2   \n",
              "4   57    0   0       120   354    0        1      163      1      0.6      2   \n",
              "\n",
              "   ca  thal  target  \n",
              "0   0     1       1  \n",
              "1   0     2       1  \n",
              "2   0     2       1  \n",
              "3   0     2       1  \n",
              "4   0     2       1  "
            ],
            "text/html": [
              "\n",
              "  <div id=\"df-416f2570-7791-41e6-9f6c-40cce1fc3bfb\" class=\"colab-df-container\">\n",
              "    <div>\n",
              "<style scoped>\n",
              "    .dataframe tbody tr th:only-of-type {\n",
              "        vertical-align: middle;\n",
              "    }\n",
              "\n",
              "    .dataframe tbody tr th {\n",
              "        vertical-align: top;\n",
              "    }\n",
              "\n",
              "    .dataframe thead th {\n",
              "        text-align: right;\n",
              "    }\n",
              "</style>\n",
              "<table border=\"1\" class=\"dataframe\">\n",
              "  <thead>\n",
              "    <tr style=\"text-align: right;\">\n",
              "      <th></th>\n",
              "      <th>age</th>\n",
              "      <th>sex</th>\n",
              "      <th>cp</th>\n",
              "      <th>trestbps</th>\n",
              "      <th>chol</th>\n",
              "      <th>fbs</th>\n",
              "      <th>restecg</th>\n",
              "      <th>thalach</th>\n",
              "      <th>exang</th>\n",
              "      <th>oldpeak</th>\n",
              "      <th>slope</th>\n",
              "      <th>ca</th>\n",
              "      <th>thal</th>\n",
              "      <th>target</th>\n",
              "    </tr>\n",
              "  </thead>\n",
              "  <tbody>\n",
              "    <tr>\n",
              "      <th>0</th>\n",
              "      <td>63</td>\n",
              "      <td>1</td>\n",
              "      <td>3</td>\n",
              "      <td>145</td>\n",
              "      <td>233</td>\n",
              "      <td>1</td>\n",
              "      <td>0</td>\n",
              "      <td>150</td>\n",
              "      <td>0</td>\n",
              "      <td>2.3</td>\n",
              "      <td>0</td>\n",
              "      <td>0</td>\n",
              "      <td>1</td>\n",
              "      <td>1</td>\n",
              "    </tr>\n",
              "    <tr>\n",
              "      <th>1</th>\n",
              "      <td>37</td>\n",
              "      <td>1</td>\n",
              "      <td>2</td>\n",
              "      <td>130</td>\n",
              "      <td>250</td>\n",
              "      <td>0</td>\n",
              "      <td>1</td>\n",
              "      <td>187</td>\n",
              "      <td>0</td>\n",
              "      <td>3.5</td>\n",
              "      <td>0</td>\n",
              "      <td>0</td>\n",
              "      <td>2</td>\n",
              "      <td>1</td>\n",
              "    </tr>\n",
              "    <tr>\n",
              "      <th>2</th>\n",
              "      <td>41</td>\n",
              "      <td>0</td>\n",
              "      <td>1</td>\n",
              "      <td>130</td>\n",
              "      <td>204</td>\n",
              "      <td>0</td>\n",
              "      <td>0</td>\n",
              "      <td>172</td>\n",
              "      <td>0</td>\n",
              "      <td>1.4</td>\n",
              "      <td>2</td>\n",
              "      <td>0</td>\n",
              "      <td>2</td>\n",
              "      <td>1</td>\n",
              "    </tr>\n",
              "    <tr>\n",
              "      <th>3</th>\n",
              "      <td>56</td>\n",
              "      <td>1</td>\n",
              "      <td>1</td>\n",
              "      <td>120</td>\n",
              "      <td>236</td>\n",
              "      <td>0</td>\n",
              "      <td>1</td>\n",
              "      <td>178</td>\n",
              "      <td>0</td>\n",
              "      <td>0.8</td>\n",
              "      <td>2</td>\n",
              "      <td>0</td>\n",
              "      <td>2</td>\n",
              "      <td>1</td>\n",
              "    </tr>\n",
              "    <tr>\n",
              "      <th>4</th>\n",
              "      <td>57</td>\n",
              "      <td>0</td>\n",
              "      <td>0</td>\n",
              "      <td>120</td>\n",
              "      <td>354</td>\n",
              "      <td>0</td>\n",
              "      <td>1</td>\n",
              "      <td>163</td>\n",
              "      <td>1</td>\n",
              "      <td>0.6</td>\n",
              "      <td>2</td>\n",
              "      <td>0</td>\n",
              "      <td>2</td>\n",
              "      <td>1</td>\n",
              "    </tr>\n",
              "  </tbody>\n",
              "</table>\n",
              "</div>\n",
              "    <div class=\"colab-df-buttons\">\n",
              "\n",
              "  <div class=\"colab-df-container\">\n",
              "    <button class=\"colab-df-convert\" onclick=\"convertToInteractive('df-416f2570-7791-41e6-9f6c-40cce1fc3bfb')\"\n",
              "            title=\"Convert this dataframe to an interactive table.\"\n",
              "            style=\"display:none;\">\n",
              "\n",
              "  <svg xmlns=\"http://www.w3.org/2000/svg\" height=\"24px\" viewBox=\"0 -960 960 960\">\n",
              "    <path d=\"M120-120v-720h720v720H120Zm60-500h600v-160H180v160Zm220 220h160v-160H400v160Zm0 220h160v-160H400v160ZM180-400h160v-160H180v160Zm440 0h160v-160H620v160ZM180-180h160v-160H180v160Zm440 0h160v-160H620v160Z\"/>\n",
              "  </svg>\n",
              "    </button>\n",
              "\n",
              "  <style>\n",
              "    .colab-df-container {\n",
              "      display:flex;\n",
              "      gap: 12px;\n",
              "    }\n",
              "\n",
              "    .colab-df-convert {\n",
              "      background-color: #E8F0FE;\n",
              "      border: none;\n",
              "      border-radius: 50%;\n",
              "      cursor: pointer;\n",
              "      display: none;\n",
              "      fill: #1967D2;\n",
              "      height: 32px;\n",
              "      padding: 0 0 0 0;\n",
              "      width: 32px;\n",
              "    }\n",
              "\n",
              "    .colab-df-convert:hover {\n",
              "      background-color: #E2EBFA;\n",
              "      box-shadow: 0px 1px 2px rgba(60, 64, 67, 0.3), 0px 1px 3px 1px rgba(60, 64, 67, 0.15);\n",
              "      fill: #174EA6;\n",
              "    }\n",
              "\n",
              "    .colab-df-buttons div {\n",
              "      margin-bottom: 4px;\n",
              "    }\n",
              "\n",
              "    [theme=dark] .colab-df-convert {\n",
              "      background-color: #3B4455;\n",
              "      fill: #D2E3FC;\n",
              "    }\n",
              "\n",
              "    [theme=dark] .colab-df-convert:hover {\n",
              "      background-color: #434B5C;\n",
              "      box-shadow: 0px 1px 3px 1px rgba(0, 0, 0, 0.15);\n",
              "      filter: drop-shadow(0px 1px 2px rgba(0, 0, 0, 0.3));\n",
              "      fill: #FFFFFF;\n",
              "    }\n",
              "  </style>\n",
              "\n",
              "    <script>\n",
              "      const buttonEl =\n",
              "        document.querySelector('#df-416f2570-7791-41e6-9f6c-40cce1fc3bfb button.colab-df-convert');\n",
              "      buttonEl.style.display =\n",
              "        google.colab.kernel.accessAllowed ? 'block' : 'none';\n",
              "\n",
              "      async function convertToInteractive(key) {\n",
              "        const element = document.querySelector('#df-416f2570-7791-41e6-9f6c-40cce1fc3bfb');\n",
              "        const dataTable =\n",
              "          await google.colab.kernel.invokeFunction('convertToInteractive',\n",
              "                                                    [key], {});\n",
              "        if (!dataTable) return;\n",
              "\n",
              "        const docLinkHtml = 'Like what you see? Visit the ' +\n",
              "          '<a target=\"_blank\" href=https://colab.research.google.com/notebooks/data_table.ipynb>data table notebook</a>'\n",
              "          + ' to learn more about interactive tables.';\n",
              "        element.innerHTML = '';\n",
              "        dataTable['output_type'] = 'display_data';\n",
              "        await google.colab.output.renderOutput(dataTable, element);\n",
              "        const docLink = document.createElement('div');\n",
              "        docLink.innerHTML = docLinkHtml;\n",
              "        element.appendChild(docLink);\n",
              "      }\n",
              "    </script>\n",
              "  </div>\n",
              "\n",
              "\n",
              "<div id=\"df-10ae84b9-9968-4704-ad95-8f51259a5253\">\n",
              "  <button class=\"colab-df-quickchart\" onclick=\"quickchart('df-10ae84b9-9968-4704-ad95-8f51259a5253')\"\n",
              "            title=\"Suggest charts\"\n",
              "            style=\"display:none;\">\n",
              "\n",
              "<svg xmlns=\"http://www.w3.org/2000/svg\" height=\"24px\"viewBox=\"0 0 24 24\"\n",
              "     width=\"24px\">\n",
              "    <g>\n",
              "        <path d=\"M19 3H5c-1.1 0-2 .9-2 2v14c0 1.1.9 2 2 2h14c1.1 0 2-.9 2-2V5c0-1.1-.9-2-2-2zM9 17H7v-7h2v7zm4 0h-2V7h2v10zm4 0h-2v-4h2v4z\"/>\n",
              "    </g>\n",
              "</svg>\n",
              "  </button>\n",
              "\n",
              "<style>\n",
              "  .colab-df-quickchart {\n",
              "      --bg-color: #E8F0FE;\n",
              "      --fill-color: #1967D2;\n",
              "      --hover-bg-color: #E2EBFA;\n",
              "      --hover-fill-color: #174EA6;\n",
              "      --disabled-fill-color: #AAA;\n",
              "      --disabled-bg-color: #DDD;\n",
              "  }\n",
              "\n",
              "  [theme=dark] .colab-df-quickchart {\n",
              "      --bg-color: #3B4455;\n",
              "      --fill-color: #D2E3FC;\n",
              "      --hover-bg-color: #434B5C;\n",
              "      --hover-fill-color: #FFFFFF;\n",
              "      --disabled-bg-color: #3B4455;\n",
              "      --disabled-fill-color: #666;\n",
              "  }\n",
              "\n",
              "  .colab-df-quickchart {\n",
              "    background-color: var(--bg-color);\n",
              "    border: none;\n",
              "    border-radius: 50%;\n",
              "    cursor: pointer;\n",
              "    display: none;\n",
              "    fill: var(--fill-color);\n",
              "    height: 32px;\n",
              "    padding: 0;\n",
              "    width: 32px;\n",
              "  }\n",
              "\n",
              "  .colab-df-quickchart:hover {\n",
              "    background-color: var(--hover-bg-color);\n",
              "    box-shadow: 0 1px 2px rgba(60, 64, 67, 0.3), 0 1px 3px 1px rgba(60, 64, 67, 0.15);\n",
              "    fill: var(--button-hover-fill-color);\n",
              "  }\n",
              "\n",
              "  .colab-df-quickchart-complete:disabled,\n",
              "  .colab-df-quickchart-complete:disabled:hover {\n",
              "    background-color: var(--disabled-bg-color);\n",
              "    fill: var(--disabled-fill-color);\n",
              "    box-shadow: none;\n",
              "  }\n",
              "\n",
              "  .colab-df-spinner {\n",
              "    border: 2px solid var(--fill-color);\n",
              "    border-color: transparent;\n",
              "    border-bottom-color: var(--fill-color);\n",
              "    animation:\n",
              "      spin 1s steps(1) infinite;\n",
              "  }\n",
              "\n",
              "  @keyframes spin {\n",
              "    0% {\n",
              "      border-color: transparent;\n",
              "      border-bottom-color: var(--fill-color);\n",
              "      border-left-color: var(--fill-color);\n",
              "    }\n",
              "    20% {\n",
              "      border-color: transparent;\n",
              "      border-left-color: var(--fill-color);\n",
              "      border-top-color: var(--fill-color);\n",
              "    }\n",
              "    30% {\n",
              "      border-color: transparent;\n",
              "      border-left-color: var(--fill-color);\n",
              "      border-top-color: var(--fill-color);\n",
              "      border-right-color: var(--fill-color);\n",
              "    }\n",
              "    40% {\n",
              "      border-color: transparent;\n",
              "      border-right-color: var(--fill-color);\n",
              "      border-top-color: var(--fill-color);\n",
              "    }\n",
              "    60% {\n",
              "      border-color: transparent;\n",
              "      border-right-color: var(--fill-color);\n",
              "    }\n",
              "    80% {\n",
              "      border-color: transparent;\n",
              "      border-right-color: var(--fill-color);\n",
              "      border-bottom-color: var(--fill-color);\n",
              "    }\n",
              "    90% {\n",
              "      border-color: transparent;\n",
              "      border-bottom-color: var(--fill-color);\n",
              "    }\n",
              "  }\n",
              "</style>\n",
              "\n",
              "  <script>\n",
              "    async function quickchart(key) {\n",
              "      const quickchartButtonEl =\n",
              "        document.querySelector('#' + key + ' button');\n",
              "      quickchartButtonEl.disabled = true;  // To prevent multiple clicks.\n",
              "      quickchartButtonEl.classList.add('colab-df-spinner');\n",
              "      try {\n",
              "        const charts = await google.colab.kernel.invokeFunction(\n",
              "            'suggestCharts', [key], {});\n",
              "      } catch (error) {\n",
              "        console.error('Error during call to suggestCharts:', error);\n",
              "      }\n",
              "      quickchartButtonEl.classList.remove('colab-df-spinner');\n",
              "      quickchartButtonEl.classList.add('colab-df-quickchart-complete');\n",
              "    }\n",
              "    (() => {\n",
              "      let quickchartButtonEl =\n",
              "        document.querySelector('#df-10ae84b9-9968-4704-ad95-8f51259a5253 button');\n",
              "      quickchartButtonEl.style.display =\n",
              "        google.colab.kernel.accessAllowed ? 'block' : 'none';\n",
              "    })();\n",
              "  </script>\n",
              "</div>\n",
              "\n",
              "    </div>\n",
              "  </div>\n"
            ],
            "application/vnd.google.colaboratory.intrinsic+json": {
              "type": "dataframe",
              "variable_name": "df",
              "summary": "{\n  \"name\": \"df\",\n  \"rows\": 303,\n  \"fields\": [\n    {\n      \"column\": \"age\",\n      \"properties\": {\n        \"dtype\": \"number\",\n        \"std\": 9,\n        \"min\": 29,\n        \"max\": 77,\n        \"num_unique_values\": 41,\n        \"samples\": [\n          46,\n          66,\n          48\n        ],\n        \"semantic_type\": \"\",\n        \"description\": \"\"\n      }\n    },\n    {\n      \"column\": \"sex\",\n      \"properties\": {\n        \"dtype\": \"number\",\n        \"std\": 0,\n        \"min\": 0,\n        \"max\": 1,\n        \"num_unique_values\": 2,\n        \"samples\": [\n          0,\n          1\n        ],\n        \"semantic_type\": \"\",\n        \"description\": \"\"\n      }\n    },\n    {\n      \"column\": \"cp\",\n      \"properties\": {\n        \"dtype\": \"number\",\n        \"std\": 1,\n        \"min\": 0,\n        \"max\": 3,\n        \"num_unique_values\": 4,\n        \"samples\": [\n          2,\n          0\n        ],\n        \"semantic_type\": \"\",\n        \"description\": \"\"\n      }\n    },\n    {\n      \"column\": \"trestbps\",\n      \"properties\": {\n        \"dtype\": \"number\",\n        \"std\": 17,\n        \"min\": 94,\n        \"max\": 200,\n        \"num_unique_values\": 49,\n        \"samples\": [\n          104,\n          123\n        ],\n        \"semantic_type\": \"\",\n        \"description\": \"\"\n      }\n    },\n    {\n      \"column\": \"chol\",\n      \"properties\": {\n        \"dtype\": \"number\",\n        \"std\": 51,\n        \"min\": 126,\n        \"max\": 564,\n        \"num_unique_values\": 152,\n        \"samples\": [\n          277,\n          169\n        ],\n        \"semantic_type\": \"\",\n        \"description\": \"\"\n      }\n    },\n    {\n      \"column\": \"fbs\",\n      \"properties\": {\n        \"dtype\": \"number\",\n        \"std\": 0,\n        \"min\": 0,\n        \"max\": 1,\n        \"num_unique_values\": 2,\n        \"samples\": [\n          0,\n          1\n        ],\n        \"semantic_type\": \"\",\n        \"description\": \"\"\n      }\n    },\n    {\n      \"column\": \"restecg\",\n      \"properties\": {\n        \"dtype\": \"number\",\n        \"std\": 0,\n        \"min\": 0,\n        \"max\": 2,\n        \"num_unique_values\": 3,\n        \"samples\": [\n          0,\n          1\n        ],\n        \"semantic_type\": \"\",\n        \"description\": \"\"\n      }\n    },\n    {\n      \"column\": \"thalach\",\n      \"properties\": {\n        \"dtype\": \"number\",\n        \"std\": 22,\n        \"min\": 71,\n        \"max\": 202,\n        \"num_unique_values\": 91,\n        \"samples\": [\n          159,\n          152\n        ],\n        \"semantic_type\": \"\",\n        \"description\": \"\"\n      }\n    },\n    {\n      \"column\": \"exang\",\n      \"properties\": {\n        \"dtype\": \"number\",\n        \"std\": 0,\n        \"min\": 0,\n        \"max\": 1,\n        \"num_unique_values\": 2,\n        \"samples\": [\n          1,\n          0\n        ],\n        \"semantic_type\": \"\",\n        \"description\": \"\"\n      }\n    },\n    {\n      \"column\": \"oldpeak\",\n      \"properties\": {\n        \"dtype\": \"number\",\n        \"std\": 1.1610750220686343,\n        \"min\": 0.0,\n        \"max\": 6.2,\n        \"num_unique_values\": 40,\n        \"samples\": [\n          1.9,\n          3.0\n        ],\n        \"semantic_type\": \"\",\n        \"description\": \"\"\n      }\n    },\n    {\n      \"column\": \"slope\",\n      \"properties\": {\n        \"dtype\": \"number\",\n        \"std\": 0,\n        \"min\": 0,\n        \"max\": 2,\n        \"num_unique_values\": 3,\n        \"samples\": [\n          0,\n          2\n        ],\n        \"semantic_type\": \"\",\n        \"description\": \"\"\n      }\n    },\n    {\n      \"column\": \"ca\",\n      \"properties\": {\n        \"dtype\": \"number\",\n        \"std\": 1,\n        \"min\": 0,\n        \"max\": 4,\n        \"num_unique_values\": 5,\n        \"samples\": [\n          2,\n          4\n        ],\n        \"semantic_type\": \"\",\n        \"description\": \"\"\n      }\n    },\n    {\n      \"column\": \"thal\",\n      \"properties\": {\n        \"dtype\": \"number\",\n        \"std\": 0,\n        \"min\": 0,\n        \"max\": 3,\n        \"num_unique_values\": 4,\n        \"samples\": [\n          2,\n          0\n        ],\n        \"semantic_type\": \"\",\n        \"description\": \"\"\n      }\n    },\n    {\n      \"column\": \"target\",\n      \"properties\": {\n        \"dtype\": \"number\",\n        \"std\": 0,\n        \"min\": 0,\n        \"max\": 1,\n        \"num_unique_values\": 2,\n        \"samples\": [\n          0,\n          1\n        ],\n        \"semantic_type\": \"\",\n        \"description\": \"\"\n      }\n    }\n  ]\n}"
            }
          },
          "metadata": {},
          "execution_count": 1
        }
      ]
    },
    {
      "cell_type": "markdown",
      "metadata": {
        "id": "-Gqt9j1nrkSz"
      },
      "source": [
        "Now, let's find out the total number of rows, features, data types of columns (features) and the count of missing values (if any) in the dataset."
      ]
    },
    {
      "cell_type": "code",
      "metadata": {
        "colab": {
          "base_uri": "https://localhost:8080/"
        },
        "id": "drE_LxcZrnNU",
        "outputId": "67a9506c-9b39-467f-8093-47f32e605121"
      },
      "source": [
        "#  Apply the 'info()' function on the 'df' DataFrame.\n",
        "\n",
        "df.info()"
      ],
      "execution_count": null,
      "outputs": [
        {
          "output_type": "stream",
          "name": "stdout",
          "text": [
            "<class 'pandas.core.frame.DataFrame'>\n",
            "RangeIndex: 303 entries, 0 to 302\n",
            "Data columns (total 14 columns):\n",
            " #   Column    Non-Null Count  Dtype  \n",
            "---  ------    --------------  -----  \n",
            " 0   age       303 non-null    int64  \n",
            " 1   sex       303 non-null    int64  \n",
            " 2   cp        303 non-null    int64  \n",
            " 3   trestbps  303 non-null    int64  \n",
            " 4   chol      303 non-null    int64  \n",
            " 5   fbs       303 non-null    int64  \n",
            " 6   restecg   303 non-null    int64  \n",
            " 7   thalach   303 non-null    int64  \n",
            " 8   exang     303 non-null    int64  \n",
            " 9   oldpeak   303 non-null    float64\n",
            " 10  slope     303 non-null    int64  \n",
            " 11  ca        303 non-null    int64  \n",
            " 12  thal      303 non-null    int64  \n",
            " 13  target    303 non-null    int64  \n",
            "dtypes: float64(1), int64(13)\n",
            "memory usage: 33.3 KB\n"
          ]
        }
      ]
    },
    {
      "cell_type": "markdown",
      "metadata": {
        "id": "ZITZbBFSrqft"
      },
      "source": [
        "The dataset consists of 14 features and 303 datapoints and all are non-null and integer/float values. Let's see the distribution of the `target` feature in the dataset."
      ]
    },
    {
      "cell_type": "code",
      "metadata": {
        "colab": {
          "base_uri": "https://localhost:8080/"
        },
        "id": "rIip-TaXsLhM",
        "outputId": "3514c43e-e7a9-4c08-eafc-2b284dd2165b"
      },
      "source": [
        "#  Print the number of records in each target label\n",
        "\n",
        "print(\"Number of records in each label are\")\n",
        "print(df['target'].value_counts())"
      ],
      "execution_count": null,
      "outputs": [
        {
          "output_type": "stream",
          "name": "stdout",
          "text": [
            "Number of records in each label are\n",
            "target\n",
            "1    165\n",
            "0    138\n",
            "Name: count, dtype: int64\n"
          ]
        }
      ]
    },
    {
      "cell_type": "markdown",
      "metadata": {
        "id": "etZ02vtNsLKA"
      },
      "source": [
        "The target variable `target` has two values: `0` and `1`. This means that our dataset is composed of two classes or labels:\n",
        "\n",
        " - Class `0` - Patients NOT having heart disease\n",
        " - Class `1` - Patients having heart disease\n",
        "\n",
        "Hence, this is a **binary classification** problem where the target attribute can have only two possible values (e.g. `0` and `1`).\n",
        "\n",
        "\n",
        "\n",
        "Before we proceed for EDA, let's create separate DataFrames for features and the target column.\n",
        "\n",
        "1. Create a `features_df` DataFrame by dropping the `target` column from the original DataFrame.   \n",
        "\n",
        "2. Create a `target_df` DataFrame consisting of target values from the original DataFrame.\n",
        "\n",
        "Also, print the shape of the features and target DataFrames."
      ]
    },
    {
      "cell_type": "code",
      "metadata": {
        "id": "qY5CNVmKbUFP",
        "colab": {
          "base_uri": "https://localhost:8080/"
        },
        "outputId": "50155316-2933-4465-c6e1-d995fd1d9b97"
      },
      "source": [
        "# Create separate DataFrames for features and target\n",
        "features_df = df.drop('target', axis=1)\n",
        "target_df = df['target']\n",
        "\n",
        "# Print shape of features and target DataFrames\n",
        "print(features_df.shape)\n",
        "print(target_df.shape)"
      ],
      "execution_count": null,
      "outputs": [
        {
          "output_type": "stream",
          "name": "stdout",
          "text": [
            "(303, 13)\n",
            "(303,)\n"
          ]
        }
      ]
    },
    {
      "cell_type": "markdown",
      "metadata": {
        "id": "o3x6CR4feOMa"
      },
      "source": [
        "Here, we found there are `303` observation and `13` features.\n",
        "\n",
        "Let's proceed with basic data exploration and classifier design."
      ]
    },
    {
      "cell_type": "markdown",
      "metadata": {
        "id": "0B6K5_Ytf59x"
      },
      "source": [
        "---"
      ]
    },
    {
      "cell_type": "code",
      "source": [
        "df.head()"
      ],
      "metadata": {
        "colab": {
          "base_uri": "https://localhost:8080/",
          "height": 206
        },
        "id": "V5vCjSYcxoi3",
        "outputId": "73073c8a-e633-4b59-c55d-46ab5ce25cd2"
      },
      "execution_count": null,
      "outputs": [
        {
          "output_type": "execute_result",
          "data": {
            "text/plain": [
              "   age  sex  cp  trestbps  chol  fbs  restecg  thalach  exang  oldpeak  slope  \\\n",
              "0   63    1   3       145   233    1        0      150      0      2.3      0   \n",
              "1   37    1   2       130   250    0        1      187      0      3.5      0   \n",
              "2   41    0   1       130   204    0        0      172      0      1.4      2   \n",
              "3   56    1   1       120   236    0        1      178      0      0.8      2   \n",
              "4   57    0   0       120   354    0        1      163      1      0.6      2   \n",
              "\n",
              "   ca  thal  target  \n",
              "0   0     1       1  \n",
              "1   0     2       1  \n",
              "2   0     2       1  \n",
              "3   0     2       1  \n",
              "4   0     2       1  "
            ],
            "text/html": [
              "\n",
              "  <div id=\"df-ba90b966-e592-4f65-9fd0-cc6469add229\" class=\"colab-df-container\">\n",
              "    <div>\n",
              "<style scoped>\n",
              "    .dataframe tbody tr th:only-of-type {\n",
              "        vertical-align: middle;\n",
              "    }\n",
              "\n",
              "    .dataframe tbody tr th {\n",
              "        vertical-align: top;\n",
              "    }\n",
              "\n",
              "    .dataframe thead th {\n",
              "        text-align: right;\n",
              "    }\n",
              "</style>\n",
              "<table border=\"1\" class=\"dataframe\">\n",
              "  <thead>\n",
              "    <tr style=\"text-align: right;\">\n",
              "      <th></th>\n",
              "      <th>age</th>\n",
              "      <th>sex</th>\n",
              "      <th>cp</th>\n",
              "      <th>trestbps</th>\n",
              "      <th>chol</th>\n",
              "      <th>fbs</th>\n",
              "      <th>restecg</th>\n",
              "      <th>thalach</th>\n",
              "      <th>exang</th>\n",
              "      <th>oldpeak</th>\n",
              "      <th>slope</th>\n",
              "      <th>ca</th>\n",
              "      <th>thal</th>\n",
              "      <th>target</th>\n",
              "    </tr>\n",
              "  </thead>\n",
              "  <tbody>\n",
              "    <tr>\n",
              "      <th>0</th>\n",
              "      <td>63</td>\n",
              "      <td>1</td>\n",
              "      <td>3</td>\n",
              "      <td>145</td>\n",
              "      <td>233</td>\n",
              "      <td>1</td>\n",
              "      <td>0</td>\n",
              "      <td>150</td>\n",
              "      <td>0</td>\n",
              "      <td>2.3</td>\n",
              "      <td>0</td>\n",
              "      <td>0</td>\n",
              "      <td>1</td>\n",
              "      <td>1</td>\n",
              "    </tr>\n",
              "    <tr>\n",
              "      <th>1</th>\n",
              "      <td>37</td>\n",
              "      <td>1</td>\n",
              "      <td>2</td>\n",
              "      <td>130</td>\n",
              "      <td>250</td>\n",
              "      <td>0</td>\n",
              "      <td>1</td>\n",
              "      <td>187</td>\n",
              "      <td>0</td>\n",
              "      <td>3.5</td>\n",
              "      <td>0</td>\n",
              "      <td>0</td>\n",
              "      <td>2</td>\n",
              "      <td>1</td>\n",
              "    </tr>\n",
              "    <tr>\n",
              "      <th>2</th>\n",
              "      <td>41</td>\n",
              "      <td>0</td>\n",
              "      <td>1</td>\n",
              "      <td>130</td>\n",
              "      <td>204</td>\n",
              "      <td>0</td>\n",
              "      <td>0</td>\n",
              "      <td>172</td>\n",
              "      <td>0</td>\n",
              "      <td>1.4</td>\n",
              "      <td>2</td>\n",
              "      <td>0</td>\n",
              "      <td>2</td>\n",
              "      <td>1</td>\n",
              "    </tr>\n",
              "    <tr>\n",
              "      <th>3</th>\n",
              "      <td>56</td>\n",
              "      <td>1</td>\n",
              "      <td>1</td>\n",
              "      <td>120</td>\n",
              "      <td>236</td>\n",
              "      <td>0</td>\n",
              "      <td>1</td>\n",
              "      <td>178</td>\n",
              "      <td>0</td>\n",
              "      <td>0.8</td>\n",
              "      <td>2</td>\n",
              "      <td>0</td>\n",
              "      <td>2</td>\n",
              "      <td>1</td>\n",
              "    </tr>\n",
              "    <tr>\n",
              "      <th>4</th>\n",
              "      <td>57</td>\n",
              "      <td>0</td>\n",
              "      <td>0</td>\n",
              "      <td>120</td>\n",
              "      <td>354</td>\n",
              "      <td>0</td>\n",
              "      <td>1</td>\n",
              "      <td>163</td>\n",
              "      <td>1</td>\n",
              "      <td>0.6</td>\n",
              "      <td>2</td>\n",
              "      <td>0</td>\n",
              "      <td>2</td>\n",
              "      <td>1</td>\n",
              "    </tr>\n",
              "  </tbody>\n",
              "</table>\n",
              "</div>\n",
              "    <div class=\"colab-df-buttons\">\n",
              "\n",
              "  <div class=\"colab-df-container\">\n",
              "    <button class=\"colab-df-convert\" onclick=\"convertToInteractive('df-ba90b966-e592-4f65-9fd0-cc6469add229')\"\n",
              "            title=\"Convert this dataframe to an interactive table.\"\n",
              "            style=\"display:none;\">\n",
              "\n",
              "  <svg xmlns=\"http://www.w3.org/2000/svg\" height=\"24px\" viewBox=\"0 -960 960 960\">\n",
              "    <path d=\"M120-120v-720h720v720H120Zm60-500h600v-160H180v160Zm220 220h160v-160H400v160Zm0 220h160v-160H400v160ZM180-400h160v-160H180v160Zm440 0h160v-160H620v160ZM180-180h160v-160H180v160Zm440 0h160v-160H620v160Z\"/>\n",
              "  </svg>\n",
              "    </button>\n",
              "\n",
              "  <style>\n",
              "    .colab-df-container {\n",
              "      display:flex;\n",
              "      gap: 12px;\n",
              "    }\n",
              "\n",
              "    .colab-df-convert {\n",
              "      background-color: #E8F0FE;\n",
              "      border: none;\n",
              "      border-radius: 50%;\n",
              "      cursor: pointer;\n",
              "      display: none;\n",
              "      fill: #1967D2;\n",
              "      height: 32px;\n",
              "      padding: 0 0 0 0;\n",
              "      width: 32px;\n",
              "    }\n",
              "\n",
              "    .colab-df-convert:hover {\n",
              "      background-color: #E2EBFA;\n",
              "      box-shadow: 0px 1px 2px rgba(60, 64, 67, 0.3), 0px 1px 3px 1px rgba(60, 64, 67, 0.15);\n",
              "      fill: #174EA6;\n",
              "    }\n",
              "\n",
              "    .colab-df-buttons div {\n",
              "      margin-bottom: 4px;\n",
              "    }\n",
              "\n",
              "    [theme=dark] .colab-df-convert {\n",
              "      background-color: #3B4455;\n",
              "      fill: #D2E3FC;\n",
              "    }\n",
              "\n",
              "    [theme=dark] .colab-df-convert:hover {\n",
              "      background-color: #434B5C;\n",
              "      box-shadow: 0px 1px 3px 1px rgba(0, 0, 0, 0.15);\n",
              "      filter: drop-shadow(0px 1px 2px rgba(0, 0, 0, 0.3));\n",
              "      fill: #FFFFFF;\n",
              "    }\n",
              "  </style>\n",
              "\n",
              "    <script>\n",
              "      const buttonEl =\n",
              "        document.querySelector('#df-ba90b966-e592-4f65-9fd0-cc6469add229 button.colab-df-convert');\n",
              "      buttonEl.style.display =\n",
              "        google.colab.kernel.accessAllowed ? 'block' : 'none';\n",
              "\n",
              "      async function convertToInteractive(key) {\n",
              "        const element = document.querySelector('#df-ba90b966-e592-4f65-9fd0-cc6469add229');\n",
              "        const dataTable =\n",
              "          await google.colab.kernel.invokeFunction('convertToInteractive',\n",
              "                                                    [key], {});\n",
              "        if (!dataTable) return;\n",
              "\n",
              "        const docLinkHtml = 'Like what you see? Visit the ' +\n",
              "          '<a target=\"_blank\" href=https://colab.research.google.com/notebooks/data_table.ipynb>data table notebook</a>'\n",
              "          + ' to learn more about interactive tables.';\n",
              "        element.innerHTML = '';\n",
              "        dataTable['output_type'] = 'display_data';\n",
              "        await google.colab.output.renderOutput(dataTable, element);\n",
              "        const docLink = document.createElement('div');\n",
              "        docLink.innerHTML = docLinkHtml;\n",
              "        element.appendChild(docLink);\n",
              "      }\n",
              "    </script>\n",
              "  </div>\n",
              "\n",
              "\n",
              "<div id=\"df-d2c661f4-fcc5-4b48-b8e9-f0ec55ec9e79\">\n",
              "  <button class=\"colab-df-quickchart\" onclick=\"quickchart('df-d2c661f4-fcc5-4b48-b8e9-f0ec55ec9e79')\"\n",
              "            title=\"Suggest charts\"\n",
              "            style=\"display:none;\">\n",
              "\n",
              "<svg xmlns=\"http://www.w3.org/2000/svg\" height=\"24px\"viewBox=\"0 0 24 24\"\n",
              "     width=\"24px\">\n",
              "    <g>\n",
              "        <path d=\"M19 3H5c-1.1 0-2 .9-2 2v14c0 1.1.9 2 2 2h14c1.1 0 2-.9 2-2V5c0-1.1-.9-2-2-2zM9 17H7v-7h2v7zm4 0h-2V7h2v10zm4 0h-2v-4h2v4z\"/>\n",
              "    </g>\n",
              "</svg>\n",
              "  </button>\n",
              "\n",
              "<style>\n",
              "  .colab-df-quickchart {\n",
              "      --bg-color: #E8F0FE;\n",
              "      --fill-color: #1967D2;\n",
              "      --hover-bg-color: #E2EBFA;\n",
              "      --hover-fill-color: #174EA6;\n",
              "      --disabled-fill-color: #AAA;\n",
              "      --disabled-bg-color: #DDD;\n",
              "  }\n",
              "\n",
              "  [theme=dark] .colab-df-quickchart {\n",
              "      --bg-color: #3B4455;\n",
              "      --fill-color: #D2E3FC;\n",
              "      --hover-bg-color: #434B5C;\n",
              "      --hover-fill-color: #FFFFFF;\n",
              "      --disabled-bg-color: #3B4455;\n",
              "      --disabled-fill-color: #666;\n",
              "  }\n",
              "\n",
              "  .colab-df-quickchart {\n",
              "    background-color: var(--bg-color);\n",
              "    border: none;\n",
              "    border-radius: 50%;\n",
              "    cursor: pointer;\n",
              "    display: none;\n",
              "    fill: var(--fill-color);\n",
              "    height: 32px;\n",
              "    padding: 0;\n",
              "    width: 32px;\n",
              "  }\n",
              "\n",
              "  .colab-df-quickchart:hover {\n",
              "    background-color: var(--hover-bg-color);\n",
              "    box-shadow: 0 1px 2px rgba(60, 64, 67, 0.3), 0 1px 3px 1px rgba(60, 64, 67, 0.15);\n",
              "    fill: var(--button-hover-fill-color);\n",
              "  }\n",
              "\n",
              "  .colab-df-quickchart-complete:disabled,\n",
              "  .colab-df-quickchart-complete:disabled:hover {\n",
              "    background-color: var(--disabled-bg-color);\n",
              "    fill: var(--disabled-fill-color);\n",
              "    box-shadow: none;\n",
              "  }\n",
              "\n",
              "  .colab-df-spinner {\n",
              "    border: 2px solid var(--fill-color);\n",
              "    border-color: transparent;\n",
              "    border-bottom-color: var(--fill-color);\n",
              "    animation:\n",
              "      spin 1s steps(1) infinite;\n",
              "  }\n",
              "\n",
              "  @keyframes spin {\n",
              "    0% {\n",
              "      border-color: transparent;\n",
              "      border-bottom-color: var(--fill-color);\n",
              "      border-left-color: var(--fill-color);\n",
              "    }\n",
              "    20% {\n",
              "      border-color: transparent;\n",
              "      border-left-color: var(--fill-color);\n",
              "      border-top-color: var(--fill-color);\n",
              "    }\n",
              "    30% {\n",
              "      border-color: transparent;\n",
              "      border-left-color: var(--fill-color);\n",
              "      border-top-color: var(--fill-color);\n",
              "      border-right-color: var(--fill-color);\n",
              "    }\n",
              "    40% {\n",
              "      border-color: transparent;\n",
              "      border-right-color: var(--fill-color);\n",
              "      border-top-color: var(--fill-color);\n",
              "    }\n",
              "    60% {\n",
              "      border-color: transparent;\n",
              "      border-right-color: var(--fill-color);\n",
              "    }\n",
              "    80% {\n",
              "      border-color: transparent;\n",
              "      border-right-color: var(--fill-color);\n",
              "      border-bottom-color: var(--fill-color);\n",
              "    }\n",
              "    90% {\n",
              "      border-color: transparent;\n",
              "      border-bottom-color: var(--fill-color);\n",
              "    }\n",
              "  }\n",
              "</style>\n",
              "\n",
              "  <script>\n",
              "    async function quickchart(key) {\n",
              "      const quickchartButtonEl =\n",
              "        document.querySelector('#' + key + ' button');\n",
              "      quickchartButtonEl.disabled = true;  // To prevent multiple clicks.\n",
              "      quickchartButtonEl.classList.add('colab-df-spinner');\n",
              "      try {\n",
              "        const charts = await google.colab.kernel.invokeFunction(\n",
              "            'suggestCharts', [key], {});\n",
              "      } catch (error) {\n",
              "        console.error('Error during call to suggestCharts:', error);\n",
              "      }\n",
              "      quickchartButtonEl.classList.remove('colab-df-spinner');\n",
              "      quickchartButtonEl.classList.add('colab-df-quickchart-complete');\n",
              "    }\n",
              "    (() => {\n",
              "      let quickchartButtonEl =\n",
              "        document.querySelector('#df-d2c661f4-fcc5-4b48-b8e9-f0ec55ec9e79 button');\n",
              "      quickchartButtonEl.style.display =\n",
              "        google.colab.kernel.accessAllowed ? 'block' : 'none';\n",
              "    })();\n",
              "  </script>\n",
              "</div>\n",
              "\n",
              "    </div>\n",
              "  </div>\n"
            ],
            "application/vnd.google.colaboratory.intrinsic+json": {
              "type": "dataframe",
              "variable_name": "df",
              "summary": "{\n  \"name\": \"df\",\n  \"rows\": 303,\n  \"fields\": [\n    {\n      \"column\": \"age\",\n      \"properties\": {\n        \"dtype\": \"number\",\n        \"std\": 9,\n        \"min\": 29,\n        \"max\": 77,\n        \"num_unique_values\": 41,\n        \"samples\": [\n          46,\n          66,\n          48\n        ],\n        \"semantic_type\": \"\",\n        \"description\": \"\"\n      }\n    },\n    {\n      \"column\": \"sex\",\n      \"properties\": {\n        \"dtype\": \"number\",\n        \"std\": 0,\n        \"min\": 0,\n        \"max\": 1,\n        \"num_unique_values\": 2,\n        \"samples\": [\n          0,\n          1\n        ],\n        \"semantic_type\": \"\",\n        \"description\": \"\"\n      }\n    },\n    {\n      \"column\": \"cp\",\n      \"properties\": {\n        \"dtype\": \"number\",\n        \"std\": 1,\n        \"min\": 0,\n        \"max\": 3,\n        \"num_unique_values\": 4,\n        \"samples\": [\n          2,\n          0\n        ],\n        \"semantic_type\": \"\",\n        \"description\": \"\"\n      }\n    },\n    {\n      \"column\": \"trestbps\",\n      \"properties\": {\n        \"dtype\": \"number\",\n        \"std\": 17,\n        \"min\": 94,\n        \"max\": 200,\n        \"num_unique_values\": 49,\n        \"samples\": [\n          104,\n          123\n        ],\n        \"semantic_type\": \"\",\n        \"description\": \"\"\n      }\n    },\n    {\n      \"column\": \"chol\",\n      \"properties\": {\n        \"dtype\": \"number\",\n        \"std\": 51,\n        \"min\": 126,\n        \"max\": 564,\n        \"num_unique_values\": 152,\n        \"samples\": [\n          277,\n          169\n        ],\n        \"semantic_type\": \"\",\n        \"description\": \"\"\n      }\n    },\n    {\n      \"column\": \"fbs\",\n      \"properties\": {\n        \"dtype\": \"number\",\n        \"std\": 0,\n        \"min\": 0,\n        \"max\": 1,\n        \"num_unique_values\": 2,\n        \"samples\": [\n          0,\n          1\n        ],\n        \"semantic_type\": \"\",\n        \"description\": \"\"\n      }\n    },\n    {\n      \"column\": \"restecg\",\n      \"properties\": {\n        \"dtype\": \"number\",\n        \"std\": 0,\n        \"min\": 0,\n        \"max\": 2,\n        \"num_unique_values\": 3,\n        \"samples\": [\n          0,\n          1\n        ],\n        \"semantic_type\": \"\",\n        \"description\": \"\"\n      }\n    },\n    {\n      \"column\": \"thalach\",\n      \"properties\": {\n        \"dtype\": \"number\",\n        \"std\": 22,\n        \"min\": 71,\n        \"max\": 202,\n        \"num_unique_values\": 91,\n        \"samples\": [\n          159,\n          152\n        ],\n        \"semantic_type\": \"\",\n        \"description\": \"\"\n      }\n    },\n    {\n      \"column\": \"exang\",\n      \"properties\": {\n        \"dtype\": \"number\",\n        \"std\": 0,\n        \"min\": 0,\n        \"max\": 1,\n        \"num_unique_values\": 2,\n        \"samples\": [\n          1,\n          0\n        ],\n        \"semantic_type\": \"\",\n        \"description\": \"\"\n      }\n    },\n    {\n      \"column\": \"oldpeak\",\n      \"properties\": {\n        \"dtype\": \"number\",\n        \"std\": 1.1610750220686343,\n        \"min\": 0.0,\n        \"max\": 6.2,\n        \"num_unique_values\": 40,\n        \"samples\": [\n          1.9,\n          3.0\n        ],\n        \"semantic_type\": \"\",\n        \"description\": \"\"\n      }\n    },\n    {\n      \"column\": \"slope\",\n      \"properties\": {\n        \"dtype\": \"number\",\n        \"std\": 0,\n        \"min\": 0,\n        \"max\": 2,\n        \"num_unique_values\": 3,\n        \"samples\": [\n          0,\n          2\n        ],\n        \"semantic_type\": \"\",\n        \"description\": \"\"\n      }\n    },\n    {\n      \"column\": \"ca\",\n      \"properties\": {\n        \"dtype\": \"number\",\n        \"std\": 1,\n        \"min\": 0,\n        \"max\": 4,\n        \"num_unique_values\": 5,\n        \"samples\": [\n          2,\n          4\n        ],\n        \"semantic_type\": \"\",\n        \"description\": \"\"\n      }\n    },\n    {\n      \"column\": \"thal\",\n      \"properties\": {\n        \"dtype\": \"number\",\n        \"std\": 0,\n        \"min\": 0,\n        \"max\": 3,\n        \"num_unique_values\": 4,\n        \"samples\": [\n          2,\n          0\n        ],\n        \"semantic_type\": \"\",\n        \"description\": \"\"\n      }\n    },\n    {\n      \"column\": \"target\",\n      \"properties\": {\n        \"dtype\": \"number\",\n        \"std\": 0,\n        \"min\": 0,\n        \"max\": 1,\n        \"num_unique_values\": 2,\n        \"samples\": [\n          0,\n          1\n        ],\n        \"semantic_type\": \"\",\n        \"description\": \"\"\n      }\n    }\n  ]\n}"
            }
          },
          "metadata": {},
          "execution_count": 5
        }
      ]
    },
    {
      "cell_type": "markdown",
      "metadata": {
        "id": "IpfEMXIjtPNz"
      },
      "source": [
        "#### Activity 2: EDA and Train-Test Split\n",
        "\n",
        "In one of the previous lessons, we had already performed the exploratory data analysis in detail for the dataset. Hence, here let's check for data distribution, outliers, and correlation among the features.\n",
        "\n",
        "From the dataset description and DataFrame,  it is clear that the features: `age`, `trestbps`, `chol`, `thalach`, `oldpeak` are continuous numeric features whereas various rest of the features are categorical with feature `cp` having 4 unique values.\n",
        "\n",
        "1.  Create boxplots for the continuous numeric features (`age`, `trestbps`, `chol`, `thalach`, `oldpeak`) with respect to the `sex` of the patient while setting the `hue = 'target'` using subplots.\n",
        "\n",
        "2. create countplot for `cp` showing the number of values for each target label by setting `hue = 'target'`.\n"
      ]
    },
    {
      "cell_type": "code",
      "metadata": {
        "colab": {
          "base_uri": "https://localhost:8080/",
          "height": 745
        },
        "id": "RT9oO_T8tJ4W",
        "outputId": "f6d27a52-e20b-4538-af84-1ee13157197a"
      },
      "source": [
        "#  Obtain boxplot for continuous features\n",
        "# Prepare a subplot with rows = 2 and columns = 3\n",
        "fig, axis = plt.subplots(nrows = 2, ncols = 3, figsize = (14, 8), dpi = 96, sharey = False)\n",
        "\n",
        "# Box-Plot 'age' vs 'sex' with hue = 'target' in (0,0) axis\n",
        "sns.boxplot(y = 'age', x = 'sex', hue = 'target', data = df, ax = axis[0, 0])\n",
        "\n",
        "# Box-Plot 'age' vs 'trestbps' with hue = 'target' in (0,1) axis\n",
        "sns.boxplot(y = 'trestbps', x = 'sex', hue = 'target', data = df, ax = axis[0, 1])\n",
        "\n",
        "# Box-Plot 'age' vs 'chol' with hue = 'target' in (0,2) axis\n",
        "sns.boxplot(y = 'chol', x = 'sex', hue = 'target', data = df, ax = axis[0, 2])\n",
        "\n",
        "# Box-Plot 'age' vs 'thalach' with hue = 'target' in (1,0) axis\n",
        "sns.boxplot(y = 'thalach', x = 'sex', hue = 'target', data = df, ax = axis[1, 0])\n",
        "\n",
        "# Box-Plot 'age' vs 'oldpeak' with hue = 'target' in (1,1) axis\n",
        "sns.boxplot(y = 'oldpeak', x = 'sex', hue = 'target', data = df, ax = axis[1, 1])\n",
        "\n",
        "# Count-Plot of 'cp' with hue = 'target in (1,2) axis\n",
        "sns.countplot(x = 'cp', hue = 'target', data = df, ax = axis[1, 2])\n",
        "fig.suptitle('Box Plots Showing Distribution of Continuous Features')\n",
        "plt.show()"
      ],
      "execution_count": null,
      "outputs": [
        {
          "output_type": "display_data",
          "data": {
            "text/plain": [
              "<Figure size 1344x768 with 6 Axes>"
            ],
            "image/png": "[encoded data removed]"
          },
          "metadata": {}
        }
      ]
    },
    {
      "cell_type": "markdown",
      "metadata": {
        "id": "M_xuF1JAbUMn"
      },
      "source": [
        "Here we observe there are no significant outliers in the dataset. Also, we observe that the majority of the `cp` values are `0`.\n",
        "\n",
        "Next, let's explore the correlation matrix for the entire dataset to see which features contribute higher towards a patient exhibiting probability of heart disease."
      ]
    },
    {
      "cell_type": "code",
      "metadata": {
        "colab": {
          "base_uri": "https://localhost:8080/",
          "height": 913
        },
        "id": "Hf0kVbegk_Rj",
        "outputId": "1f9c2c8f-199f-47c5-d653-f53a7cc99c6c"
      },
      "source": [
        "#  Obtain the correlation heatmap\n",
        "\n",
        "corr_df = df.corr()\n",
        "plt.figure(figsize = (15, 11))\n",
        "sns.heatmap(corr_df, annot = True)\n",
        "plt.show()"
      ],
      "execution_count": null,
      "outputs": [
        {
          "output_type": "display_data",
          "data": {
            "text/plain": [
              "<Figure size 1500x1100 with 2 Axes>"
            ],
            "image/png": "[encoded data removed]"
          },
          "metadata": {}
        }
      ]
    },
    {
      "cell_type": "markdown",
      "metadata": {
        "id": "rebbe3DHk-6y"
      },
      "source": [
        "Of the 13 features in the dataset features: `cp`, `thalach`, `slope` show highest positive correlation and the feaures: `exang`, `oldpeak`, `ca`, `thal` show highest negative correlation with `target`. Surprisingly, cholesterol (`chol`) does not exhibit a higher correlation value.\n",
        "\n",
        "Before we proceed with the classifier design let's split the dataset into train-test sets."
      ]
    },
    {
      "cell_type": "code",
      "metadata": {
        "colab": {
          "base_uri": "https://localhost:8080/"
        },
        "id": "7n5G-iyNbUMn",
        "outputId": "476f380a-da0f-44e0-a2b1-3c3f78eebcc0"
      },
      "source": [
        "# Import train_test_split function\n",
        "from sklearn.model_selection import train_test_split\n",
        "\n",
        "# Split dataset into training set and test set\n",
        "X_train, X_test, y_train, y_test = train_test_split(features_df, target_df, test_size = 0.3, random_state = 42, stratify = target_df)\n",
        "\n",
        "# Print the shape of train and test sets.\n",
        "print(\"Shape of X_train:\", X_train.shape)\n",
        "print(\"Shape of X_test:\", X_test.shape)\n",
        "print(\"Shape of y_train:\", y_train.shape)\n",
        "print(\"Shape of y_test:\", y_test.shape)"
      ],
      "execution_count": null,
      "outputs": [
        {
          "output_type": "stream",
          "name": "stdout",
          "text": [
            "Shape of X_train: (212, 13)\n",
            "Shape of X_test: (91, 13)\n",
            "Shape of y_train: (212,)\n",
            "Shape of y_test: (91,)\n"
          ]
        }
      ]
    },
    {
      "cell_type": "markdown",
      "source": [
        "Here, we got the dimension of train set of features dataset is `(212, 13)` and target dataset is `(212,)`. Dimension of test set of features dataset is `(91, 13)` and target dataset is `(91,)`."
      ],
      "metadata": {
        "id": "pM6njc_-iNrX"
      }
    },
    {
      "cell_type": "markdown",
      "metadata": {
        "id": "uFfl1SkgtMD0"
      },
      "source": [
        "---"
      ]
    },
    {
      "cell_type": "markdown",
      "metadata": {
        "id": "CR-15y72gIC-"
      },
      "source": [
        "#### Activity 3: Naive Bayes Classifier\n",
        "\n",
        "Naive Bayes is a simple algorithm which falls under Supervised Learning technique. Why is it called Naive Bayes?\n",
        "\n",
        "- **Naive:** It is called naive as it is based on a simple assumption that all the features of dataset are mutually independent.\n",
        "\n",
        "- **Bayes:** It is based on **Bayes Theorem**.\n",
        "\n",
        "<br>\n",
        "\n",
        "Bayes theorem is based on **Conditional Probability** which states that something will happen, given that something else has already occurred. By using conditional probability, we can find out the probability of an event will occur given the knowledge of the previous event.\n",
        "\n",
        "Calculating conditional probability is as simple as predicting the chances of Lionel Messi scoring a goal based on his form (goals scored in recent matches) and opponent team.\n",
        "\n",
        "<br>\n",
        "\n",
        "Mathematically Bayes' theorem can be expressed as:\n",
        "\n",
        "\\begin{align}\n",
        "P(A|B) = \\frac{P(B|A).P(A)}{P(B)}\n",
        "\\end{align}\n",
        "\n",
        "Where,\n",
        "\n",
        "- $P(A|B)$ is **Posterior probability** i.e. probability of event A given value of event B.\n",
        "\n",
        "- $P(B|A)$ is **Likelihood** of event B given event A is true.\n",
        "\n",
        "- $P(A)$ is **Prior probability**, probability of event A.\n",
        "\n",
        "- $P(B)$ is **Marginal probability** or **Evidence**, probability of event B.\n",
        "\n",
        "<br>\n",
        "\n",
        "\n",
        "💡 Don't worry if it feels a bit complicated, we will explore each of these terms along with `GaussianNB` classifier with sufficient details using simple examples in the next lesson.\n",
        "\n",
        "<br>\n",
        "\n",
        "---\n",
        "\n",
        "<br>\n",
        "\n",
        "For now, let us focus on building a classifier using the `sklearn` module for the given problem statement. To construct a classifier using Naive Bayes:\n",
        "\n",
        "1. Import the required library which contains methods and attributes to design a Naive Bayes classifier.\n",
        "\n",
        "  ```python\n",
        "  from sklearn.naive_bayes import GuassianNB\n",
        "  ```\n",
        "2. Create an object (say `nb_clf`) of the `GaussianNB()` constructor.\n",
        "\n",
        "4. Call the `fit()` function on the above constructor with train features and target variables as inputs.\n",
        "\n",
        "5. Get the predicted target values for both train and test sets by calling the `predict()` function on `nb_clf`.\n",
        "\n",
        "6. Get the accuracy score on both train and test sets by calling the `score()` function on the classifier object.\n",
        "\n",
        "\n"
      ]
    },
    {
      "cell_type": "code",
      "metadata": {
        "colab": {
          "base_uri": "https://localhost:8080/"
        },
        "id": "a0pqliiMbUMo",
        "outputId": "4b8977f5-6f46-440c-c628-2508062546e1"
      },
      "source": [
        "#  Create Naive Bayes Classifier\n",
        "\n",
        "# Import the required library\n",
        "from sklearn.naive_bayes import GaussianNB\n",
        "\n",
        "# Modeling the NB classifier\n",
        "nb_clf = GaussianNB()\n",
        "nb_clf.fit(X_train, y_train)\n",
        "\n",
        "# Predicting the train and test sets\n",
        "y_train_predict_nb = nb_clf.predict(X_train)\n",
        "y_test_predict_nb = nb_clf.predict(X_test)\n",
        "\n",
        "# Evaluating accuracy scores\n",
        "print('Accuracy on the training set: {:.2f}'.format(nb_clf.score(X_train, y_train)))\n",
        "print('Accuracy on the test set: {:.2f}'.format(nb_clf.score(X_test, y_test)))"
      ],
      "execution_count": null,
      "outputs": [
        {
          "output_type": "stream",
          "name": "stdout",
          "text": [
            "Accuracy on the training set: 0.86\n",
            "Accuracy on the test set: 0.79\n"
          ]
        }
      ]
    },
    {
      "cell_type": "markdown",
      "metadata": {
        "id": "oHJr6uiJq0Ow"
      },
      "source": [
        "The accuracy scores seems promising. Let us also plot a confusion matrix and print classification report for the test set."
      ]
    },
    {
      "cell_type": "code",
      "metadata": {
        "colab": {
          "base_uri": "https://localhost:8080/"
        },
        "id": "u4KlbPZvbUMo",
        "outputId": "69ba9bf5-d48a-46e0-916e-48eae0048647"
      },
      "source": [
        "#  Obtain the confusion matrix for the classifier\n",
        "import warnings\n",
        "warnings.filterwarnings(\"ignore\")\n",
        "\n",
        "from sklearn.metrics import confusion_matrix, classification_report\n",
        "print(confusion_matrix(y_test, y_test_predict_nb))\n",
        "print(classification_report(y_test, y_test_predict_nb))"
      ],
      "execution_count": null,
      "outputs": [
        {
          "output_type": "stream",
          "name": "stdout",
          "text": [
            "[[29 12]\n",
            " [ 7 43]]\n",
            "              precision    recall  f1-score   support\n",
            "\n",
            "           0       0.81      0.71      0.75        41\n",
            "           1       0.78      0.86      0.82        50\n",
            "\n",
            "    accuracy                           0.79        91\n",
            "   macro avg       0.79      0.78      0.79        91\n",
            "weighted avg       0.79      0.79      0.79        91\n",
            "\n"
          ]
        }
      ]
    },
    {
      "cell_type": "markdown",
      "metadata": {
        "id": "0g4Wst_Qxeq_"
      },
      "source": [
        "The accuracy scores, precision, recall and f1-score seems promising for the test dataset with a total of only $12 + 7 = 19$ misclassified cases.\n",
        "\n",
        "Next let us build a logistic regression based classifier to set a benchmark for performance."
      ]
    },
    {
      "cell_type": "markdown",
      "metadata": {
        "id": "6_ZcgNymtKQv"
      },
      "source": [
        "---"
      ]
    },
    {
      "cell_type": "code",
      "source": [
        "df[\"cp\"].nunique()"
      ],
      "metadata": {
        "colab": {
          "base_uri": "https://localhost:8080/"
        },
        "id": "ntQ3D0n53CEB",
        "outputId": "3b5444a9-566a-4fd2-c6e9-f5717a78d734"
      },
      "execution_count": null,
      "outputs": [
        {
          "output_type": "execute_result",
          "data": {
            "text/plain": [
              "4"
            ]
          },
          "metadata": {},
          "execution_count": 13
        }
      ]
    },
    {
      "cell_type": "code",
      "source": [
        "df[\"cp\"].unique()"
      ],
      "metadata": {
        "colab": {
          "base_uri": "https://localhost:8080/"
        },
        "id": "xGX0PYMX3m51",
        "outputId": "d39c664e-de24-4540-c8cb-4aa3ffeade56"
      },
      "execution_count": null,
      "outputs": [
        {
          "output_type": "execute_result",
          "data": {
            "text/plain": [
              "array([3, 2, 1, 0])"
            ]
          },
          "metadata": {},
          "execution_count": 14
        }
      ]
    },
    {
      "cell_type": "code",
      "source": [
        "df[\"cp\"].value_counts()"
      ],
      "metadata": {
        "colab": {
          "base_uri": "https://localhost:8080/",
          "height": 241
        },
        "id": "SXu006j33szA",
        "outputId": "7baefdd3-6153-47cb-d4d2-a1bf05745878"
      },
      "execution_count": null,
      "outputs": [
        {
          "output_type": "execute_result",
          "data": {
            "text/plain": [
              "cp\n",
              "0    143\n",
              "2     87\n",
              "1     50\n",
              "3     23\n",
              "Name: count, dtype: int64"
            ],
            "text/html": [
              "<div>\n",
              "<style scoped>\n",
              "    .dataframe tbody tr th:only-of-type {\n",
              "        vertical-align: middle;\n",
              "    }\n",
              "\n",
              "    .dataframe tbody tr th {\n",
              "        vertical-align: top;\n",
              "    }\n",
              "\n",
              "    .dataframe thead th {\n",
              "        text-align: right;\n",
              "    }\n",
              "</style>\n",
              "<table border=\"1\" class=\"dataframe\">\n",
              "  <thead>\n",
              "    <tr style=\"text-align: right;\">\n",
              "      <th></th>\n",
              "      <th>count</th>\n",
              "    </tr>\n",
              "    <tr>\n",
              "      <th>cp</th>\n",
              "      <th></th>\n",
              "    </tr>\n",
              "  </thead>\n",
              "  <tbody>\n",
              "    <tr>\n",
              "      <th>0</th>\n",
              "      <td>143</td>\n",
              "    </tr>\n",
              "    <tr>\n",
              "      <th>2</th>\n",
              "      <td>87</td>\n",
              "    </tr>\n",
              "    <tr>\n",
              "      <th>1</th>\n",
              "      <td>50</td>\n",
              "    </tr>\n",
              "    <tr>\n",
              "      <th>3</th>\n",
              "      <td>23</td>\n",
              "    </tr>\n",
              "  </tbody>\n",
              "</table>\n",
              "</div><br><label><b>dtype:</b> int64</label>"
            ]
          },
          "metadata": {},
          "execution_count": 15
        }
      ]
    },
    {
      "cell_type": "markdown",
      "metadata": {
        "id": "L4z4MOdAPFUE"
      },
      "source": [
        "#### Activity 4: Logistic Regression\n",
        "\n",
        "Before we proceed with classifier design, let's normalise the dataset. Before that, let us obtain a list of features that contain only two unique values i.e. `0` and `1`."
      ]
    },
    {
      "cell_type": "code",
      "metadata": {
        "id": "4g-cVNqEmtYB",
        "colab": {
          "base_uri": "https://localhost:8080/"
        },
        "outputId": "5b98e622-2de0-4225-baf1-db097d9c757a"
      },
      "source": [
        "#Obtain a list of discrete features\n",
        "discrete_features = []\n",
        "for feature in features_df.columns:\n",
        "  if features_df[feature].nunique() < 3:\n",
        "    discrete_features.append(feature)\n",
        "\n",
        "print(\"Discrete Features:\", discrete_features)\n",
        "print('Count of Discrete features:', len(discrete_features))"
      ],
      "execution_count": null,
      "outputs": [
        {
          "output_type": "stream",
          "name": "stdout",
          "text": [
            "Discrete Features: ['sex', 'fbs', 'exang']\n",
            "Count of Discrete features: 3\n"
          ]
        }
      ]
    },
    {
      "cell_type": "markdown",
      "metadata": {
        "id": "jJbDDv1rwwte"
      },
      "source": [
        "Hence, 3 discrete features contains only two unique values `0` and `1`. We will  use `StandardScaler` to scale all the feature variables excluding these 3 discrete features as their values already lie in the range `[0, 1]`.\n",
        "\n"
      ]
    },
    {
      "cell_type": "code",
      "metadata": {
        "colab": {
          "base_uri": "https://localhost:8080/",
          "height": 206
        },
        "id": "THyrb8eDwznu",
        "outputId": "22116ed9-a025-40c0-da0c-a65d2a6aa5d5"
      },
      "source": [
        "# Normalise the feature values.\n",
        "from sklearn.preprocessing import StandardScaler\n",
        "\n",
        "continuous_features = features_df.drop(discrete_features, axis = 1)\n",
        "\n",
        "standard_scaler = StandardScaler()\n",
        "scaled_features = standard_scaler.fit_transform(continuous_features)\n",
        "X_cont_scaled = pd.DataFrame(scaled_features)\n",
        "X_cont_scaled.columns = continuous_features.columns\n",
        "X_cont_scaled.head()"
      ],
      "execution_count": null,
      "outputs": [
        {
          "output_type": "execute_result",
          "data": {
            "text/plain": [
              "        age        cp  trestbps      chol   restecg   thalach   oldpeak  \\\n",
              "0  0.952197  1.973123  0.763956 -0.256334 -1.005832  0.015443  1.087338   \n",
              "1 -1.915313  1.002577 -0.092738  0.072199  0.898962  1.633471  2.122573   \n",
              "2 -1.474158  0.032031 -0.092738 -0.816773 -1.005832  0.977514  0.310912   \n",
              "3  0.180175  0.032031 -0.663867 -0.198357  0.898962  1.239897 -0.206705   \n",
              "4  0.290464 -0.938515 -0.663867  2.082050  0.898962  0.583939 -0.379244   \n",
              "\n",
              "      slope        ca      thal  \n",
              "0 -2.274579 -0.714429 -2.148873  \n",
              "1 -2.274579 -0.714429 -0.512922  \n",
              "2  0.976352 -0.714429 -0.512922  \n",
              "3  0.976352 -0.714429 -0.512922  \n",
              "4  0.976352 -0.714429 -0.512922  "
            ],
            "text/html": [
              "\n",
              "  <div id=\"df-6f3aa83f-9dee-4503-a274-0d71fedde69f\" class=\"colab-df-container\">\n",
              "    <div>\n",
              "<style scoped>\n",
              "    .dataframe tbody tr th:only-of-type {\n",
              "        vertical-align: middle;\n",
              "    }\n",
              "\n",
              "    .dataframe tbody tr th {\n",
              "        vertical-align: top;\n",
              "    }\n",
              "\n",
              "    .dataframe thead th {\n",
              "        text-align: right;\n",
              "    }\n",
              "</style>\n",
              "<table border=\"1\" class=\"dataframe\">\n",
              "  <thead>\n",
              "    <tr style=\"text-align: right;\">\n",
              "      <th></th>\n",
              "      <th>age</th>\n",
              "      <th>cp</th>\n",
              "      <th>trestbps</th>\n",
              "      <th>chol</th>\n",
              "      <th>restecg</th>\n",
              "      <th>thalach</th>\n",
              "      <th>oldpeak</th>\n",
              "      <th>slope</th>\n",
              "      <th>ca</th>\n",
              "      <th>thal</th>\n",
              "    </tr>\n",
              "  </thead>\n",
              "  <tbody>\n",
              "    <tr>\n",
              "      <th>0</th>\n",
              "      <td>0.952197</td>\n",
              "      <td>1.973123</td>\n",
              "      <td>0.763956</td>\n",
              "      <td>-0.256334</td>\n",
              "      <td>-1.005832</td>\n",
              "      <td>0.015443</td>\n",
              "      <td>1.087338</td>\n",
              "      <td>-2.274579</td>\n",
              "      <td>-0.714429</td>\n",
              "      <td>-2.148873</td>\n",
              "    </tr>\n",
              "    <tr>\n",
              "      <th>1</th>\n",
              "      <td>-1.915313</td>\n",
              "      <td>1.002577</td>\n",
              "      <td>-0.092738</td>\n",
              "      <td>0.072199</td>\n",
              "      <td>0.898962</td>\n",
              "      <td>1.633471</td>\n",
              "      <td>2.122573</td>\n",
              "      <td>-2.274579</td>\n",
              "      <td>-0.714429</td>\n",
              "      <td>-0.512922</td>\n",
              "    </tr>\n",
              "    <tr>\n",
              "      <th>2</th>\n",
              "      <td>-1.474158</td>\n",
              "      <td>0.032031</td>\n",
              "      <td>-0.092738</td>\n",
              "      <td>-0.816773</td>\n",
              "      <td>-1.005832</td>\n",
              "      <td>0.977514</td>\n",
              "      <td>0.310912</td>\n",
              "      <td>0.976352</td>\n",
              "      <td>-0.714429</td>\n",
              "      <td>-0.512922</td>\n",
              "    </tr>\n",
              "    <tr>\n",
              "      <th>3</th>\n",
              "      <td>0.180175</td>\n",
              "      <td>0.032031</td>\n",
              "      <td>-0.663867</td>\n",
              "      <td>-0.198357</td>\n",
              "      <td>0.898962</td>\n",
              "      <td>1.239897</td>\n",
              "      <td>-0.206705</td>\n",
              "      <td>0.976352</td>\n",
              "      <td>-0.714429</td>\n",
              "      <td>-0.512922</td>\n",
              "    </tr>\n",
              "    <tr>\n",
              "      <th>4</th>\n",
              "      <td>0.290464</td>\n",
              "      <td>-0.938515</td>\n",
              "      <td>-0.663867</td>\n",
              "      <td>2.082050</td>\n",
              "      <td>0.898962</td>\n",
              "      <td>0.583939</td>\n",
              "      <td>-0.379244</td>\n",
              "      <td>0.976352</td>\n",
              "      <td>-0.714429</td>\n",
              "      <td>-0.512922</td>\n",
              "    </tr>\n",
              "  </tbody>\n",
              "</table>\n",
              "</div>\n",
              "    <div class=\"colab-df-buttons\">\n",
              "\n",
              "  <div class=\"colab-df-container\">\n",
              "    <button class=\"colab-df-convert\" onclick=\"convertToInteractive('df-6f3aa83f-9dee-4503-a274-0d71fedde69f')\"\n",
              "            title=\"Convert this dataframe to an interactive table.\"\n",
              "            style=\"display:none;\">\n",
              "\n",
              "  <svg xmlns=\"http://www.w3.org/2000/svg\" height=\"24px\" viewBox=\"0 -960 960 960\">\n",
              "    <path d=\"M120-120v-720h720v720H120Zm60-500h600v-160H180v160Zm220 220h160v-160H400v160Zm0 220h160v-160H400v160ZM180-400h160v-160H180v160Zm440 0h160v-160H620v160ZM180-180h160v-160H180v160Zm440 0h160v-160H620v160Z\"/>\n",
              "  </svg>\n",
              "    </button>\n",
              "\n",
              "  <style>\n",
              "    .colab-df-container {\n",
              "      display:flex;\n",
              "      gap: 12px;\n",
              "    }\n",
              "\n",
              "    .colab-df-convert {\n",
              "      background-color: #E8F0FE;\n",
              "      border: none;\n",
              "      border-radius: 50%;\n",
              "      cursor: pointer;\n",
              "      display: none;\n",
              "      fill: #1967D2;\n",
              "      height: 32px;\n",
              "      padding: 0 0 0 0;\n",
              "      width: 32px;\n",
              "    }\n",
              "\n",
              "    .colab-df-convert:hover {\n",
              "      background-color: #E2EBFA;\n",
              "      box-shadow: 0px 1px 2px rgba(60, 64, 67, 0.3), 0px 1px 3px 1px rgba(60, 64, 67, 0.15);\n",
              "      fill: #174EA6;\n",
              "    }\n",
              "\n",
              "    .colab-df-buttons div {\n",
              "      margin-bottom: 4px;\n",
              "    }\n",
              "\n",
              "    [theme=dark] .colab-df-convert {\n",
              "      background-color: #3B4455;\n",
              "      fill: #D2E3FC;\n",
              "    }\n",
              "\n",
              "    [theme=dark] .colab-df-convert:hover {\n",
              "      background-color: #434B5C;\n",
              "      box-shadow: 0px 1px 3px 1px rgba(0, 0, 0, 0.15);\n",
              "      filter: drop-shadow(0px 1px 2px rgba(0, 0, 0, 0.3));\n",
              "      fill: #FFFFFF;\n",
              "    }\n",
              "  </style>\n",
              "\n",
              "    <script>\n",
              "      const buttonEl =\n",
              "        document.querySelector('#df-6f3aa83f-9dee-4503-a274-0d71fedde69f button.colab-df-convert');\n",
              "      buttonEl.style.display =\n",
              "        google.colab.kernel.accessAllowed ? 'block' : 'none';\n",
              "\n",
              "      async function convertToInteractive(key) {\n",
              "        const element = document.querySelector('#df-6f3aa83f-9dee-4503-a274-0d71fedde69f');\n",
              "        const dataTable =\n",
              "          await google.colab.kernel.invokeFunction('convertToInteractive',\n",
              "                                                    [key], {});\n",
              "        if (!dataTable) return;\n",
              "\n",
              "        const docLinkHtml = 'Like what you see? Visit the ' +\n",
              "          '<a target=\"_blank\" href=https://colab.research.google.com/notebooks/data_table.ipynb>data table notebook</a>'\n",
              "          + ' to learn more about interactive tables.';\n",
              "        element.innerHTML = '';\n",
              "        dataTable['output_type'] = 'display_data';\n",
              "        await google.colab.output.renderOutput(dataTable, element);\n",
              "        const docLink = document.createElement('div');\n",
              "        docLink.innerHTML = docLinkHtml;\n",
              "        element.appendChild(docLink);\n",
              "      }\n",
              "    </script>\n",
              "  </div>\n",
              "\n",
              "\n",
              "<div id=\"df-f8acab9e-bdf8-48ec-824c-126d9aab34fb\">\n",
              "  <button class=\"colab-df-quickchart\" onclick=\"quickchart('df-f8acab9e-bdf8-48ec-824c-126d9aab34fb')\"\n",
              "            title=\"Suggest charts\"\n",
              "            style=\"display:none;\">\n",
              "\n",
              "<svg xmlns=\"http://www.w3.org/2000/svg\" height=\"24px\"viewBox=\"0 0 24 24\"\n",
              "     width=\"24px\">\n",
              "    <g>\n",
              "        <path d=\"M19 3H5c-1.1 0-2 .9-2 2v14c0 1.1.9 2 2 2h14c1.1 0 2-.9 2-2V5c0-1.1-.9-2-2-2zM9 17H7v-7h2v7zm4 0h-2V7h2v10zm4 0h-2v-4h2v4z\"/>\n",
              "    </g>\n",
              "</svg>\n",
              "  </button>\n",
              "\n",
              "<style>\n",
              "  .colab-df-quickchart {\n",
              "      --bg-color: #E8F0FE;\n",
              "      --fill-color: #1967D2;\n",
              "      --hover-bg-color: #E2EBFA;\n",
              "      --hover-fill-color: #174EA6;\n",
              "      --disabled-fill-color: #AAA;\n",
              "      --disabled-bg-color: #DDD;\n",
              "  }\n",
              "\n",
              "  [theme=dark] .colab-df-quickchart {\n",
              "      --bg-color: #3B4455;\n",
              "      --fill-color: #D2E3FC;\n",
              "      --hover-bg-color: #434B5C;\n",
              "      --hover-fill-color: #FFFFFF;\n",
              "      --disabled-bg-color: #3B4455;\n",
              "      --disabled-fill-color: #666;\n",
              "  }\n",
              "\n",
              "  .colab-df-quickchart {\n",
              "    background-color: var(--bg-color);\n",
              "    border: none;\n",
              "    border-radius: 50%;\n",
              "    cursor: pointer;\n",
              "    display: none;\n",
              "    fill: var(--fill-color);\n",
              "    height: 32px;\n",
              "    padding: 0;\n",
              "    width: 32px;\n",
              "  }\n",
              "\n",
              "  .colab-df-quickchart:hover {\n",
              "    background-color: var(--hover-bg-color);\n",
              "    box-shadow: 0 1px 2px rgba(60, 64, 67, 0.3), 0 1px 3px 1px rgba(60, 64, 67, 0.15);\n",
              "    fill: var(--button-hover-fill-color);\n",
              "  }\n",
              "\n",
              "  .colab-df-quickchart-complete:disabled,\n",
              "  .colab-df-quickchart-complete:disabled:hover {\n",
              "    background-color: var(--disabled-bg-color);\n",
              "    fill: var(--disabled-fill-color);\n",
              "    box-shadow: none;\n",
              "  }\n",
              "\n",
              "  .colab-df-spinner {\n",
              "    border: 2px solid var(--fill-color);\n",
              "    border-color: transparent;\n",
              "    border-bottom-color: var(--fill-color);\n",
              "    animation:\n",
              "      spin 1s steps(1) infinite;\n",
              "  }\n",
              "\n",
              "  @keyframes spin {\n",
              "    0% {\n",
              "      border-color: transparent;\n",
              "      border-bottom-color: var(--fill-color);\n",
              "      border-left-color: var(--fill-color);\n",
              "    }\n",
              "    20% {\n",
              "      border-color: transparent;\n",
              "      border-left-color: var(--fill-color);\n",
              "      border-top-color: var(--fill-color);\n",
              "    }\n",
              "    30% {\n",
              "      border-color: transparent;\n",
              "      border-left-color: var(--fill-color);\n",
              "      border-top-color: var(--fill-color);\n",
              "      border-right-color: var(--fill-color);\n",
              "    }\n",
              "    40% {\n",
              "      border-color: transparent;\n",
              "      border-right-color: var(--fill-color);\n",
              "      border-top-color: var(--fill-color);\n",
              "    }\n",
              "    60% {\n",
              "      border-color: transparent;\n",
              "      border-right-color: var(--fill-color);\n",
              "    }\n",
              "    80% {\n",
              "      border-color: transparent;\n",
              "      border-right-color: var(--fill-color);\n",
              "      border-bottom-color: var(--fill-color);\n",
              "    }\n",
              "    90% {\n",
              "      border-color: transparent;\n",
              "      border-bottom-color: var(--fill-color);\n",
              "    }\n",
              "  }\n",
              "</style>\n",
              "\n",
              "  <script>\n",
              "    async function quickchart(key) {\n",
              "      const quickchartButtonEl =\n",
              "        document.querySelector('#' + key + ' button');\n",
              "      quickchartButtonEl.disabled = true;  // To prevent multiple clicks.\n",
              "      quickchartButtonEl.classList.add('colab-df-spinner');\n",
              "      try {\n",
              "        const charts = await google.colab.kernel.invokeFunction(\n",
              "            'suggestCharts', [key], {});\n",
              "      } catch (error) {\n",
              "        console.error('Error during call to suggestCharts:', error);\n",
              "      }\n",
              "      quickchartButtonEl.classList.remove('colab-df-spinner');\n",
              "      quickchartButtonEl.classList.add('colab-df-quickchart-complete');\n",
              "    }\n",
              "    (() => {\n",
              "      let quickchartButtonEl =\n",
              "        document.querySelector('#df-f8acab9e-bdf8-48ec-824c-126d9aab34fb button');\n",
              "      quickchartButtonEl.style.display =\n",
              "        google.colab.kernel.accessAllowed ? 'block' : 'none';\n",
              "    })();\n",
              "  </script>\n",
              "</div>\n",
              "\n",
              "    </div>\n",
              "  </div>\n"
            ],
            "application/vnd.google.colaboratory.intrinsic+json": {
              "type": "dataframe",
              "variable_name": "X_cont_scaled",
              "summary": "{\n  \"name\": \"X_cont_scaled\",\n  \"rows\": 303,\n  \"fields\": [\n    {\n      \"column\": \"age\",\n      \"properties\": {\n        \"dtype\": \"number\",\n        \"std\": 1.0016542608495935,\n        \"min\": -2.7976235013994994,\n        \"max\": 2.4962401733798814,\n        \"num_unique_values\": 41,\n        \"samples\": [\n          -0.9227134499151354,\n          1.28306308124294,\n          -0.7021357967993279\n        ],\n        \"semantic_type\": \"\",\n        \"description\": \"\"\n      }\n    },\n    {\n      \"column\": \"cp\",\n      \"properties\": {\n        \"dtype\": \"number\",\n        \"std\": 1.0016542608495926,\n        \"min\": -0.9385146340152224,\n        \"max\": 1.9731229165644262,\n        \"num_unique_values\": 4,\n        \"samples\": [\n          1.0025770663712101,\n          -0.9385146340152224,\n          1.9731229165644262\n        ],\n        \"semantic_type\": \"\",\n        \"description\": \"\"\n      }\n    },\n    {\n      \"column\": \"trestbps\",\n      \"properties\": {\n        \"dtype\": \"number\",\n        \"std\": 1.0016542608495937,\n        \"min\": -2.1488023158475755,\n        \"max\": 3.9051654719061446,\n        \"num_unique_values\": 49,\n        \"samples\": [\n          -1.5776732792670358,\n          -0.4925281097640106,\n          -1.0065442426864963\n        ],\n        \"semantic_type\": \"\",\n        \"description\": \"\"\n      }\n    },\n    {\n      \"column\": \"chol\",\n      \"properties\": {\n        \"dtype\": \"number\",\n        \"std\": 1.001654260849594,\n        \"min\": -2.3241603136559834,\n        \"max\": 6.14040093405368,\n        \"num_unique_values\": 152,\n        \"samples\": [\n          0.5939875137507731,\n          -1.4931645747255826,\n          -0.08240436677397184\n        ],\n        \"semantic_type\": \"\",\n        \"description\": \"\"\n      }\n    },\n    {\n      \"column\": \"restecg\",\n      \"properties\": {\n        \"dtype\": \"number\",\n        \"std\": 1.001654260849594,\n        \"min\": -1.0058318722806536,\n        \"max\": 2.8037563439823225,\n        \"num_unique_values\": 3,\n        \"samples\": [\n          -1.0058318722806536,\n          0.8989622358508345,\n          2.8037563439823225\n        ],\n        \"semantic_type\": \"\",\n        \"description\": \"\"\n      }\n    },\n    {\n      \"column\": \"thalach\",\n      \"properties\": {\n        \"dtype\": \"number\",\n        \"std\": 1.0016542608495935,\n        \"min\": -3.439267103184409,\n        \"max\": 2.2894290414525496,\n        \"num_unique_values\": 91,\n        \"samples\": [\n          0.4090173298541586,\n          0.1029037954079089,\n          1.939585002085407\n        ],\n        \"semantic_type\": \"\",\n        \"description\": \"\"\n      }\n    },\n    {\n      \"column\": \"oldpeak\",\n      \"properties\": {\n        \"dtype\": \"number\",\n        \"std\": 1.001654260849594,\n        \"min\": -0.8968617158532323,\n        \"max\": 4.451850726692426,\n        \"num_unique_values\": 40,\n        \"samples\": [\n          0.7422598391204369,\n          1.6912249498946665,\n          0.39718161702071714\n        ],\n        \"semantic_type\": \"\",\n        \"description\": \"\"\n      }\n    },\n    {\n      \"column\": \"slope\",\n      \"properties\": {\n        \"dtype\": \"number\",\n        \"std\": 1.0016542608495973,\n        \"min\": -2.2745786069731917,\n        \"max\": 0.9763521378988699,\n        \"num_unique_values\": 3,\n        \"samples\": [\n          -2.2745786069731917,\n          0.9763521378988699,\n          -0.649113234537161\n        ],\n        \"semantic_type\": \"\",\n        \"description\": \"\"\n      }\n    },\n    {\n      \"column\": \"ca\",\n      \"properties\": {\n        \"dtype\": \"number\",\n        \"std\": 1.0016542608495935,\n        \"min\": -0.7144288705953448,\n        \"max\": 3.2036154333031073,\n        \"num_unique_values\": 5,\n        \"samples\": [\n          1.2445932813538811,\n          3.2036154333031073,\n          0.26508220537926824\n        ],\n        \"semantic_type\": \"\",\n        \"description\": \"\"\n      }\n    },\n    {\n      \"column\": \"thal\",\n      \"properties\": {\n        \"dtype\": \"number\",\n        \"std\": 1.0016542608495926,\n        \"min\": -3.784823539578334,\n        \"max\": 1.1230289532557678,\n        \"num_unique_values\": 4,\n        \"samples\": [\n          -0.5129218776889327,\n          -3.784823539578334,\n          -2.1488727086336334\n        ],\n        \"semantic_type\": \"\",\n        \"description\": \"\"\n      }\n    }\n  ]\n}"
            }
          },
          "metadata": {},
          "execution_count": 23
        }
      ]
    },
    {
      "cell_type": "code",
      "source": [
        "X_cont_scaled[\"cp\"].unique()"
      ],
      "metadata": {
        "colab": {
          "base_uri": "https://localhost:8080/"
        },
        "id": "UfhWLGII4VDd",
        "outputId": "4f1c7102-61f7-4951-c2e3-fe694cabe27e"
      },
      "execution_count": null,
      "outputs": [
        {
          "output_type": "execute_result",
          "data": {
            "text/plain": [
              "array([ 1.97312292,  1.00257707,  0.03203122, -0.93851463])"
            ]
          },
          "metadata": {},
          "execution_count": 22
        }
      ]
    },
    {
      "cell_type": "markdown",
      "metadata": {
        "id": "95GowxriwzBk"
      },
      "source": [
        "Now that we have scaled all the feature variables having either continuous values or more than 2 unique values, let us concatenate the scaled continuous features with the discrete features using `pd.concat()` function.\n",
        "\n"
      ]
    },
    {
      "cell_type": "code",
      "metadata": {
        "colab": {
          "base_uri": "https://localhost:8080/",
          "height": 424
        },
        "id": "l38OBAc1w372",
        "outputId": "b6555735-2632-44d1-b11b-7dd63d24044b"
      },
      "source": [
        "#  Contenate the scaled continuous features  with discrete features.\n",
        "X_scaled = pd.concat([X_cont_scaled, features_df[discrete_features]], axis = 1)\n",
        "X_scaled"
      ],
      "execution_count": null,
      "outputs": [
        {
          "output_type": "execute_result",
          "data": {
            "text/plain": [
              "          age        cp  trestbps      chol   restecg   thalach   oldpeak  \\\n",
              "0    0.952197  1.973123  0.763956 -0.256334 -1.005832  0.015443  1.087338   \n",
              "1   -1.915313  1.002577 -0.092738  0.072199  0.898962  1.633471  2.122573   \n",
              "2   -1.474158  0.032031 -0.092738 -0.816773 -1.005832  0.977514  0.310912   \n",
              "3    0.180175  0.032031 -0.663867 -0.198357  0.898962  1.239897 -0.206705   \n",
              "4    0.290464 -0.938515 -0.663867  2.082050  0.898962  0.583939 -0.379244   \n",
              "..        ...       ...       ...       ...       ...       ...       ...   \n",
              "298  0.290464 -0.938515  0.478391 -0.101730  0.898962 -1.165281 -0.724323   \n",
              "299 -1.033002  1.973123 -1.234996  0.342756  0.898962 -0.771706  0.138373   \n",
              "300  1.503641 -0.938515  0.706843 -1.029353  0.898962 -0.378132  2.036303   \n",
              "301  0.290464 -0.938515 -0.092738 -2.227533  0.898962 -1.515125  0.138373   \n",
              "302  0.290464  0.032031 -0.092738 -0.198357 -1.005832  1.064975 -0.896862   \n",
              "\n",
              "        slope        ca      thal  sex  fbs  exang  \n",
              "0   -2.274579 -0.714429 -2.148873    1    1      0  \n",
              "1   -2.274579 -0.714429 -0.512922    1    0      0  \n",
              "2    0.976352 -0.714429 -0.512922    0    0      0  \n",
              "3    0.976352 -0.714429 -0.512922    1    0      0  \n",
              "4    0.976352 -0.714429 -0.512922    0    0      1  \n",
              "..        ...       ...       ...  ...  ...    ...  \n",
              "298 -0.649113 -0.714429  1.123029    0    0      1  \n",
              "299 -0.649113 -0.714429  1.123029    1    0      0  \n",
              "300 -0.649113  1.244593  1.123029    1    1      0  \n",
              "301 -0.649113  0.265082  1.123029    1    0      1  \n",
              "302 -0.649113  0.265082 -0.512922    0    0      0  \n",
              "\n",
              "[303 rows x 13 columns]"
            ],
            "text/html": [
              "\n",
              "  <div id=\"df-d915dde7-f736-4c93-8a09-80bf2d21728a\" class=\"colab-df-container\">\n",
              "    <div>\n",
              "<style scoped>\n",
              "    .dataframe tbody tr th:only-of-type {\n",
              "        vertical-align: middle;\n",
              "    }\n",
              "\n",
              "    .dataframe tbody tr th {\n",
              "        vertical-align: top;\n",
              "    }\n",
              "\n",
              "    .dataframe thead th {\n",
              "        text-align: right;\n",
              "    }\n",
              "</style>\n",
              "<table border=\"1\" class=\"dataframe\">\n",
              "  <thead>\n",
              "    <tr style=\"text-align: right;\">\n",
              "      <th></th>\n",
              "      <th>age</th>\n",
              "      <th>cp</th>\n",
              "      <th>trestbps</th>\n",
              "      <th>chol</th>\n",
              "      <th>restecg</th>\n",
              "      <th>thalach</th>\n",
              "      <th>oldpeak</th>\n",
              "      <th>slope</th>\n",
              "      <th>ca</th>\n",
              "      <th>thal</th>\n",
              "      <th>sex</th>\n",
              "      <th>fbs</th>\n",
              "      <th>exang</th>\n",
              "    </tr>\n",
              "  </thead>\n",
              "  <tbody>\n",
              "    <tr>\n",
              "      <th>0</th>\n",
              "      <td>0.952197</td>\n",
              "      <td>1.973123</td>\n",
              "      <td>0.763956</td>\n",
              "      <td>-0.256334</td>\n",
              "      <td>-1.005832</td>\n",
              "      <td>0.015443</td>\n",
              "      <td>1.087338</td>\n",
              "      <td>-2.274579</td>\n",
              "      <td>-0.714429</td>\n",
              "      <td>-2.148873</td>\n",
              "      <td>1</td>\n",
              "      <td>1</td>\n",
              "      <td>0</td>\n",
              "    </tr>\n",
              "    <tr>\n",
              "      <th>1</th>\n",
              "      <td>-1.915313</td>\n",
              "      <td>1.002577</td>\n",
              "      <td>-0.092738</td>\n",
              "      <td>0.072199</td>\n",
              "      <td>0.898962</td>\n",
              "      <td>1.633471</td>\n",
              "      <td>2.122573</td>\n",
              "      <td>-2.274579</td>\n",
              "      <td>-0.714429</td>\n",
              "      <td>-0.512922</td>\n",
              "      <td>1</td>\n",
              "      <td>0</td>\n",
              "      <td>0</td>\n",
              "    </tr>\n",
              "    <tr>\n",
              "      <th>2</th>\n",
              "      <td>-1.474158</td>\n",
              "      <td>0.032031</td>\n",
              "      <td>-0.092738</td>\n",
              "      <td>-0.816773</td>\n",
              "      <td>-1.005832</td>\n",
              "      <td>0.977514</td>\n",
              "      <td>0.310912</td>\n",
              "      <td>0.976352</td>\n",
              "      <td>-0.714429</td>\n",
              "      <td>-0.512922</td>\n",
              "      <td>0</td>\n",
              "      <td>0</td>\n",
              "      <td>0</td>\n",
              "    </tr>\n",
              "    <tr>\n",
              "      <th>3</th>\n",
              "      <td>0.180175</td>\n",
              "      <td>0.032031</td>\n",
              "      <td>-0.663867</td>\n",
              "      <td>-0.198357</td>\n",
              "      <td>0.898962</td>\n",
              "      <td>1.239897</td>\n",
              "      <td>-0.206705</td>\n",
              "      <td>0.976352</td>\n",
              "      <td>-0.714429</td>\n",
              "      <td>-0.512922</td>\n",
              "      <td>1</td>\n",
              "      <td>0</td>\n",
              "      <td>0</td>\n",
              "    </tr>\n",
              "    <tr>\n",
              "      <th>4</th>\n",
              "      <td>0.290464</td>\n",
              "      <td>-0.938515</td>\n",
              "      <td>-0.663867</td>\n",
              "      <td>2.082050</td>\n",
              "      <td>0.898962</td>\n",
              "      <td>0.583939</td>\n",
              "      <td>-0.379244</td>\n",
              "      <td>0.976352</td>\n",
              "      <td>-0.714429</td>\n",
              "      <td>-0.512922</td>\n",
              "      <td>0</td>\n",
              "      <td>0</td>\n",
              "      <td>1</td>\n",
              "    </tr>\n",
              "    <tr>\n",
              "      <th>...</th>\n",
              "      <td>...</td>\n",
              "      <td>...</td>\n",
              "      <td>...</td>\n",
              "      <td>...</td>\n",
              "      <td>...</td>\n",
              "      <td>...</td>\n",
              "      <td>...</td>\n",
              "      <td>...</td>\n",
              "      <td>...</td>\n",
              "      <td>...</td>\n",
              "      <td>...</td>\n",
              "      <td>...</td>\n",
              "      <td>...</td>\n",
              "    </tr>\n",
              "    <tr>\n",
              "      <th>298</th>\n",
              "      <td>0.290464</td>\n",
              "      <td>-0.938515</td>\n",
              "      <td>0.478391</td>\n",
              "      <td>-0.101730</td>\n",
              "      <td>0.898962</td>\n",
              "      <td>-1.165281</td>\n",
              "      <td>-0.724323</td>\n",
              "      <td>-0.649113</td>\n",
              "      <td>-0.714429</td>\n",
              "      <td>1.123029</td>\n",
              "      <td>0</td>\n",
              "      <td>0</td>\n",
              "      <td>1</td>\n",
              "    </tr>\n",
              "    <tr>\n",
              "      <th>299</th>\n",
              "      <td>-1.033002</td>\n",
              "      <td>1.973123</td>\n",
              "      <td>-1.234996</td>\n",
              "      <td>0.342756</td>\n",
              "      <td>0.898962</td>\n",
              "      <td>-0.771706</td>\n",
              "      <td>0.138373</td>\n",
              "      <td>-0.649113</td>\n",
              "      <td>-0.714429</td>\n",
              "      <td>1.123029</td>\n",
              "      <td>1</td>\n",
              "      <td>0</td>\n",
              "      <td>0</td>\n",
              "    </tr>\n",
              "    <tr>\n",
              "      <th>300</th>\n",
              "      <td>1.503641</td>\n",
              "      <td>-0.938515</td>\n",
              "      <td>0.706843</td>\n",
              "      <td>-1.029353</td>\n",
              "      <td>0.898962</td>\n",
              "      <td>-0.378132</td>\n",
              "      <td>2.036303</td>\n",
              "      <td>-0.649113</td>\n",
              "      <td>1.244593</td>\n",
              "      <td>1.123029</td>\n",
              "      <td>1</td>\n",
              "      <td>1</td>\n",
              "      <td>0</td>\n",
              "    </tr>\n",
              "    <tr>\n",
              "      <th>301</th>\n",
              "      <td>0.290464</td>\n",
              "      <td>-0.938515</td>\n",
              "      <td>-0.092738</td>\n",
              "      <td>-2.227533</td>\n",
              "      <td>0.898962</td>\n",
              "      <td>-1.515125</td>\n",
              "      <td>0.138373</td>\n",
              "      <td>-0.649113</td>\n",
              "      <td>0.265082</td>\n",
              "      <td>1.123029</td>\n",
              "      <td>1</td>\n",
              "      <td>0</td>\n",
              "      <td>1</td>\n",
              "    </tr>\n",
              "    <tr>\n",
              "      <th>302</th>\n",
              "      <td>0.290464</td>\n",
              "      <td>0.032031</td>\n",
              "      <td>-0.092738</td>\n",
              "      <td>-0.198357</td>\n",
              "      <td>-1.005832</td>\n",
              "      <td>1.064975</td>\n",
              "      <td>-0.896862</td>\n",
              "      <td>-0.649113</td>\n",
              "      <td>0.265082</td>\n",
              "      <td>-0.512922</td>\n",
              "      <td>0</td>\n",
              "      <td>0</td>\n",
              "      <td>0</td>\n",
              "    </tr>\n",
              "  </tbody>\n",
              "</table>\n",
              "<p>303 rows × 13 columns</p>\n",
              "</div>\n",
              "    <div class=\"colab-df-buttons\">\n",
              "\n",
              "  <div class=\"colab-df-container\">\n",
              "    <button class=\"colab-df-convert\" onclick=\"convertToInteractive('df-d915dde7-f736-4c93-8a09-80bf2d21728a')\"\n",
              "            title=\"Convert this dataframe to an interactive table.\"\n",
              "            style=\"display:none;\">\n",
              "\n",
              "  <svg xmlns=\"http://www.w3.org/2000/svg\" height=\"24px\" viewBox=\"0 -960 960 960\">\n",
              "    <path d=\"M120-120v-720h720v720H120Zm60-500h600v-160H180v160Zm220 220h160v-160H400v160Zm0 220h160v-160H400v160ZM180-400h160v-160H180v160Zm440 0h160v-160H620v160ZM180-180h160v-160H180v160Zm440 0h160v-160H620v160Z\"/>\n",
              "  </svg>\n",
              "    </button>\n",
              "\n",
              "  <style>\n",
              "    .colab-df-container {\n",
              "      display:flex;\n",
              "      gap: 12px;\n",
              "    }\n",
              "\n",
              "    .colab-df-convert {\n",
              "      background-color: #E8F0FE;\n",
              "      border: none;\n",
              "      border-radius: 50%;\n",
              "      cursor: pointer;\n",
              "      display: none;\n",
              "      fill: #1967D2;\n",
              "      height: 32px;\n",
              "      padding: 0 0 0 0;\n",
              "      width: 32px;\n",
              "    }\n",
              "\n",
              "    .colab-df-convert:hover {\n",
              "      background-color: #E2EBFA;\n",
              "      box-shadow: 0px 1px 2px rgba(60, 64, 67, 0.3), 0px 1px 3px 1px rgba(60, 64, 67, 0.15);\n",
              "      fill: #174EA6;\n",
              "    }\n",
              "\n",
              "    .colab-df-buttons div {\n",
              "      margin-bottom: 4px;\n",
              "    }\n",
              "\n",
              "    [theme=dark] .colab-df-convert {\n",
              "      background-color: #3B4455;\n",
              "      fill: #D2E3FC;\n",
              "    }\n",
              "\n",
              "    [theme=dark] .colab-df-convert:hover {\n",
              "      background-color: #434B5C;\n",
              "      box-shadow: 0px 1px 3px 1px rgba(0, 0, 0, 0.15);\n",
              "      filter: drop-shadow(0px 1px 2px rgba(0, 0, 0, 0.3));\n",
              "      fill: #FFFFFF;\n",
              "    }\n",
              "  </style>\n",
              "\n",
              "    <script>\n",
              "      const buttonEl =\n",
              "        document.querySelector('#df-d915dde7-f736-4c93-8a09-80bf2d21728a button.colab-df-convert');\n",
              "      buttonEl.style.display =\n",
              "        google.colab.kernel.accessAllowed ? 'block' : 'none';\n",
              "\n",
              "      async function convertToInteractive(key) {\n",
              "        const element = document.querySelector('#df-d915dde7-f736-4c93-8a09-80bf2d21728a');\n",
              "        const dataTable =\n",
              "          await google.colab.kernel.invokeFunction('convertToInteractive',\n",
              "                                                    [key], {});\n",
              "        if (!dataTable) return;\n",
              "\n",
              "        const docLinkHtml = 'Like what you see? Visit the ' +\n",
              "          '<a target=\"_blank\" href=https://colab.research.google.com/notebooks/data_table.ipynb>data table notebook</a>'\n",
              "          + ' to learn more about interactive tables.';\n",
              "        element.innerHTML = '';\n",
              "        dataTable['output_type'] = 'display_data';\n",
              "        await google.colab.output.renderOutput(dataTable, element);\n",
              "        const docLink = document.createElement('div');\n",
              "        docLink.innerHTML = docLinkHtml;\n",
              "        element.appendChild(docLink);\n",
              "      }\n",
              "    </script>\n",
              "  </div>\n",
              "\n",
              "\n",
              "<div id=\"df-8ae8d6ac-160b-4b5d-87f0-008acb059f57\">\n",
              "  <button class=\"colab-df-quickchart\" onclick=\"quickchart('df-8ae8d6ac-160b-4b5d-87f0-008acb059f57')\"\n",
              "            title=\"Suggest charts\"\n",
              "            style=\"display:none;\">\n",
              "\n",
              "<svg xmlns=\"http://www.w3.org/2000/svg\" height=\"24px\"viewBox=\"0 0 24 24\"\n",
              "     width=\"24px\">\n",
              "    <g>\n",
              "        <path d=\"M19 3H5c-1.1 0-2 .9-2 2v14c0 1.1.9 2 2 2h14c1.1 0 2-.9 2-2V5c0-1.1-.9-2-2-2zM9 17H7v-7h2v7zm4 0h-2V7h2v10zm4 0h-2v-4h2v4z\"/>\n",
              "    </g>\n",
              "</svg>\n",
              "  </button>\n",
              "\n",
              "<style>\n",
              "  .colab-df-quickchart {\n",
              "      --bg-color: #E8F0FE;\n",
              "      --fill-color: #1967D2;\n",
              "      --hover-bg-color: #E2EBFA;\n",
              "      --hover-fill-color: #174EA6;\n",
              "      --disabled-fill-color: #AAA;\n",
              "      --disabled-bg-color: #DDD;\n",
              "  }\n",
              "\n",
              "  [theme=dark] .colab-df-quickchart {\n",
              "      --bg-color: #3B4455;\n",
              "      --fill-color: #D2E3FC;\n",
              "      --hover-bg-color: #434B5C;\n",
              "      --hover-fill-color: #FFFFFF;\n",
              "      --disabled-bg-color: #3B4455;\n",
              "      --disabled-fill-color: #666;\n",
              "  }\n",
              "\n",
              "  .colab-df-quickchart {\n",
              "    background-color: var(--bg-color);\n",
              "    border: none;\n",
              "    border-radius: 50%;\n",
              "    cursor: pointer;\n",
              "    display: none;\n",
              "    fill: var(--fill-color);\n",
              "    height: 32px;\n",
              "    padding: 0;\n",
              "    width: 32px;\n",
              "  }\n",
              "\n",
              "  .colab-df-quickchart:hover {\n",
              "    background-color: var(--hover-bg-color);\n",
              "    box-shadow: 0 1px 2px rgba(60, 64, 67, 0.3), 0 1px 3px 1px rgba(60, 64, 67, 0.15);\n",
              "    fill: var(--button-hover-fill-color);\n",
              "  }\n",
              "\n",
              "  .colab-df-quickchart-complete:disabled,\n",
              "  .colab-df-quickchart-complete:disabled:hover {\n",
              "    background-color: var(--disabled-bg-color);\n",
              "    fill: var(--disabled-fill-color);\n",
              "    box-shadow: none;\n",
              "  }\n",
              "\n",
              "  .colab-df-spinner {\n",
              "    border: 2px solid var(--fill-color);\n",
              "    border-color: transparent;\n",
              "    border-bottom-color: var(--fill-color);\n",
              "    animation:\n",
              "      spin 1s steps(1) infinite;\n",
              "  }\n",
              "\n",
              "  @keyframes spin {\n",
              "    0% {\n",
              "      border-color: transparent;\n",
              "      border-bottom-color: var(--fill-color);\n",
              "      border-left-color: var(--fill-color);\n",
              "    }\n",
              "    20% {\n",
              "      border-color: transparent;\n",
              "      border-left-color: var(--fill-color);\n",
              "      border-top-color: var(--fill-color);\n",
              "    }\n",
              "    30% {\n",
              "      border-color: transparent;\n",
              "      border-left-color: var(--fill-color);\n",
              "      border-top-color: var(--fill-color);\n",
              "      border-right-color: var(--fill-color);\n",
              "    }\n",
              "    40% {\n",
              "      border-color: transparent;\n",
              "      border-right-color: var(--fill-color);\n",
              "      border-top-color: var(--fill-color);\n",
              "    }\n",
              "    60% {\n",
              "      border-color: transparent;\n",
              "      border-right-color: var(--fill-color);\n",
              "    }\n",
              "    80% {\n",
              "      border-color: transparent;\n",
              "      border-right-color: var(--fill-color);\n",
              "      border-bottom-color: var(--fill-color);\n",
              "    }\n",
              "    90% {\n",
              "      border-color: transparent;\n",
              "      border-bottom-color: var(--fill-color);\n",
              "    }\n",
              "  }\n",
              "</style>\n",
              "\n",
              "  <script>\n",
              "    async function quickchart(key) {\n",
              "      const quickchartButtonEl =\n",
              "        document.querySelector('#' + key + ' button');\n",
              "      quickchartButtonEl.disabled = true;  // To prevent multiple clicks.\n",
              "      quickchartButtonEl.classList.add('colab-df-spinner');\n",
              "      try {\n",
              "        const charts = await google.colab.kernel.invokeFunction(\n",
              "            'suggestCharts', [key], {});\n",
              "      } catch (error) {\n",
              "        console.error('Error during call to suggestCharts:', error);\n",
              "      }\n",
              "      quickchartButtonEl.classList.remove('colab-df-spinner');\n",
              "      quickchartButtonEl.classList.add('colab-df-quickchart-complete');\n",
              "    }\n",
              "    (() => {\n",
              "      let quickchartButtonEl =\n",
              "        document.querySelector('#df-8ae8d6ac-160b-4b5d-87f0-008acb059f57 button');\n",
              "      quickchartButtonEl.style.display =\n",
              "        google.colab.kernel.accessAllowed ? 'block' : 'none';\n",
              "    })();\n",
              "  </script>\n",
              "</div>\n",
              "\n",
              "  <div id=\"id_c373928e-7656-474c-bb75-569c9df980ed\">\n",
              "    <style>\n",
              "      .colab-df-generate {\n",
              "        background-color: #E8F0FE;\n",
              "        border: none;\n",
              "        border-radius: 50%;\n",
              "        cursor: pointer;\n",
              "        display: none;\n",
              "        fill: #1967D2;\n",
              "        height: 32px;\n",
              "        padding: 0 0 0 0;\n",
              "        width: 32px;\n",
              "      }\n",
              "\n",
              "      .colab-df-generate:hover {\n",
              "        background-color: #E2EBFA;\n",
              "        box-shadow: 0px 1px 2px rgba(60, 64, 67, 0.3), 0px 1px 3px 1px rgba(60, 64, 67, 0.15);\n",
              "        fill: #174EA6;\n",
              "      }\n",
              "\n",
              "      [theme=dark] .colab-df-generate {\n",
              "        background-color: #3B4455;\n",
              "        fill: #D2E3FC;\n",
              "      }\n",
              "\n",
              "      [theme=dark] .colab-df-generate:hover {\n",
              "        background-color: #434B5C;\n",
              "        box-shadow: 0px 1px 3px 1px rgba(0, 0, 0, 0.15);\n",
              "        filter: drop-shadow(0px 1px 2px rgba(0, 0, 0, 0.3));\n",
              "        fill: #FFFFFF;\n",
              "      }\n",
              "    </style>\n",
              "    <button class=\"colab-df-generate\" onclick=\"generateWithVariable('X_scaled')\"\n",
              "            title=\"Generate code using this dataframe.\"\n",
              "            style=\"display:none;\">\n",
              "\n",
              "  <svg xmlns=\"http://www.w3.org/2000/svg\" height=\"24px\"viewBox=\"0 0 24 24\"\n",
              "       width=\"24px\">\n",
              "    <path d=\"M7,19H8.4L18.45,9,17,7.55,7,17.6ZM5,21V16.75L18.45,3.32a2,2,0,0,1,2.83,0l1.4,1.43a1.91,1.91,0,0,1,.58,1.4,1.91,1.91,0,0,1-.58,1.4L9.25,21ZM18.45,9,17,7.55Zm-12,3A5.31,5.31,0,0,0,4.9,8.1,5.31,5.31,0,0,0,1,6.5,5.31,5.31,0,0,0,4.9,4.9,5.31,5.31,0,0,0,6.5,1,5.31,5.31,0,0,0,8.1,4.9,5.31,5.31,0,0,0,12,6.5,5.46,5.46,0,0,0,6.5,12Z\"/>\n",
              "  </svg>\n",
              "    </button>\n",
              "    <script>\n",
              "      (() => {\n",
              "      const buttonEl =\n",
              "        document.querySelector('#id_c373928e-7656-474c-bb75-569c9df980ed button.colab-df-generate');\n",
              "      buttonEl.style.display =\n",
              "        google.colab.kernel.accessAllowed ? 'block' : 'none';\n",
              "\n",
              "      buttonEl.onclick = () => {\n",
              "        google.colab.notebook.generateWithVariable('X_scaled');\n",
              "      }\n",
              "      })();\n",
              "    </script>\n",
              "  </div>\n",
              "\n",
              "    </div>\n",
              "  </div>\n"
            ],
            "application/vnd.google.colaboratory.intrinsic+json": {
              "type": "dataframe",
              "variable_name": "X_scaled",
              "summary": "{\n  \"name\": \"X_scaled\",\n  \"rows\": 303,\n  \"fields\": [\n    {\n      \"column\": \"age\",\n      \"properties\": {\n        \"dtype\": \"number\",\n        \"std\": 1.0016542608495935,\n        \"min\": -2.7976235013994994,\n        \"max\": 2.4962401733798814,\n        \"num_unique_values\": 41,\n        \"samples\": [\n          -0.9227134499151354,\n          1.28306308124294,\n          -0.7021357967993279\n        ],\n        \"semantic_type\": \"\",\n        \"description\": \"\"\n      }\n    },\n    {\n      \"column\": \"cp\",\n      \"properties\": {\n        \"dtype\": \"number\",\n        \"std\": 1.0016542608495926,\n        \"min\": -0.9385146340152224,\n        \"max\": 1.9731229165644262,\n        \"num_unique_values\": 4,\n        \"samples\": [\n          1.0025770663712101,\n          -0.9385146340152224,\n          1.9731229165644262\n        ],\n        \"semantic_type\": \"\",\n        \"description\": \"\"\n      }\n    },\n    {\n      \"column\": \"trestbps\",\n      \"properties\": {\n        \"dtype\": \"number\",\n        \"std\": 1.0016542608495937,\n        \"min\": -2.1488023158475755,\n        \"max\": 3.9051654719061446,\n        \"num_unique_values\": 49,\n        \"samples\": [\n          -1.5776732792670358,\n          -0.4925281097640106,\n          -1.0065442426864963\n        ],\n        \"semantic_type\": \"\",\n        \"description\": \"\"\n      }\n    },\n    {\n      \"column\": \"chol\",\n      \"properties\": {\n        \"dtype\": \"number\",\n        \"std\": 1.001654260849594,\n        \"min\": -2.3241603136559834,\n        \"max\": 6.14040093405368,\n        \"num_unique_values\": 152,\n        \"samples\": [\n          0.5939875137507731,\n          -1.4931645747255826,\n          -0.08240436677397184\n        ],\n        \"semantic_type\": \"\",\n        \"description\": \"\"\n      }\n    },\n    {\n      \"column\": \"restecg\",\n      \"properties\": {\n        \"dtype\": \"number\",\n        \"std\": 1.001654260849594,\n        \"min\": -1.0058318722806536,\n        \"max\": 2.8037563439823225,\n        \"num_unique_values\": 3,\n        \"samples\": [\n          -1.0058318722806536,\n          0.8989622358508345,\n          2.8037563439823225\n        ],\n        \"semantic_type\": \"\",\n        \"description\": \"\"\n      }\n    },\n    {\n      \"column\": \"thalach\",\n      \"properties\": {\n        \"dtype\": \"number\",\n        \"std\": 1.0016542608495935,\n        \"min\": -3.439267103184409,\n        \"max\": 2.2894290414525496,\n        \"num_unique_values\": 91,\n        \"samples\": [\n          0.4090173298541586,\n          0.1029037954079089,\n          1.939585002085407\n        ],\n        \"semantic_type\": \"\",\n        \"description\": \"\"\n      }\n    },\n    {\n      \"column\": \"oldpeak\",\n      \"properties\": {\n        \"dtype\": \"number\",\n        \"std\": 1.001654260849594,\n        \"min\": -0.8968617158532323,\n        \"max\": 4.451850726692426,\n        \"num_unique_values\": 40,\n        \"samples\": [\n          0.7422598391204369,\n          1.6912249498946665,\n          0.39718161702071714\n        ],\n        \"semantic_type\": \"\",\n        \"description\": \"\"\n      }\n    },\n    {\n      \"column\": \"slope\",\n      \"properties\": {\n        \"dtype\": \"number\",\n        \"std\": 1.0016542608495973,\n        \"min\": -2.2745786069731917,\n        \"max\": 0.9763521378988699,\n        \"num_unique_values\": 3,\n        \"samples\": [\n          -2.2745786069731917,\n          0.9763521378988699,\n          -0.649113234537161\n        ],\n        \"semantic_type\": \"\",\n        \"description\": \"\"\n      }\n    },\n    {\n      \"column\": \"ca\",\n      \"properties\": {\n        \"dtype\": \"number\",\n        \"std\": 1.0016542608495935,\n        \"min\": -0.7144288705953448,\n        \"max\": 3.2036154333031073,\n        \"num_unique_values\": 5,\n        \"samples\": [\n          1.2445932813538811,\n          3.2036154333031073,\n          0.26508220537926824\n        ],\n        \"semantic_type\": \"\",\n        \"description\": \"\"\n      }\n    },\n    {\n      \"column\": \"thal\",\n      \"properties\": {\n        \"dtype\": \"number\",\n        \"std\": 1.0016542608495926,\n        \"min\": -3.784823539578334,\n        \"max\": 1.1230289532557678,\n        \"num_unique_values\": 4,\n        \"samples\": [\n          -0.5129218776889327,\n          -3.784823539578334,\n          -2.1488727086336334\n        ],\n        \"semantic_type\": \"\",\n        \"description\": \"\"\n      }\n    },\n    {\n      \"column\": \"sex\",\n      \"properties\": {\n        \"dtype\": \"number\",\n        \"std\": 0,\n        \"min\": 0,\n        \"max\": 1,\n        \"num_unique_values\": 2,\n        \"samples\": [\n          0,\n          1\n        ],\n        \"semantic_type\": \"\",\n        \"description\": \"\"\n      }\n    },\n    {\n      \"column\": \"fbs\",\n      \"properties\": {\n        \"dtype\": \"number\",\n        \"std\": 0,\n        \"min\": 0,\n        \"max\": 1,\n        \"num_unique_values\": 2,\n        \"samples\": [\n          0,\n          1\n        ],\n        \"semantic_type\": \"\",\n        \"description\": \"\"\n      }\n    },\n    {\n      \"column\": \"exang\",\n      \"properties\": {\n        \"dtype\": \"number\",\n        \"std\": 0,\n        \"min\": 0,\n        \"max\": 1,\n        \"num_unique_values\": 2,\n        \"samples\": [\n          1,\n          0\n        ],\n        \"semantic_type\": \"\",\n        \"description\": \"\"\n      }\n    }\n  ]\n}"
            }
          },
          "metadata": {},
          "execution_count": 24
        }
      ]
    },
    {
      "cell_type": "markdown",
      "metadata": {
        "id": "BeufWBH5w6Yl"
      },
      "source": [
        "Hence, we have obtained the final scaled DataFrame containing the feature variables. Let us again perform train-test split on the scaled feature DataFrame and target DataFrame."
      ]
    },
    {
      "cell_type": "code",
      "metadata": {
        "colab": {
          "base_uri": "https://localhost:8080/"
        },
        "id": "xmygJDUOw9C1",
        "outputId": "d4af4865-3aa1-4019-f9ac-43cb736ddc64"
      },
      "source": [
        "#  Split dataset into training set and test set\n",
        "X_train2, X_test2, y_train2, y_test2 = train_test_split(X_scaled, target_df, test_size = 0.3, random_state = 42, stratify = target_df)\n",
        "\n",
        "# Print the shape of train and test sets.\n",
        "print(\"Shape of X_train:\", X_train2.shape)\n",
        "print(\"Shape of X_test:\", X_test2.shape)\n",
        "print(\"Shape of y_train:\", y_train2.shape)\n",
        "print(\"Shape of y_test:\", y_test2.shape)"
      ],
      "execution_count": null,
      "outputs": [
        {
          "output_type": "stream",
          "name": "stdout",
          "text": [
            "Shape of X_train: (212, 13)\n",
            "Shape of X_test: (91, 13)\n",
            "Shape of y_train: (212,)\n",
            "Shape of y_test: (91,)\n"
          ]
        }
      ]
    },
    {
      "cell_type": "markdown",
      "metadata": {
        "id": "EibP1COmr1le"
      },
      "source": [
        "To construct a classifier using logistic regression:\n",
        "\n",
        "1. Import the required library which contains methods and attributes to design the classifier.\n",
        "\n",
        "  ```python\n",
        "from sklearn.linear_model import LogisticRegression\n",
        "  ```\n",
        "2. Create an object (say `lg_clf`) of the `LogisticRegression()` constructor and set `max_iter = 1000`.\n",
        "\n",
        "4. Call the `fit()` function on the above constructor with train features and target variables as inputs.\n",
        "\n",
        "5. Get the predicted target values for both train and test sets by calling the `predict()` function on `lg_clf`.\n",
        "\n",
        "6. Get the accuracy score on both train and test sets by calling the `score()` function on the classifier object."
      ]
    },
    {
      "cell_type": "code",
      "metadata": {
        "colab": {
          "base_uri": "https://localhost:8080/"
        },
        "id": "Y5m2Zso-PI5a",
        "outputId": "334a271e-f8ea-4c9b-afdb-3d427179cb3a"
      },
      "source": [
        "# Create a multivariate logistic regression model. Also, predict the target values for the train set.\n",
        "\n",
        "from sklearn.linear_model import LogisticRegression\n",
        "\n",
        "# Modeling the Logistic Regression Classifier\n",
        "lg_clf = LogisticRegression(max_iter = 1000)\n",
        "lg_clf.fit(X_train2, y_train2)\n",
        "\n",
        "# Predicting the train and test sets\n",
        "y_train_predict_lg = lg_clf.predict(X_train2)\n",
        "y_test_predict_lg = lg_clf.predict(X_test2)\n",
        "\n",
        "# Evaluating accuracy scores\n",
        "print('Accuracy on the training set: {:.2f}'.format(lg_clf.score(X_train2, y_train2)))\n",
        "print('Accuracy on the test set: {:.2f}'.format(lg_clf.score(X_test2, y_test2)))"
      ],
      "execution_count": null,
      "outputs": [
        {
          "output_type": "stream",
          "name": "stdout",
          "text": [
            "Accuracy on the training set: 0.88\n",
            "Accuracy on the test set: 0.76\n"
          ]
        }
      ]
    },
    {
      "cell_type": "markdown",
      "metadata": {
        "id": "G3aIWS8BXCKs"
      },
      "source": [
        "The accuracy scores seems promising. Let's also plot a confusion matrix and print classification report for the test set."
      ]
    },
    {
      "cell_type": "code",
      "metadata": {
        "colab": {
          "base_uri": "https://localhost:8080/",
          "height": 610
        },
        "id": "GP37gY_SPQpf",
        "outputId": "5336d2b6-b30d-4c0f-ff34-9f852a2921c8"
      },
      "source": [
        "#  Obtain the Confusion Matrix and classification report.\n",
        "from sklearn.metrics import ConfusionMatrixDisplay, classification_report\n",
        "ConfusionMatrixDisplay.from_estimator(lg_clf, X_test2, y_test2, values_format='d')\n",
        "print(classification_report(y_test2, y_test_predict_lg))"
      ],
      "execution_count": null,
      "outputs": [
        {
          "output_type": "stream",
          "name": "stdout",
          "text": [
            "              precision    recall  f1-score   support\n",
            "\n",
            "           0       0.76      0.68      0.72        41\n",
            "           1       0.76      0.82      0.79        50\n",
            "\n",
            "    accuracy                           0.76        91\n",
            "   macro avg       0.76      0.75      0.75        91\n",
            "weighted avg       0.76      0.76      0.76        91\n",
            "\n"
          ]
        },
        {
          "output_type": "display_data",
          "data": {
            "text/plain": [
              "<Figure size 640x480 with 2 Axes>"
            ],
            "image/png": "[encoded data removed]"
          },
          "metadata": {}
        }
      ]
    },
    {
      "cell_type": "markdown",
      "metadata": {
        "id": "M4beDoD3s6kj"
      },
      "source": [
        "The accuracy scores, precision, recall and f1-score seems promising for the test dataset. However, we have a total of $13 + 9 = 22$ misclassified cases which is greater than **N**aive **B**ayes (NB) classifier.\n",
        "\n",
        "Next let us build kNN classifier to further compare the classifier performance."
      ]
    },
    {
      "cell_type": "markdown",
      "metadata": {
        "id": "OrdpiR9rtI_2"
      },
      "source": [
        "---"
      ]
    },
    {
      "cell_type": "markdown",
      "metadata": {
        "id": "ARlI6RwLOtOZ"
      },
      "source": [
        "#### Activity 5: kNN Classifier\n",
        "\n",
        "For kNN classifier, let's find a value of $k$ which can give a good train and test set accuracy. For this, we can determine the accuracy scores for neighbours from `1` to `20` and plot these scores using the steps given below:\n",
        "\n",
        "1. Import the required library:\n",
        "\n",
        "  ```python\n",
        "from sklearn.neighbors import KNeighborsClassifier\n",
        "  ```\n",
        "\n",
        "2. Create two lists `acc_train` and `acc_test` to store the accuracy scores of train set and test set for various $k$ values.\n",
        "\n",
        "3. Initiate a `for` loop that ranges from `1` to `21` with the current iterator stored in variable `k`. Inside this `for` loop:\n",
        "\n",
        "  - Create an object of `KNeighborsClassifier` class with `n_neighbors = k` as input.\n",
        "\n",
        "  - Call the `fit()` function using the object of  `KNeighborsClassifier` class and pass train set as inputs to this function.\n",
        "\n",
        "  - Determine the train set and test set accuracy scores for current `k` value and append these scores to the `acc_train` and `acc_test` lists respectively.\n",
        "\n",
        "4. Visualise the  values of `acc_train` and `acc_test` lists using line plots."
      ]
    },
    {
      "cell_type": "code",
      "metadata": {
        "colab": {
          "base_uri": "https://localhost:8080/",
          "height": 454
        },
        "id": "ON0RTvj16hLQ",
        "outputId": "07fbe4c2-43d7-453e-d7d2-024984592086"
      },
      "source": [
        "#Plot accuracy scores of train and test sets for 1 to 20 neighbours.\n",
        "\n",
        "from sklearn.neighbors import KNeighborsClassifier\n",
        "\n",
        "# Define the empty lists\n",
        "acc_train = []\n",
        "acc_test= []\n",
        "\n",
        "# Modeling the kNN classifier for k neighbors\n",
        "for k in range(1, 21):\n",
        "    knn = KNeighborsClassifier(n_neighbors = k)\n",
        "    knn.fit(X_train2, y_train2)\n",
        "    acc_train.append(knn.score(X_train2, y_train2))\n",
        "    acc_test.append(knn.score(X_test2, y_test2))\n",
        "\n",
        "# Plotting the accuracy scores\n",
        "plt.figure(figsize = (15, 5))\n",
        "plt.grid()\n",
        "plt.xticks(range(1, 21, 1))\n",
        "plt.plot(range(1, 21), acc_train, color= 'blue', label = \"Train set accuracy\")\n",
        "plt.plot(range(1, 21), acc_test, color= 'red', label = \"Test set accuracy\")\n",
        "plt.title('Accuracy Score vs. K Value')\n",
        "plt.legend()\n",
        "plt.xlabel('K')\n",
        "plt.ylabel('Accuracy')\n",
        "plt.show()"
      ],
      "execution_count": null,
      "outputs": [
        {
          "output_type": "display_data",
          "data": {
            "text/plain": [
              "<Figure size 1500x500 with 1 Axes>"
            ],
            "image/png": "[encoded data removed]"
          },
          "metadata": {}
        }
      ]
    },
    {
      "cell_type": "markdown",
      "metadata": {
        "id": "bJNibKV3nNOV"
      },
      "source": [
        "You may observe that with an increase in the number of neighbours, train set accuracy decreases whereas test set accuracy increases. As test set accuracy is a better estimate than train set accuracy for unseen data, we can say that $13$ is an optimal value for $k$. As beyond $k = 13$ the test set accuracy also starts to decrease.\n",
        "\n",
        "Let us now deploy the kNN classifier model for $k = 13$ and evaluate the performance of this model."
      ]
    },
    {
      "cell_type": "code",
      "source": [
        "# Modeling the kNN classifier\n",
        "\n",
        "knn = KNeighborsClassifier(n_neighbors = 13)\n",
        "knn.fit(X_train2, y_train2)\n",
        "\n",
        "# Predicting the train and test sets\n",
        "y_train_predict_knn = knn.predict(X_train2)\n",
        "y_test_predict_knn = knn.predict(X_test2)\n",
        "\n",
        "# Evaluating accuracy scores\n",
        "print('Accuracy on the training set: {:.2f}'.format(knn.score(X_train2, y_train2)))\n",
        "print('Accuracy on the test set: {:.2f}'.format(knn.score(X_test2, y_test2)))"
      ],
      "metadata": {
        "colab": {
          "base_uri": "https://localhost:8080/"
        },
        "id": "_ZFG5aiu565V",
        "outputId": "3061fde1-3e77-408d-d81d-486f0ef78472"
      },
      "execution_count": null,
      "outputs": [
        {
          "output_type": "stream",
          "name": "stdout",
          "text": [
            "Accuracy on the training set: 0.81\n",
            "Accuracy on the test set: 0.79\n"
          ]
        }
      ]
    },
    {
      "cell_type": "markdown",
      "metadata": {
        "id": "TfgV23wf0rrN"
      },
      "source": [
        "The accuracy scores seems to be the best among all the classifiers. Let's plot the confusion matrix for the test set."
      ]
    },
    {
      "cell_type": "code",
      "metadata": {
        "colab": {
          "base_uri": "https://localhost:8080/",
          "height": 616
        },
        "id": "3mZf1UnO7KHx",
        "outputId": "ea061ddc-e205-4ce3-d357-dbf61cb1530c"
      },
      "source": [
        "#  Obtain the Confusion Matrix for the Classifier\n",
        "\n",
        "ConfusionMatrixDisplay.from_estimator(knn, X_test2, y_test2, values_format = 'd')\n",
        "print(classification_report(y_test2, y_test_predict_knn))"
      ],
      "execution_count": null,
      "outputs": [
        {
          "output_type": "stream",
          "name": "stdout",
          "text": [
            "              precision    recall  f1-score   support\n",
            "\n",
            "           0       0.84      0.66      0.74        41\n",
            "           1       0.76      0.90      0.83        50\n",
            "\n",
            "    accuracy                           0.79        91\n",
            "   macro avg       0.80      0.78      0.78        91\n",
            "weighted avg       0.80      0.79      0.79        91\n",
            "\n"
          ]
        },
        {
          "output_type": "display_data",
          "data": {
            "text/plain": [
              "<Figure size 640x480 with 2 Axes>"
            ],
            "image/png": "[encoded data removed]"
          },
          "metadata": {}
        }
      ]
    },
    {
      "cell_type": "code",
      "source": [
        "# Modeling the kNN classifier\n",
        "\n",
        "knn = KNeighborsClassifier(n_neighbors = 5)\n",
        "knn.fit(X_train2, y_train2)\n",
        "\n",
        "# Predicting the train and test sets\n",
        "y_train_predict_knn = knn.predict(X_train2)\n",
        "y_test_predict_knn = knn.predict(X_test2)\n",
        "\n",
        "# Evaluating accuracy scores\n",
        "print('Accuracy on the training set: {:.2f}'.format(knn.score(X_train2, y_train2)))\n",
        "print('Accuracy on the test set: {:.2f}'.format(knn.score(X_test2, y_test2)))"
      ],
      "metadata": {
        "colab": {
          "base_uri": "https://localhost:8080/"
        },
        "id": "978feE426P93",
        "outputId": "21d0c597-6764-4be0-fe93-b47104b3c885"
      },
      "execution_count": null,
      "outputs": [
        {
          "output_type": "stream",
          "name": "stdout",
          "text": [
            "Accuracy on the training set: 0.89\n",
            "Accuracy on the test set: 0.79\n"
          ]
        }
      ]
    },
    {
      "cell_type": "code",
      "source": [
        "\n",
        "ConfusionMatrixDisplay.from_estimator(knn, X_test2, y_test2, values_format = 'd')\n",
        "print(classification_report(y_test2, y_test_predict_knn))"
      ],
      "metadata": {
        "colab": {
          "base_uri": "https://localhost:8080/",
          "height": 610
        },
        "id": "_6QtnkD56XPM",
        "outputId": "cfa51092-0071-47ac-f84a-ca6f4c9bd1bc"
      },
      "execution_count": null,
      "outputs": [
        {
          "output_type": "stream",
          "name": "stdout",
          "text": [
            "              precision    recall  f1-score   support\n",
            "\n",
            "           0       0.82      0.68      0.75        41\n",
            "           1       0.77      0.88      0.82        50\n",
            "\n",
            "    accuracy                           0.79        91\n",
            "   macro avg       0.80      0.78      0.78        91\n",
            "weighted avg       0.80      0.79      0.79        91\n",
            "\n"
          ]
        },
        {
          "output_type": "display_data",
          "data": {
            "text/plain": [
              "<Figure size 640x480 with 2 Axes>"
            ],
            "image/png": "[encoded data removed]"
          },
          "metadata": {}
        }
      ]
    },
    {
      "cell_type": "markdown",
      "metadata": {
        "id": "NGtvi-C8vGOQ"
      },
      "source": [
        "The accuracy scores, precision, recall and f1-score are best with only a total of $14 + 5 = 19$ misclassified cases.\n",
        "\n",
        "To further analyse the classifier performance let's obtain the AUC score and plot the ROC curves for the classifiers."
      ]
    },
    {
      "cell_type": "markdown",
      "metadata": {
        "id": "KLqeljeTvGJC"
      },
      "source": [
        "---"
      ]
    },
    {
      "cell_type": "markdown",
      "metadata": {
        "id": "0wRi7bmRYZAD"
      },
      "source": [
        "####Activity 6: Model Evaluation - ROC Curve\n",
        "\n",
        "Let's obtain the AUC score and plot the ROC curve for the classifiers. For this:\n",
        "\n",
        "1. Import the required library:\n",
        "\n",
        "  `from sklearn.metrics import roc_auc_score`\n",
        "\n",
        "2. Obtain the AUC scores for all the three classifiers by calling the `roc_auc_score()` function and passing test target variable and its predicted value as inputs."
      ]
    },
    {
      "cell_type": "code",
      "metadata": {
        "colab": {
          "base_uri": "https://localhost:8080/"
        },
        "id": "2lfQJRLiQ2Kt",
        "outputId": "0bd9e428-03e4-4ff2-cc12-8ce736b33671"
      },
      "source": [
        "#  Obtain the AUC Scores for the Classifiers\n",
        "# Import 'roc_auc_score' from sklearn.metrics\n",
        "from sklearn.metrics import roc_auc_score\n",
        "\n",
        "# Predict the score of test sets using 'roc_auc_score' for NB Classifier\n",
        "roc_nb = roc_auc_score(y_test2, y_test_predict_nb)\n",
        "print('AUC Score for Naive Bayes Classifier: {:.2f} %'.format(roc_nb))\n",
        "\n",
        "# Predict the score of test sets using 'roc_auc_score' for Logistic Regression Classifier\n",
        "roc_lg = roc_auc_score(y_test2, y_test_predict_lg)\n",
        "print('AUC Score for Logistic Regression Classifier: {:.2f} %'.format(roc_lg))\n",
        "\n",
        " # Predict the score of test sets using 'roc_auc_score' for kNN Classifier\n",
        "roc_knn = roc_auc_score(y_test2, y_test_predict_knn)\n",
        "print('AUC Score for kNN Classifier: {:.2f} %'.format(roc_knn))"
      ],
      "execution_count": null,
      "outputs": [
        {
          "output_type": "stream",
          "name": "stdout",
          "text": [
            "AUC Score for Naive Bayes Classifier: 0.78 %\n",
            "AUC Score for Logistic Regression Classifier: 0.75 %\n",
            "AUC Score for kNN Classifier: 0.78 %\n"
          ]
        }
      ]
    },
    {
      "cell_type": "markdown",
      "metadata": {
        "id": "ZZsJHXoYw_8J"
      },
      "source": [
        "Both kNN  and Naive Bayes classifier exhibits same highest AUC score followed by Logistic Regression classifier.\n",
        "\n",
        "<br>\n",
        "\n",
        "Next plot the ROC curve for the classifiers using the steps given below:\n",
        "\n",
        "1. Import the required library:\n",
        "\n",
        "  `from sklearn.metrics import roc_curve`\n",
        "\n",
        "2. Unpack the `fpr`, `tpr`, and `threshold` values for the classifiers using `roc_curve()` function.\n",
        "\n",
        "3. For baseline $y = x$, Set `x = [0, 1], y = [0, 1]`, `linestyle = '--'`, and `label = 'Baseline'`\n",
        "\n",
        "4. Plot the ROC curves for all the  classifiers and set different colors for them to have a good readability.\n",
        "\n",
        "5. Provide the relevant title to the plot; label the x, y axes; and insert legends to the graphs."
      ]
    },
    {
      "cell_type": "code",
      "metadata": {
        "colab": {
          "base_uri": "https://localhost:8080/",
          "height": 472
        },
        "id": "CkguRaVoxAcx",
        "outputId": "1a18e42e-922a-4c2a-9e06-c39ed34b0cae"
      },
      "source": [
        "# Plot the ROC curve for the classifiers\n",
        "# Import 'roc_curve' from sklearn.metrics\n",
        "from sklearn.metrics import roc_curve\n",
        "\n",
        "# Obtain 'fpr', 'tpr' and threshold values for NB Classifier using 'roc_curve' function\n",
        "fpr_nb, tpr_nb, threshold_nb = roc_curve(y_test2, y_test_predict_nb)\n",
        "\n",
        "# Obtain 'fpr', 'tpr' and threshold values for Logistic Regression Classifier using 'roc_curve' function\n",
        "fpr_lg, tpr_lg, threshold_lg = roc_curve(y_test2, y_test_predict_lg)\n",
        "\n",
        "# Obtain 'fpr', 'tpr' and threshold values for kNN Classifier using 'roc_curve' function\n",
        "fpr_knn, tpr_knn, threshold_knn = roc_curve(y_test2, y_test_predict_knn)\n",
        "\n",
        "# Plot roc curves along with a baseline\n",
        "plt.plot([0, 1], [0, 1], linestyle = '--', label = 'Baseline')\n",
        "plt.plot(fpr_nb, tpr_nb, color = 'orange', label = 'Naive Bayes Classifier')\n",
        "plt.plot(fpr_lg, tpr_lg, color = 'green', label = 'Logistic Regression Classifier')\n",
        "plt.plot(fpr_knn, tpr_knn, color = 'black', label = 'kNN Classifier')\n",
        "\n",
        "plt.title('ROC Curve for Classifiers')\n",
        "plt.xlabel('False Positive Rate')\n",
        "plt.ylabel('True Positive Rate')\n",
        "plt.legend()\n",
        "\n",
        "plt.show()"
      ],
      "execution_count": null,
      "outputs": [
        {
          "output_type": "display_data",
          "data": {
            "text/plain": [
              "<Figure size 640x480 with 1 Axes>"
            ],
            "image/png": "[encoded data removed]"
          },
          "metadata": {}
        }
      ]
    },
    {
      "cell_type": "markdown",
      "metadata": {
        "id": "qPfRv8cpwhmp"
      },
      "source": [
        "From the ROC curve and confusion matrix we can observe that the kNN classifier exhibits best result (as it has highest `tpr`) followed by Naive Bayes classifier and lastly the Logistic Regression classifier.\n",
        "\n",
        "Key points to remember💭\n",
        "\n",
        "1. However, with kNN classifier the computing time is high as we need to obtain the optimal value of $k$ neighbours for which the classifier exhibits the best performance.\n",
        "\n",
        "2. The data normalisation is almost a mandatory process for most of the classifiers, however for the Naive Bayes classifier we didn't normalise the dataset as for `GaussianNB` the data normalisation is an internal process.\n",
        "\n",
        "<br>\n",
        "\n",
        "Let's stop here. In the next class, we will understand the working of Naive Bayes classifier with a relatively simple example and explore the underlying mathematics behind the Bayes theorem."
      ]
    }
  ]
}